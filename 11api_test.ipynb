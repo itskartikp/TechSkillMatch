{
 "cells": [
  {
   "cell_type": "code",
   "execution_count": 1,
   "metadata": {
    "collapsed": false,
    "pycharm": {
     "name": "#%%\n"
    }
   },
   "outputs": [],
   "source": [
    "API_URL = 'http://127.0.0.1:3001/'\n",
    "PREDICTION_ENDPOINT = 'predict'\n",
    "SIMULATION_ENDPOINT = 'recommend'"
   ]
  },
  {
   "cell_type": "code",
   "execution_count": 2,
   "metadata": {
    "collapsed": true
   },
   "outputs": [],
   "source": [
    "import requests\n",
    "import json\n",
    "import pandas as pd"
   ]
  },
  {
   "cell_type": "markdown",
   "metadata": {
    "collapsed": false,
    "pycharm": {
     "name": "#%% md\n"
    }
   },
   "source": [
    "## Predict"
   ]
  },
  {
   "cell_type": "code",
   "execution_count": 3,
   "metadata": {
    "collapsed": false,
    "pycharm": {
     "name": "#%%\n"
    }
   },
   "outputs": [],
   "source": [
    "available_skills = ['R', 'C++', 'RStudio']"
   ]
  },
  {
   "cell_type": "code",
   "execution_count": 4,
   "metadata": {
    "collapsed": false,
    "pycharm": {
     "name": "#%%\n"
    }
   },
   "outputs": [],
   "source": [
    "predictions = requests.post(API_URL + PREDICTION_ENDPOINT,\n",
    "                            data=json.dumps(available_skills),\n",
    "                            headers={'content-type':'application/json'})"
   ]
  },
  {
   "cell_type": "code",
   "execution_count": 5,
   "metadata": {
    "collapsed": false,
    "pycharm": {
     "name": "#%%\n"
    }
   },
   "outputs": [
    {
     "data": {
      "text/plain": [
       "Academic researcher                              0.766\n",
       "Scientist                                        0.274\n",
       "Data scientist or machine learning specialist    0.044\n",
       "Data or business analyst                         0.026\n",
       "Engineer, data                                   0.026\n",
       "Developer, embedded applications or devices      0.022\n",
       "Developer, back-end                              0.012\n",
       "Developer, desktop or enterprise applications    0.010\n",
       "Developer, mobile                                0.008\n",
       "Developer, game or graphics                      0.006\n",
       "Developer, front-end                             0.004\n",
       "Developer, full-stack                            0.004\n",
       "System administrator                             0.004\n",
       "Developer, QA or test                            0.002\n",
       "Database administrator                           0.000\n",
       "DevOps specialist                                0.000\n",
       "dtype: float64"
      ]
     },
     "execution_count": 5,
     "metadata": {},
     "output_type": "execute_result"
    }
   ],
   "source": [
    "pd.Series(predictions.json()).sort_values(ascending=False)"
   ]
  },
  {
   "cell_type": "markdown",
   "metadata": {
    "collapsed": false
   },
   "source": [
    "## Simulate"
   ]
  },
  {
   "cell_type": "code",
   "execution_count": 6,
   "metadata": {
    "collapsed": false,
    "pycharm": {
     "name": "#%%\n"
    }
   },
   "outputs": [],
   "source": [
    "target_job = 'Data scientist or machine learning specialist'"
   ]
  },
  {
   "cell_type": "code",
   "execution_count": 7,
   "metadata": {
    "collapsed": false,
    "pycharm": {
     "name": "#%%\n"
    }
   },
   "outputs": [],
   "source": [
    "simulations = requests.post(API_URL + SIMULATION_ENDPOINT,\n",
    "                            data=json.dumps({\n",
    "                                'available_skills': available_skills,\n",
    "                                'target_job': target_job\n",
    "                            }),\n",
    "                            headers={'content-type':'application/json'})"
   ]
  },
  {
   "cell_type": "code",
   "execution_count": 8,
   "metadata": {
    "collapsed": false,
    "pycharm": {
     "name": "#%%\n"
    }
   },
   "outputs": [
    {
     "data": {
      "text/plain": [
       "Oracle                         10.753247\n",
       "Java                           10.677489\n",
       "Spring                         10.545455\n",
       "Groovy                         10.116883\n",
       "Kotlin                          9.118182\n",
       "                                 ...    \n",
       "TextMate                        0.272727\n",
       "Neovim                          0.227273\n",
       "RubyMine                        0.227273\n",
       "Webstorm                        0.181818\n",
       "Oracle Cloud Infrastructure     0.045455\n",
       "Length: 122, dtype: float64"
      ]
     },
     "execution_count": 8,
     "metadata": {},
     "output_type": "execute_result"
    }
   ],
   "source": [
    "pd.Series(simulations.json()).sort_values(ascending=False)"
   ]
  },
  {
   "cell_type": "code",
   "execution_count": 9,
   "metadata": {
    "collapsed": false,
    "pycharm": {
     "name": "#%%\n"
    }
   },
   "outputs": [
    {
     "name": "stdout",
     "output_type": "stream",
     "text": [
      "<Response [200]>\n"
     ]
    }
   ],
   "source": [
    "import requests\n",
    "\n",
    "url = 'http://127.0.0.1:3001/recommend'\n",
    "data = {\n",
    "    'available_skills': ['R', 'SQL', 'RStudio'],\n",
    "    'target_job' : 'Data scientist or machine learning specialist'\n",
    "}\n",
    "response = requests.post(url, json=data)\n",
    "print(response)"
   ]
  },
  {
   "cell_type": "code",
   "execution_count": 52,
   "metadata": {},
   "outputs": [
    {
     "data": {
      "text/plain": [
       "<Response [200]>"
      ]
     },
     "execution_count": 52,
     "metadata": {},
     "output_type": "execute_result"
    }
   ],
   "source": [
    "simulations"
   ]
  },
  {
   "cell_type": "code",
   "execution_count": null,
   "metadata": {},
   "outputs": [],
   "source": []
  }
 ],
 "metadata": {
  "kernelspec": {
   "display_name": "Python 3",
   "language": "python",
   "name": "python3"
  },
  "language_info": {
   "codemirror_mode": {
    "name": "ipython",
    "version": 3
   },
   "file_extension": ".py",
   "mimetype": "text/x-python",
   "name": "python",
   "nbconvert_exporter": "python",
   "pygments_lexer": "ipython3",
   "version": "3.11.3"
  }
 },
 "nbformat": 4,
 "nbformat_minor": 0
}
