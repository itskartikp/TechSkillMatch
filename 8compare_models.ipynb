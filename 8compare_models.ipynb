{
 "cells": [
  {
   "cell_type": "code",
   "execution_count": 1,
   "metadata": {
    "collapsed": true
   },
   "outputs": [],
   "source": [
    "MLFLOW_TRACKING_URI = '../models/mlruns'\n",
    "MLFLOW_EXPERIMENT_NAME = \"TCS\""
   ]
  },
  {
   "cell_type": "code",
   "execution_count": 2,
   "metadata": {
    "collapsed": false,
    "pycharm": {
     "name": "#%%\n"
    }
   },
   "outputs": [],
   "source": [
    "import mlflow\n",
    "from mlflow.tracking import MlflowClient\n",
    "\n",
    "import pandas as pd"
   ]
  },
  {
   "cell_type": "code",
   "execution_count": 3,
   "metadata": {
    "collapsed": false,
    "pycharm": {
     "name": "#%%\n"
    }
   },
   "outputs": [],
   "source": [
    "# Initialize client\n",
    "mlflow.set_tracking_uri(MLFLOW_TRACKING_URI)\n",
    "client = MlflowClient()"
   ]
  },
  {
   "cell_type": "code",
   "execution_count": 4,
   "metadata": {
    "collapsed": false,
    "pycharm": {
     "name": "#%%\n"
    }
   },
   "outputs": [
    {
     "data": {
      "text/plain": [
       "<Experiment: artifact_location='/Users/kartik/Desktop/tsc/e2e_ds_project/notebooks/../models/mlruns/365531145344802802', creation_time=1690633849786, experiment_id='365531145344802802', last_update_time=1690633849786, lifecycle_stage='active', name='TCS', tags={}>"
      ]
     },
     "execution_count": 4,
     "metadata": {},
     "output_type": "execute_result"
    }
   ],
   "source": [
    "# Get experiment\n",
    "experiment = client.get_experiment_by_name(MLFLOW_EXPERIMENT_NAME)\n",
    "experiment"
   ]
  },
  {
   "cell_type": "code",
   "execution_count": 5,
   "metadata": {
    "collapsed": false,
    "pycharm": {
     "name": "#%%\n"
    }
   },
   "outputs": [
    {
     "data": {
      "text/html": [
       "<div>\n",
       "<style scoped>\n",
       "    .dataframe tbody tr th:only-of-type {\n",
       "        vertical-align: middle;\n",
       "    }\n",
       "\n",
       "    .dataframe tbody tr th {\n",
       "        vertical-align: top;\n",
       "    }\n",
       "\n",
       "    .dataframe thead th {\n",
       "        text-align: right;\n",
       "    }\n",
       "</style>\n",
       "<table border=\"1\" class=\"dataframe\">\n",
       "  <thead>\n",
       "    <tr style=\"text-align: right;\">\n",
       "      <th></th>\n",
       "      <th>run_id</th>\n",
       "      <th>experiment_id</th>\n",
       "      <th>status</th>\n",
       "      <th>artifact_uri</th>\n",
       "      <th>start_time</th>\n",
       "      <th>end_time</th>\n",
       "      <th>metrics.accuracy_score</th>\n",
       "      <th>metrics.f1_score</th>\n",
       "      <th>metrics.recall_score</th>\n",
       "      <th>metrics.precision_score</th>\n",
       "      <th>tags.mlflow.runName</th>\n",
       "      <th>tags.mlflow.source.type</th>\n",
       "      <th>tags.mlflow.source.name</th>\n",
       "      <th>tags.mlflow.user</th>\n",
       "    </tr>\n",
       "  </thead>\n",
       "  <tbody>\n",
       "    <tr>\n",
       "      <th>0</th>\n",
       "      <td>22a5af9a6b784757b2151eb7ef1eed47</td>\n",
       "      <td>365531145344802802</td>\n",
       "      <td>FINISHED</td>\n",
       "      <td>/Users/kartik/Desktop/tsc/e2e_ds_project/noteb...</td>\n",
       "      <td>2023-07-29 12:53:33.418000+00:00</td>\n",
       "      <td>2023-07-29 12:53:34.839000+00:00</td>\n",
       "      <td>92.635625</td>\n",
       "      <td>64.023125</td>\n",
       "      <td>49.92</td>\n",
       "      <td>93.700625</td>\n",
       "      <td>Random Forest: with PCA + Hyperparamter tuning</td>\n",
       "      <td>LOCAL</td>\n",
       "      <td>/Users/kartik/Library/Python/3.11/lib/python/s...</td>\n",
       "      <td>kartik</td>\n",
       "    </tr>\n",
       "    <tr>\n",
       "      <th>1</th>\n",
       "      <td>d9e5edc29fa5450ca95edc6047ea4686</td>\n",
       "      <td>365531145344802802</td>\n",
       "      <td>FINISHED</td>\n",
       "      <td>/Users/kartik/Desktop/tsc/e2e_ds_project/noteb...</td>\n",
       "      <td>2023-07-29 12:46:43.205000+00:00</td>\n",
       "      <td>2023-07-29 12:46:44.672000+00:00</td>\n",
       "      <td>92.635625</td>\n",
       "      <td>64.023125</td>\n",
       "      <td>49.92</td>\n",
       "      <td>93.700625</td>\n",
       "      <td>Random Forest: with PCA + Hyperparamter tuning</td>\n",
       "      <td>LOCAL</td>\n",
       "      <td>/Users/kartik/Library/Python/3.11/lib/python/s...</td>\n",
       "      <td>kartik</td>\n",
       "    </tr>\n",
       "    <tr>\n",
       "      <th>2</th>\n",
       "      <td>5bf0401c3fc04972b9a8fb82dea73d90</td>\n",
       "      <td>365531145344802802</td>\n",
       "      <td>FINISHED</td>\n",
       "      <td>/Users/kartik/Desktop/tsc/e2e_ds_project/noteb...</td>\n",
       "      <td>2023-07-29 12:34:39.580000+00:00</td>\n",
       "      <td>2023-07-29 12:34:39.778000+00:00</td>\n",
       "      <td>92.635625</td>\n",
       "      <td>64.023125</td>\n",
       "      <td>49.92</td>\n",
       "      <td>93.700625</td>\n",
       "      <td>Random Forest: with PCA - Basic</td>\n",
       "      <td>LOCAL</td>\n",
       "      <td>/Users/kartik/Library/Python/3.11/lib/python/s...</td>\n",
       "      <td>kartik</td>\n",
       "    </tr>\n",
       "    <tr>\n",
       "      <th>3</th>\n",
       "      <td>15e04e4bf6c0486aa4348901847417b9</td>\n",
       "      <td>365531145344802802</td>\n",
       "      <td>FINISHED</td>\n",
       "      <td>/Users/kartik/Desktop/tsc/e2e_ds_project/noteb...</td>\n",
       "      <td>2023-07-29 12:33:48.103000+00:00</td>\n",
       "      <td>2023-07-29 12:33:48.117000+00:00</td>\n",
       "      <td>88.940625</td>\n",
       "      <td>38.615000</td>\n",
       "      <td>29.89</td>\n",
       "      <td>62.424375</td>\n",
       "      <td>Baseline model: Logistic Regression</td>\n",
       "      <td>LOCAL</td>\n",
       "      <td>/Users/kartik/Library/Python/3.11/lib/python/s...</td>\n",
       "      <td>kartik</td>\n",
       "    </tr>\n",
       "  </tbody>\n",
       "</table>\n",
       "</div>"
      ],
      "text/plain": [
       "                             run_id       experiment_id    status  \\\n",
       "0  22a5af9a6b784757b2151eb7ef1eed47  365531145344802802  FINISHED   \n",
       "1  d9e5edc29fa5450ca95edc6047ea4686  365531145344802802  FINISHED   \n",
       "2  5bf0401c3fc04972b9a8fb82dea73d90  365531145344802802  FINISHED   \n",
       "3  15e04e4bf6c0486aa4348901847417b9  365531145344802802  FINISHED   \n",
       "\n",
       "                                        artifact_uri  \\\n",
       "0  /Users/kartik/Desktop/tsc/e2e_ds_project/noteb...   \n",
       "1  /Users/kartik/Desktop/tsc/e2e_ds_project/noteb...   \n",
       "2  /Users/kartik/Desktop/tsc/e2e_ds_project/noteb...   \n",
       "3  /Users/kartik/Desktop/tsc/e2e_ds_project/noteb...   \n",
       "\n",
       "                        start_time                         end_time  \\\n",
       "0 2023-07-29 12:53:33.418000+00:00 2023-07-29 12:53:34.839000+00:00   \n",
       "1 2023-07-29 12:46:43.205000+00:00 2023-07-29 12:46:44.672000+00:00   \n",
       "2 2023-07-29 12:34:39.580000+00:00 2023-07-29 12:34:39.778000+00:00   \n",
       "3 2023-07-29 12:33:48.103000+00:00 2023-07-29 12:33:48.117000+00:00   \n",
       "\n",
       "   metrics.accuracy_score  metrics.f1_score  metrics.recall_score  \\\n",
       "0               92.635625         64.023125                 49.92   \n",
       "1               92.635625         64.023125                 49.92   \n",
       "2               92.635625         64.023125                 49.92   \n",
       "3               88.940625         38.615000                 29.89   \n",
       "\n",
       "   metrics.precision_score                             tags.mlflow.runName  \\\n",
       "0                93.700625  Random Forest: with PCA + Hyperparamter tuning   \n",
       "1                93.700625  Random Forest: with PCA + Hyperparamter tuning   \n",
       "2                93.700625                 Random Forest: with PCA - Basic   \n",
       "3                62.424375            Baseline model: Logistic Regression    \n",
       "\n",
       "  tags.mlflow.source.type                            tags.mlflow.source.name  \\\n",
       "0                   LOCAL  /Users/kartik/Library/Python/3.11/lib/python/s...   \n",
       "1                   LOCAL  /Users/kartik/Library/Python/3.11/lib/python/s...   \n",
       "2                   LOCAL  /Users/kartik/Library/Python/3.11/lib/python/s...   \n",
       "3                   LOCAL  /Users/kartik/Library/Python/3.11/lib/python/s...   \n",
       "\n",
       "  tags.mlflow.user  \n",
       "0           kartik  \n",
       "1           kartik  \n",
       "2           kartik  \n",
       "3           kartik  "
      ]
     },
     "execution_count": 5,
     "metadata": {},
     "output_type": "execute_result"
    }
   ],
   "source": [
    "# Get all runs\n",
    "runs = mlflow.search_runs([experiment.experiment_id])\n",
    "runs"
   ]
  },
  {
   "cell_type": "code",
   "execution_count": 14,
   "metadata": {
    "collapsed": false,
    "pycharm": {
     "name": "#%%\n"
    }
   },
   "outputs": [],
   "source": [
    "experiment_id: '365531145344802802'\n"
   ]
  },
  {
   "cell_type": "code",
   "execution_count": 16,
   "metadata": {},
   "outputs": [],
   "source": [
    "\n",
    "df = mlflow.search_runs(['365531145344802802'], order_by=[\"metrics.rmse DESC\"])\n",
    "best_run_id = df.loc[0,'run_id']"
   ]
  },
  {
   "cell_type": "code",
   "execution_count": 17,
   "metadata": {},
   "outputs": [
    {
     "data": {
      "text/plain": [
       "'22a5af9a6b784757b2151eb7ef1eed47'"
      ]
     },
     "execution_count": 17,
     "metadata": {},
     "output_type": "execute_result"
    }
   ],
   "source": [
    "best_run_id"
   ]
  },
  {
   "cell_type": "code",
   "execution_count": null,
   "metadata": {},
   "outputs": [],
   "source": []
  }
 ],
 "metadata": {
  "kernelspec": {
   "display_name": "Python 3",
   "language": "python",
   "name": "python3"
  },
  "language_info": {
   "codemirror_mode": {
    "name": "ipython",
    "version": 3
   },
   "file_extension": ".py",
   "mimetype": "text/x-python",
   "name": "python",
   "nbconvert_exporter": "python",
   "pygments_lexer": "ipython3",
   "version": "3.11.3"
  }
 },
 "nbformat": 4,
 "nbformat_minor": 0
}
