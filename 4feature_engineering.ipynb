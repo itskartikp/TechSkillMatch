{
 "cells": [
  {
   "cell_type": "code",
   "execution_count": 1,
   "id": "61d1d02c-1f30-4f33-ac3a-1c670af90419",
   "metadata": {},
   "outputs": [],
   "source": [
    "DF_PATH = \"../data/processed/1_preprocessed_df.pkl\"\n",
    "\n",
    "NA_STRING = 'Not Specified'\n",
    "TRANSPARENT_STRING = 'rgba(0, 0, 0, 0)'\n",
    "\n",
    "ROLE_COLS      = ['DevType']\n",
    "TECH_COLS      = ['LanguageHaveWorkedWith',\n",
    "                  'DatabaseHaveWorkedWith',\n",
    "                  'WebframeHaveWorkedWith',\n",
    "                  'MiscTechHaveWorkedWith',\n",
    "                  'ToolsTechHaveWorkedWith']\n",
    "\n",
    "EXPORT_FEATURES_DIR = \"../data/processed/\""
   ]
  },
  {
   "cell_type": "code",
   "execution_count": 2,
   "id": "67ae321f-312d-4732-9158-890d1a85061d",
   "metadata": {},
   "outputs": [],
   "source": [
    "# Load packages\n",
    "import pandas as pd \n",
    "import numpy as np\n",
    "import logging\n",
    "import pickle\n",
    "import os\n",
    "import yaml\n",
    "\n",
    "import plotly \n",
    "import plotly.graph_objects as go\n",
    "import plotly.express as px\n",
    "\n",
    "import matplotlib.cm as cm\n",
    "import matplotlib.pyplot as plt\n",
    "\n",
    "from sklearn.preprocessing import StandardScaler\n",
    "from sklearn.preprocessing import MultiLabelBinarizer\n",
    "from sklearn.manifold import TSNE\n",
    "\n",
    "from sklearn.pipeline import make_pipeline\n",
    "from sklearn.cluster import AgglomerativeClustering\n",
    "from sklearn.model_selection import train_test_split\n",
    "\n",
    "from sklearn.multioutput import MultiOutputClassifier\n",
    "from sklearn.linear_model import LogisticRegression\n",
    "\n",
    "from sklearn.metrics import f1_score\n",
    "from sklearn.metrics import classification_report\n",
    "from sklearn.metrics import multilabel_confusion_matrix\n",
    "from sklearn.metrics import silhouette_score\n",
    "\n",
    "pd.options.display.max_rows = 1000"
   ]
  },
  {
   "cell_type": "markdown",
   "id": "5f31cb93-3b7b-4da7-ae7b-b6a1ae6a294b",
   "metadata": {},
   "source": [
    "## Read data and preprocess data "
   ]
  },
  {
   "cell_type": "code",
   "execution_count": 3,
   "id": "b351b163-67b3-4264-912f-8da2df43638f",
   "metadata": {
    "tags": []
   },
   "outputs": [],
   "source": [
    "# Read Data \n",
    "df = pd.read_pickle(DF_PATH)"
   ]
  },
  {
   "cell_type": "code",
   "execution_count": 4,
   "id": "e5162865-b0c6-4c59-baab-7c13fd980845",
   "metadata": {},
   "outputs": [],
   "source": [
    "# One hot encode \n",
    "encoded_dfs = {}\n",
    "for col in ROLE_COLS + TECH_COLS:\n",
    "    binarizer = MultiLabelBinarizer()\n",
    "    encoded_df = pd.DataFrame(binarizer.fit_transform(df[col]),\n",
    "                               columns=binarizer.classes_,\n",
    "                               index=df[col].index)\n",
    "    encoded_dfs[col] = encoded_df\n",
    "    \n",
    "# Merge 1-hot encoded \n",
    "ohe_df = pd.concat(encoded_dfs, axis=1)"
   ]
  },
  {
   "cell_type": "markdown",
   "id": "0e8b2780-ed1a-4b4e-ab1b-984850430090",
   "metadata": {},
   "source": [
    "_________________"
   ]
  },
  {
   "cell_type": "markdown",
   "id": "3d03762e-c0ed-4f97-ae5c-687fcc0dff8f",
   "metadata": {},
   "source": [
    "## Dimensionality reduction "
   ]
  },
  {
   "cell_type": "code",
   "execution_count": 5,
   "id": "f3119e3b-34a4-4127-abe3-df67d7e83c1c",
   "metadata": {},
   "outputs": [],
   "source": [
    "# Prepare sub data frames \n",
    "skills_ohe = ohe_df.drop('DevType', axis=1).copy()\n",
    "std_skills = StandardScaler().fit_transform(skills_ohe)"
   ]
  },
  {
   "cell_type": "code",
   "execution_count": 6,
   "id": "1775bfd9-5ecc-4b5f-b346-aa41b94894b7",
   "metadata": {},
   "outputs": [],
   "source": [
    "tsne_projection = TSNE(n_components=2, \n",
    "                       perplexity=3,\n",
    "                       learning_rate=0.01,\n",
    "                       init='pca', \n",
    "                       method='barnes_hut', \n",
    "                       n_jobs=2, \n",
    "                       n_iter=10**10,\n",
    "                       random_state=0).fit_transform(std_skills.T)\n",
    "\n",
    "tsne_projection = pd.DataFrame(tsne_projection, index=skills_ohe.columns)"
   ]
  },
  {
   "cell_type": "code",
   "execution_count": 7,
   "id": "07935f93-87bc-49bc-9c02-a4a1254b0232",
   "metadata": {},
   "outputs": [
    {
     "data": {
      "text/plain": [
       "(97, 2)"
      ]
     },
     "execution_count": 7,
     "metadata": {},
     "output_type": "execute_result"
    }
   ],
   "source": [
    "tsne_projection.shape"
   ]
  },
  {
   "cell_type": "code",
   "execution_count": 8,
   "id": "5782b9ac-4e56-42a1-a71d-cc36749e19c0",
   "metadata": {
    "tags": []
   },
   "outputs": [
    {
     "data": {
      "application/vnd.plotly.v1+json": {
       "config": {
        "plotlyServerURL": "https://plot.ly"
       },
       "data": [
        {
         "hovertemplate": "x=%{x}<br>y=%{y}<br>text=%{text}<extra></extra>",
         "legendgroup": "",
         "marker": {
          "color": "#636efa",
          "symbol": "circle"
         },
         "mode": "markers+text",
         "name": "",
         "orientation": "v",
         "showlegend": false,
         "text": [
          "APL",
          "Assembly",
          "Bash/Shell",
          "C",
          "C#",
          "C++",
          "COBOL",
          "Clojure",
          "Crystal",
          "Dart",
          "Delphi",
          "Elixir",
          "Erlang",
          "F#",
          "Go",
          "Groovy",
          "HTML/CSS",
          "Haskell",
          "Java",
          "JavaScript",
          "Julia",
          "Kotlin",
          "LISP",
          "Matlab",
          "Node.js",
          "Objective-C",
          "PHP",
          "Perl",
          "PowerShell",
          "Python",
          "R",
          "Ruby",
          "Rust",
          "SQL",
          "Scala",
          "Swift",
          "TypeScript",
          "VBA",
          "Cassandra",
          "Couchbase",
          "DynamoDB",
          "Elasticsearch",
          "Firebase",
          "IBM DB2",
          "MariaDB",
          "Microsoft SQL Server",
          "MongoDB",
          "MySQL",
          "Oracle",
          "PostgreSQL",
          "Redis",
          "SQLite",
          "ASP.NET",
          "ASP.NET Core ",
          "Angular",
          "Angular.js",
          "Django",
          "Drupal",
          "Express",
          "FastAPI",
          "Flask",
          "Gatsby",
          "Laravel",
          "React.js",
          "Ruby on Rails",
          "Spring",
          "Svelte",
          "Symfony",
          "Vue.js",
          "jQuery",
          ".NET Core / .NET 5",
          ".NET Framework",
          "Apache Spark",
          "Cordova",
          "Flutter",
          "Hadoop",
          "Keras",
          "NumPy",
          "Pandas",
          "Qt",
          "React Native",
          "TensorFlow",
          "Torch/PyTorch",
          "Ansible",
          "Chef",
          "Deno",
          "Docker",
          "Flow",
          "Git",
          "Kubernetes",
          "Pulumi",
          "Puppet",
          "Terraform",
          "Unity 3D",
          "Unreal Engine",
          "Xamarin",
          "Yarn"
         ],
         "textposition": "top center",
         "type": "scatter",
         "x": [
          1.612146019935608,
          -12.570475578308105,
          -19.824613571166992,
          -12.671266555786133,
          26.536550521850586,
          -12.51134967803955,
          3.4577298164367676,
          -8.896323204040527,
          1.7127373218536377,
          12.366057395935059,
          4.829019069671631,
          -2.5723752975463867,
          -3.3346126079559326,
          21.990842819213867,
          -14.981279373168945,
          7.943127632141113,
          25.733726501464844,
          -10.86108112335205,
          10.604748725891113,
          26.133928298950195,
          -20.965988159179688,
          11.92221736907959,
          -9.497476577758789,
          -20.033979415893555,
          16.316062927246094,
          18.809839248657227,
          32.294647216796875,
          -19.992158889770508,
          27.576988220214844,
          -23.83832359313965,
          -22.029537200927734,
          -3.8644890785217285,
          -13.218866348266602,
          26.115428924560547,
          -35.209495544433594,
          18.080890655517578,
          21.211254119873047,
          23.2611026763916,
          -27.26009750366211,
          -28.392230987548828,
          -18.932872772216797,
          -24.47804069519043,
          12.611021995544434,
          4.3690266609191895,
          32.92280960083008,
          25.08388900756836,
          17.67351722717285,
          30.614166259765625,
          10.55358600616455,
          -20.66066551208496,
          -23.408607482910156,
          28.58009910583496,
          26.755523681640625,
          24.434175491333008,
          22.167118072509766,
          23.794189453125,
          -23.67975616455078,
          36.743770599365234,
          16.849889755249023,
          -27.030933380126953,
          -25.3527774810791,
          11.98332691192627,
          32.32018280029297,
          13.844743728637695,
          -3.7905941009521484,
          9.765339851379395,
          4.567555904388428,
          35.07076644897461,
          32.26025390625,
          28.128877639770508,
          24.65984344482422,
          27.078346252441406,
          -34.09050369262695,
          22.187971115112305,
          12.448283195495605,
          -33.50958251953125,
          -27.749536514282227,
          -22.717849731445312,
          -23.22403907775879,
          -12.10445499420166,
          12.78484058380127,
          -27.56569480895996,
          -27.28713607788086,
          -15.725655555725098,
          -16.844223022460938,
          3.8213438987731934,
          -18.764759063720703,
          -14.311666488647461,
          -18.999048233032227,
          -17.795265197753906,
          -15.637825012207031,
          -17.43377113342285,
          -17.157052993774414,
          15.69805908203125,
          14.986030578613281,
          24.139976501464844,
          14.579073905944824
         ],
         "xaxis": "x",
         "y": [
          12.678101539611816,
          17.50106430053711,
          2.9763023853302,
          19.095304489135742,
          19.56623649597168,
          20.05523681640625,
          11.666029930114746,
          3.6748006343841553,
          10.242971420288086,
          -8.507246971130371,
          13.704527854919434,
          5.5354228019714355,
          5.710635662078857,
          19.59442901611328,
          -2.5974326133728027,
          1.292400598526001,
          -15.95238208770752,
          1.212824821472168,
          1.4266695976257324,
          -15.244399070739746,
          27.150728225708008,
          -0.05389828979969025,
          2.9677670001983643,
          22.47060775756836,
          -20.090087890625,
          -2.7169251441955566,
          -9.437565803527832,
          4.62054967880249,
          22.204442977905273,
          20.626405715942383,
          25.728015899658203,
          -6.887394905090332,
          -1.2341974973678589,
          11.83983325958252,
          -4.019336700439453,
          -2.999657392501831,
          -24.282726287841797,
          13.919787406921387,
          -5.738046169281006,
          -6.89797830581665,
          -8.774784088134766,
          -5.468247890472412,
          -10.924993515014648,
          11.040990829467773,
          -7.5508131980896,
          14.325611114501953,
          -17.88032341003418,
          -8.168377876281738,
          3.8374228477478027,
          -3.7409815788269043,
          -5.10129976272583,
          -6.241350173950195,
          16.68954849243164,
          18.316835403442383,
          -25.013463973999023,
          -24.928909301757812,
          18.432722091674805,
          -9.575675010681152,
          -19.31306266784668,
          18.57476043701172,
          19.299833297729492,
          -22.640165328979492,
          -10.626538276672363,
          -21.298603057861328,
          -7.658318042755127,
          1.9137609004974365,
          -27.943225860595703,
          -9.585575103759766,
          -12.682316780090332,
          -12.894967079162598,
          19.66686248779297,
          18.333385467529297,
          -3.0023810863494873,
          -26.991119384765625,
          -9.297518730163574,
          -2.3500232696533203,
          25.757387161254883,
          22.907943725585938,
          23.67655372619629,
          21.73301124572754,
          -19.84302520751953,
          26.6739501953125,
          28.195592880249023,
          -7.500645160675049,
          -15.488166809082031,
          -27.64886474609375,
          -3.346330165863037,
          -13.020769119262695,
          -1.3477668762207031,
          -4.2138824462890625,
          -11.068258285522461,
          -16.138551712036133,
          -8.123790740966797,
          29.50935935974121,
          29.909122467041016,
          21.965274810791016,
          -22.99134063720703
         ],
         "yaxis": "y"
        }
       ],
       "layout": {
        "height": 1000,
        "legend": {
         "tracegroupgap": 0
        },
        "margin": {
         "t": 60
        },
        "template": {
         "data": {
          "bar": [
           {
            "error_x": {
             "color": "#2a3f5f"
            },
            "error_y": {
             "color": "#2a3f5f"
            },
            "marker": {
             "line": {
              "color": "#E5ECF6",
              "width": 0.5
             },
             "pattern": {
              "fillmode": "overlay",
              "size": 10,
              "solidity": 0.2
             }
            },
            "type": "bar"
           }
          ],
          "barpolar": [
           {
            "marker": {
             "line": {
              "color": "#E5ECF6",
              "width": 0.5
             },
             "pattern": {
              "fillmode": "overlay",
              "size": 10,
              "solidity": 0.2
             }
            },
            "type": "barpolar"
           }
          ],
          "carpet": [
           {
            "aaxis": {
             "endlinecolor": "#2a3f5f",
             "gridcolor": "white",
             "linecolor": "white",
             "minorgridcolor": "white",
             "startlinecolor": "#2a3f5f"
            },
            "baxis": {
             "endlinecolor": "#2a3f5f",
             "gridcolor": "white",
             "linecolor": "white",
             "minorgridcolor": "white",
             "startlinecolor": "#2a3f5f"
            },
            "type": "carpet"
           }
          ],
          "choropleth": [
           {
            "colorbar": {
             "outlinewidth": 0,
             "ticks": ""
            },
            "type": "choropleth"
           }
          ],
          "contour": [
           {
            "colorbar": {
             "outlinewidth": 0,
             "ticks": ""
            },
            "colorscale": [
             [
              0,
              "#0d0887"
             ],
             [
              0.1111111111111111,
              "#46039f"
             ],
             [
              0.2222222222222222,
              "#7201a8"
             ],
             [
              0.3333333333333333,
              "#9c179e"
             ],
             [
              0.4444444444444444,
              "#bd3786"
             ],
             [
              0.5555555555555556,
              "#d8576b"
             ],
             [
              0.6666666666666666,
              "#ed7953"
             ],
             [
              0.7777777777777778,
              "#fb9f3a"
             ],
             [
              0.8888888888888888,
              "#fdca26"
             ],
             [
              1,
              "#f0f921"
             ]
            ],
            "type": "contour"
           }
          ],
          "contourcarpet": [
           {
            "colorbar": {
             "outlinewidth": 0,
             "ticks": ""
            },
            "type": "contourcarpet"
           }
          ],
          "heatmap": [
           {
            "colorbar": {
             "outlinewidth": 0,
             "ticks": ""
            },
            "colorscale": [
             [
              0,
              "#0d0887"
             ],
             [
              0.1111111111111111,
              "#46039f"
             ],
             [
              0.2222222222222222,
              "#7201a8"
             ],
             [
              0.3333333333333333,
              "#9c179e"
             ],
             [
              0.4444444444444444,
              "#bd3786"
             ],
             [
              0.5555555555555556,
              "#d8576b"
             ],
             [
              0.6666666666666666,
              "#ed7953"
             ],
             [
              0.7777777777777778,
              "#fb9f3a"
             ],
             [
              0.8888888888888888,
              "#fdca26"
             ],
             [
              1,
              "#f0f921"
             ]
            ],
            "type": "heatmap"
           }
          ],
          "heatmapgl": [
           {
            "colorbar": {
             "outlinewidth": 0,
             "ticks": ""
            },
            "colorscale": [
             [
              0,
              "#0d0887"
             ],
             [
              0.1111111111111111,
              "#46039f"
             ],
             [
              0.2222222222222222,
              "#7201a8"
             ],
             [
              0.3333333333333333,
              "#9c179e"
             ],
             [
              0.4444444444444444,
              "#bd3786"
             ],
             [
              0.5555555555555556,
              "#d8576b"
             ],
             [
              0.6666666666666666,
              "#ed7953"
             ],
             [
              0.7777777777777778,
              "#fb9f3a"
             ],
             [
              0.8888888888888888,
              "#fdca26"
             ],
             [
              1,
              "#f0f921"
             ]
            ],
            "type": "heatmapgl"
           }
          ],
          "histogram": [
           {
            "marker": {
             "pattern": {
              "fillmode": "overlay",
              "size": 10,
              "solidity": 0.2
             }
            },
            "type": "histogram"
           }
          ],
          "histogram2d": [
           {
            "colorbar": {
             "outlinewidth": 0,
             "ticks": ""
            },
            "colorscale": [
             [
              0,
              "#0d0887"
             ],
             [
              0.1111111111111111,
              "#46039f"
             ],
             [
              0.2222222222222222,
              "#7201a8"
             ],
             [
              0.3333333333333333,
              "#9c179e"
             ],
             [
              0.4444444444444444,
              "#bd3786"
             ],
             [
              0.5555555555555556,
              "#d8576b"
             ],
             [
              0.6666666666666666,
              "#ed7953"
             ],
             [
              0.7777777777777778,
              "#fb9f3a"
             ],
             [
              0.8888888888888888,
              "#fdca26"
             ],
             [
              1,
              "#f0f921"
             ]
            ],
            "type": "histogram2d"
           }
          ],
          "histogram2dcontour": [
           {
            "colorbar": {
             "outlinewidth": 0,
             "ticks": ""
            },
            "colorscale": [
             [
              0,
              "#0d0887"
             ],
             [
              0.1111111111111111,
              "#46039f"
             ],
             [
              0.2222222222222222,
              "#7201a8"
             ],
             [
              0.3333333333333333,
              "#9c179e"
             ],
             [
              0.4444444444444444,
              "#bd3786"
             ],
             [
              0.5555555555555556,
              "#d8576b"
             ],
             [
              0.6666666666666666,
              "#ed7953"
             ],
             [
              0.7777777777777778,
              "#fb9f3a"
             ],
             [
              0.8888888888888888,
              "#fdca26"
             ],
             [
              1,
              "#f0f921"
             ]
            ],
            "type": "histogram2dcontour"
           }
          ],
          "mesh3d": [
           {
            "colorbar": {
             "outlinewidth": 0,
             "ticks": ""
            },
            "type": "mesh3d"
           }
          ],
          "parcoords": [
           {
            "line": {
             "colorbar": {
              "outlinewidth": 0,
              "ticks": ""
             }
            },
            "type": "parcoords"
           }
          ],
          "pie": [
           {
            "automargin": true,
            "type": "pie"
           }
          ],
          "scatter": [
           {
            "fillpattern": {
             "fillmode": "overlay",
             "size": 10,
             "solidity": 0.2
            },
            "type": "scatter"
           }
          ],
          "scatter3d": [
           {
            "line": {
             "colorbar": {
              "outlinewidth": 0,
              "ticks": ""
             }
            },
            "marker": {
             "colorbar": {
              "outlinewidth": 0,
              "ticks": ""
             }
            },
            "type": "scatter3d"
           }
          ],
          "scattercarpet": [
           {
            "marker": {
             "colorbar": {
              "outlinewidth": 0,
              "ticks": ""
             }
            },
            "type": "scattercarpet"
           }
          ],
          "scattergeo": [
           {
            "marker": {
             "colorbar": {
              "outlinewidth": 0,
              "ticks": ""
             }
            },
            "type": "scattergeo"
           }
          ],
          "scattergl": [
           {
            "marker": {
             "colorbar": {
              "outlinewidth": 0,
              "ticks": ""
             }
            },
            "type": "scattergl"
           }
          ],
          "scattermapbox": [
           {
            "marker": {
             "colorbar": {
              "outlinewidth": 0,
              "ticks": ""
             }
            },
            "type": "scattermapbox"
           }
          ],
          "scatterpolar": [
           {
            "marker": {
             "colorbar": {
              "outlinewidth": 0,
              "ticks": ""
             }
            },
            "type": "scatterpolar"
           }
          ],
          "scatterpolargl": [
           {
            "marker": {
             "colorbar": {
              "outlinewidth": 0,
              "ticks": ""
             }
            },
            "type": "scatterpolargl"
           }
          ],
          "scatterternary": [
           {
            "marker": {
             "colorbar": {
              "outlinewidth": 0,
              "ticks": ""
             }
            },
            "type": "scatterternary"
           }
          ],
          "surface": [
           {
            "colorbar": {
             "outlinewidth": 0,
             "ticks": ""
            },
            "colorscale": [
             [
              0,
              "#0d0887"
             ],
             [
              0.1111111111111111,
              "#46039f"
             ],
             [
              0.2222222222222222,
              "#7201a8"
             ],
             [
              0.3333333333333333,
              "#9c179e"
             ],
             [
              0.4444444444444444,
              "#bd3786"
             ],
             [
              0.5555555555555556,
              "#d8576b"
             ],
             [
              0.6666666666666666,
              "#ed7953"
             ],
             [
              0.7777777777777778,
              "#fb9f3a"
             ],
             [
              0.8888888888888888,
              "#fdca26"
             ],
             [
              1,
              "#f0f921"
             ]
            ],
            "type": "surface"
           }
          ],
          "table": [
           {
            "cells": {
             "fill": {
              "color": "#EBF0F8"
             },
             "line": {
              "color": "white"
             }
            },
            "header": {
             "fill": {
              "color": "#C8D4E3"
             },
             "line": {
              "color": "white"
             }
            },
            "type": "table"
           }
          ]
         },
         "layout": {
          "annotationdefaults": {
           "arrowcolor": "#2a3f5f",
           "arrowhead": 0,
           "arrowwidth": 1
          },
          "autotypenumbers": "strict",
          "coloraxis": {
           "colorbar": {
            "outlinewidth": 0,
            "ticks": ""
           }
          },
          "colorscale": {
           "diverging": [
            [
             0,
             "#8e0152"
            ],
            [
             0.1,
             "#c51b7d"
            ],
            [
             0.2,
             "#de77ae"
            ],
            [
             0.3,
             "#f1b6da"
            ],
            [
             0.4,
             "#fde0ef"
            ],
            [
             0.5,
             "#f7f7f7"
            ],
            [
             0.6,
             "#e6f5d0"
            ],
            [
             0.7,
             "#b8e186"
            ],
            [
             0.8,
             "#7fbc41"
            ],
            [
             0.9,
             "#4d9221"
            ],
            [
             1,
             "#276419"
            ]
           ],
           "sequential": [
            [
             0,
             "#0d0887"
            ],
            [
             0.1111111111111111,
             "#46039f"
            ],
            [
             0.2222222222222222,
             "#7201a8"
            ],
            [
             0.3333333333333333,
             "#9c179e"
            ],
            [
             0.4444444444444444,
             "#bd3786"
            ],
            [
             0.5555555555555556,
             "#d8576b"
            ],
            [
             0.6666666666666666,
             "#ed7953"
            ],
            [
             0.7777777777777778,
             "#fb9f3a"
            ],
            [
             0.8888888888888888,
             "#fdca26"
            ],
            [
             1,
             "#f0f921"
            ]
           ],
           "sequentialminus": [
            [
             0,
             "#0d0887"
            ],
            [
             0.1111111111111111,
             "#46039f"
            ],
            [
             0.2222222222222222,
             "#7201a8"
            ],
            [
             0.3333333333333333,
             "#9c179e"
            ],
            [
             0.4444444444444444,
             "#bd3786"
            ],
            [
             0.5555555555555556,
             "#d8576b"
            ],
            [
             0.6666666666666666,
             "#ed7953"
            ],
            [
             0.7777777777777778,
             "#fb9f3a"
            ],
            [
             0.8888888888888888,
             "#fdca26"
            ],
            [
             1,
             "#f0f921"
            ]
           ]
          },
          "colorway": [
           "#636efa",
           "#EF553B",
           "#00cc96",
           "#ab63fa",
           "#FFA15A",
           "#19d3f3",
           "#FF6692",
           "#B6E880",
           "#FF97FF",
           "#FECB52"
          ],
          "font": {
           "color": "#2a3f5f"
          },
          "geo": {
           "bgcolor": "white",
           "lakecolor": "white",
           "landcolor": "#E5ECF6",
           "showlakes": true,
           "showland": true,
           "subunitcolor": "white"
          },
          "hoverlabel": {
           "align": "left"
          },
          "hovermode": "closest",
          "mapbox": {
           "style": "light"
          },
          "paper_bgcolor": "white",
          "plot_bgcolor": "#E5ECF6",
          "polar": {
           "angularaxis": {
            "gridcolor": "white",
            "linecolor": "white",
            "ticks": ""
           },
           "bgcolor": "#E5ECF6",
           "radialaxis": {
            "gridcolor": "white",
            "linecolor": "white",
            "ticks": ""
           }
          },
          "scene": {
           "xaxis": {
            "backgroundcolor": "#E5ECF6",
            "gridcolor": "white",
            "gridwidth": 2,
            "linecolor": "white",
            "showbackground": true,
            "ticks": "",
            "zerolinecolor": "white"
           },
           "yaxis": {
            "backgroundcolor": "#E5ECF6",
            "gridcolor": "white",
            "gridwidth": 2,
            "linecolor": "white",
            "showbackground": true,
            "ticks": "",
            "zerolinecolor": "white"
           },
           "zaxis": {
            "backgroundcolor": "#E5ECF6",
            "gridcolor": "white",
            "gridwidth": 2,
            "linecolor": "white",
            "showbackground": true,
            "ticks": "",
            "zerolinecolor": "white"
           }
          },
          "shapedefaults": {
           "line": {
            "color": "#2a3f5f"
           }
          },
          "ternary": {
           "aaxis": {
            "gridcolor": "white",
            "linecolor": "white",
            "ticks": ""
           },
           "baxis": {
            "gridcolor": "white",
            "linecolor": "white",
            "ticks": ""
           },
           "bgcolor": "#E5ECF6",
           "caxis": {
            "gridcolor": "white",
            "linecolor": "white",
            "ticks": ""
           }
          },
          "title": {
           "x": 0.05
          },
          "xaxis": {
           "automargin": true,
           "gridcolor": "white",
           "linecolor": "white",
           "ticks": "",
           "title": {
            "standoff": 15
           },
           "zerolinecolor": "white",
           "zerolinewidth": 2
          },
          "yaxis": {
           "automargin": true,
           "gridcolor": "white",
           "linecolor": "white",
           "ticks": "",
           "title": {
            "standoff": 15
           },
           "zerolinecolor": "white",
           "zerolinewidth": 2
          }
         }
        },
        "title": {
         "text": "TSNE"
        },
        "width": 1000,
        "xaxis": {
         "anchor": "y",
         "domain": [
          0,
          1
         ],
         "title": {
          "text": "x"
         }
        },
        "yaxis": {
         "anchor": "x",
         "domain": [
          0,
          1
         ],
         "title": {
          "text": "y"
         }
        }
       }
      }
     },
     "metadata": {},
     "output_type": "display_data"
    }
   ],
   "source": [
    "fig = px.scatter(x=tsne_projection[0], y=tsne_projection[1], text=tsne_projection.droplevel(0).index)\n",
    "fig.update_traces(textposition='top center')\n",
    "fig.update_layout(height=1000, width=1000, title_text='TSNE')\n",
    "fig.show()"
   ]
  },
  {
   "cell_type": "markdown",
   "id": "04ec439f-d046-469a-bcb1-cfa05b20ebcd",
   "metadata": {},
   "source": [
    "_________________"
   ]
  },
  {
   "cell_type": "markdown",
   "id": "7e40e03c-cbe2-4d14-8ae9-a1596576a29d",
   "metadata": {},
   "source": [
    "## Cluster "
   ]
  },
  {
   "cell_type": "code",
   "execution_count": 9,
   "id": "c0ce3df1-9d0b-4543-b178-ea08c5cac883",
   "metadata": {},
   "outputs": [],
   "source": [
    "range_n_cluster = list(range(10,25))\n",
    "silhoutte_score = []\n",
    "best_cluster_model = None \n",
    "\n",
    "for n_clusters in range_n_cluster:\n",
    "    cluster_model  = AgglomerativeClustering(n_clusters=n_clusters, linkage='ward')\n",
    "    cluster_labels = cluster_model.fit_predict(tsne_projection)\n",
    "    \n",
    "    silhouette_avg = silhouette_score(tsne_projection, cluster_labels)\n",
    "    silhoutte_score += [silhouette_avg]\n",
    "    \n",
    "    if silhouette_avg >= np.max(silhoutte_score):\n",
    "        best_cluster_model = cluster_model"
   ]
  },
  {
   "cell_type": "code",
   "execution_count": 10,
   "id": "93ef22d3-63fe-417f-a337-2da160aa55ab",
   "metadata": {},
   "outputs": [
    {
     "data": {
      "text/plain": [
       "<matplotlib.lines.Line2D at 0x2b140aa10>"
      ]
     },
     "execution_count": 10,
     "metadata": {},
     "output_type": "execute_result"
    },
    {
     "data": {
      "image/png": "[encoded data removed]",
      "text/plain": [
       "<Figure size 640x480 with 1 Axes>"
      ]
     },
     "metadata": {},
     "output_type": "display_data"
    }
   ],
   "source": [
    "plt.plot(range_n_cluster, silhoutte_score)\n",
    "plt.axvline(best_cluster_model.n_clusters, color='black')"
   ]
  },
  {
   "cell_type": "code",
   "execution_count": 11,
   "id": "63084e98-fcda-4f76-9ada-93fe9b954200",
   "metadata": {},
   "outputs": [],
   "source": [
    "cluster_labels = [\"skills_group_\" + str(label) \n",
    "                 for label in best_cluster_model.labels_]"
   ]
  },
  {
   "cell_type": "code",
   "execution_count": 12,
   "id": "aa45d1ef-acd9-44ba-9a68-efeef5691fd5",
   "metadata": {},
   "outputs": [
    {
     "data": {
      "application/vnd.plotly.v1+json": {
       "config": {
        "plotlyServerURL": "https://plot.ly"
       },
       "data": [
        {
         "hovertemplate": "color=skills_group_8<br>x=%{x}<br>y=%{y}<br>text=%{text}<extra></extra>",
         "legendgroup": "skills_group_8",
         "marker": {
          "color": "#636efa",
          "symbol": "circle"
         },
         "mode": "markers+text",
         "name": "skills_group_8",
         "orientation": "v",
         "showlegend": true,
         "text": [
          "APL",
          "COBOL",
          "Crystal",
          "Delphi",
          "IBM DB2"
         ],
         "textposition": "top center",
         "type": "scatter",
         "x": [
          1.612146019935608,
          3.4577298164367676,
          1.7127373218536377,
          4.829019069671631,
          4.3690266609191895
         ],
         "xaxis": "x",
         "y": [
          12.678101539611816,
          11.666029930114746,
          10.242971420288086,
          13.704527854919434,
          11.040990829467773
         ],
         "yaxis": "y"
        },
        {
         "hovertemplate": "color=skills_group_9<br>x=%{x}<br>y=%{y}<br>text=%{text}<extra></extra>",
         "legendgroup": "skills_group_9",
         "marker": {
          "color": "#EF553B",
          "symbol": "circle"
         },
         "mode": "markers+text",
         "name": "skills_group_9",
         "orientation": "v",
         "showlegend": true,
         "text": [
          "Assembly",
          "C",
          "C++",
          "Qt"
         ],
         "textposition": "top center",
         "type": "scatter",
         "x": [
          -12.570475578308105,
          -12.671266555786133,
          -12.51134967803955,
          -12.10445499420166
         ],
         "xaxis": "x",
         "y": [
          17.50106430053711,
          19.095304489135742,
          20.05523681640625,
          21.73301124572754
         ],
         "yaxis": "y"
        },
        {
         "hovertemplate": "color=skills_group_18<br>x=%{x}<br>y=%{y}<br>text=%{text}<extra></extra>",
         "legendgroup": "skills_group_18",
         "marker": {
          "color": "#00cc96",
          "symbol": "circle"
         },
         "mode": "markers+text",
         "name": "skills_group_18",
         "orientation": "v",
         "showlegend": true,
         "text": [
          "Bash/Shell",
          "Perl"
         ],
         "textposition": "top center",
         "type": "scatter",
         "x": [
          -19.824613571166992,
          -19.992158889770508
         ],
         "xaxis": "x",
         "y": [
          2.9763023853302,
          4.62054967880249
         ],
         "yaxis": "y"
        },
        {
         "hovertemplate": "color=skills_group_2<br>x=%{x}<br>y=%{y}<br>text=%{text}<extra></extra>",
         "legendgroup": "skills_group_2",
         "marker": {
          "color": "#ab63fa",
          "symbol": "circle"
         },
         "mode": "markers+text",
         "name": "skills_group_2",
         "orientation": "v",
         "showlegend": true,
         "text": [
          "C#",
          "F#",
          "PowerShell",
          "ASP.NET",
          "ASP.NET Core ",
          ".NET Core / .NET 5",
          ".NET Framework",
          "Xamarin"
         ],
         "textposition": "top center",
         "type": "scatter",
         "x": [
          26.536550521850586,
          21.990842819213867,
          27.576988220214844,
          26.755523681640625,
          24.434175491333008,
          24.65984344482422,
          27.078346252441406,
          24.139976501464844
         ],
         "xaxis": "x",
         "y": [
          19.56623649597168,
          19.59442901611328,
          22.204442977905273,
          16.68954849243164,
          18.316835403442383,
          19.66686248779297,
          18.333385467529297,
          21.965274810791016
         ],
         "yaxis": "y"
        },
        {
         "hovertemplate": "color=skills_group_16<br>x=%{x}<br>y=%{y}<br>text=%{text}<extra></extra>",
         "legendgroup": "skills_group_16",
         "marker": {
          "color": "#FFA15A",
          "symbol": "circle"
         },
         "mode": "markers+text",
         "name": "skills_group_16",
         "orientation": "v",
         "showlegend": true,
         "text": [
          "Clojure",
          "Haskell",
          "LISP"
         ],
         "textposition": "top center",
         "type": "scatter",
         "x": [
          -8.896323204040527,
          -10.86108112335205,
          -9.497476577758789
         ],
         "xaxis": "x",
         "y": [
          3.6748006343841553,
          1.212824821472168,
          2.9677670001983643
         ],
         "yaxis": "y"
        },
        {
         "hovertemplate": "color=skills_group_19<br>x=%{x}<br>y=%{y}<br>text=%{text}<extra></extra>",
         "legendgroup": "skills_group_19",
         "marker": {
          "color": "#19d3f3",
          "symbol": "circle"
         },
         "mode": "markers+text",
         "name": "skills_group_19",
         "orientation": "v",
         "showlegend": true,
         "text": [
          "Dart",
          "Firebase",
          "Flutter"
         ],
         "textposition": "top center",
         "type": "scatter",
         "x": [
          12.366057395935059,
          12.611021995544434,
          12.448283195495605
         ],
         "xaxis": "x",
         "y": [
          -8.507246971130371,
          -10.924993515014648,
          -9.297518730163574
         ],
         "yaxis": "y"
        },
        {
         "hovertemplate": "color=skills_group_23<br>x=%{x}<br>y=%{y}<br>text=%{text}<extra></extra>",
         "legendgroup": "skills_group_23",
         "marker": {
          "color": "#FF6692",
          "symbol": "circle"
         },
         "mode": "markers+text",
         "name": "skills_group_23",
         "orientation": "v",
         "showlegend": true,
         "text": [
          "Elixir",
          "Erlang"
         ],
         "textposition": "top center",
         "type": "scatter",
         "x": [
          -2.5723752975463867,
          -3.3346126079559326
         ],
         "xaxis": "x",
         "y": [
          5.5354228019714355,
          5.710635662078857
         ],
         "yaxis": "y"
        },
        {
         "hovertemplate": "color=skills_group_0<br>x=%{x}<br>y=%{y}<br>text=%{text}<extra></extra>",
         "legendgroup": "skills_group_0",
         "marker": {
          "color": "#B6E880",
          "symbol": "circle"
         },
         "mode": "markers+text",
         "name": "skills_group_0",
         "orientation": "v",
         "showlegend": true,
         "text": [
          "Go",
          "Rust",
          "DynamoDB",
          "PostgreSQL",
          "Ansible",
          "Docker",
          "Git",
          "Kubernetes",
          "Terraform"
         ],
         "textposition": "top center",
         "type": "scatter",
         "x": [
          -14.981279373168945,
          -13.218866348266602,
          -18.932872772216797,
          -20.66066551208496,
          -15.725655555725098,
          -18.764759063720703,
          -18.999048233032227,
          -17.795265197753906,
          -17.157052993774414
         ],
         "xaxis": "x",
         "y": [
          -2.5974326133728027,
          -1.2341974973678589,
          -8.774784088134766,
          -3.7409815788269043,
          -7.500645160675049,
          -3.346330165863037,
          -1.3477668762207031,
          -4.2138824462890625,
          -8.123790740966797
         ],
         "yaxis": "y"
        },
        {
         "hovertemplate": "color=skills_group_13<br>x=%{x}<br>y=%{y}<br>text=%{text}<extra></extra>",
         "legendgroup": "skills_group_13",
         "marker": {
          "color": "#FF97FF",
          "symbol": "circle"
         },
         "mode": "markers+text",
         "name": "skills_group_13",
         "orientation": "v",
         "showlegend": true,
         "text": [
          "Groovy",
          "Java",
          "Kotlin",
          "Oracle",
          "Spring"
         ],
         "textposition": "top center",
         "type": "scatter",
         "x": [
          7.943127632141113,
          10.604748725891113,
          11.92221736907959,
          10.55358600616455,
          9.765339851379395
         ],
         "xaxis": "x",
         "y": [
          1.292400598526001,
          1.4266695976257324,
          -0.05389828979969025,
          3.8374228477478027,
          1.9137609004974365
         ],
         "yaxis": "y"
        },
        {
         "hovertemplate": "color=skills_group_7<br>x=%{x}<br>y=%{y}<br>text=%{text}<extra></extra>",
         "legendgroup": "skills_group_7",
         "marker": {
          "color": "#FECB52",
          "symbol": "circle"
         },
         "mode": "markers+text",
         "name": "skills_group_7",
         "orientation": "v",
         "showlegend": true,
         "text": [
          "HTML/CSS",
          "JavaScript",
          "jQuery"
         ],
         "textposition": "top center",
         "type": "scatter",
         "x": [
          25.733726501464844,
          26.133928298950195,
          28.128877639770508
         ],
         "xaxis": "x",
         "y": [
          -15.95238208770752,
          -15.244399070739746,
          -12.894967079162598
         ],
         "yaxis": "y"
        },
        {
         "hovertemplate": "color=skills_group_6<br>x=%{x}<br>y=%{y}<br>text=%{text}<extra></extra>",
         "legendgroup": "skills_group_6",
         "marker": {
          "color": "#636efa",
          "symbol": "circle"
         },
         "mode": "markers+text",
         "name": "skills_group_6",
         "orientation": "v",
         "showlegend": true,
         "text": [
          "Julia",
          "Matlab",
          "R",
          "NumPy",
          "Pandas"
         ],
         "textposition": "top center",
         "type": "scatter",
         "x": [
          -20.965988159179688,
          -20.033979415893555,
          -22.029537200927734,
          -22.717849731445312,
          -23.22403907775879
         ],
         "xaxis": "x",
         "y": [
          27.150728225708008,
          22.47060775756836,
          25.728015899658203,
          22.907943725585938,
          23.67655372619629
         ],
         "yaxis": "y"
        },
        {
         "hovertemplate": "color=skills_group_3<br>x=%{x}<br>y=%{y}<br>text=%{text}<extra></extra>",
         "legendgroup": "skills_group_3",
         "marker": {
          "color": "#EF553B",
          "symbol": "circle"
         },
         "mode": "markers+text",
         "name": "skills_group_3",
         "orientation": "v",
         "showlegend": true,
         "text": [
          "Node.js",
          "MongoDB",
          "Express",
          "Gatsby",
          "React.js",
          "React Native",
          "Yarn"
         ],
         "textposition": "top center",
         "type": "scatter",
         "x": [
          16.316062927246094,
          17.67351722717285,
          16.849889755249023,
          11.98332691192627,
          13.844743728637695,
          12.78484058380127,
          14.579073905944824
         ],
         "xaxis": "x",
         "y": [
          -20.090087890625,
          -17.88032341003418,
          -19.31306266784668,
          -22.640165328979492,
          -21.298603057861328,
          -19.84302520751953,
          -22.99134063720703
         ],
         "yaxis": "y"
        },
        {
         "hovertemplate": "color=skills_group_20<br>x=%{x}<br>y=%{y}<br>text=%{text}<extra></extra>",
         "legendgroup": "skills_group_20",
         "marker": {
          "color": "#00cc96",
          "symbol": "circle"
         },
         "mode": "markers+text",
         "name": "skills_group_20",
         "orientation": "v",
         "showlegend": true,
         "text": [
          "Objective-C",
          "Swift"
         ],
         "textposition": "top center",
         "type": "scatter",
         "x": [
          18.809839248657227,
          18.080890655517578
         ],
         "xaxis": "x",
         "y": [
          -2.7169251441955566,
          -2.999657392501831
         ],
         "yaxis": "y"
        },
        {
         "hovertemplate": "color=skills_group_1<br>x=%{x}<br>y=%{y}<br>text=%{text}<extra></extra>",
         "legendgroup": "skills_group_1",
         "marker": {
          "color": "#ab63fa",
          "symbol": "circle"
         },
         "mode": "markers+text",
         "name": "skills_group_1",
         "orientation": "v",
         "showlegend": true,
         "text": [
          "PHP",
          "MariaDB",
          "MySQL",
          "SQLite",
          "Drupal",
          "Laravel",
          "Symfony",
          "Vue.js"
         ],
         "textposition": "top center",
         "type": "scatter",
         "x": [
          32.294647216796875,
          32.92280960083008,
          30.614166259765625,
          28.58009910583496,
          36.743770599365234,
          32.32018280029297,
          35.07076644897461,
          32.26025390625
         ],
         "xaxis": "x",
         "y": [
          -9.437565803527832,
          -7.5508131980896,
          -8.168377876281738,
          -6.241350173950195,
          -9.575675010681152,
          -10.626538276672363,
          -9.585575103759766,
          -12.682316780090332
         ],
         "yaxis": "y"
        },
        {
         "hovertemplate": "color=skills_group_4<br>x=%{x}<br>y=%{y}<br>text=%{text}<extra></extra>",
         "legendgroup": "skills_group_4",
         "marker": {
          "color": "#FFA15A",
          "symbol": "circle"
         },
         "mode": "markers+text",
         "name": "skills_group_4",
         "orientation": "v",
         "showlegend": true,
         "text": [
          "Python",
          "Django",
          "FastAPI",
          "Flask"
         ],
         "textposition": "top center",
         "type": "scatter",
         "x": [
          -23.83832359313965,
          -23.67975616455078,
          -27.030933380126953,
          -25.3527774810791
         ],
         "xaxis": "x",
         "y": [
          20.626405715942383,
          18.432722091674805,
          18.57476043701172,
          19.299833297729492
         ],
         "yaxis": "y"
        },
        {
         "hovertemplate": "color=skills_group_15<br>x=%{x}<br>y=%{y}<br>text=%{text}<extra></extra>",
         "legendgroup": "skills_group_15",
         "marker": {
          "color": "#19d3f3",
          "symbol": "circle"
         },
         "mode": "markers+text",
         "name": "skills_group_15",
         "orientation": "v",
         "showlegend": true,
         "text": [
          "Ruby",
          "Ruby on Rails"
         ],
         "textposition": "top center",
         "type": "scatter",
         "x": [
          -3.8644890785217285,
          -3.7905941009521484
         ],
         "xaxis": "x",
         "y": [
          -6.887394905090332,
          -7.658318042755127
         ],
         "yaxis": "y"
        },
        {
         "hovertemplate": "color=skills_group_10<br>x=%{x}<br>y=%{y}<br>text=%{text}<extra></extra>",
         "legendgroup": "skills_group_10",
         "marker": {
          "color": "#FF6692",
          "symbol": "circle"
         },
         "mode": "markers+text",
         "name": "skills_group_10",
         "orientation": "v",
         "showlegend": true,
         "text": [
          "SQL",
          "VBA",
          "Microsoft SQL Server"
         ],
         "textposition": "top center",
         "type": "scatter",
         "x": [
          26.115428924560547,
          23.2611026763916,
          25.08388900756836
         ],
         "xaxis": "x",
         "y": [
          11.83983325958252,
          13.919787406921387,
          14.325611114501953
         ],
         "yaxis": "y"
        },
        {
         "hovertemplate": "color=skills_group_17<br>x=%{x}<br>y=%{y}<br>text=%{text}<extra></extra>",
         "legendgroup": "skills_group_17",
         "marker": {
          "color": "#B6E880",
          "symbol": "circle"
         },
         "mode": "markers+text",
         "name": "skills_group_17",
         "orientation": "v",
         "showlegend": true,
         "text": [
          "Scala",
          "Apache Spark",
          "Hadoop"
         ],
         "textposition": "top center",
         "type": "scatter",
         "x": [
          -35.209495544433594,
          -34.09050369262695,
          -33.50958251953125
         ],
         "xaxis": "x",
         "y": [
          -4.019336700439453,
          -3.0023810863494873,
          -2.3500232696533203
         ],
         "yaxis": "y"
        },
        {
         "hovertemplate": "color=skills_group_14<br>x=%{x}<br>y=%{y}<br>text=%{text}<extra></extra>",
         "legendgroup": "skills_group_14",
         "marker": {
          "color": "#FF97FF",
          "symbol": "circle"
         },
         "mode": "markers+text",
         "name": "skills_group_14",
         "orientation": "v",
         "showlegend": true,
         "text": [
          "TypeScript",
          "Angular",
          "Angular.js",
          "Cordova"
         ],
         "textposition": "top center",
         "type": "scatter",
         "x": [
          21.211254119873047,
          22.167118072509766,
          23.794189453125,
          22.187971115112305
         ],
         "xaxis": "x",
         "y": [
          -24.282726287841797,
          -25.013463973999023,
          -24.928909301757812,
          -26.991119384765625
         ],
         "yaxis": "y"
        },
        {
         "hovertemplate": "color=skills_group_11<br>x=%{x}<br>y=%{y}<br>text=%{text}<extra></extra>",
         "legendgroup": "skills_group_11",
         "marker": {
          "color": "#FECB52",
          "symbol": "circle"
         },
         "mode": "markers+text",
         "name": "skills_group_11",
         "orientation": "v",
         "showlegend": true,
         "text": [
          "Cassandra",
          "Couchbase",
          "Elasticsearch",
          "Redis"
         ],
         "textposition": "top center",
         "type": "scatter",
         "x": [
          -27.26009750366211,
          -28.392230987548828,
          -24.47804069519043,
          -23.408607482910156
         ],
         "xaxis": "x",
         "y": [
          -5.738046169281006,
          -6.89797830581665,
          -5.468247890472412,
          -5.10129976272583
         ],
         "yaxis": "y"
        },
        {
         "hovertemplate": "color=skills_group_12<br>x=%{x}<br>y=%{y}<br>text=%{text}<extra></extra>",
         "legendgroup": "skills_group_12",
         "marker": {
          "color": "#636efa",
          "symbol": "circle"
         },
         "mode": "markers+text",
         "name": "skills_group_12",
         "orientation": "v",
         "showlegend": true,
         "text": [
          "Svelte",
          "Deno"
         ],
         "textposition": "top center",
         "type": "scatter",
         "x": [
          4.567555904388428,
          3.8213438987731934
         ],
         "xaxis": "x",
         "y": [
          -27.943225860595703,
          -27.64886474609375
         ],
         "yaxis": "y"
        },
        {
         "hovertemplate": "color=skills_group_22<br>x=%{x}<br>y=%{y}<br>text=%{text}<extra></extra>",
         "legendgroup": "skills_group_22",
         "marker": {
          "color": "#EF553B",
          "symbol": "circle"
         },
         "mode": "markers+text",
         "name": "skills_group_22",
         "orientation": "v",
         "showlegend": true,
         "text": [
          "Keras",
          "TensorFlow",
          "Torch/PyTorch"
         ],
         "textposition": "top center",
         "type": "scatter",
         "x": [
          -27.749536514282227,
          -27.56569480895996,
          -27.28713607788086
         ],
         "xaxis": "x",
         "y": [
          25.757387161254883,
          26.6739501953125,
          28.195592880249023
         ],
         "yaxis": "y"
        },
        {
         "hovertemplate": "color=skills_group_5<br>x=%{x}<br>y=%{y}<br>text=%{text}<extra></extra>",
         "legendgroup": "skills_group_5",
         "marker": {
          "color": "#00cc96",
          "symbol": "circle"
         },
         "mode": "markers+text",
         "name": "skills_group_5",
         "orientation": "v",
         "showlegend": true,
         "text": [
          "Chef",
          "Flow",
          "Pulumi",
          "Puppet"
         ],
         "textposition": "top center",
         "type": "scatter",
         "x": [
          -16.844223022460938,
          -14.311666488647461,
          -15.637825012207031,
          -17.43377113342285
         ],
         "xaxis": "x",
         "y": [
          -15.488166809082031,
          -13.020769119262695,
          -11.068258285522461,
          -16.138551712036133
         ],
         "yaxis": "y"
        },
        {
         "hovertemplate": "color=skills_group_21<br>x=%{x}<br>y=%{y}<br>text=%{text}<extra></extra>",
         "legendgroup": "skills_group_21",
         "marker": {
          "color": "#ab63fa",
          "symbol": "circle"
         },
         "mode": "markers+text",
         "name": "skills_group_21",
         "orientation": "v",
         "showlegend": true,
         "text": [
          "Unity 3D",
          "Unreal Engine"
         ],
         "textposition": "top center",
         "type": "scatter",
         "x": [
          15.69805908203125,
          14.986030578613281
         ],
         "xaxis": "x",
         "y": [
          29.50935935974121,
          29.909122467041016
         ],
         "yaxis": "y"
        }
       ],
       "layout": {
        "height": 800,
        "legend": {
         "title": {
          "text": "color"
         },
         "tracegroupgap": 0
        },
        "margin": {
         "t": 60
        },
        "template": {
         "data": {
          "bar": [
           {
            "error_x": {
             "color": "#2a3f5f"
            },
            "error_y": {
             "color": "#2a3f5f"
            },
            "marker": {
             "line": {
              "color": "#E5ECF6",
              "width": 0.5
             },
             "pattern": {
              "fillmode": "overlay",
              "size": 10,
              "solidity": 0.2
             }
            },
            "type": "bar"
           }
          ],
          "barpolar": [
           {
            "marker": {
             "line": {
              "color": "#E5ECF6",
              "width": 0.5
             },
             "pattern": {
              "fillmode": "overlay",
              "size": 10,
              "solidity": 0.2
             }
            },
            "type": "barpolar"
           }
          ],
          "carpet": [
           {
            "aaxis": {
             "endlinecolor": "#2a3f5f",
             "gridcolor": "white",
             "linecolor": "white",
             "minorgridcolor": "white",
             "startlinecolor": "#2a3f5f"
            },
            "baxis": {
             "endlinecolor": "#2a3f5f",
             "gridcolor": "white",
             "linecolor": "white",
             "minorgridcolor": "white",
             "startlinecolor": "#2a3f5f"
            },
            "type": "carpet"
           }
          ],
          "choropleth": [
           {
            "colorbar": {
             "outlinewidth": 0,
             "ticks": ""
            },
            "type": "choropleth"
           }
          ],
          "contour": [
           {
            "colorbar": {
             "outlinewidth": 0,
             "ticks": ""
            },
            "colorscale": [
             [
              0,
              "#0d0887"
             ],
             [
              0.1111111111111111,
              "#46039f"
             ],
             [
              0.2222222222222222,
              "#7201a8"
             ],
             [
              0.3333333333333333,
              "#9c179e"
             ],
             [
              0.4444444444444444,
              "#bd3786"
             ],
             [
              0.5555555555555556,
              "#d8576b"
             ],
             [
              0.6666666666666666,
              "#ed7953"
             ],
             [
              0.7777777777777778,
              "#fb9f3a"
             ],
             [
              0.8888888888888888,
              "#fdca26"
             ],
             [
              1,
              "#f0f921"
             ]
            ],
            "type": "contour"
           }
          ],
          "contourcarpet": [
           {
            "colorbar": {
             "outlinewidth": 0,
             "ticks": ""
            },
            "type": "contourcarpet"
           }
          ],
          "heatmap": [
           {
            "colorbar": {
             "outlinewidth": 0,
             "ticks": ""
            },
            "colorscale": [
             [
              0,
              "#0d0887"
             ],
             [
              0.1111111111111111,
              "#46039f"
             ],
             [
              0.2222222222222222,
              "#7201a8"
             ],
             [
              0.3333333333333333,
              "#9c179e"
             ],
             [
              0.4444444444444444,
              "#bd3786"
             ],
             [
              0.5555555555555556,
              "#d8576b"
             ],
             [
              0.6666666666666666,
              "#ed7953"
             ],
             [
              0.7777777777777778,
              "#fb9f3a"
             ],
             [
              0.8888888888888888,
              "#fdca26"
             ],
             [
              1,
              "#f0f921"
             ]
            ],
            "type": "heatmap"
           }
          ],
          "heatmapgl": [
           {
            "colorbar": {
             "outlinewidth": 0,
             "ticks": ""
            },
            "colorscale": [
             [
              0,
              "#0d0887"
             ],
             [
              0.1111111111111111,
              "#46039f"
             ],
             [
              0.2222222222222222,
              "#7201a8"
             ],
             [
              0.3333333333333333,
              "#9c179e"
             ],
             [
              0.4444444444444444,
              "#bd3786"
             ],
             [
              0.5555555555555556,
              "#d8576b"
             ],
             [
              0.6666666666666666,
              "#ed7953"
             ],
             [
              0.7777777777777778,
              "#fb9f3a"
             ],
             [
              0.8888888888888888,
              "#fdca26"
             ],
             [
              1,
              "#f0f921"
             ]
            ],
            "type": "heatmapgl"
           }
          ],
          "histogram": [
           {
            "marker": {
             "pattern": {
              "fillmode": "overlay",
              "size": 10,
              "solidity": 0.2
             }
            },
            "type": "histogram"
           }
          ],
          "histogram2d": [
           {
            "colorbar": {
             "outlinewidth": 0,
             "ticks": ""
            },
            "colorscale": [
             [
              0,
              "#0d0887"
             ],
             [
              0.1111111111111111,
              "#46039f"
             ],
             [
              0.2222222222222222,
              "#7201a8"
             ],
             [
              0.3333333333333333,
              "#9c179e"
             ],
             [
              0.4444444444444444,
              "#bd3786"
             ],
             [
              0.5555555555555556,
              "#d8576b"
             ],
             [
              0.6666666666666666,
              "#ed7953"
             ],
             [
              0.7777777777777778,
              "#fb9f3a"
             ],
             [
              0.8888888888888888,
              "#fdca26"
             ],
             [
              1,
              "#f0f921"
             ]
            ],
            "type": "histogram2d"
           }
          ],
          "histogram2dcontour": [
           {
            "colorbar": {
             "outlinewidth": 0,
             "ticks": ""
            },
            "colorscale": [
             [
              0,
              "#0d0887"
             ],
             [
              0.1111111111111111,
              "#46039f"
             ],
             [
              0.2222222222222222,
              "#7201a8"
             ],
             [
              0.3333333333333333,
              "#9c179e"
             ],
             [
              0.4444444444444444,
              "#bd3786"
             ],
             [
              0.5555555555555556,
              "#d8576b"
             ],
             [
              0.6666666666666666,
              "#ed7953"
             ],
             [
              0.7777777777777778,
              "#fb9f3a"
             ],
             [
              0.8888888888888888,
              "#fdca26"
             ],
             [
              1,
              "#f0f921"
             ]
            ],
            "type": "histogram2dcontour"
           }
          ],
          "mesh3d": [
           {
            "colorbar": {
             "outlinewidth": 0,
             "ticks": ""
            },
            "type": "mesh3d"
           }
          ],
          "parcoords": [
           {
            "line": {
             "colorbar": {
              "outlinewidth": 0,
              "ticks": ""
             }
            },
            "type": "parcoords"
           }
          ],
          "pie": [
           {
            "automargin": true,
            "type": "pie"
           }
          ],
          "scatter": [
           {
            "fillpattern": {
             "fillmode": "overlay",
             "size": 10,
             "solidity": 0.2
            },
            "type": "scatter"
           }
          ],
          "scatter3d": [
           {
            "line": {
             "colorbar": {
              "outlinewidth": 0,
              "ticks": ""
             }
            },
            "marker": {
             "colorbar": {
              "outlinewidth": 0,
              "ticks": ""
             }
            },
            "type": "scatter3d"
           }
          ],
          "scattercarpet": [
           {
            "marker": {
             "colorbar": {
              "outlinewidth": 0,
              "ticks": ""
             }
            },
            "type": "scattercarpet"
           }
          ],
          "scattergeo": [
           {
            "marker": {
             "colorbar": {
              "outlinewidth": 0,
              "ticks": ""
             }
            },
            "type": "scattergeo"
           }
          ],
          "scattergl": [
           {
            "marker": {
             "colorbar": {
              "outlinewidth": 0,
              "ticks": ""
             }
            },
            "type": "scattergl"
           }
          ],
          "scattermapbox": [
           {
            "marker": {
             "colorbar": {
              "outlinewidth": 0,
              "ticks": ""
             }
            },
            "type": "scattermapbox"
           }
          ],
          "scatterpolar": [
           {
            "marker": {
             "colorbar": {
              "outlinewidth": 0,
              "ticks": ""
             }
            },
            "type": "scatterpolar"
           }
          ],
          "scatterpolargl": [
           {
            "marker": {
             "colorbar": {
              "outlinewidth": 0,
              "ticks": ""
             }
            },
            "type": "scatterpolargl"
           }
          ],
          "scatterternary": [
           {
            "marker": {
             "colorbar": {
              "outlinewidth": 0,
              "ticks": ""
             }
            },
            "type": "scatterternary"
           }
          ],
          "surface": [
           {
            "colorbar": {
             "outlinewidth": 0,
             "ticks": ""
            },
            "colorscale": [
             [
              0,
              "#0d0887"
             ],
             [
              0.1111111111111111,
              "#46039f"
             ],
             [
              0.2222222222222222,
              "#7201a8"
             ],
             [
              0.3333333333333333,
              "#9c179e"
             ],
             [
              0.4444444444444444,
              "#bd3786"
             ],
             [
              0.5555555555555556,
              "#d8576b"
             ],
             [
              0.6666666666666666,
              "#ed7953"
             ],
             [
              0.7777777777777778,
              "#fb9f3a"
             ],
             [
              0.8888888888888888,
              "#fdca26"
             ],
             [
              1,
              "#f0f921"
             ]
            ],
            "type": "surface"
           }
          ],
          "table": [
           {
            "cells": {
             "fill": {
              "color": "#EBF0F8"
             },
             "line": {
              "color": "white"
             }
            },
            "header": {
             "fill": {
              "color": "#C8D4E3"
             },
             "line": {
              "color": "white"
             }
            },
            "type": "table"
           }
          ]
         },
         "layout": {
          "annotationdefaults": {
           "arrowcolor": "#2a3f5f",
           "arrowhead": 0,
           "arrowwidth": 1
          },
          "autotypenumbers": "strict",
          "coloraxis": {
           "colorbar": {
            "outlinewidth": 0,
            "ticks": ""
           }
          },
          "colorscale": {
           "diverging": [
            [
             0,
             "#8e0152"
            ],
            [
             0.1,
             "#c51b7d"
            ],
            [
             0.2,
             "#de77ae"
            ],
            [
             0.3,
             "#f1b6da"
            ],
            [
             0.4,
             "#fde0ef"
            ],
            [
             0.5,
             "#f7f7f7"
            ],
            [
             0.6,
             "#e6f5d0"
            ],
            [
             0.7,
             "#b8e186"
            ],
            [
             0.8,
             "#7fbc41"
            ],
            [
             0.9,
             "#4d9221"
            ],
            [
             1,
             "#276419"
            ]
           ],
           "sequential": [
            [
             0,
             "#0d0887"
            ],
            [
             0.1111111111111111,
             "#46039f"
            ],
            [
             0.2222222222222222,
             "#7201a8"
            ],
            [
             0.3333333333333333,
             "#9c179e"
            ],
            [
             0.4444444444444444,
             "#bd3786"
            ],
            [
             0.5555555555555556,
             "#d8576b"
            ],
            [
             0.6666666666666666,
             "#ed7953"
            ],
            [
             0.7777777777777778,
             "#fb9f3a"
            ],
            [
             0.8888888888888888,
             "#fdca26"
            ],
            [
             1,
             "#f0f921"
            ]
           ],
           "sequentialminus": [
            [
             0,
             "#0d0887"
            ],
            [
             0.1111111111111111,
             "#46039f"
            ],
            [
             0.2222222222222222,
             "#7201a8"
            ],
            [
             0.3333333333333333,
             "#9c179e"
            ],
            [
             0.4444444444444444,
             "#bd3786"
            ],
            [
             0.5555555555555556,
             "#d8576b"
            ],
            [
             0.6666666666666666,
             "#ed7953"
            ],
            [
             0.7777777777777778,
             "#fb9f3a"
            ],
            [
             0.8888888888888888,
             "#fdca26"
            ],
            [
             1,
             "#f0f921"
            ]
           ]
          },
          "colorway": [
           "#636efa",
           "#EF553B",
           "#00cc96",
           "#ab63fa",
           "#FFA15A",
           "#19d3f3",
           "#FF6692",
           "#B6E880",
           "#FF97FF",
           "#FECB52"
          ],
          "font": {
           "color": "#2a3f5f"
          },
          "geo": {
           "bgcolor": "white",
           "lakecolor": "white",
           "landcolor": "#E5ECF6",
           "showlakes": true,
           "showland": true,
           "subunitcolor": "white"
          },
          "hoverlabel": {
           "align": "left"
          },
          "hovermode": "closest",
          "mapbox": {
           "style": "light"
          },
          "paper_bgcolor": "white",
          "plot_bgcolor": "#E5ECF6",
          "polar": {
           "angularaxis": {
            "gridcolor": "white",
            "linecolor": "white",
            "ticks": ""
           },
           "bgcolor": "#E5ECF6",
           "radialaxis": {
            "gridcolor": "white",
            "linecolor": "white",
            "ticks": ""
           }
          },
          "scene": {
           "xaxis": {
            "backgroundcolor": "#E5ECF6",
            "gridcolor": "white",
            "gridwidth": 2,
            "linecolor": "white",
            "showbackground": true,
            "ticks": "",
            "zerolinecolor": "white"
           },
           "yaxis": {
            "backgroundcolor": "#E5ECF6",
            "gridcolor": "white",
            "gridwidth": 2,
            "linecolor": "white",
            "showbackground": true,
            "ticks": "",
            "zerolinecolor": "white"
           },
           "zaxis": {
            "backgroundcolor": "#E5ECF6",
            "gridcolor": "white",
            "gridwidth": 2,
            "linecolor": "white",
            "showbackground": true,
            "ticks": "",
            "zerolinecolor": "white"
           }
          },
          "shapedefaults": {
           "line": {
            "color": "#2a3f5f"
           }
          },
          "ternary": {
           "aaxis": {
            "gridcolor": "white",
            "linecolor": "white",
            "ticks": ""
           },
           "baxis": {
            "gridcolor": "white",
            "linecolor": "white",
            "ticks": ""
           },
           "bgcolor": "#E5ECF6",
           "caxis": {
            "gridcolor": "white",
            "linecolor": "white",
            "ticks": ""
           }
          },
          "title": {
           "x": 0.05
          },
          "xaxis": {
           "automargin": true,
           "gridcolor": "white",
           "linecolor": "white",
           "ticks": "",
           "title": {
            "standoff": 15
           },
           "zerolinecolor": "white",
           "zerolinewidth": 2
          },
          "yaxis": {
           "automargin": true,
           "gridcolor": "white",
           "linecolor": "white",
           "ticks": "",
           "title": {
            "standoff": 15
           },
           "zerolinecolor": "white",
           "zerolinewidth": 2
          }
         }
        },
        "title": {
         "text": "Cluster"
        },
        "width": 800,
        "xaxis": {
         "anchor": "y",
         "domain": [
          0,
          1
         ],
         "title": {
          "text": "x"
         }
        },
        "yaxis": {
         "anchor": "x",
         "domain": [
          0,
          1
         ],
         "title": {
          "text": "y"
         }
        }
       }
      }
     },
     "metadata": {},
     "output_type": "display_data"
    }
   ],
   "source": [
    "fig = px.scatter(x=tsne_projection[0], \n",
    "                 y=tsne_projection[1], \n",
    "                 text=tsne_projection.droplevel(0).index, \n",
    "                 color=cluster_labels)\n",
    "fig.update_traces(textposition='top center')\n",
    "fig.update_layout(height=800, width=800, title_text='Cluster')\n",
    "fig.show()"
   ]
  },
  {
   "cell_type": "code",
   "execution_count": 13,
   "id": "992cf07e-b168-4c52-874c-877a2a09dc0c",
   "metadata": {},
   "outputs": [],
   "source": [
    "# How to better write this\n",
    "skills_clusters = tsne_projection.index.droplevel(0).to_series().groupby(cluster_labels).apply(list)"
   ]
  },
  {
   "cell_type": "code",
   "execution_count": 14,
   "id": "d9bb40ea-b85f-47f2-b63a-38a5e88b07db",
   "metadata": {},
   "outputs": [
    {
     "name": "stdout",
     "output_type": "stream",
     "text": [
      "skills_group_0\n",
      "['Go', 'Rust', 'DynamoDB', 'PostgreSQL', 'Ansible', 'Docker', 'Git', 'Kubernetes', 'Terraform']\n",
      "skills_group_1\n",
      "['PHP', 'MariaDB', 'MySQL', 'SQLite', 'Drupal', 'Laravel', 'Symfony', 'Vue.js']\n",
      "skills_group_10\n",
      "['SQL', 'VBA', 'Microsoft SQL Server']\n",
      "skills_group_11\n",
      "['Cassandra', 'Couchbase', 'Elasticsearch', 'Redis']\n",
      "skills_group_12\n",
      "['Svelte', 'Deno']\n",
      "skills_group_13\n",
      "['Groovy', 'Java', 'Kotlin', 'Oracle', 'Spring']\n",
      "skills_group_14\n",
      "['TypeScript', 'Angular', 'Angular.js', 'Cordova']\n",
      "skills_group_15\n",
      "['Ruby', 'Ruby on Rails']\n",
      "skills_group_16\n",
      "['Clojure', 'Haskell', 'LISP']\n",
      "skills_group_17\n",
      "['Scala', 'Apache Spark', 'Hadoop']\n",
      "skills_group_18\n",
      "['Bash/Shell', 'Perl']\n",
      "skills_group_19\n",
      "['Dart', 'Firebase', 'Flutter']\n",
      "skills_group_2\n",
      "['C#', 'F#', 'PowerShell', 'ASP.NET', 'ASP.NET Core ', '.NET Core / .NET 5', '.NET Framework', 'Xamarin']\n",
      "skills_group_20\n",
      "['Objective-C', 'Swift']\n",
      "skills_group_21\n",
      "['Unity 3D', 'Unreal Engine']\n",
      "skills_group_22\n",
      "['Keras', 'TensorFlow', 'Torch/PyTorch']\n",
      "skills_group_23\n",
      "['Elixir', 'Erlang']\n",
      "skills_group_3\n",
      "['Node.js', 'MongoDB', 'Express', 'Gatsby', 'React.js', 'React Native', 'Yarn']\n",
      "skills_group_4\n",
      "['Python', 'Django', 'FastAPI', 'Flask']\n",
      "skills_group_5\n",
      "['Chef', 'Flow', 'Pulumi', 'Puppet']\n",
      "skills_group_6\n",
      "['Julia', 'Matlab', 'R', 'NumPy', 'Pandas']\n",
      "skills_group_7\n",
      "['HTML/CSS', 'JavaScript', 'jQuery']\n",
      "skills_group_8\n",
      "['APL', 'COBOL', 'Crystal', 'Delphi', 'IBM DB2']\n",
      "skills_group_9\n",
      "['Assembly', 'C', 'C++', 'Qt']\n"
     ]
    }
   ],
   "source": [
    "for cluster, skills in skills_clusters.items():\n",
    "    print(cluster)\n",
    "    print(skills)"
   ]
  },
  {
   "cell_type": "markdown",
   "id": "ba12b51c-b34e-43ce-8555-017d24300c70",
   "metadata": {},
   "source": [
    "_________________"
   ]
  },
  {
   "cell_type": "markdown",
   "id": "4c58ac33-5c54-4f94-96b2-48691cdefc9f",
   "metadata": {},
   "source": [
    "## Create new features  "
   ]
  },
  {
   "cell_type": "code",
   "execution_count": 15,
   "id": "06b5aeb2-afac-4745-8302-1562a0e2096f",
   "metadata": {},
   "outputs": [],
   "source": [
    "new_features = []\n",
    "\n",
    "for cluster, skills in skills_clusters.items():\n",
    "    cluster_sum = skills_ohe.droplevel(0, axis=1)[skills].sum(axis=1)\n",
    "    cluster_sum.name = cluster\n",
    "    new_features.append(cluster_sum)\n",
    "\n",
    "fe_clustered_skills = pd.concat(new_features, axis=1)"
   ]
  },
  {
   "cell_type": "code",
   "execution_count": 16,
   "id": "52545f69-1694-49e9-9b2b-865e0370561a",
   "metadata": {},
   "outputs": [
    {
     "data": {
      "text/html": [
       "<div>\n",
       "<style scoped>\n",
       "    .dataframe tbody tr th:only-of-type {\n",
       "        vertical-align: middle;\n",
       "    }\n",
       "\n",
       "    .dataframe tbody tr th {\n",
       "        vertical-align: top;\n",
       "    }\n",
       "\n",
       "    .dataframe thead th {\n",
       "        text-align: right;\n",
       "    }\n",
       "</style>\n",
       "<table border=\"1\" class=\"dataframe\">\n",
       "  <thead>\n",
       "    <tr style=\"text-align: right;\">\n",
       "      <th></th>\n",
       "      <th>skills_group_0</th>\n",
       "      <th>skills_group_1</th>\n",
       "      <th>skills_group_10</th>\n",
       "      <th>skills_group_11</th>\n",
       "      <th>skills_group_12</th>\n",
       "      <th>skills_group_13</th>\n",
       "      <th>skills_group_14</th>\n",
       "      <th>skills_group_15</th>\n",
       "      <th>skills_group_16</th>\n",
       "      <th>skills_group_17</th>\n",
       "      <th>...</th>\n",
       "      <th>skills_group_21</th>\n",
       "      <th>skills_group_22</th>\n",
       "      <th>skills_group_23</th>\n",
       "      <th>skills_group_3</th>\n",
       "      <th>skills_group_4</th>\n",
       "      <th>skills_group_5</th>\n",
       "      <th>skills_group_6</th>\n",
       "      <th>skills_group_7</th>\n",
       "      <th>skills_group_8</th>\n",
       "      <th>skills_group_9</th>\n",
       "    </tr>\n",
       "  </thead>\n",
       "  <tbody>\n",
       "    <tr>\n",
       "      <th>0</th>\n",
       "      <td>1</td>\n",
       "      <td>4</td>\n",
       "      <td>0</td>\n",
       "      <td>0</td>\n",
       "      <td>0</td>\n",
       "      <td>0</td>\n",
       "      <td>0</td>\n",
       "      <td>0</td>\n",
       "      <td>0</td>\n",
       "      <td>0</td>\n",
       "      <td>...</td>\n",
       "      <td>0</td>\n",
       "      <td>0</td>\n",
       "      <td>0</td>\n",
       "      <td>0</td>\n",
       "      <td>0</td>\n",
       "      <td>0</td>\n",
       "      <td>0</td>\n",
       "      <td>2</td>\n",
       "      <td>0</td>\n",
       "      <td>1</td>\n",
       "    </tr>\n",
       "    <tr>\n",
       "      <th>1</th>\n",
       "      <td>3</td>\n",
       "      <td>1</td>\n",
       "      <td>0</td>\n",
       "      <td>0</td>\n",
       "      <td>0</td>\n",
       "      <td>0</td>\n",
       "      <td>2</td>\n",
       "      <td>0</td>\n",
       "      <td>0</td>\n",
       "      <td>0</td>\n",
       "      <td>...</td>\n",
       "      <td>0</td>\n",
       "      <td>0</td>\n",
       "      <td>0</td>\n",
       "      <td>1</td>\n",
       "      <td>2</td>\n",
       "      <td>0</td>\n",
       "      <td>0</td>\n",
       "      <td>1</td>\n",
       "      <td>0</td>\n",
       "      <td>0</td>\n",
       "    </tr>\n",
       "    <tr>\n",
       "      <th>2</th>\n",
       "      <td>1</td>\n",
       "      <td>1</td>\n",
       "      <td>0</td>\n",
       "      <td>0</td>\n",
       "      <td>0</td>\n",
       "      <td>0</td>\n",
       "      <td>0</td>\n",
       "      <td>0</td>\n",
       "      <td>0</td>\n",
       "      <td>0</td>\n",
       "      <td>...</td>\n",
       "      <td>0</td>\n",
       "      <td>2</td>\n",
       "      <td>0</td>\n",
       "      <td>0</td>\n",
       "      <td>2</td>\n",
       "      <td>0</td>\n",
       "      <td>3</td>\n",
       "      <td>0</td>\n",
       "      <td>0</td>\n",
       "      <td>2</td>\n",
       "    </tr>\n",
       "    <tr>\n",
       "      <th>3</th>\n",
       "      <td>0</td>\n",
       "      <td>0</td>\n",
       "      <td>0</td>\n",
       "      <td>0</td>\n",
       "      <td>0</td>\n",
       "      <td>0</td>\n",
       "      <td>2</td>\n",
       "      <td>0</td>\n",
       "      <td>0</td>\n",
       "      <td>0</td>\n",
       "      <td>...</td>\n",
       "      <td>0</td>\n",
       "      <td>0</td>\n",
       "      <td>0</td>\n",
       "      <td>0</td>\n",
       "      <td>0</td>\n",
       "      <td>0</td>\n",
       "      <td>0</td>\n",
       "      <td>2</td>\n",
       "      <td>0</td>\n",
       "      <td>0</td>\n",
       "    </tr>\n",
       "    <tr>\n",
       "      <th>4</th>\n",
       "      <td>4</td>\n",
       "      <td>0</td>\n",
       "      <td>1</td>\n",
       "      <td>2</td>\n",
       "      <td>0</td>\n",
       "      <td>0</td>\n",
       "      <td>0</td>\n",
       "      <td>0</td>\n",
       "      <td>0</td>\n",
       "      <td>2</td>\n",
       "      <td>...</td>\n",
       "      <td>0</td>\n",
       "      <td>0</td>\n",
       "      <td>0</td>\n",
       "      <td>1</td>\n",
       "      <td>2</td>\n",
       "      <td>0</td>\n",
       "      <td>2</td>\n",
       "      <td>1</td>\n",
       "      <td>0</td>\n",
       "      <td>0</td>\n",
       "    </tr>\n",
       "    <tr>\n",
       "      <th>...</th>\n",
       "      <td>...</td>\n",
       "      <td>...</td>\n",
       "      <td>...</td>\n",
       "      <td>...</td>\n",
       "      <td>...</td>\n",
       "      <td>...</td>\n",
       "      <td>...</td>\n",
       "      <td>...</td>\n",
       "      <td>...</td>\n",
       "      <td>...</td>\n",
       "      <td>...</td>\n",
       "      <td>...</td>\n",
       "      <td>...</td>\n",
       "      <td>...</td>\n",
       "      <td>...</td>\n",
       "      <td>...</td>\n",
       "      <td>...</td>\n",
       "      <td>...</td>\n",
       "      <td>...</td>\n",
       "      <td>...</td>\n",
       "      <td>...</td>\n",
       "    </tr>\n",
       "    <tr>\n",
       "      <th>83434</th>\n",
       "      <td>2</td>\n",
       "      <td>1</td>\n",
       "      <td>1</td>\n",
       "      <td>0</td>\n",
       "      <td>0</td>\n",
       "      <td>2</td>\n",
       "      <td>0</td>\n",
       "      <td>0</td>\n",
       "      <td>1</td>\n",
       "      <td>0</td>\n",
       "      <td>...</td>\n",
       "      <td>0</td>\n",
       "      <td>0</td>\n",
       "      <td>0</td>\n",
       "      <td>0</td>\n",
       "      <td>0</td>\n",
       "      <td>0</td>\n",
       "      <td>0</td>\n",
       "      <td>0</td>\n",
       "      <td>0</td>\n",
       "      <td>0</td>\n",
       "    </tr>\n",
       "    <tr>\n",
       "      <th>83435</th>\n",
       "      <td>2</td>\n",
       "      <td>4</td>\n",
       "      <td>0</td>\n",
       "      <td>1</td>\n",
       "      <td>0</td>\n",
       "      <td>0</td>\n",
       "      <td>0</td>\n",
       "      <td>1</td>\n",
       "      <td>0</td>\n",
       "      <td>0</td>\n",
       "      <td>...</td>\n",
       "      <td>2</td>\n",
       "      <td>0</td>\n",
       "      <td>0</td>\n",
       "      <td>1</td>\n",
       "      <td>1</td>\n",
       "      <td>0</td>\n",
       "      <td>0</td>\n",
       "      <td>1</td>\n",
       "      <td>0</td>\n",
       "      <td>1</td>\n",
       "    </tr>\n",
       "    <tr>\n",
       "      <th>83436</th>\n",
       "      <td>6</td>\n",
       "      <td>0</td>\n",
       "      <td>0</td>\n",
       "      <td>2</td>\n",
       "      <td>0</td>\n",
       "      <td>2</td>\n",
       "      <td>0</td>\n",
       "      <td>0</td>\n",
       "      <td>0</td>\n",
       "      <td>1</td>\n",
       "      <td>...</td>\n",
       "      <td>0</td>\n",
       "      <td>1</td>\n",
       "      <td>0</td>\n",
       "      <td>1</td>\n",
       "      <td>3</td>\n",
       "      <td>0</td>\n",
       "      <td>2</td>\n",
       "      <td>0</td>\n",
       "      <td>0</td>\n",
       "      <td>0</td>\n",
       "    </tr>\n",
       "    <tr>\n",
       "      <th>83437</th>\n",
       "      <td>5</td>\n",
       "      <td>0</td>\n",
       "      <td>0</td>\n",
       "      <td>3</td>\n",
       "      <td>0</td>\n",
       "      <td>0</td>\n",
       "      <td>0</td>\n",
       "      <td>0</td>\n",
       "      <td>0</td>\n",
       "      <td>0</td>\n",
       "      <td>...</td>\n",
       "      <td>0</td>\n",
       "      <td>2</td>\n",
       "      <td>0</td>\n",
       "      <td>4</td>\n",
       "      <td>3</td>\n",
       "      <td>0</td>\n",
       "      <td>2</td>\n",
       "      <td>1</td>\n",
       "      <td>0</td>\n",
       "      <td>0</td>\n",
       "    </tr>\n",
       "    <tr>\n",
       "      <th>83438</th>\n",
       "      <td>3</td>\n",
       "      <td>0</td>\n",
       "      <td>0</td>\n",
       "      <td>0</td>\n",
       "      <td>0</td>\n",
       "      <td>3</td>\n",
       "      <td>1</td>\n",
       "      <td>0</td>\n",
       "      <td>0</td>\n",
       "      <td>0</td>\n",
       "      <td>...</td>\n",
       "      <td>0</td>\n",
       "      <td>0</td>\n",
       "      <td>1</td>\n",
       "      <td>0</td>\n",
       "      <td>0</td>\n",
       "      <td>0</td>\n",
       "      <td>0</td>\n",
       "      <td>2</td>\n",
       "      <td>1</td>\n",
       "      <td>0</td>\n",
       "    </tr>\n",
       "  </tbody>\n",
       "</table>\n",
       "<p>83439 rows × 24 columns</p>\n",
       "</div>"
      ],
      "text/plain": [
       "       skills_group_0  skills_group_1  skills_group_10  skills_group_11  \\\n",
       "0                   1               4                0                0   \n",
       "1                   3               1                0                0   \n",
       "2                   1               1                0                0   \n",
       "3                   0               0                0                0   \n",
       "4                   4               0                1                2   \n",
       "...               ...             ...              ...              ...   \n",
       "83434               2               1                1                0   \n",
       "83435               2               4                0                1   \n",
       "83436               6               0                0                2   \n",
       "83437               5               0                0                3   \n",
       "83438               3               0                0                0   \n",
       "\n",
       "       skills_group_12  skills_group_13  skills_group_14  skills_group_15  \\\n",
       "0                    0                0                0                0   \n",
       "1                    0                0                2                0   \n",
       "2                    0                0                0                0   \n",
       "3                    0                0                2                0   \n",
       "4                    0                0                0                0   \n",
       "...                ...              ...              ...              ...   \n",
       "83434                0                2                0                0   \n",
       "83435                0                0                0                1   \n",
       "83436                0                2                0                0   \n",
       "83437                0                0                0                0   \n",
       "83438                0                3                1                0   \n",
       "\n",
       "       skills_group_16  skills_group_17  ...  skills_group_21  \\\n",
       "0                    0                0  ...                0   \n",
       "1                    0                0  ...                0   \n",
       "2                    0                0  ...                0   \n",
       "3                    0                0  ...                0   \n",
       "4                    0                2  ...                0   \n",
       "...                ...              ...  ...              ...   \n",
       "83434                1                0  ...                0   \n",
       "83435                0                0  ...                2   \n",
       "83436                0                1  ...                0   \n",
       "83437                0                0  ...                0   \n",
       "83438                0                0  ...                0   \n",
       "\n",
       "       skills_group_22  skills_group_23  skills_group_3  skills_group_4  \\\n",
       "0                    0                0               0               0   \n",
       "1                    0                0               1               2   \n",
       "2                    2                0               0               2   \n",
       "3                    0                0               0               0   \n",
       "4                    0                0               1               2   \n",
       "...                ...              ...             ...             ...   \n",
       "83434                0                0               0               0   \n",
       "83435                0                0               1               1   \n",
       "83436                1                0               1               3   \n",
       "83437                2                0               4               3   \n",
       "83438                0                1               0               0   \n",
       "\n",
       "       skills_group_5  skills_group_6  skills_group_7  skills_group_8  \\\n",
       "0                   0               0               2               0   \n",
       "1                   0               0               1               0   \n",
       "2                   0               3               0               0   \n",
       "3                   0               0               2               0   \n",
       "4                   0               2               1               0   \n",
       "...               ...             ...             ...             ...   \n",
       "83434               0               0               0               0   \n",
       "83435               0               0               1               0   \n",
       "83436               0               2               0               0   \n",
       "83437               0               2               1               0   \n",
       "83438               0               0               2               1   \n",
       "\n",
       "       skills_group_9  \n",
       "0                   1  \n",
       "1                   0  \n",
       "2                   2  \n",
       "3                   0  \n",
       "4                   0  \n",
       "...               ...  \n",
       "83434               0  \n",
       "83435               1  \n",
       "83436               0  \n",
       "83437               0  \n",
       "83438               0  \n",
       "\n",
       "[83439 rows x 24 columns]"
      ]
     },
     "execution_count": 16,
     "metadata": {},
     "output_type": "execute_result"
    }
   ],
   "source": [
    "fe_clustered_skills"
   ]
  },
  {
   "cell_type": "markdown",
   "id": "9defc511-bcb2-4cef-86d0-9baea1998a28",
   "metadata": {},
   "source": [
    "_________________"
   ]
  },
  {
   "cell_type": "markdown",
   "id": "68b4ba4b-5d40-438a-834c-8d7e42aa18a1",
   "metadata": {},
   "source": [
    "## Illustration Model"
   ]
  },
  {
   "cell_type": "markdown",
   "id": "2396bc27-006a-4e2d-bcc8-a101145b6075",
   "metadata": {},
   "source": [
    "#### Create train / test matrices "
   ]
  },
  {
   "cell_type": "code",
   "execution_count": 17,
   "id": "c3d9cac1-29a2-4307-a07a-21e3f7cf4fb0",
   "metadata": {},
   "outputs": [],
   "source": [
    "combined_features_df = pd.concat([fe_clustered_skills, \n",
    "                                  skills_ohe.droplevel(0,axis=1)], \n",
    "                                 axis=1)\n",
    "roles_df = ohe_df['DevType'].copy()"
   ]
  },
  {
   "cell_type": "code",
   "execution_count": 18,
   "id": "50e600ae-912a-4d3f-9fb4-6d0e9fa61b28",
   "metadata": {},
   "outputs": [],
   "source": [
    "X_train, X_test, Y_train, Y_test = train_test_split(combined_features_df, roles_df, test_size=0.3, random_state=0)"
   ]
  },
  {
   "cell_type": "markdown",
   "id": "57a6b3c0-466e-4176-8a15-ecfe07935a3b",
   "metadata": {},
   "source": [
    "#### Compute samples weight to deal with classes imbalance "
   ]
  },
  {
   "cell_type": "code",
   "execution_count": 19,
   "id": "0572d675-faa4-4de5-a1be-8d130316ee01",
   "metadata": {},
   "outputs": [],
   "source": [
    "# Assign class weight as an inverse of its frequency \n",
    "class_weights = (1 / roles_df.sum(axis=0))\n",
    "\n",
    "# Multiply class weights with the 1 hot encoded values and get the mean of each sample\n",
    "sample_weight = np.multiply(class_weights.values, Y_train.values).sum(axis=1)"
   ]
  },
  {
   "cell_type": "markdown",
   "id": "0ff01fb0-80a2-439c-8cef-4fc426a16f75",
   "metadata": {},
   "source": [
    "#### Compute samples weight to deal with classes imbalance "
   ]
  },
  {
   "cell_type": "code",
   "execution_count": 20,
   "id": "889d5d13-f4da-45e7-916b-affd11b43911",
   "metadata": {},
   "outputs": [],
   "source": [
    "def f1_from_confusion_matrix(confusion_matrix):\n",
    "    return (confusion_matrix[1,1] / \n",
    "            (confusion_matrix[1,1] + \n",
    "             (0.5 * (confusion_matrix[0,1] + confusion_matrix[1,0]))\n",
    "            ))"
   ]
  },
  {
   "cell_type": "code",
   "execution_count": 21,
   "id": "74dca562-8932-4cd1-8f75-76a7906a1056",
   "metadata": {},
   "outputs": [],
   "source": [
    "feature_sets = {'original': skills_ohe.droplevel(0,axis=1).columns.tolist(), \n",
    "                'clusters': fe_clustered_skills.columns.tolist()}"
   ]
  },
  {
   "cell_type": "code",
   "execution_count": 22,
   "id": "0c8f1c7e-2d8e-4cd1-894b-c2c221a90db6",
   "metadata": {},
   "outputs": [
    {
     "name": "stdout",
     "output_type": "stream",
     "text": [
      "Feature set: original\n",
      ".. Mean train F1: 0.10894397378773973\n",
      ".. Mean test F1: 0.1082290894138183\n",
      "\n",
      "Feature set: clusters\n",
      ".. Mean train F1: 0.14535507071144857\n",
      ".. Mean test F1: 0.14656378115757607\n",
      "\n"
     ]
    }
   ],
   "source": [
    "results = {}\n",
    "\n",
    "for feature_set_name, feature_set in feature_sets.items():\n",
    "    # Create sub trainings\n",
    "    sub_train = X_train[feature_set].copy()\n",
    "    sub_test  = X_test[feature_set].copy()\n",
    "    \n",
    "    # Train classifier \n",
    "    clf = MultiOutputClassifier(LogisticRegression())\n",
    "    clf.fit(sub_train, Y_train, sample_weight=sample_weight)\n",
    "\n",
    "    # Calcaulte F1 for training data\n",
    "    multilabel_confusion_matricies = multilabel_confusion_matrix(Y_train, clf.predict(sub_train))\n",
    "    f1_train_scores = [f1_from_confusion_matrix(matrix) \n",
    "                       for matrix in multilabel_confusion_matricies]\n",
    "\n",
    "    # Calcaulte F1 for testing data\n",
    "    multilabel_confusion_matricies = multilabel_confusion_matrix(Y_test, clf.predict(sub_test))\n",
    "    f1_test_scores = [f1_from_confusion_matrix(matrix) \n",
    "                       for matrix in multilabel_confusion_matricies]\n",
    "\n",
    "    # Add to results\n",
    "    set_result = pd.DataFrame({\"train\": f1_train_scores, \"test\":f1_test_scores}, \n",
    "                              index=roles_df.columns.to_list())\n",
    "    results[feature_set_name] = set_result.sort_values('test')\n",
    "    \n",
    "    \n",
    "    # Print\n",
    "    print(\"Feature set: \" + feature_set_name)\n",
    "    print(\".. Mean train F1:\", np.mean(f1_train_scores))    \n",
    "    print(\".. Mean test F1:\", np.mean(f1_test_scores))\n",
    "    print()"
   ]
  },
  {
   "cell_type": "markdown",
   "id": "6233bf76-02f0-4b44-adc1-1900e7bb5e01",
   "metadata": {},
   "source": [
    "_________________"
   ]
  },
  {
   "cell_type": "markdown",
   "id": "9c427a4c-c2d8-418e-9fb2-875eb4c1ad83",
   "metadata": {},
   "source": [
    "## Export new features "
   ]
  },
  {
   "cell_type": "code",
   "execution_count": 24,
   "id": "e1e521ad-73f4-496b-a391-6505f4ee242b",
   "metadata": {},
   "outputs": [],
   "source": [
    "features_path = os.path.join(EXPORT_FEATURES_DIR, \"features_skills_clusters.pkl\")\n",
    "fe_clustered_skills.to_pickle(features_path)"
   ]
  },
  {
   "cell_type": "code",
   "execution_count": 25,
   "id": "d94e4c2d-6602-4291-ab1b-2272ceb3ebc5",
   "metadata": {},
   "outputs": [],
   "source": [
    "description_path = os.path.join(EXPORT_FEATURES_DIR, \"features_skills_clusters_description.yaml\")\n",
    "with open(description_path, 'w') as outfile:\n",
    "    yaml.dump(skills_clusters.to_dict(), outfile)"
   ]
  },
  {
   "cell_type": "code",
   "execution_count": null,
   "id": "b44ba9da-441d-46a1-a718-33ff07f4ba3d",
   "metadata": {},
   "outputs": [],
   "source": []
  },
  {
   "cell_type": "code",
   "execution_count": null,
   "id": "090a95ad",
   "metadata": {},
   "outputs": [],
   "source": []
  }
 ],
 "metadata": {
  "kernelspec": {
   "display_name": "Python 3 (ipykernel)",
   "language": "python",
   "name": "python3"
  },
  "language_info": {
   "codemirror_mode": {
    "name": "ipython",
    "version": 3
   },
   "file_extension": ".py",
   "mimetype": "text/x-python",
   "name": "python",
   "nbconvert_exporter": "python",
   "pygments_lexer": "ipython3",
   "version": "3.11.3"
  }
 },
 "nbformat": 4,
 "nbformat_minor": 5
}
