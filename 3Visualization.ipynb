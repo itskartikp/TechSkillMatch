{
 "cells": [
  {
   "cell_type": "code",
   "execution_count": 1,
   "id": "26b245d9-5a7d-404d-bb97-7e8379f4b88b",
   "metadata": {},
   "outputs": [],
   "source": [
    "DF_PATH = \"../data/processed/1_preprocessed_df.pkl\"\n",
    "ROLES_PATH = \"../data/raw/roles_short_names.csv\" \n",
    "FIG_DIR = \"../reports/figures\"\n",
    "\n",
    "NA_STRING = 'Not Specified'\n",
    "TRANSPARENT_STRING = 'rgba(0, 0, 0, 0)'\n",
    "\n",
    "ROLE_COLS      = ['DevType']\n",
    "TECH_COLS      = ['LanguageHaveWorkedWith',\n",
    "                  'DatabaseHaveWorkedWith',\n",
    "                  'PlatformHaveWorkedWith',\n",
    "                  'WebframeHaveWorkedWith',\n",
    "                  'MiscTechHaveWorkedWith',\n",
    "                  'ToolsTechHaveWorkedWith',\n",
    "                  'NEWCollabToolsHaveWorkedWith']"
   ]
  },
  {
   "cell_type": "code",
   "execution_count": 8,
   "id": "b3c4e1ba",
   "metadata": {},
   "outputs": [
    {
     "name": "stdout",
     "output_type": "stream",
     "text": [
      "Requirement already satisfied: plotly in /Library/Frameworks/Python.framework/Versions/3.11/lib/python3.11/site-packages (5.15.0)\n",
      "Requirement already satisfied: tenacity>=6.2.0 in /Library/Frameworks/Python.framework/Versions/3.11/lib/python3.11/site-packages (from plotly) (8.2.2)\n",
      "Requirement already satisfied: packaging in /Users/kartik/Library/Python/3.11/lib/python/site-packages (from plotly) (23.1)\n",
      "\n",
      "\u001b[1m[\u001b[0m\u001b[34;49mnotice\u001b[0m\u001b[1;39;49m]\u001b[0m\u001b[39;49m A new release of pip is available: \u001b[0m\u001b[31;49m23.1.2\u001b[0m\u001b[39;49m -> \u001b[0m\u001b[32;49m23.2.1\u001b[0m\n",
      "\u001b[1m[\u001b[0m\u001b[34;49mnotice\u001b[0m\u001b[1;39;49m]\u001b[0m\u001b[39;49m To update, run: \u001b[0m\u001b[32;49mpip3 install --upgrade pip\u001b[0m\n",
      "Note: you may need to restart the kernel to use updated packages.\n"
     ]
    }
   ],
   "source": [
    "pip install plotly"
   ]
  },
  {
   "cell_type": "code",
   "execution_count": 13,
   "id": "a40d9607",
   "metadata": {},
   "outputs": [
    {
     "name": "stdout",
     "output_type": "stream",
     "text": [
      "Collecting scikit-learn\n",
      "  Downloading scikit_learn-1.3.0-cp311-cp311-macosx_12_0_arm64.whl (9.4 MB)\n",
      "\u001b[2K     \u001b[90m━━━━━━━━━━━━━━━━━━━━━━━━━━━━━━━━━━━━━━━━\u001b[0m \u001b[32m9.4/9.4 MB\u001b[0m \u001b[31m9.1 MB/s\u001b[0m eta \u001b[36m0:00:00\u001b[0m00:01\u001b[0m00:01\u001b[0m\n",
      "\u001b[?25hRequirement already satisfied: numpy>=1.17.3 in /Library/Frameworks/Python.framework/Versions/3.11/lib/python3.11/site-packages (from scikit-learn) (1.24.2)\n",
      "Collecting scipy>=1.5.0 (from scikit-learn)\n",
      "  Downloading scipy-1.11.1-cp311-cp311-macosx_12_0_arm64.whl (29.5 MB)\n",
      "\u001b[2K     \u001b[90m━━━━━━━━━━━━━━━━━━━━━━━━━━━━━━━━━━━━━━━━\u001b[0m \u001b[32m29.5/29.5 MB\u001b[0m \u001b[31m10.5 MB/s\u001b[0m eta \u001b[36m0:00:00\u001b[0m00:01\u001b[0m00:01\u001b[0m\n",
      "\u001b[?25hCollecting joblib>=1.1.1 (from scikit-learn)\n",
      "  Downloading joblib-1.3.1-py3-none-any.whl (301 kB)\n",
      "\u001b[2K     \u001b[90m━━━━━━━━━━━━━━━━━━━━━━━━━━━━━━━━━━━━━━\u001b[0m \u001b[32m302.0/302.0 kB\u001b[0m \u001b[31m10.7 MB/s\u001b[0m eta \u001b[36m0:00:00\u001b[0m\n",
      "\u001b[?25hCollecting threadpoolctl>=2.0.0 (from scikit-learn)\n",
      "  Downloading threadpoolctl-3.2.0-py3-none-any.whl (15 kB)\n",
      "Installing collected packages: threadpoolctl, scipy, joblib, scikit-learn\n",
      "Successfully installed joblib-1.3.1 scikit-learn-1.3.0 scipy-1.11.1 threadpoolctl-3.2.0\n",
      "\n",
      "\u001b[1m[\u001b[0m\u001b[34;49mnotice\u001b[0m\u001b[1;39;49m]\u001b[0m\u001b[39;49m A new release of pip is available: \u001b[0m\u001b[31;49m23.1.2\u001b[0m\u001b[39;49m -> \u001b[0m\u001b[32;49m23.2.1\u001b[0m\n",
      "\u001b[1m[\u001b[0m\u001b[34;49mnotice\u001b[0m\u001b[1;39;49m]\u001b[0m\u001b[39;49m To update, run: \u001b[0m\u001b[32;49mpip3 install --upgrade pip\u001b[0m\n",
      "Note: you may need to restart the kernel to use updated packages.\n"
     ]
    }
   ],
   "source": [
    "pip install scikit-learn\n"
   ]
  },
  {
   "cell_type": "code",
   "execution_count": 15,
   "id": "feb5db62",
   "metadata": {},
   "outputs": [
    {
     "name": "stdout",
     "output_type": "stream",
     "text": [
      "Collecting matplotlib\n",
      "  Downloading matplotlib-3.7.2-cp311-cp311-macosx_11_0_arm64.whl (7.3 MB)\n",
      "\u001b[2K     \u001b[90m━━━━━━━━━━━━━━━━━━━━━━━━━━━━━━━━━━━━━━━━\u001b[0m \u001b[32m7.3/7.3 MB\u001b[0m \u001b[31m9.8 MB/s\u001b[0m eta \u001b[36m0:00:00\u001b[0m:00:01\u001b[0m00:01\u001b[0m\n",
      "\u001b[?25hCollecting contourpy>=1.0.1 (from matplotlib)\n",
      "  Downloading contourpy-1.1.0-cp311-cp311-macosx_11_0_arm64.whl (229 kB)\n",
      "\u001b[2K     \u001b[90m━━━━━━━━━━━━━━━━━━━━━━━━━━━━━━━━━━━━━━━\u001b[0m \u001b[32m229.3/229.3 kB\u001b[0m \u001b[31m9.7 MB/s\u001b[0m eta \u001b[36m0:00:00\u001b[0m\n",
      "\u001b[?25hCollecting cycler>=0.10 (from matplotlib)\n",
      "  Downloading cycler-0.11.0-py3-none-any.whl (6.4 kB)\n",
      "Collecting fonttools>=4.22.0 (from matplotlib)\n",
      "  Downloading fonttools-4.41.1-cp311-cp311-macosx_10_9_universal2.whl (2.7 MB)\n",
      "\u001b[2K     \u001b[90m━━━━━━━━━━━━━━━━━━━━━━━━━━━━━━━━━━━━━━━━\u001b[0m \u001b[32m2.7/2.7 MB\u001b[0m \u001b[31m11.3 MB/s\u001b[0m eta \u001b[36m0:00:00\u001b[0ma \u001b[36m0:00:01\u001b[0m\n",
      "\u001b[?25hCollecting kiwisolver>=1.0.1 (from matplotlib)\n",
      "  Downloading kiwisolver-1.4.4-cp311-cp311-macosx_11_0_arm64.whl (63 kB)\n",
      "\u001b[2K     \u001b[90m━━━━━━━━━━━━━━━━━━━━━━━━━━━━━━━━━━━━━━━━\u001b[0m \u001b[32m63.1/63.1 kB\u001b[0m \u001b[31m7.4 MB/s\u001b[0m eta \u001b[36m0:00:00\u001b[0m\n",
      "\u001b[?25hRequirement already satisfied: numpy>=1.20 in /Library/Frameworks/Python.framework/Versions/3.11/lib/python3.11/site-packages (from matplotlib) (1.24.2)\n",
      "Requirement already satisfied: packaging>=20.0 in /Users/kartik/Library/Python/3.11/lib/python/site-packages (from matplotlib) (23.1)\n",
      "Collecting pillow>=6.2.0 (from matplotlib)\n",
      "  Downloading Pillow-10.0.0-cp311-cp311-macosx_11_0_arm64.whl (3.1 MB)\n",
      "\u001b[2K     \u001b[90m━━━━━━━━━━━━━━━━━━━━━━━━━━━━━━━━━━━━━━━━\u001b[0m \u001b[32m3.1/3.1 MB\u001b[0m \u001b[31m11.3 MB/s\u001b[0m eta \u001b[36m0:00:00\u001b[0m00:01\u001b[0m00:01\u001b[0m\n",
      "\u001b[?25hCollecting pyparsing<3.1,>=2.3.1 (from matplotlib)\n",
      "  Downloading pyparsing-3.0.9-py3-none-any.whl (98 kB)\n",
      "\u001b[2K     \u001b[90m━━━━━━━━━━━━━━━━━━━━━━━━━━━━━━━━━━━━━━━━\u001b[0m \u001b[32m98.3/98.3 kB\u001b[0m \u001b[31m8.8 MB/s\u001b[0m eta \u001b[36m0:00:00\u001b[0m\n",
      "\u001b[?25hRequirement already satisfied: python-dateutil>=2.7 in /Library/Frameworks/Python.framework/Versions/3.11/lib/python3.11/site-packages (from matplotlib) (2.8.2)\n",
      "Requirement already satisfied: six>=1.5 in /Library/Frameworks/Python.framework/Versions/3.11/lib/python3.11/site-packages (from python-dateutil>=2.7->matplotlib) (1.16.0)\n",
      "Installing collected packages: pyparsing, pillow, kiwisolver, fonttools, cycler, contourpy, matplotlib\n",
      "Successfully installed contourpy-1.1.0 cycler-0.11.0 fonttools-4.41.1 kiwisolver-1.4.4 matplotlib-3.7.2 pillow-10.0.0 pyparsing-3.0.9\n",
      "\n",
      "\u001b[1m[\u001b[0m\u001b[34;49mnotice\u001b[0m\u001b[1;39;49m]\u001b[0m\u001b[39;49m A new release of pip is available: \u001b[0m\u001b[31;49m23.1.2\u001b[0m\u001b[39;49m -> \u001b[0m\u001b[32;49m23.2.1\u001b[0m\n",
      "\u001b[1m[\u001b[0m\u001b[34;49mnotice\u001b[0m\u001b[1;39;49m]\u001b[0m\u001b[39;49m To update, run: \u001b[0m\u001b[32;49mpip3 install --upgrade pip\u001b[0m\n",
      "Note: you may need to restart the kernel to use updated packages.\n"
     ]
    }
   ],
   "source": [
    "pip install matplotlib"
   ]
  },
  {
   "cell_type": "code",
   "execution_count": 2,
   "id": "c55f2ea6-1abe-4451-b5b3-6bfdd1335a03",
   "metadata": {},
   "outputs": [],
   "source": [
    "# Load packages\n",
    "import pandas as pd \n",
    "import numpy as np\n",
    "import logging\n",
    "import pickle\n",
    "import os\n",
    "\n",
    "import plotly \n",
    "import plotly.graph_objects as go\n",
    "from plotly.subplots import make_subplots\n",
    "import plotly.express as px\n",
    "import plotly.figure_factory as ff\n",
    "\n",
    "from sklearn.manifold import TSNE\n",
    "from sklearn.preprocessing import MultiLabelBinarizer\n",
    "from sklearn.preprocessing import StandardScaler\n",
    "from sklearn.preprocessing import RobustScaler\n",
    "from sklearn.preprocessing import MinMaxScaler\n",
    "from sklearn.pipeline import make_pipeline\n",
    "from sklearn.cluster import AgglomerativeClustering\n",
    "\n",
    "from matplotlib import pyplot as plt\n",
    "from scipy.cluster.hierarchy import dendrogram"
   ]
  },
  {
   "cell_type": "code",
   "execution_count": null,
   "id": "55ab7adf",
   "metadata": {},
   "outputs": [],
   "source": []
  },
  {
   "cell_type": "markdown",
   "id": "bb4c520d-7e43-4d3e-a0d3-5c3b621bf394",
   "metadata": {},
   "source": [
    "_________"
   ]
  },
  {
   "cell_type": "markdown",
   "id": "78f0cae1-bd59-4946-9dc9-09cc9e42b7fa",
   "metadata": {},
   "source": [
    "## Read data and preprocess"
   ]
  },
  {
   "cell_type": "code",
   "execution_count": 3,
   "id": "55d4f27d-d61f-4a44-a56c-0ef612d12b49",
   "metadata": {},
   "outputs": [],
   "source": [
    "# Read Data \n",
    "raw_df = pd.read_pickle(DF_PATH)\n",
    "roles_names = pd.read_csv(ROLES_PATH, sep=';')"
   ]
  },
  {
   "cell_type": "markdown",
   "id": "1bcf0318-433c-494f-9a0d-fd7755c59f5d",
   "metadata": {},
   "source": [
    "### Onehot enconde"
   ]
  },
  {
   "cell_type": "code",
   "execution_count": 4,
   "id": "a7473a8a-2ebf-447b-9da7-8c29842302d2",
   "metadata": {},
   "outputs": [],
   "source": [
    "df = raw_df.copy()\n",
    "encoded_dfs = {}\n",
    "for col in ROLE_COLS + TECH_COLS:\n",
    "    binarizer = MultiLabelBinarizer()\n",
    "    encoded_df = pd.DataFrame(binarizer.fit_transform(df[col]),\n",
    "                               columns=binarizer.classes_,\n",
    "                               index=df[col].index)\n",
    "    encoded_dfs[col] = encoded_df"
   ]
  },
  {
   "cell_type": "code",
   "execution_count": 5,
   "id": "9081a050-a977-43b3-9fc3-1833c473ec04",
   "metadata": {},
   "outputs": [
    {
     "data": {
      "text/html": [
       "<div>\n",
       "<style scoped>\n",
       "    .dataframe tbody tr th:only-of-type {\n",
       "        vertical-align: middle;\n",
       "    }\n",
       "\n",
       "    .dataframe tbody tr th {\n",
       "        vertical-align: top;\n",
       "    }\n",
       "\n",
       "    .dataframe thead tr th {\n",
       "        text-align: left;\n",
       "    }\n",
       "</style>\n",
       "<table border=\"1\" class=\"dataframe\">\n",
       "  <thead>\n",
       "    <tr>\n",
       "      <th></th>\n",
       "      <th colspan=\"10\" halign=\"left\">DevType</th>\n",
       "      <th>...</th>\n",
       "      <th colspan=\"10\" halign=\"left\">NEWCollabToolsHaveWorkedWith</th>\n",
       "    </tr>\n",
       "    <tr>\n",
       "      <th></th>\n",
       "      <th>Academic researcher</th>\n",
       "      <th>Data or business analyst</th>\n",
       "      <th>Data scientist or machine learning specialist</th>\n",
       "      <th>Database administrator</th>\n",
       "      <th>Designer</th>\n",
       "      <th>DevOps specialist</th>\n",
       "      <th>Developer, QA or test</th>\n",
       "      <th>Developer, back-end</th>\n",
       "      <th>Developer, desktop or enterprise applications</th>\n",
       "      <th>Developer, embedded applications or devices</th>\n",
       "      <th>...</th>\n",
       "      <th>RStudio</th>\n",
       "      <th>Rider</th>\n",
       "      <th>RubyMine</th>\n",
       "      <th>Sublime Text</th>\n",
       "      <th>TextMate</th>\n",
       "      <th>Vim</th>\n",
       "      <th>Visual Studio</th>\n",
       "      <th>Visual Studio Code</th>\n",
       "      <th>Webstorm</th>\n",
       "      <th>Xcode</th>\n",
       "    </tr>\n",
       "  </thead>\n",
       "  <tbody>\n",
       "    <tr>\n",
       "      <th>0</th>\n",
       "      <td>0</td>\n",
       "      <td>0</td>\n",
       "      <td>0</td>\n",
       "      <td>0</td>\n",
       "      <td>0</td>\n",
       "      <td>0</td>\n",
       "      <td>0</td>\n",
       "      <td>0</td>\n",
       "      <td>0</td>\n",
       "      <td>0</td>\n",
       "      <td>...</td>\n",
       "      <td>0</td>\n",
       "      <td>0</td>\n",
       "      <td>0</td>\n",
       "      <td>0</td>\n",
       "      <td>0</td>\n",
       "      <td>0</td>\n",
       "      <td>0</td>\n",
       "      <td>0</td>\n",
       "      <td>0</td>\n",
       "      <td>1</td>\n",
       "    </tr>\n",
       "    <tr>\n",
       "      <th>1</th>\n",
       "      <td>0</td>\n",
       "      <td>0</td>\n",
       "      <td>0</td>\n",
       "      <td>0</td>\n",
       "      <td>0</td>\n",
       "      <td>0</td>\n",
       "      <td>0</td>\n",
       "      <td>0</td>\n",
       "      <td>0</td>\n",
       "      <td>0</td>\n",
       "      <td>...</td>\n",
       "      <td>0</td>\n",
       "      <td>0</td>\n",
       "      <td>0</td>\n",
       "      <td>0</td>\n",
       "      <td>0</td>\n",
       "      <td>0</td>\n",
       "      <td>0</td>\n",
       "      <td>0</td>\n",
       "      <td>0</td>\n",
       "      <td>0</td>\n",
       "    </tr>\n",
       "    <tr>\n",
       "      <th>2</th>\n",
       "      <td>0</td>\n",
       "      <td>0</td>\n",
       "      <td>0</td>\n",
       "      <td>0</td>\n",
       "      <td>0</td>\n",
       "      <td>0</td>\n",
       "      <td>0</td>\n",
       "      <td>0</td>\n",
       "      <td>0</td>\n",
       "      <td>0</td>\n",
       "      <td>...</td>\n",
       "      <td>1</td>\n",
       "      <td>0</td>\n",
       "      <td>0</td>\n",
       "      <td>1</td>\n",
       "      <td>0</td>\n",
       "      <td>0</td>\n",
       "      <td>0</td>\n",
       "      <td>1</td>\n",
       "      <td>0</td>\n",
       "      <td>0</td>\n",
       "    </tr>\n",
       "    <tr>\n",
       "      <th>3</th>\n",
       "      <td>0</td>\n",
       "      <td>0</td>\n",
       "      <td>0</td>\n",
       "      <td>0</td>\n",
       "      <td>0</td>\n",
       "      <td>0</td>\n",
       "      <td>0</td>\n",
       "      <td>0</td>\n",
       "      <td>0</td>\n",
       "      <td>0</td>\n",
       "      <td>...</td>\n",
       "      <td>0</td>\n",
       "      <td>0</td>\n",
       "      <td>0</td>\n",
       "      <td>0</td>\n",
       "      <td>0</td>\n",
       "      <td>0</td>\n",
       "      <td>0</td>\n",
       "      <td>0</td>\n",
       "      <td>0</td>\n",
       "      <td>0</td>\n",
       "    </tr>\n",
       "    <tr>\n",
       "      <th>4</th>\n",
       "      <td>0</td>\n",
       "      <td>0</td>\n",
       "      <td>0</td>\n",
       "      <td>0</td>\n",
       "      <td>0</td>\n",
       "      <td>0</td>\n",
       "      <td>0</td>\n",
       "      <td>0</td>\n",
       "      <td>1</td>\n",
       "      <td>0</td>\n",
       "      <td>...</td>\n",
       "      <td>0</td>\n",
       "      <td>0</td>\n",
       "      <td>0</td>\n",
       "      <td>0</td>\n",
       "      <td>0</td>\n",
       "      <td>1</td>\n",
       "      <td>0</td>\n",
       "      <td>0</td>\n",
       "      <td>0</td>\n",
       "      <td>0</td>\n",
       "    </tr>\n",
       "    <tr>\n",
       "      <th>...</th>\n",
       "      <td>...</td>\n",
       "      <td>...</td>\n",
       "      <td>...</td>\n",
       "      <td>...</td>\n",
       "      <td>...</td>\n",
       "      <td>...</td>\n",
       "      <td>...</td>\n",
       "      <td>...</td>\n",
       "      <td>...</td>\n",
       "      <td>...</td>\n",
       "      <td>...</td>\n",
       "      <td>...</td>\n",
       "      <td>...</td>\n",
       "      <td>...</td>\n",
       "      <td>...</td>\n",
       "      <td>...</td>\n",
       "      <td>...</td>\n",
       "      <td>...</td>\n",
       "      <td>...</td>\n",
       "      <td>...</td>\n",
       "      <td>...</td>\n",
       "    </tr>\n",
       "    <tr>\n",
       "      <th>83434</th>\n",
       "      <td>0</td>\n",
       "      <td>0</td>\n",
       "      <td>0</td>\n",
       "      <td>0</td>\n",
       "      <td>0</td>\n",
       "      <td>0</td>\n",
       "      <td>0</td>\n",
       "      <td>1</td>\n",
       "      <td>0</td>\n",
       "      <td>0</td>\n",
       "      <td>...</td>\n",
       "      <td>0</td>\n",
       "      <td>0</td>\n",
       "      <td>0</td>\n",
       "      <td>1</td>\n",
       "      <td>0</td>\n",
       "      <td>1</td>\n",
       "      <td>0</td>\n",
       "      <td>1</td>\n",
       "      <td>0</td>\n",
       "      <td>0</td>\n",
       "    </tr>\n",
       "    <tr>\n",
       "      <th>83435</th>\n",
       "      <td>0</td>\n",
       "      <td>0</td>\n",
       "      <td>0</td>\n",
       "      <td>0</td>\n",
       "      <td>0</td>\n",
       "      <td>0</td>\n",
       "      <td>0</td>\n",
       "      <td>0</td>\n",
       "      <td>0</td>\n",
       "      <td>0</td>\n",
       "      <td>...</td>\n",
       "      <td>1</td>\n",
       "      <td>0</td>\n",
       "      <td>0</td>\n",
       "      <td>1</td>\n",
       "      <td>0</td>\n",
       "      <td>1</td>\n",
       "      <td>1</td>\n",
       "      <td>1</td>\n",
       "      <td>0</td>\n",
       "      <td>0</td>\n",
       "    </tr>\n",
       "    <tr>\n",
       "      <th>83436</th>\n",
       "      <td>0</td>\n",
       "      <td>0</td>\n",
       "      <td>1</td>\n",
       "      <td>0</td>\n",
       "      <td>0</td>\n",
       "      <td>1</td>\n",
       "      <td>0</td>\n",
       "      <td>0</td>\n",
       "      <td>0</td>\n",
       "      <td>0</td>\n",
       "      <td>...</td>\n",
       "      <td>0</td>\n",
       "      <td>0</td>\n",
       "      <td>0</td>\n",
       "      <td>1</td>\n",
       "      <td>0</td>\n",
       "      <td>1</td>\n",
       "      <td>0</td>\n",
       "      <td>1</td>\n",
       "      <td>0</td>\n",
       "      <td>1</td>\n",
       "    </tr>\n",
       "    <tr>\n",
       "      <th>83437</th>\n",
       "      <td>0</td>\n",
       "      <td>0</td>\n",
       "      <td>0</td>\n",
       "      <td>0</td>\n",
       "      <td>0</td>\n",
       "      <td>0</td>\n",
       "      <td>0</td>\n",
       "      <td>1</td>\n",
       "      <td>0</td>\n",
       "      <td>0</td>\n",
       "      <td>...</td>\n",
       "      <td>0</td>\n",
       "      <td>0</td>\n",
       "      <td>0</td>\n",
       "      <td>1</td>\n",
       "      <td>0</td>\n",
       "      <td>0</td>\n",
       "      <td>0</td>\n",
       "      <td>0</td>\n",
       "      <td>0</td>\n",
       "      <td>0</td>\n",
       "    </tr>\n",
       "    <tr>\n",
       "      <th>83438</th>\n",
       "      <td>0</td>\n",
       "      <td>0</td>\n",
       "      <td>0</td>\n",
       "      <td>0</td>\n",
       "      <td>0</td>\n",
       "      <td>0</td>\n",
       "      <td>0</td>\n",
       "      <td>1</td>\n",
       "      <td>0</td>\n",
       "      <td>0</td>\n",
       "      <td>...</td>\n",
       "      <td>0</td>\n",
       "      <td>0</td>\n",
       "      <td>0</td>\n",
       "      <td>0</td>\n",
       "      <td>0</td>\n",
       "      <td>0</td>\n",
       "      <td>0</td>\n",
       "      <td>1</td>\n",
       "      <td>0</td>\n",
       "      <td>0</td>\n",
       "    </tr>\n",
       "  </tbody>\n",
       "</table>\n",
       "<p>83439 rows × 150 columns</p>\n",
       "</div>"
      ],
      "text/plain": [
       "                  DevType                           \\\n",
       "      Academic researcher Data or business analyst   \n",
       "0                       0                        0   \n",
       "1                       0                        0   \n",
       "2                       0                        0   \n",
       "3                       0                        0   \n",
       "4                       0                        0   \n",
       "...                   ...                      ...   \n",
       "83434                   0                        0   \n",
       "83435                   0                        0   \n",
       "83436                   0                        0   \n",
       "83437                   0                        0   \n",
       "83438                   0                        0   \n",
       "\n",
       "                                                                            \\\n",
       "      Data scientist or machine learning specialist Database administrator   \n",
       "0                                                 0                      0   \n",
       "1                                                 0                      0   \n",
       "2                                                 0                      0   \n",
       "3                                                 0                      0   \n",
       "4                                                 0                      0   \n",
       "...                                             ...                    ...   \n",
       "83434                                             0                      0   \n",
       "83435                                             0                      0   \n",
       "83436                                             1                      0   \n",
       "83437                                             0                      0   \n",
       "83438                                             0                      0   \n",
       "\n",
       "                                                                            \\\n",
       "      Designer DevOps specialist Developer, QA or test Developer, back-end   \n",
       "0            0                 0                     0                   0   \n",
       "1            0                 0                     0                   0   \n",
       "2            0                 0                     0                   0   \n",
       "3            0                 0                     0                   0   \n",
       "4            0                 0                     0                   0   \n",
       "...        ...               ...                   ...                 ...   \n",
       "83434        0                 0                     0                   1   \n",
       "83435        0                 0                     0                   0   \n",
       "83436        0                 1                     0                   0   \n",
       "83437        0                 0                     0                   1   \n",
       "83438        0                 0                     0                   1   \n",
       "\n",
       "                                                     \\\n",
       "      Developer, desktop or enterprise applications   \n",
       "0                                                 0   \n",
       "1                                                 0   \n",
       "2                                                 0   \n",
       "3                                                 0   \n",
       "4                                                 1   \n",
       "...                                             ...   \n",
       "83434                                             0   \n",
       "83435                                             0   \n",
       "83436                                             0   \n",
       "83437                                             0   \n",
       "83438                                             0   \n",
       "\n",
       "                                                   ...  \\\n",
       "      Developer, embedded applications or devices  ...   \n",
       "0                                               0  ...   \n",
       "1                                               0  ...   \n",
       "2                                               0  ...   \n",
       "3                                               0  ...   \n",
       "4                                               0  ...   \n",
       "...                                           ...  ...   \n",
       "83434                                           0  ...   \n",
       "83435                                           0  ...   \n",
       "83436                                           0  ...   \n",
       "83437                                           0  ...   \n",
       "83438                                           0  ...   \n",
       "\n",
       "      NEWCollabToolsHaveWorkedWith                                           \\\n",
       "                           RStudio Rider RubyMine Sublime Text TextMate Vim   \n",
       "0                                0     0        0            0        0   0   \n",
       "1                                0     0        0            0        0   0   \n",
       "2                                1     0        0            1        0   0   \n",
       "3                                0     0        0            0        0   0   \n",
       "4                                0     0        0            0        0   1   \n",
       "...                            ...   ...      ...          ...      ...  ..   \n",
       "83434                            0     0        0            1        0   1   \n",
       "83435                            1     0        0            1        0   1   \n",
       "83436                            0     0        0            1        0   1   \n",
       "83437                            0     0        0            1        0   0   \n",
       "83438                            0     0        0            0        0   0   \n",
       "\n",
       "                                                       \n",
       "      Visual Studio Visual Studio Code Webstorm Xcode  \n",
       "0                 0                  0        0     1  \n",
       "1                 0                  0        0     0  \n",
       "2                 0                  1        0     0  \n",
       "3                 0                  0        0     0  \n",
       "4                 0                  0        0     0  \n",
       "...             ...                ...      ...   ...  \n",
       "83434             0                  1        0     0  \n",
       "83435             1                  1        0     0  \n",
       "83436             0                  1        0     1  \n",
       "83437             0                  0        0     0  \n",
       "83438             0                  1        0     0  \n",
       "\n",
       "[83439 rows x 150 columns]"
      ]
     },
     "execution_count": 5,
     "metadata": {},
     "output_type": "execute_result"
    }
   ],
   "source": [
    "# Merge 1-hot encoded \n",
    "df = pd.concat(encoded_dfs, axis=1)\n",
    "df"
   ]
  },
  {
   "cell_type": "markdown",
   "id": "abf8c53a-a096-4216-a4f4-922ea7cfc2b6",
   "metadata": {},
   "source": [
    "_________"
   ]
  },
  {
   "cell_type": "markdown",
   "metadata": {
    "collapsed": false
   },
   "source": [
    "## Display jobs frequency"
   ]
  },
  {
   "cell_type": "code",
   "execution_count": 6,
   "metadata": {
    "collapsed": false,
    "pycharm": {
     "name": "#%%\n"
    }
   },
   "outputs": [],
   "source": [
    "jobs_freq = df['DevType'].copy().sum().sort_values().reset_index()"
   ]
  },
  {
   "cell_type": "code",
   "execution_count": 7,
   "metadata": {
    "collapsed": false,
    "pycharm": {
     "name": "#%%\n"
    }
   },
   "outputs": [
    {
     "data": {
      "text/html": [
       "<div>\n",
       "<style scoped>\n",
       "    .dataframe tbody tr th:only-of-type {\n",
       "        vertical-align: middle;\n",
       "    }\n",
       "\n",
       "    .dataframe tbody tr th {\n",
       "        vertical-align: top;\n",
       "    }\n",
       "\n",
       "    .dataframe thead th {\n",
       "        text-align: right;\n",
       "    }\n",
       "</style>\n",
       "<table border=\"1\" class=\"dataframe\">\n",
       "  <thead>\n",
       "    <tr style=\"text-align: right;\">\n",
       "      <th></th>\n",
       "      <th>index</th>\n",
       "      <th>0</th>\n",
       "    </tr>\n",
       "  </thead>\n",
       "  <tbody>\n",
       "    <tr>\n",
       "      <th>0</th>\n",
       "      <td>Marketing or sales professional</td>\n",
       "      <td>638</td>\n",
       "    </tr>\n",
       "    <tr>\n",
       "      <th>1</th>\n",
       "      <td>Scientist</td>\n",
       "      <td>2015</td>\n",
       "    </tr>\n",
       "    <tr>\n",
       "      <th>2</th>\n",
       "      <td>Senior Executive (C-Suite, VP, etc.)</td>\n",
       "      <td>2103</td>\n",
       "    </tr>\n",
       "    <tr>\n",
       "      <th>3</th>\n",
       "      <td>Developer, game or graphics</td>\n",
       "      <td>2112</td>\n",
       "    </tr>\n",
       "    <tr>\n",
       "      <th>4</th>\n",
       "      <td>Educator</td>\n",
       "      <td>2369</td>\n",
       "    </tr>\n",
       "    <tr>\n",
       "      <th>5</th>\n",
       "      <td>Engineer, site reliability</td>\n",
       "      <td>2448</td>\n",
       "    </tr>\n",
       "    <tr>\n",
       "      <th>6</th>\n",
       "      <td>Academic researcher</td>\n",
       "      <td>2899</td>\n",
       "    </tr>\n",
       "    <tr>\n",
       "      <th>7</th>\n",
       "      <td>Product manager</td>\n",
       "      <td>3074</td>\n",
       "    </tr>\n",
       "    <tr>\n",
       "      <th>8</th>\n",
       "      <td>Other (please specify):</td>\n",
       "      <td>3545</td>\n",
       "    </tr>\n",
       "    <tr>\n",
       "      <th>9</th>\n",
       "      <td>Developer, QA or test</td>\n",
       "      <td>3611</td>\n",
       "    </tr>\n",
       "    <tr>\n",
       "      <th>10</th>\n",
       "      <td>Data or business analyst</td>\n",
       "      <td>3792</td>\n",
       "    </tr>\n",
       "    <tr>\n",
       "      <th>11</th>\n",
       "      <td>Engineering manager</td>\n",
       "      <td>3810</td>\n",
       "    </tr>\n",
       "    <tr>\n",
       "      <th>12</th>\n",
       "      <td>Engineer, data</td>\n",
       "      <td>4176</td>\n",
       "    </tr>\n",
       "    <tr>\n",
       "      <th>13</th>\n",
       "      <td>Student</td>\n",
       "      <td>4187</td>\n",
       "    </tr>\n",
       "    <tr>\n",
       "      <th>14</th>\n",
       "      <td>Data scientist or machine learning specialist</td>\n",
       "      <td>4273</td>\n",
       "    </tr>\n",
       "    <tr>\n",
       "      <th>15</th>\n",
       "      <td>Developer, embedded applications or devices</td>\n",
       "      <td>4598</td>\n",
       "    </tr>\n",
       "    <tr>\n",
       "      <th>16</th>\n",
       "      <td>Designer</td>\n",
       "      <td>4611</td>\n",
       "    </tr>\n",
       "    <tr>\n",
       "      <th>17</th>\n",
       "      <td>Database administrator</td>\n",
       "      <td>5655</td>\n",
       "    </tr>\n",
       "    <tr>\n",
       "      <th>18</th>\n",
       "      <td>System administrator</td>\n",
       "      <td>6079</td>\n",
       "    </tr>\n",
       "    <tr>\n",
       "      <th>19</th>\n",
       "      <td>DevOps specialist</td>\n",
       "      <td>7058</td>\n",
       "    </tr>\n",
       "    <tr>\n",
       "      <th>20</th>\n",
       "      <td>Developer, mobile</td>\n",
       "      <td>9800</td>\n",
       "    </tr>\n",
       "    <tr>\n",
       "      <th>21</th>\n",
       "      <td>Developer, desktop or enterprise applications</td>\n",
       "      <td>11036</td>\n",
       "    </tr>\n",
       "    <tr>\n",
       "      <th>22</th>\n",
       "      <td>Developer, front-end</td>\n",
       "      <td>18231</td>\n",
       "    </tr>\n",
       "    <tr>\n",
       "      <th>23</th>\n",
       "      <td>Developer, back-end</td>\n",
       "      <td>29071</td>\n",
       "    </tr>\n",
       "    <tr>\n",
       "      <th>24</th>\n",
       "      <td>Developer, full-stack</td>\n",
       "      <td>32891</td>\n",
       "    </tr>\n",
       "  </tbody>\n",
       "</table>\n",
       "</div>"
      ],
      "text/plain": [
       "                                            index      0\n",
       "0                 Marketing or sales professional    638\n",
       "1                                       Scientist   2015\n",
       "2            Senior Executive (C-Suite, VP, etc.)   2103\n",
       "3                     Developer, game or graphics   2112\n",
       "4                                        Educator   2369\n",
       "5                      Engineer, site reliability   2448\n",
       "6                             Academic researcher   2899\n",
       "7                                 Product manager   3074\n",
       "8                         Other (please specify):   3545\n",
       "9                           Developer, QA or test   3611\n",
       "10                       Data or business analyst   3792\n",
       "11                            Engineering manager   3810\n",
       "12                                 Engineer, data   4176\n",
       "13                                        Student   4187\n",
       "14  Data scientist or machine learning specialist   4273\n",
       "15    Developer, embedded applications or devices   4598\n",
       "16                                       Designer   4611\n",
       "17                         Database administrator   5655\n",
       "18                           System administrator   6079\n",
       "19                              DevOps specialist   7058\n",
       "20                              Developer, mobile   9800\n",
       "21  Developer, desktop or enterprise applications  11036\n",
       "22                           Developer, front-end  18231\n",
       "23                            Developer, back-end  29071\n",
       "24                          Developer, full-stack  32891"
      ]
     },
     "execution_count": 7,
     "metadata": {},
     "output_type": "execute_result"
    }
   ],
   "source": [
    "jobs_freq"
   ]
  },
  {
   "cell_type": "markdown",
   "id": "9e2f0691-c1fd-4c88-8f84-498db29c3f16",
   "metadata": {},
   "source": [
    "## Display skills frequency "
   ]
  },
  {
   "cell_type": "code",
   "execution_count": 8,
   "id": "93b96ef7-f9e1-4b14-9f43-cb105430e5a8",
   "metadata": {},
   "outputs": [],
   "source": [
    "# Calculate the sum for all cols except Devtypes\n",
    "skills_freq = df.copy().drop('DevType', axis=1).sum().reset_index()\n",
    "skills_freq.columns = ['group', 'skill', 'freq']"
   ]
  },
  {
   "cell_type": "code",
   "execution_count": 9,
   "id": "59f9411d-fe3b-41f3-bb56-478bbcea53dc",
   "metadata": {},
   "outputs": [
    {
     "data": {
      "text/html": [
       "<div>\n",
       "<style scoped>\n",
       "    .dataframe tbody tr th:only-of-type {\n",
       "        vertical-align: middle;\n",
       "    }\n",
       "\n",
       "    .dataframe tbody tr th {\n",
       "        vertical-align: top;\n",
       "    }\n",
       "\n",
       "    .dataframe thead th {\n",
       "        text-align: right;\n",
       "    }\n",
       "</style>\n",
       "<table border=\"1\" class=\"dataframe\">\n",
       "  <thead>\n",
       "    <tr style=\"text-align: right;\">\n",
       "      <th></th>\n",
       "      <th>group</th>\n",
       "      <th>skill</th>\n",
       "      <th>freq</th>\n",
       "    </tr>\n",
       "  </thead>\n",
       "  <tbody>\n",
       "    <tr>\n",
       "      <th>95</th>\n",
       "      <td>ToolsTechHaveWorkedWith</td>\n",
       "      <td>Git</td>\n",
       "      <td>68171</td>\n",
       "    </tr>\n",
       "    <tr>\n",
       "      <th>122</th>\n",
       "      <td>NEWCollabToolsHaveWorkedWith</td>\n",
       "      <td>Visual Studio Code</td>\n",
       "      <td>58026</td>\n",
       "    </tr>\n",
       "    <tr>\n",
       "      <th>19</th>\n",
       "      <td>LanguageHaveWorkedWith</td>\n",
       "      <td>JavaScript</td>\n",
       "      <td>53587</td>\n",
       "    </tr>\n",
       "    <tr>\n",
       "      <th>16</th>\n",
       "      <td>LanguageHaveWorkedWith</td>\n",
       "      <td>HTML/CSS</td>\n",
       "      <td>46259</td>\n",
       "    </tr>\n",
       "    <tr>\n",
       "      <th>29</th>\n",
       "      <td>LanguageHaveWorkedWith</td>\n",
       "      <td>Python</td>\n",
       "      <td>39792</td>\n",
       "    </tr>\n",
       "    <tr>\n",
       "      <th>...</th>\n",
       "      <td>...</td>\n",
       "      <td>...</td>\n",
       "      <td>...</td>\n",
       "    </tr>\n",
       "    <tr>\n",
       "      <th>12</th>\n",
       "      <td>LanguageHaveWorkedWith</td>\n",
       "      <td>Erlang</td>\n",
       "      <td>651</td>\n",
       "    </tr>\n",
       "    <tr>\n",
       "      <th>0</th>\n",
       "      <td>LanguageHaveWorkedWith</td>\n",
       "      <td>APL</td>\n",
       "      <td>536</td>\n",
       "    </tr>\n",
       "    <tr>\n",
       "      <th>8</th>\n",
       "      <td>LanguageHaveWorkedWith</td>\n",
       "      <td>Crystal</td>\n",
       "      <td>466</td>\n",
       "    </tr>\n",
       "    <tr>\n",
       "      <th>6</th>\n",
       "      <td>LanguageHaveWorkedWith</td>\n",
       "      <td>COBOL</td>\n",
       "      <td>437</td>\n",
       "    </tr>\n",
       "    <tr>\n",
       "      <th>97</th>\n",
       "      <td>ToolsTechHaveWorkedWith</td>\n",
       "      <td>Pulumi</td>\n",
       "      <td>368</td>\n",
       "    </tr>\n",
       "  </tbody>\n",
       "</table>\n",
       "<p>125 rows × 3 columns</p>\n",
       "</div>"
      ],
      "text/plain": [
       "                            group               skill   freq\n",
       "95        ToolsTechHaveWorkedWith                 Git  68171\n",
       "122  NEWCollabToolsHaveWorkedWith  Visual Studio Code  58026\n",
       "19         LanguageHaveWorkedWith          JavaScript  53587\n",
       "16         LanguageHaveWorkedWith            HTML/CSS  46259\n",
       "29         LanguageHaveWorkedWith              Python  39792\n",
       "..                            ...                 ...    ...\n",
       "12         LanguageHaveWorkedWith              Erlang    651\n",
       "0          LanguageHaveWorkedWith                 APL    536\n",
       "8          LanguageHaveWorkedWith             Crystal    466\n",
       "6          LanguageHaveWorkedWith               COBOL    437\n",
       "97        ToolsTechHaveWorkedWith              Pulumi    368\n",
       "\n",
       "[125 rows x 3 columns]"
      ]
     },
     "execution_count": 9,
     "metadata": {},
     "output_type": "execute_result"
    }
   ],
   "source": [
    "skills_freq.sort_values('freq', ascending=False)"
   ]
  },
  {
   "cell_type": "code",
   "execution_count": 10,
   "id": "f59fe832",
   "metadata": {},
   "outputs": [
    {
     "name": "stdout",
     "output_type": "stream",
     "text": [
      "Requirement already satisfied: nbformat==4.2.0 in /Library/Frameworks/Python.framework/Versions/3.11/lib/python3.11/site-packages (4.2.0)\n",
      "Requirement already satisfied: ipython-genutils in /Library/Frameworks/Python.framework/Versions/3.11/lib/python3.11/site-packages (from nbformat==4.2.0) (0.2.0)\n",
      "Requirement already satisfied: jsonschema!=2.5.0,>=2.4 in /Library/Frameworks/Python.framework/Versions/3.11/lib/python3.11/site-packages (from nbformat==4.2.0) (4.18.4)\n",
      "Requirement already satisfied: jupyter-core in /Users/kartik/Library/Python/3.11/lib/python/site-packages (from nbformat==4.2.0) (5.3.1)\n",
      "Requirement already satisfied: traitlets>=4.1 in /Users/kartik/Library/Python/3.11/lib/python/site-packages (from nbformat==4.2.0) (5.9.0)\n",
      "Requirement already satisfied: attrs>=22.2.0 in /Library/Frameworks/Python.framework/Versions/3.11/lib/python3.11/site-packages (from jsonschema!=2.5.0,>=2.4->nbformat==4.2.0) (23.1.0)\n",
      "Requirement already satisfied: jsonschema-specifications>=2023.03.6 in /Library/Frameworks/Python.framework/Versions/3.11/lib/python3.11/site-packages (from jsonschema!=2.5.0,>=2.4->nbformat==4.2.0) (2023.7.1)\n",
      "Requirement already satisfied: referencing>=0.28.4 in /Library/Frameworks/Python.framework/Versions/3.11/lib/python3.11/site-packages (from jsonschema!=2.5.0,>=2.4->nbformat==4.2.0) (0.30.0)\n",
      "Requirement already satisfied: rpds-py>=0.7.1 in /Library/Frameworks/Python.framework/Versions/3.11/lib/python3.11/site-packages (from jsonschema!=2.5.0,>=2.4->nbformat==4.2.0) (0.9.2)\n",
      "Requirement already satisfied: platformdirs>=2.5 in /Library/Frameworks/Python.framework/Versions/3.11/lib/python3.11/site-packages (from jupyter-core->nbformat==4.2.0) (3.1.1)\n",
      "\n",
      "\u001b[1m[\u001b[0m\u001b[34;49mnotice\u001b[0m\u001b[1;39;49m]\u001b[0m\u001b[39;49m A new release of pip is available: \u001b[0m\u001b[31;49m23.1.2\u001b[0m\u001b[39;49m -> \u001b[0m\u001b[32;49m23.2.1\u001b[0m\n",
      "\u001b[1m[\u001b[0m\u001b[34;49mnotice\u001b[0m\u001b[1;39;49m]\u001b[0m\u001b[39;49m To update, run: \u001b[0m\u001b[32;49mpip3 install --upgrade pip\u001b[0m\n",
      "Note: you may need to restart the kernel to use updated packages.\n"
     ]
    }
   ],
   "source": [
    "pip install nbformat==4.2.0\n"
   ]
  },
  {
   "cell_type": "code",
   "execution_count": 10,
   "id": "816678a6",
   "metadata": {},
   "outputs": [],
   "source": [
    "import plotly.express as px\n"
   ]
  },
  {
   "cell_type": "code",
   "execution_count": 15,
   "id": "237455e8",
   "metadata": {},
   "outputs": [
    {
     "name": "stdout",
     "output_type": "stream",
     "text": [
      "Requirement already satisfied: nbformat in /Users/kartik/anaconda3/lib/python3.10/site-packages (5.7.0)\n",
      "Requirement already satisfied: jsonschema>=2.6 in /Users/kartik/anaconda3/lib/python3.10/site-packages (from nbformat) (4.17.3)\n",
      "Requirement already satisfied: traitlets>=5.1 in /Users/kartik/anaconda3/lib/python3.10/site-packages (from nbformat) (5.7.1)\n",
      "Requirement already satisfied: fastjsonschema in /Users/kartik/anaconda3/lib/python3.10/site-packages (from nbformat) (2.16.2)\n",
      "Requirement already satisfied: jupyter-core in /Users/kartik/anaconda3/lib/python3.10/site-packages (from nbformat) (5.2.0)\n",
      "Requirement already satisfied: pyrsistent!=0.17.0,!=0.17.1,!=0.17.2,>=0.14.0 in /Users/kartik/anaconda3/lib/python3.10/site-packages (from jsonschema>=2.6->nbformat) (0.18.0)\n",
      "Requirement already satisfied: attrs>=17.4.0 in /Users/kartik/anaconda3/lib/python3.10/site-packages (from jsonschema>=2.6->nbformat) (22.1.0)\n",
      "Requirement already satisfied: platformdirs>=2.5 in /Users/kartik/anaconda3/lib/python3.10/site-packages (from jupyter-core->nbformat) (2.5.2)\n"
     ]
    }
   ],
   "source": [
    "!pip install nbformat "
   ]
  },
  {
   "cell_type": "code",
   "execution_count": 16,
   "id": "d3b747d9",
   "metadata": {},
   "outputs": [
    {
     "name": "stdout",
     "output_type": "stream",
     "text": [
      "Requirement already satisfied: nbformat in /Library/Frameworks/Python.framework/Versions/3.11/lib/python3.11/site-packages (4.2.0)\n",
      "Collecting nbformat\n",
      "  Using cached nbformat-5.9.1-py3-none-any.whl (77 kB)\n",
      "Requirement already satisfied: fastjsonschema in /Library/Frameworks/Python.framework/Versions/3.11/lib/python3.11/site-packages (from nbformat) (2.18.0)\n",
      "Requirement already satisfied: jsonschema>=2.6 in /Library/Frameworks/Python.framework/Versions/3.11/lib/python3.11/site-packages (from nbformat) (4.18.4)\n",
      "Requirement already satisfied: jupyter-core in /Users/kartik/Library/Python/3.11/lib/python/site-packages (from nbformat) (5.3.1)\n",
      "Requirement already satisfied: traitlets>=5.1 in /Users/kartik/Library/Python/3.11/lib/python/site-packages (from nbformat) (5.9.0)\n",
      "Requirement already satisfied: attrs>=22.2.0 in /Library/Frameworks/Python.framework/Versions/3.11/lib/python3.11/site-packages (from jsonschema>=2.6->nbformat) (23.1.0)\n",
      "Requirement already satisfied: jsonschema-specifications>=2023.03.6 in /Library/Frameworks/Python.framework/Versions/3.11/lib/python3.11/site-packages (from jsonschema>=2.6->nbformat) (2023.7.1)\n",
      "Requirement already satisfied: referencing>=0.28.4 in /Library/Frameworks/Python.framework/Versions/3.11/lib/python3.11/site-packages (from jsonschema>=2.6->nbformat) (0.30.0)\n",
      "Requirement already satisfied: rpds-py>=0.7.1 in /Library/Frameworks/Python.framework/Versions/3.11/lib/python3.11/site-packages (from jsonschema>=2.6->nbformat) (0.9.2)\n",
      "Requirement already satisfied: platformdirs>=2.5 in /Library/Frameworks/Python.framework/Versions/3.11/lib/python3.11/site-packages (from jupyter-core->nbformat) (3.1.1)\n",
      "Installing collected packages: nbformat\n",
      "  Attempting uninstall: nbformat\n",
      "    Found existing installation: nbformat 4.2.0\n",
      "    Uninstalling nbformat-4.2.0:\n",
      "      Successfully uninstalled nbformat-4.2.0\n",
      "Successfully installed nbformat-5.9.1\n",
      "\n",
      "\u001b[1m[\u001b[0m\u001b[34;49mnotice\u001b[0m\u001b[1;39;49m]\u001b[0m\u001b[39;49m A new release of pip is available: \u001b[0m\u001b[31;49m23.1.2\u001b[0m\u001b[39;49m -> \u001b[0m\u001b[32;49m23.2.1\u001b[0m\n",
      "\u001b[1m[\u001b[0m\u001b[34;49mnotice\u001b[0m\u001b[1;39;49m]\u001b[0m\u001b[39;49m To update, run: \u001b[0m\u001b[32;49mpip3 install --upgrade pip\u001b[0m\n",
      "Note: you may need to restart the kernel to use updated packages.\n"
     ]
    }
   ],
   "source": [
    "pip install --upgrade nbformat"
   ]
  },
  {
   "cell_type": "code",
   "execution_count": 12,
   "id": "a66d2b57-0122-45a1-9b81-65c93efd5359",
   "metadata": {},
   "outputs": [
    {
     "data": {
      "application/vnd.plotly.v1+json": {
       "config": {
        "plotlyServerURL": "https://plot.ly"
       },
       "data": [
        {
         "branchvalues": "total",
         "customdata": [
          [
           15310
          ],
          [
           16620
          ],
          [
           536
          ],
          [
           9918
          ],
          [
           11404
          ],
          [
           29138
          ],
          [
           18141
          ],
          [
           14471
          ],
          [
           7242
          ],
          [
           5607
          ],
          [
           2833
          ],
          [
           4632
          ],
          [
           10564
          ],
          [
           22385
          ],
          [
           17329
          ],
          [
           22984
          ],
          [
           20057
          ],
          [
           437
          ],
          [
           1873
          ],
          [
           982
          ],
          [
           1552
          ],
          [
           3491
          ],
          [
           1106
          ],
          [
           466
          ],
          [
           4965
          ],
          [
           1731
          ],
          [
           1027
          ],
          [
           9495
          ],
          [
           9446
          ],
          [
           35644
          ],
          [
           1508
          ],
          [
           5137
          ],
          [
           12955
          ],
          [
           9331
          ],
          [
           1438
          ],
          [
           4327
          ],
          [
           651
          ],
          [
           15010
          ],
          [
           804
          ],
          [
           2447
          ],
          [
           11373
          ],
          [
           10174
          ],
          [
           929
          ],
          [
           6586
          ],
          [
           2501
          ],
          [
           68171
          ],
          [
           7879
          ],
          [
           16687
          ],
          [
           2479
          ],
          [
           46259
          ],
          [
           2155
          ],
          [
           1749
          ],
          [
           12897
          ],
          [
           1373
          ],
          [
           1438
          ],
          [
           10310
          ],
          [
           23467
          ],
          [
           29162
          ],
          [
           53587
          ],
          [
           1068
          ],
          [
           4930
          ],
          [
           6866
          ],
          [
           12115
          ],
          [
           1096
          ],
          [
           6377
          ],
          [
           12088
          ],
          [
           3846
          ],
          [
           16540
          ],
          [
           18896
          ],
          [
           19479
          ],
          [
           35289
          ],
          [
           4071
          ],
          [
           5839
          ],
          [
           27975
          ],
          [
           24262
          ],
          [
           16445
          ],
          [
           2310
          ],
          [
           8868
          ],
          [
           1014
          ],
          [
           18130
          ],
          [
           6096
          ],
          [
           13664
          ],
          [
           2028
          ],
          [
           28424
          ],
          [
           8871
          ],
          [
           368
          ],
          [
           1313
          ],
          [
           15755
          ],
          [
           39792
          ],
          [
           4812
          ],
          [
           4185
          ],
          [
           3200
          ],
          [
           7051
          ],
          [
           25296
          ],
          [
           14552
          ],
          [
           3255
          ],
          [
           5569
          ],
          [
           4438
          ],
          [
           1219
          ],
          [
           5799
          ],
          [
           38835
          ],
          [
           22634
          ],
          [
           2148
          ],
          [
           9177
          ],
          [
           16714
          ],
          [
           1735
          ],
          [
           4204
          ],
          [
           2427
          ],
          [
           8034
          ],
          [
           5442
          ],
          [
           678
          ],
          [
           4808
          ],
          [
           24909
          ],
          [
           7206
          ],
          [
           2339
          ],
          [
           3847
          ],
          [
           19752
          ],
          [
           26970
          ],
          [
           58026
          ],
          [
           11954
          ],
          [
           6564
          ],
          [
           2844
          ],
          [
           9040
          ],
          [
           12937
          ],
          [
           21693
          ],
          [
           20936.479200789552
          ],
          [
           28957.47648228489
          ],
          [
           11437.568995399994
          ],
          [
           25321.11167653491
          ],
          [
           19054.112411640504
          ],
          [
           40549.566439805254
          ],
          [
           13931.995048379958
          ]
         ],
         "domain": {
          "x": [
           0,
           1
          ],
          "y": [
           0,
           1
          ]
         },
         "hovertemplate": "labels=%{label}<br>freq_sum=%{value}<br>parent=%{parent}<br>id=%{id}<br>freq=%{color}<extra></extra>",
         "ids": [
          "MiscTechHaveWorkedWith/.NET Core / .NET 5",
          "MiscTechHaveWorkedWith/.NET Framework",
          "LanguageHaveWorkedWith/APL",
          "WebframeHaveWorkedWith/ASP.NET",
          "WebframeHaveWorkedWith/ASP.NET Core ",
          "PlatformHaveWorkedWith/AWS",
          "NEWCollabToolsHaveWorkedWith/Android Studio",
          "WebframeHaveWorkedWith/Angular",
          "WebframeHaveWorkedWith/Angular.js",
          "ToolsTechHaveWorkedWith/Ansible",
          "MiscTechHaveWorkedWith/Apache Spark",
          "LanguageHaveWorkedWith/Assembly",
          "NEWCollabToolsHaveWorkedWith/Atom",
          "LanguageHaveWorkedWith/Bash/Shell",
          "LanguageHaveWorkedWith/C",
          "LanguageHaveWorkedWith/C#",
          "LanguageHaveWorkedWith/C++",
          "LanguageHaveWorkedWith/COBOL",
          "DatabaseHaveWorkedWith/Cassandra",
          "ToolsTechHaveWorkedWith/Chef",
          "LanguageHaveWorkedWith/Clojure",
          "MiscTechHaveWorkedWith/Cordova",
          "DatabaseHaveWorkedWith/Couchbase",
          "LanguageHaveWorkedWith/Crystal",
          "LanguageHaveWorkedWith/Dart",
          "LanguageHaveWorkedWith/Delphi",
          "ToolsTechHaveWorkedWith/Deno",
          "PlatformHaveWorkedWith/DigitalOcean",
          "WebframeHaveWorkedWith/Django",
          "ToolsTechHaveWorkedWith/Docker",
          "WebframeHaveWorkedWith/Drupal",
          "DatabaseHaveWorkedWith/DynamoDB",
          "NEWCollabToolsHaveWorkedWith/Eclipse",
          "DatabaseHaveWorkedWith/Elasticsearch",
          "LanguageHaveWorkedWith/Elixir",
          "NEWCollabToolsHaveWorkedWith/Emacs",
          "LanguageHaveWorkedWith/Erlang",
          "WebframeHaveWorkedWith/Express",
          "LanguageHaveWorkedWith/F#",
          "WebframeHaveWorkedWith/FastAPI",
          "DatabaseHaveWorkedWith/Firebase",
          "WebframeHaveWorkedWith/Flask",
          "ToolsTechHaveWorkedWith/Flow",
          "MiscTechHaveWorkedWith/Flutter",
          "WebframeHaveWorkedWith/Gatsby",
          "ToolsTechHaveWorkedWith/Git",
          "LanguageHaveWorkedWith/Go",
          "PlatformHaveWorkedWith/Google Cloud Platform",
          "LanguageHaveWorkedWith/Groovy",
          "LanguageHaveWorkedWith/HTML/CSS",
          "MiscTechHaveWorkedWith/Hadoop",
          "LanguageHaveWorkedWith/Haskell",
          "PlatformHaveWorkedWith/Heroku",
          "PlatformHaveWorkedWith/IBM Cloud or Watson",
          "DatabaseHaveWorkedWith/IBM DB2",
          "NEWCollabToolsHaveWorkedWith/IPython/Jupyter",
          "NEWCollabToolsHaveWorkedWith/IntelliJ",
          "LanguageHaveWorkedWith/Java",
          "LanguageHaveWorkedWith/JavaScript",
          "LanguageHaveWorkedWith/Julia",
          "MiscTechHaveWorkedWith/Keras",
          "LanguageHaveWorkedWith/Kotlin",
          "ToolsTechHaveWorkedWith/Kubernetes",
          "LanguageHaveWorkedWith/LISP",
          "WebframeHaveWorkedWith/Laravel",
          "DatabaseHaveWorkedWith/MariaDB",
          "LanguageHaveWorkedWith/Matlab",
          "PlatformHaveWorkedWith/Microsoft Azure",
          "DatabaseHaveWorkedWith/Microsoft SQL Server",
          "DatabaseHaveWorkedWith/MongoDB",
          "DatabaseHaveWorkedWith/MySQL",
          "NEWCollabToolsHaveWorkedWith/Neovim",
          "NEWCollabToolsHaveWorkedWith/NetBeans",
          "LanguageHaveWorkedWith/Node.js",
          "NEWCollabToolsHaveWorkedWith/Notepad++",
          "MiscTechHaveWorkedWith/NumPy",
          "LanguageHaveWorkedWith/Objective-C",
          "DatabaseHaveWorkedWith/Oracle",
          "PlatformHaveWorkedWith/Oracle Cloud Infrastructure",
          "LanguageHaveWorkedWith/PHP",
          "NEWCollabToolsHaveWorkedWith/PHPStorm",
          "MiscTechHaveWorkedWith/Pandas",
          "LanguageHaveWorkedWith/Perl",
          "DatabaseHaveWorkedWith/PostgreSQL",
          "LanguageHaveWorkedWith/PowerShell",
          "ToolsTechHaveWorkedWith/Pulumi",
          "ToolsTechHaveWorkedWith/Puppet",
          "NEWCollabToolsHaveWorkedWith/PyCharm",
          "LanguageHaveWorkedWith/Python",
          "MiscTechHaveWorkedWith/Qt",
          "LanguageHaveWorkedWith/R",
          "NEWCollabToolsHaveWorkedWith/RStudio",
          "MiscTechHaveWorkedWith/React Native",
          "WebframeHaveWorkedWith/React.js",
          "DatabaseHaveWorkedWith/Redis",
          "NEWCollabToolsHaveWorkedWith/Rider",
          "LanguageHaveWorkedWith/Ruby",
          "WebframeHaveWorkedWith/Ruby on Rails",
          "NEWCollabToolsHaveWorkedWith/RubyMine",
          "LanguageHaveWorkedWith/Rust",
          "LanguageHaveWorkedWith/SQL",
          "DatabaseHaveWorkedWith/SQLite",
          "LanguageHaveWorkedWith/Scala",
          "WebframeHaveWorkedWith/Spring",
          "NEWCollabToolsHaveWorkedWith/Sublime Text",
          "WebframeHaveWorkedWith/Svelte",
          "LanguageHaveWorkedWith/Swift",
          "WebframeHaveWorkedWith/Symfony",
          "MiscTechHaveWorkedWith/TensorFlow",
          "ToolsTechHaveWorkedWith/Terraform",
          "NEWCollabToolsHaveWorkedWith/TextMate",
          "MiscTechHaveWorkedWith/Torch/PyTorch",
          "LanguageHaveWorkedWith/TypeScript",
          "ToolsTechHaveWorkedWith/Unity 3D",
          "ToolsTechHaveWorkedWith/Unreal Engine",
          "LanguageHaveWorkedWith/VBA",
          "NEWCollabToolsHaveWorkedWith/Vim",
          "NEWCollabToolsHaveWorkedWith/Visual Studio",
          "NEWCollabToolsHaveWorkedWith/Visual Studio Code",
          "WebframeHaveWorkedWith/Vue.js",
          "NEWCollabToolsHaveWorkedWith/Webstorm",
          "ToolsTechHaveWorkedWith/Xamarin",
          "NEWCollabToolsHaveWorkedWith/Xcode",
          "ToolsTechHaveWorkedWith/Yarn",
          "WebframeHaveWorkedWith/jQuery",
          "DatabaseHaveWorkedWith",
          "LanguageHaveWorkedWith",
          "MiscTechHaveWorkedWith",
          "NEWCollabToolsHaveWorkedWith",
          "PlatformHaveWorkedWith",
          "ToolsTechHaveWorkedWith",
          "WebframeHaveWorkedWith"
         ],
         "labels": [
          ".NET Core / .NET 5",
          ".NET Framework",
          "APL",
          "ASP.NET",
          "ASP.NET Core ",
          "AWS",
          "Android Studio",
          "Angular",
          "Angular.js",
          "Ansible",
          "Apache Spark",
          "Assembly",
          "Atom",
          "Bash/Shell",
          "C",
          "C#",
          "C++",
          "COBOL",
          "Cassandra",
          "Chef",
          "Clojure",
          "Cordova",
          "Couchbase",
          "Crystal",
          "Dart",
          "Delphi",
          "Deno",
          "DigitalOcean",
          "Django",
          "Docker",
          "Drupal",
          "DynamoDB",
          "Eclipse",
          "Elasticsearch",
          "Elixir",
          "Emacs",
          "Erlang",
          "Express",
          "F#",
          "FastAPI",
          "Firebase",
          "Flask",
          "Flow",
          "Flutter",
          "Gatsby",
          "Git",
          "Go",
          "Google Cloud Platform",
          "Groovy",
          "HTML/CSS",
          "Hadoop",
          "Haskell",
          "Heroku",
          "IBM Cloud or Watson",
          "IBM DB2",
          "IPython/Jupyter",
          "IntelliJ",
          "Java",
          "JavaScript",
          "Julia",
          "Keras",
          "Kotlin",
          "Kubernetes",
          "LISP",
          "Laravel",
          "MariaDB",
          "Matlab",
          "Microsoft Azure",
          "Microsoft SQL Server",
          "MongoDB",
          "MySQL",
          "Neovim",
          "NetBeans",
          "Node.js",
          "Notepad++",
          "NumPy",
          "Objective-C",
          "Oracle",
          "Oracle Cloud Infrastructure",
          "PHP",
          "PHPStorm",
          "Pandas",
          "Perl",
          "PostgreSQL",
          "PowerShell",
          "Pulumi",
          "Puppet",
          "PyCharm",
          "Python",
          "Qt",
          "R",
          "RStudio",
          "React Native",
          "React.js",
          "Redis",
          "Rider",
          "Ruby",
          "Ruby on Rails",
          "RubyMine",
          "Rust",
          "SQL",
          "SQLite",
          "Scala",
          "Spring",
          "Sublime Text",
          "Svelte",
          "Swift",
          "Symfony",
          "TensorFlow",
          "Terraform",
          "TextMate",
          "Torch/PyTorch",
          "TypeScript",
          "Unity 3D",
          "Unreal Engine",
          "VBA",
          "Vim",
          "Visual Studio",
          "Visual Studio Code",
          "Vue.js",
          "Webstorm",
          "Xamarin",
          "Xcode",
          "Yarn",
          "jQuery",
          "DatabaseHaveWorkedWith",
          "LanguageHaveWorkedWith",
          "MiscTechHaveWorkedWith",
          "NEWCollabToolsHaveWorkedWith",
          "PlatformHaveWorkedWith",
          "ToolsTechHaveWorkedWith",
          "WebframeHaveWorkedWith"
         ],
         "marker": {
          "coloraxis": "coloraxis",
          "colors": [
           15310,
           16620,
           536,
           9918,
           11404,
           29138,
           18141,
           14471,
           7242,
           5607,
           2833,
           4632,
           10564,
           22385,
           17329,
           22984,
           20057,
           437,
           1873,
           982,
           1552,
           3491,
           1106,
           466,
           4965,
           1731,
           1027,
           9495,
           9446,
           35644,
           1508,
           5137,
           12955,
           9331,
           1438,
           4327,
           651,
           15010,
           804,
           2447,
           11373,
           10174,
           929,
           6586,
           2501,
           68171,
           7879,
           16687,
           2479,
           46259,
           2155,
           1749,
           12897,
           1373,
           1438,
           10310,
           23467,
           29162,
           53587,
           1068,
           4930,
           6866,
           12115,
           1096,
           6377,
           12088,
           3846,
           16540,
           18896,
           19479,
           35289,
           4071,
           5839,
           27975,
           24262,
           16445,
           2310,
           8868,
           1014,
           18130,
           6096,
           13664,
           2028,
           28424,
           8871,
           368,
           1313,
           15755,
           39792,
           4812,
           4185,
           3200,
           7051,
           25296,
           14552,
           3255,
           5569,
           4438,
           1219,
           5799,
           38835,
           22634,
           2148,
           9177,
           16714,
           1735,
           4204,
           2427,
           8034,
           5442,
           678,
           4808,
           24909,
           7206,
           2339,
           3847,
           19752,
           26970,
           58026,
           11954,
           6564,
           2844,
           9040,
           12937,
           21693,
           20936.479200789552,
           28957.47648228489,
           11437.568995399994,
           25321.11167653491,
           19054.112411640504,
           40549.566439805254,
           13931.995048379958
          ]
         },
         "name": "",
         "parents": [
          "MiscTechHaveWorkedWith",
          "MiscTechHaveWorkedWith",
          "LanguageHaveWorkedWith",
          "WebframeHaveWorkedWith",
          "WebframeHaveWorkedWith",
          "PlatformHaveWorkedWith",
          "NEWCollabToolsHaveWorkedWith",
          "WebframeHaveWorkedWith",
          "WebframeHaveWorkedWith",
          "ToolsTechHaveWorkedWith",
          "MiscTechHaveWorkedWith",
          "LanguageHaveWorkedWith",
          "NEWCollabToolsHaveWorkedWith",
          "LanguageHaveWorkedWith",
          "LanguageHaveWorkedWith",
          "LanguageHaveWorkedWith",
          "LanguageHaveWorkedWith",
          "LanguageHaveWorkedWith",
          "DatabaseHaveWorkedWith",
          "ToolsTechHaveWorkedWith",
          "LanguageHaveWorkedWith",
          "MiscTechHaveWorkedWith",
          "DatabaseHaveWorkedWith",
          "LanguageHaveWorkedWith",
          "LanguageHaveWorkedWith",
          "LanguageHaveWorkedWith",
          "ToolsTechHaveWorkedWith",
          "PlatformHaveWorkedWith",
          "WebframeHaveWorkedWith",
          "ToolsTechHaveWorkedWith",
          "WebframeHaveWorkedWith",
          "DatabaseHaveWorkedWith",
          "NEWCollabToolsHaveWorkedWith",
          "DatabaseHaveWorkedWith",
          "LanguageHaveWorkedWith",
          "NEWCollabToolsHaveWorkedWith",
          "LanguageHaveWorkedWith",
          "WebframeHaveWorkedWith",
          "LanguageHaveWorkedWith",
          "WebframeHaveWorkedWith",
          "DatabaseHaveWorkedWith",
          "WebframeHaveWorkedWith",
          "ToolsTechHaveWorkedWith",
          "MiscTechHaveWorkedWith",
          "WebframeHaveWorkedWith",
          "ToolsTechHaveWorkedWith",
          "LanguageHaveWorkedWith",
          "PlatformHaveWorkedWith",
          "LanguageHaveWorkedWith",
          "LanguageHaveWorkedWith",
          "MiscTechHaveWorkedWith",
          "LanguageHaveWorkedWith",
          "PlatformHaveWorkedWith",
          "PlatformHaveWorkedWith",
          "DatabaseHaveWorkedWith",
          "NEWCollabToolsHaveWorkedWith",
          "NEWCollabToolsHaveWorkedWith",
          "LanguageHaveWorkedWith",
          "LanguageHaveWorkedWith",
          "LanguageHaveWorkedWith",
          "MiscTechHaveWorkedWith",
          "LanguageHaveWorkedWith",
          "ToolsTechHaveWorkedWith",
          "LanguageHaveWorkedWith",
          "WebframeHaveWorkedWith",
          "DatabaseHaveWorkedWith",
          "LanguageHaveWorkedWith",
          "PlatformHaveWorkedWith",
          "DatabaseHaveWorkedWith",
          "DatabaseHaveWorkedWith",
          "DatabaseHaveWorkedWith",
          "NEWCollabToolsHaveWorkedWith",
          "NEWCollabToolsHaveWorkedWith",
          "LanguageHaveWorkedWith",
          "NEWCollabToolsHaveWorkedWith",
          "MiscTechHaveWorkedWith",
          "LanguageHaveWorkedWith",
          "DatabaseHaveWorkedWith",
          "PlatformHaveWorkedWith",
          "LanguageHaveWorkedWith",
          "NEWCollabToolsHaveWorkedWith",
          "MiscTechHaveWorkedWith",
          "LanguageHaveWorkedWith",
          "DatabaseHaveWorkedWith",
          "LanguageHaveWorkedWith",
          "ToolsTechHaveWorkedWith",
          "ToolsTechHaveWorkedWith",
          "NEWCollabToolsHaveWorkedWith",
          "LanguageHaveWorkedWith",
          "MiscTechHaveWorkedWith",
          "LanguageHaveWorkedWith",
          "NEWCollabToolsHaveWorkedWith",
          "MiscTechHaveWorkedWith",
          "WebframeHaveWorkedWith",
          "DatabaseHaveWorkedWith",
          "NEWCollabToolsHaveWorkedWith",
          "LanguageHaveWorkedWith",
          "WebframeHaveWorkedWith",
          "NEWCollabToolsHaveWorkedWith",
          "LanguageHaveWorkedWith",
          "LanguageHaveWorkedWith",
          "DatabaseHaveWorkedWith",
          "LanguageHaveWorkedWith",
          "WebframeHaveWorkedWith",
          "NEWCollabToolsHaveWorkedWith",
          "WebframeHaveWorkedWith",
          "LanguageHaveWorkedWith",
          "WebframeHaveWorkedWith",
          "MiscTechHaveWorkedWith",
          "ToolsTechHaveWorkedWith",
          "NEWCollabToolsHaveWorkedWith",
          "MiscTechHaveWorkedWith",
          "LanguageHaveWorkedWith",
          "ToolsTechHaveWorkedWith",
          "ToolsTechHaveWorkedWith",
          "LanguageHaveWorkedWith",
          "NEWCollabToolsHaveWorkedWith",
          "NEWCollabToolsHaveWorkedWith",
          "NEWCollabToolsHaveWorkedWith",
          "WebframeHaveWorkedWith",
          "NEWCollabToolsHaveWorkedWith",
          "ToolsTechHaveWorkedWith",
          "NEWCollabToolsHaveWorkedWith",
          "ToolsTechHaveWorkedWith",
          "WebframeHaveWorkedWith",
          "",
          "",
          "",
          "",
          "",
          "",
          ""
         ],
         "type": "treemap",
         "values": [
          15310,
          16620,
          536,
          9918,
          11404,
          29138,
          18141,
          14471,
          7242,
          5607,
          2833,
          4632,
          10564,
          22385,
          17329,
          22984,
          20057,
          437,
          1873,
          982,
          1552,
          3491,
          1106,
          466,
          4965,
          1731,
          1027,
          9495,
          9446,
          35644,
          1508,
          5137,
          12955,
          9331,
          1438,
          4327,
          651,
          15010,
          804,
          2447,
          11373,
          10174,
          929,
          6586,
          2501,
          68171,
          7879,
          16687,
          2479,
          46259,
          2155,
          1749,
          12897,
          1373,
          1438,
          10310,
          23467,
          29162,
          53587,
          1068,
          4930,
          6866,
          12115,
          1096,
          6377,
          12088,
          3846,
          16540,
          18896,
          19479,
          35289,
          4071,
          5839,
          27975,
          24262,
          16445,
          2310,
          8868,
          1014,
          18130,
          6096,
          13664,
          2028,
          28424,
          8871,
          368,
          1313,
          15755,
          39792,
          4812,
          4185,
          3200,
          7051,
          25296,
          14552,
          3255,
          5569,
          4438,
          1219,
          5799,
          38835,
          22634,
          2148,
          9177,
          16714,
          1735,
          4204,
          2427,
          8034,
          5442,
          678,
          4808,
          24909,
          7206,
          2339,
          3847,
          19752,
          26970,
          58026,
          11954,
          6564,
          2844,
          9040,
          12937,
          21693,
          190488,
          442560,
          106739,
          281205,
          87144,
          156924,
          167218
         ]
        }
       ],
       "layout": {
        "coloraxis": {
         "colorbar": {
          "title": {
           "text": "freq"
          }
         },
         "colorscale": [
          [
           0,
           "rgb(253, 253, 204)"
          ],
          [
           0.09090909090909091,
           "rgb(206, 236, 179)"
          ],
          [
           0.18181818181818182,
           "rgb(156, 219, 165)"
          ],
          [
           0.2727272727272727,
           "rgb(111, 201, 163)"
          ],
          [
           0.36363636363636365,
           "rgb(86, 177, 163)"
          ],
          [
           0.45454545454545453,
           "rgb(76, 153, 160)"
          ],
          [
           0.5454545454545454,
           "rgb(68, 130, 155)"
          ],
          [
           0.6363636363636364,
           "rgb(62, 108, 150)"
          ],
          [
           0.7272727272727273,
           "rgb(62, 82, 143)"
          ],
          [
           0.8181818181818182,
           "rgb(64, 60, 115)"
          ],
          [
           0.9090909090909091,
           "rgb(54, 43, 77)"
          ],
          [
           1,
           "rgb(39, 26, 44)"
          ]
         ]
        },
        "height": 700,
        "legend": {
         "tracegroupgap": 0
        },
        "margin": {
         "t": 60
        },
        "template": {
         "data": {
          "bar": [
           {
            "error_x": {
             "color": "#2a3f5f"
            },
            "error_y": {
             "color": "#2a3f5f"
            },
            "marker": {
             "line": {
              "color": "#E5ECF6",
              "width": 0.5
             },
             "pattern": {
              "fillmode": "overlay",
              "size": 10,
              "solidity": 0.2
             }
            },
            "type": "bar"
           }
          ],
          "barpolar": [
           {
            "marker": {
             "line": {
              "color": "#E5ECF6",
              "width": 0.5
             },
             "pattern": {
              "fillmode": "overlay",
              "size": 10,
              "solidity": 0.2
             }
            },
            "type": "barpolar"
           }
          ],
          "carpet": [
           {
            "aaxis": {
             "endlinecolor": "#2a3f5f",
             "gridcolor": "white",
             "linecolor": "white",
             "minorgridcolor": "white",
             "startlinecolor": "#2a3f5f"
            },
            "baxis": {
             "endlinecolor": "#2a3f5f",
             "gridcolor": "white",
             "linecolor": "white",
             "minorgridcolor": "white",
             "startlinecolor": "#2a3f5f"
            },
            "type": "carpet"
           }
          ],
          "choropleth": [
           {
            "colorbar": {
             "outlinewidth": 0,
             "ticks": ""
            },
            "type": "choropleth"
           }
          ],
          "contour": [
           {
            "colorbar": {
             "outlinewidth": 0,
             "ticks": ""
            },
            "colorscale": [
             [
              0,
              "#0d0887"
             ],
             [
              0.1111111111111111,
              "#46039f"
             ],
             [
              0.2222222222222222,
              "#7201a8"
             ],
             [
              0.3333333333333333,
              "#9c179e"
             ],
             [
              0.4444444444444444,
              "#bd3786"
             ],
             [
              0.5555555555555556,
              "#d8576b"
             ],
             [
              0.6666666666666666,
              "#ed7953"
             ],
             [
              0.7777777777777778,
              "#fb9f3a"
             ],
             [
              0.8888888888888888,
              "#fdca26"
             ],
             [
              1,
              "#f0f921"
             ]
            ],
            "type": "contour"
           }
          ],
          "contourcarpet": [
           {
            "colorbar": {
             "outlinewidth": 0,
             "ticks": ""
            },
            "type": "contourcarpet"
           }
          ],
          "heatmap": [
           {
            "colorbar": {
             "outlinewidth": 0,
             "ticks": ""
            },
            "colorscale": [
             [
              0,
              "#0d0887"
             ],
             [
              0.1111111111111111,
              "#46039f"
             ],
             [
              0.2222222222222222,
              "#7201a8"
             ],
             [
              0.3333333333333333,
              "#9c179e"
             ],
             [
              0.4444444444444444,
              "#bd3786"
             ],
             [
              0.5555555555555556,
              "#d8576b"
             ],
             [
              0.6666666666666666,
              "#ed7953"
             ],
             [
              0.7777777777777778,
              "#fb9f3a"
             ],
             [
              0.8888888888888888,
              "#fdca26"
             ],
             [
              1,
              "#f0f921"
             ]
            ],
            "type": "heatmap"
           }
          ],
          "heatmapgl": [
           {
            "colorbar": {
             "outlinewidth": 0,
             "ticks": ""
            },
            "colorscale": [
             [
              0,
              "#0d0887"
             ],
             [
              0.1111111111111111,
              "#46039f"
             ],
             [
              0.2222222222222222,
              "#7201a8"
             ],
             [
              0.3333333333333333,
              "#9c179e"
             ],
             [
              0.4444444444444444,
              "#bd3786"
             ],
             [
              0.5555555555555556,
              "#d8576b"
             ],
             [
              0.6666666666666666,
              "#ed7953"
             ],
             [
              0.7777777777777778,
              "#fb9f3a"
             ],
             [
              0.8888888888888888,
              "#fdca26"
             ],
             [
              1,
              "#f0f921"
             ]
            ],
            "type": "heatmapgl"
           }
          ],
          "histogram": [
           {
            "marker": {
             "pattern": {
              "fillmode": "overlay",
              "size": 10,
              "solidity": 0.2
             }
            },
            "type": "histogram"
           }
          ],
          "histogram2d": [
           {
            "colorbar": {
             "outlinewidth": 0,
             "ticks": ""
            },
            "colorscale": [
             [
              0,
              "#0d0887"
             ],
             [
              0.1111111111111111,
              "#46039f"
             ],
             [
              0.2222222222222222,
              "#7201a8"
             ],
             [
              0.3333333333333333,
              "#9c179e"
             ],
             [
              0.4444444444444444,
              "#bd3786"
             ],
             [
              0.5555555555555556,
              "#d8576b"
             ],
             [
              0.6666666666666666,
              "#ed7953"
             ],
             [
              0.7777777777777778,
              "#fb9f3a"
             ],
             [
              0.8888888888888888,
              "#fdca26"
             ],
             [
              1,
              "#f0f921"
             ]
            ],
            "type": "histogram2d"
           }
          ],
          "histogram2dcontour": [
           {
            "colorbar": {
             "outlinewidth": 0,
             "ticks": ""
            },
            "colorscale": [
             [
              0,
              "#0d0887"
             ],
             [
              0.1111111111111111,
              "#46039f"
             ],
             [
              0.2222222222222222,
              "#7201a8"
             ],
             [
              0.3333333333333333,
              "#9c179e"
             ],
             [
              0.4444444444444444,
              "#bd3786"
             ],
             [
              0.5555555555555556,
              "#d8576b"
             ],
             [
              0.6666666666666666,
              "#ed7953"
             ],
             [
              0.7777777777777778,
              "#fb9f3a"
             ],
             [
              0.8888888888888888,
              "#fdca26"
             ],
             [
              1,
              "#f0f921"
             ]
            ],
            "type": "histogram2dcontour"
           }
          ],
          "mesh3d": [
           {
            "colorbar": {
             "outlinewidth": 0,
             "ticks": ""
            },
            "type": "mesh3d"
           }
          ],
          "parcoords": [
           {
            "line": {
             "colorbar": {
              "outlinewidth": 0,
              "ticks": ""
             }
            },
            "type": "parcoords"
           }
          ],
          "pie": [
           {
            "automargin": true,
            "type": "pie"
           }
          ],
          "scatter": [
           {
            "fillpattern": {
             "fillmode": "overlay",
             "size": 10,
             "solidity": 0.2
            },
            "type": "scatter"
           }
          ],
          "scatter3d": [
           {
            "line": {
             "colorbar": {
              "outlinewidth": 0,
              "ticks": ""
             }
            },
            "marker": {
             "colorbar": {
              "outlinewidth": 0,
              "ticks": ""
             }
            },
            "type": "scatter3d"
           }
          ],
          "scattercarpet": [
           {
            "marker": {
             "colorbar": {
              "outlinewidth": 0,
              "ticks": ""
             }
            },
            "type": "scattercarpet"
           }
          ],
          "scattergeo": [
           {
            "marker": {
             "colorbar": {
              "outlinewidth": 0,
              "ticks": ""
             }
            },
            "type": "scattergeo"
           }
          ],
          "scattergl": [
           {
            "marker": {
             "colorbar": {
              "outlinewidth": 0,
              "ticks": ""
             }
            },
            "type": "scattergl"
           }
          ],
          "scattermapbox": [
           {
            "marker": {
             "colorbar": {
              "outlinewidth": 0,
              "ticks": ""
             }
            },
            "type": "scattermapbox"
           }
          ],
          "scatterpolar": [
           {
            "marker": {
             "colorbar": {
              "outlinewidth": 0,
              "ticks": ""
             }
            },
            "type": "scatterpolar"
           }
          ],
          "scatterpolargl": [
           {
            "marker": {
             "colorbar": {
              "outlinewidth": 0,
              "ticks": ""
             }
            },
            "type": "scatterpolargl"
           }
          ],
          "scatterternary": [
           {
            "marker": {
             "colorbar": {
              "outlinewidth": 0,
              "ticks": ""
             }
            },
            "type": "scatterternary"
           }
          ],
          "surface": [
           {
            "colorbar": {
             "outlinewidth": 0,
             "ticks": ""
            },
            "colorscale": [
             [
              0,
              "#0d0887"
             ],
             [
              0.1111111111111111,
              "#46039f"
             ],
             [
              0.2222222222222222,
              "#7201a8"
             ],
             [
              0.3333333333333333,
              "#9c179e"
             ],
             [
              0.4444444444444444,
              "#bd3786"
             ],
             [
              0.5555555555555556,
              "#d8576b"
             ],
             [
              0.6666666666666666,
              "#ed7953"
             ],
             [
              0.7777777777777778,
              "#fb9f3a"
             ],
             [
              0.8888888888888888,
              "#fdca26"
             ],
             [
              1,
              "#f0f921"
             ]
            ],
            "type": "surface"
           }
          ],
          "table": [
           {
            "cells": {
             "fill": {
              "color": "#EBF0F8"
             },
             "line": {
              "color": "white"
             }
            },
            "header": {
             "fill": {
              "color": "#C8D4E3"
             },
             "line": {
              "color": "white"
             }
            },
            "type": "table"
           }
          ]
         },
         "layout": {
          "annotationdefaults": {
           "arrowcolor": "#2a3f5f",
           "arrowhead": 0,
           "arrowwidth": 1
          },
          "autotypenumbers": "strict",
          "coloraxis": {
           "colorbar": {
            "outlinewidth": 0,
            "ticks": ""
           }
          },
          "colorscale": {
           "diverging": [
            [
             0,
             "#8e0152"
            ],
            [
             0.1,
             "#c51b7d"
            ],
            [
             0.2,
             "#de77ae"
            ],
            [
             0.3,
             "#f1b6da"
            ],
            [
             0.4,
             "#fde0ef"
            ],
            [
             0.5,
             "#f7f7f7"
            ],
            [
             0.6,
             "#e6f5d0"
            ],
            [
             0.7,
             "#b8e186"
            ],
            [
             0.8,
             "#7fbc41"
            ],
            [
             0.9,
             "#4d9221"
            ],
            [
             1,
             "#276419"
            ]
           ],
           "sequential": [
            [
             0,
             "#0d0887"
            ],
            [
             0.1111111111111111,
             "#46039f"
            ],
            [
             0.2222222222222222,
             "#7201a8"
            ],
            [
             0.3333333333333333,
             "#9c179e"
            ],
            [
             0.4444444444444444,
             "#bd3786"
            ],
            [
             0.5555555555555556,
             "#d8576b"
            ],
            [
             0.6666666666666666,
             "#ed7953"
            ],
            [
             0.7777777777777778,
             "#fb9f3a"
            ],
            [
             0.8888888888888888,
             "#fdca26"
            ],
            [
             1,
             "#f0f921"
            ]
           ],
           "sequentialminus": [
            [
             0,
             "#0d0887"
            ],
            [
             0.1111111111111111,
             "#46039f"
            ],
            [
             0.2222222222222222,
             "#7201a8"
            ],
            [
             0.3333333333333333,
             "#9c179e"
            ],
            [
             0.4444444444444444,
             "#bd3786"
            ],
            [
             0.5555555555555556,
             "#d8576b"
            ],
            [
             0.6666666666666666,
             "#ed7953"
            ],
            [
             0.7777777777777778,
             "#fb9f3a"
            ],
            [
             0.8888888888888888,
             "#fdca26"
            ],
            [
             1,
             "#f0f921"
            ]
           ]
          },
          "colorway": [
           "#636efa",
           "#EF553B",
           "#00cc96",
           "#ab63fa",
           "#FFA15A",
           "#19d3f3",
           "#FF6692",
           "#B6E880",
           "#FF97FF",
           "#FECB52"
          ],
          "font": {
           "color": "#2a3f5f"
          },
          "geo": {
           "bgcolor": "white",
           "lakecolor": "white",
           "landcolor": "#E5ECF6",
           "showlakes": true,
           "showland": true,
           "subunitcolor": "white"
          },
          "hoverlabel": {
           "align": "left"
          },
          "hovermode": "closest",
          "mapbox": {
           "style": "light"
          },
          "paper_bgcolor": "white",
          "plot_bgcolor": "#E5ECF6",
          "polar": {
           "angularaxis": {
            "gridcolor": "white",
            "linecolor": "white",
            "ticks": ""
           },
           "bgcolor": "#E5ECF6",
           "radialaxis": {
            "gridcolor": "white",
            "linecolor": "white",
            "ticks": ""
           }
          },
          "scene": {
           "xaxis": {
            "backgroundcolor": "#E5ECF6",
            "gridcolor": "white",
            "gridwidth": 2,
            "linecolor": "white",
            "showbackground": true,
            "ticks": "",
            "zerolinecolor": "white"
           },
           "yaxis": {
            "backgroundcolor": "#E5ECF6",
            "gridcolor": "white",
            "gridwidth": 2,
            "linecolor": "white",
            "showbackground": true,
            "ticks": "",
            "zerolinecolor": "white"
           },
           "zaxis": {
            "backgroundcolor": "#E5ECF6",
            "gridcolor": "white",
            "gridwidth": 2,
            "linecolor": "white",
            "showbackground": true,
            "ticks": "",
            "zerolinecolor": "white"
           }
          },
          "shapedefaults": {
           "line": {
            "color": "#2a3f5f"
           }
          },
          "ternary": {
           "aaxis": {
            "gridcolor": "white",
            "linecolor": "white",
            "ticks": ""
           },
           "baxis": {
            "gridcolor": "white",
            "linecolor": "white",
            "ticks": ""
           },
           "bgcolor": "#E5ECF6",
           "caxis": {
            "gridcolor": "white",
            "linecolor": "white",
            "ticks": ""
           }
          },
          "title": {
           "x": 0.05
          },
          "xaxis": {
           "automargin": true,
           "gridcolor": "white",
           "linecolor": "white",
           "ticks": "",
           "title": {
            "standoff": 15
           },
           "zerolinecolor": "white",
           "zerolinewidth": 2
          },
          "yaxis": {
           "automargin": true,
           "gridcolor": "white",
           "linecolor": "white",
           "ticks": "",
           "title": {
            "standoff": 15
           },
           "zerolinecolor": "white",
           "zerolinewidth": 2
          }
         }
        },
        "width": 1400
       }
      }
     },
     "metadata": {},
     "output_type": "display_data"
    }
   ],
   "source": [
    "fig = px.treemap(skills_freq, \n",
    "                 path=['group', 'skill'], \n",
    "                 color_continuous_scale='deep',\n",
    "                 values='freq',color='freq')\n",
    "\n",
    "fig.update_layout(width=1400, height=700)\n",
    "fig.show()\n"
   ]
  },
  {
   "cell_type": "markdown",
   "id": "4bb9a1c3-e253-4444-b425-9cc2a8ff5064",
   "metadata": {},
   "source": [
    "## Create Jobs & Skills Heatmap"
   ]
  },
  {
   "cell_type": "code",
   "execution_count": 13,
   "id": "9b58d3e7-4f10-48af-9b1f-30a438b41110",
   "metadata": {},
   "outputs": [],
   "source": [
    "sorted_roles = df['DevType'].sum().sort_values().index.tolist()\n",
    "sorted_skills = df.drop('DevType', axis=1).sum().sort_values(ascending=False).droplevel(level=0).index.tolist()"
   ]
  },
  {
   "cell_type": "code",
   "execution_count": 14,
   "id": "72df29d4-168d-46e1-95fb-50b215ea55eb",
   "metadata": {},
   "outputs": [],
   "source": [
    "skills = []\n",
    "\n",
    "# For each role, calculate the percentage of each skill\n",
    "for role in sorted_roles:\n",
    "    # Filter for the role\n",
    "    role_mask = (df[('DevType', role)] == 1)\n",
    "\n",
    "    #For each skill column, calculate mean of the one-hot-encoded -> percentage\n",
    "    skills_role = pd.concat({tech_col: df.loc[role_mask, tech_col].mean() * 100\n",
    "                             for tech_col in TECH_COLS})\n",
    "\n",
    "    # Append to original list\n",
    "    skills.append(skills_role)\n",
    "\n",
    "# Concat and format\n",
    "skills = pd.concat(skills, axis=1)\n",
    "skills.columns = sorted_roles\n",
    "skills = skills.reset_index(level=0, drop=True)\n",
    "skills = skills.loc[sorted_skills]\n",
    "skills = skills.T"
   ]
  },
  {
   "cell_type": "code",
   "execution_count": 15,
   "metadata": {
    "collapsed": false,
    "pycharm": {
     "name": "#%%\n"
    }
   },
   "outputs": [
    {
     "data": {
      "text/html": [
       "<div>\n",
       "<style scoped>\n",
       "    .dataframe tbody tr th:only-of-type {\n",
       "        vertical-align: middle;\n",
       "    }\n",
       "\n",
       "    .dataframe tbody tr th {\n",
       "        vertical-align: top;\n",
       "    }\n",
       "\n",
       "    .dataframe thead th {\n",
       "        text-align: right;\n",
       "    }\n",
       "</style>\n",
       "<table border=\"1\" class=\"dataframe\">\n",
       "  <thead>\n",
       "    <tr style=\"text-align: right;\">\n",
       "      <th></th>\n",
       "      <th>Git</th>\n",
       "      <th>Visual Studio Code</th>\n",
       "      <th>JavaScript</th>\n",
       "      <th>HTML/CSS</th>\n",
       "      <th>Python</th>\n",
       "      <th>SQL</th>\n",
       "      <th>Docker</th>\n",
       "      <th>MySQL</th>\n",
       "      <th>Java</th>\n",
       "      <th>AWS</th>\n",
       "      <th>...</th>\n",
       "      <th>Oracle Cloud Infrastructure</th>\n",
       "      <th>Chef</th>\n",
       "      <th>Flow</th>\n",
       "      <th>F#</th>\n",
       "      <th>TextMate</th>\n",
       "      <th>Erlang</th>\n",
       "      <th>APL</th>\n",
       "      <th>Crystal</th>\n",
       "      <th>COBOL</th>\n",
       "      <th>Pulumi</th>\n",
       "    </tr>\n",
       "  </thead>\n",
       "  <tbody>\n",
       "    <tr>\n",
       "      <th>Marketing or sales professional</th>\n",
       "      <td>70.062696</td>\n",
       "      <td>61.285266</td>\n",
       "      <td>71.943574</td>\n",
       "      <td>71.316614</td>\n",
       "      <td>40.909091</td>\n",
       "      <td>57.053292</td>\n",
       "      <td>32.601881</td>\n",
       "      <td>54.075235</td>\n",
       "      <td>27.586207</td>\n",
       "      <td>43.260188</td>\n",
       "      <td>...</td>\n",
       "      <td>7.366771</td>\n",
       "      <td>5.642633</td>\n",
       "      <td>4.545455</td>\n",
       "      <td>4.388715</td>\n",
       "      <td>5.172414</td>\n",
       "      <td>3.761755</td>\n",
       "      <td>5.642633</td>\n",
       "      <td>4.231975</td>\n",
       "      <td>3.761755</td>\n",
       "      <td>3.761755</td>\n",
       "    </tr>\n",
       "    <tr>\n",
       "      <th>Scientist</th>\n",
       "      <td>81.687345</td>\n",
       "      <td>52.109181</td>\n",
       "      <td>42.431762</td>\n",
       "      <td>40.049628</td>\n",
       "      <td>76.079404</td>\n",
       "      <td>34.937965</td>\n",
       "      <td>43.672457</td>\n",
       "      <td>31.910670</td>\n",
       "      <td>25.607940</td>\n",
       "      <td>32.158809</td>\n",
       "      <td>...</td>\n",
       "      <td>2.382134</td>\n",
       "      <td>1.935484</td>\n",
       "      <td>2.034739</td>\n",
       "      <td>2.133995</td>\n",
       "      <td>2.630273</td>\n",
       "      <td>1.935484</td>\n",
       "      <td>2.431762</td>\n",
       "      <td>1.588089</td>\n",
       "      <td>1.637717</td>\n",
       "      <td>0.942928</td>\n",
       "    </tr>\n",
       "    <tr>\n",
       "      <th>Senior Executive (C-Suite, VP, etc.)</th>\n",
       "      <td>84.688540</td>\n",
       "      <td>66.096053</td>\n",
       "      <td>77.223015</td>\n",
       "      <td>63.195435</td>\n",
       "      <td>43.747028</td>\n",
       "      <td>59.771755</td>\n",
       "      <td>58.297670</td>\n",
       "      <td>46.742748</td>\n",
       "      <td>30.147408</td>\n",
       "      <td>59.486448</td>\n",
       "      <td>...</td>\n",
       "      <td>2.567760</td>\n",
       "      <td>2.995720</td>\n",
       "      <td>2.092249</td>\n",
       "      <td>2.948169</td>\n",
       "      <td>3.185925</td>\n",
       "      <td>2.900618</td>\n",
       "      <td>1.997147</td>\n",
       "      <td>1.854494</td>\n",
       "      <td>2.092249</td>\n",
       "      <td>2.234903</td>\n",
       "    </tr>\n",
       "    <tr>\n",
       "      <th>Developer, game or graphics</th>\n",
       "      <td>84.375000</td>\n",
       "      <td>72.206439</td>\n",
       "      <td>64.914773</td>\n",
       "      <td>55.160985</td>\n",
       "      <td>46.543561</td>\n",
       "      <td>41.145833</td>\n",
       "      <td>39.299242</td>\n",
       "      <td>43.844697</td>\n",
       "      <td>36.789773</td>\n",
       "      <td>34.753788</td>\n",
       "      <td>...</td>\n",
       "      <td>2.556818</td>\n",
       "      <td>1.846591</td>\n",
       "      <td>2.414773</td>\n",
       "      <td>2.793561</td>\n",
       "      <td>2.367424</td>\n",
       "      <td>2.035985</td>\n",
       "      <td>1.893939</td>\n",
       "      <td>1.373106</td>\n",
       "      <td>1.609848</td>\n",
       "      <td>1.136364</td>\n",
       "    </tr>\n",
       "    <tr>\n",
       "      <th>Educator</th>\n",
       "      <td>82.566484</td>\n",
       "      <td>65.512875</td>\n",
       "      <td>66.483748</td>\n",
       "      <td>60.869565</td>\n",
       "      <td>51.878430</td>\n",
       "      <td>50.189954</td>\n",
       "      <td>45.462220</td>\n",
       "      <td>47.868299</td>\n",
       "      <td>35.500211</td>\n",
       "      <td>36.513297</td>\n",
       "      <td>...</td>\n",
       "      <td>2.659350</td>\n",
       "      <td>2.279443</td>\n",
       "      <td>2.532714</td>\n",
       "      <td>2.321655</td>\n",
       "      <td>2.448290</td>\n",
       "      <td>1.857324</td>\n",
       "      <td>2.237231</td>\n",
       "      <td>1.477417</td>\n",
       "      <td>1.772900</td>\n",
       "      <td>1.308569</td>\n",
       "    </tr>\n",
       "    <tr>\n",
       "      <th>Engineer, site reliability</th>\n",
       "      <td>89.011438</td>\n",
       "      <td>67.606209</td>\n",
       "      <td>64.174837</td>\n",
       "      <td>52.205882</td>\n",
       "      <td>60.294118</td>\n",
       "      <td>57.843137</td>\n",
       "      <td>73.202614</td>\n",
       "      <td>49.550654</td>\n",
       "      <td>35.334967</td>\n",
       "      <td>60.825163</td>\n",
       "      <td>...</td>\n",
       "      <td>3.472222</td>\n",
       "      <td>6.699346</td>\n",
       "      <td>2.410131</td>\n",
       "      <td>1.919935</td>\n",
       "      <td>2.165033</td>\n",
       "      <td>3.145425</td>\n",
       "      <td>1.511438</td>\n",
       "      <td>1.633987</td>\n",
       "      <td>1.552288</td>\n",
       "      <td>2.900327</td>\n",
       "    </tr>\n",
       "    <tr>\n",
       "      <th>Academic researcher</th>\n",
       "      <td>80.131080</td>\n",
       "      <td>54.294584</td>\n",
       "      <td>44.394619</td>\n",
       "      <td>40.669196</td>\n",
       "      <td>72.093825</td>\n",
       "      <td>34.356675</td>\n",
       "      <td>43.118317</td>\n",
       "      <td>36.081407</td>\n",
       "      <td>28.285616</td>\n",
       "      <td>28.941014</td>\n",
       "      <td>...</td>\n",
       "      <td>2.311142</td>\n",
       "      <td>1.552259</td>\n",
       "      <td>1.759227</td>\n",
       "      <td>1.621249</td>\n",
       "      <td>1.897206</td>\n",
       "      <td>1.552259</td>\n",
       "      <td>2.690583</td>\n",
       "      <td>1.310797</td>\n",
       "      <td>1.552259</td>\n",
       "      <td>0.758882</td>\n",
       "    </tr>\n",
       "    <tr>\n",
       "      <th>Product manager</th>\n",
       "      <td>83.702017</td>\n",
       "      <td>70.364346</td>\n",
       "      <td>75.829538</td>\n",
       "      <td>66.070267</td>\n",
       "      <td>41.184125</td>\n",
       "      <td>59.694209</td>\n",
       "      <td>49.414444</td>\n",
       "      <td>50.390371</td>\n",
       "      <td>31.067014</td>\n",
       "      <td>47.462589</td>\n",
       "      <td>...</td>\n",
       "      <td>2.439818</td>\n",
       "      <td>2.407287</td>\n",
       "      <td>2.179571</td>\n",
       "      <td>2.016916</td>\n",
       "      <td>2.179571</td>\n",
       "      <td>1.821731</td>\n",
       "      <td>1.626545</td>\n",
       "      <td>1.919323</td>\n",
       "      <td>1.626545</td>\n",
       "      <td>1.073520</td>\n",
       "    </tr>\n",
       "    <tr>\n",
       "      <th>Other (please specify):</th>\n",
       "      <td>75.994358</td>\n",
       "      <td>61.100141</td>\n",
       "      <td>57.122708</td>\n",
       "      <td>50.126939</td>\n",
       "      <td>49.957687</td>\n",
       "      <td>43.638928</td>\n",
       "      <td>39.774330</td>\n",
       "      <td>35.430183</td>\n",
       "      <td>28.716502</td>\n",
       "      <td>32.863188</td>\n",
       "      <td>...</td>\n",
       "      <td>1.720733</td>\n",
       "      <td>1.861777</td>\n",
       "      <td>1.100141</td>\n",
       "      <td>1.607898</td>\n",
       "      <td>1.354020</td>\n",
       "      <td>1.071932</td>\n",
       "      <td>1.664316</td>\n",
       "      <td>1.015515</td>\n",
       "      <td>1.156559</td>\n",
       "      <td>0.818054</td>\n",
       "    </tr>\n",
       "    <tr>\n",
       "      <th>Developer, QA or test</th>\n",
       "      <td>86.901135</td>\n",
       "      <td>69.426752</td>\n",
       "      <td>72.445306</td>\n",
       "      <td>62.088064</td>\n",
       "      <td>47.576849</td>\n",
       "      <td>60.814179</td>\n",
       "      <td>52.783163</td>\n",
       "      <td>49.598449</td>\n",
       "      <td>40.847411</td>\n",
       "      <td>41.678205</td>\n",
       "      <td>...</td>\n",
       "      <td>2.215453</td>\n",
       "      <td>2.326225</td>\n",
       "      <td>2.076987</td>\n",
       "      <td>1.855442</td>\n",
       "      <td>1.661590</td>\n",
       "      <td>1.633896</td>\n",
       "      <td>1.301579</td>\n",
       "      <td>1.384658</td>\n",
       "      <td>1.301579</td>\n",
       "      <td>1.024647</td>\n",
       "    </tr>\n",
       "    <tr>\n",
       "      <th>Data or business analyst</th>\n",
       "      <td>75.158228</td>\n",
       "      <td>61.708861</td>\n",
       "      <td>57.700422</td>\n",
       "      <td>53.349156</td>\n",
       "      <td>57.937764</td>\n",
       "      <td>70.727848</td>\n",
       "      <td>39.372363</td>\n",
       "      <td>47.626582</td>\n",
       "      <td>27.874473</td>\n",
       "      <td>37.684599</td>\n",
       "      <td>...</td>\n",
       "      <td>2.900844</td>\n",
       "      <td>1.503165</td>\n",
       "      <td>2.056962</td>\n",
       "      <td>2.030591</td>\n",
       "      <td>1.450422</td>\n",
       "      <td>1.213080</td>\n",
       "      <td>2.083333</td>\n",
       "      <td>1.503165</td>\n",
       "      <td>1.661392</td>\n",
       "      <td>0.791139</td>\n",
       "    </tr>\n",
       "    <tr>\n",
       "      <th>Engineering manager</th>\n",
       "      <td>88.162730</td>\n",
       "      <td>68.687664</td>\n",
       "      <td>69.212598</td>\n",
       "      <td>54.671916</td>\n",
       "      <td>46.850394</td>\n",
       "      <td>55.984252</td>\n",
       "      <td>63.307087</td>\n",
       "      <td>43.018373</td>\n",
       "      <td>34.094488</td>\n",
       "      <td>58.950131</td>\n",
       "      <td>...</td>\n",
       "      <td>2.335958</td>\n",
       "      <td>3.595801</td>\n",
       "      <td>2.099738</td>\n",
       "      <td>2.598425</td>\n",
       "      <td>2.440945</td>\n",
       "      <td>2.572178</td>\n",
       "      <td>1.154856</td>\n",
       "      <td>1.338583</td>\n",
       "      <td>1.233596</td>\n",
       "      <td>1.522310</td>\n",
       "    </tr>\n",
       "    <tr>\n",
       "      <th>Engineer, data</th>\n",
       "      <td>85.847701</td>\n",
       "      <td>65.158046</td>\n",
       "      <td>55.244253</td>\n",
       "      <td>45.881226</td>\n",
       "      <td>71.240421</td>\n",
       "      <td>64.056513</td>\n",
       "      <td>58.955939</td>\n",
       "      <td>46.479885</td>\n",
       "      <td>36.398467</td>\n",
       "      <td>50.670498</td>\n",
       "      <td>...</td>\n",
       "      <td>2.298851</td>\n",
       "      <td>2.298851</td>\n",
       "      <td>2.250958</td>\n",
       "      <td>1.963602</td>\n",
       "      <td>1.652299</td>\n",
       "      <td>1.532567</td>\n",
       "      <td>1.364943</td>\n",
       "      <td>1.101533</td>\n",
       "      <td>1.484674</td>\n",
       "      <td>0.981801</td>\n",
       "    </tr>\n",
       "    <tr>\n",
       "      <th>Student</th>\n",
       "      <td>81.227609</td>\n",
       "      <td>76.570337</td>\n",
       "      <td>67.040841</td>\n",
       "      <td>64.461428</td>\n",
       "      <td>61.046095</td>\n",
       "      <td>47.790781</td>\n",
       "      <td>34.583234</td>\n",
       "      <td>51.325531</td>\n",
       "      <td>43.706711</td>\n",
       "      <td>25.650824</td>\n",
       "      <td>...</td>\n",
       "      <td>1.576308</td>\n",
       "      <td>1.003105</td>\n",
       "      <td>1.695725</td>\n",
       "      <td>1.146406</td>\n",
       "      <td>0.931455</td>\n",
       "      <td>0.931455</td>\n",
       "      <td>1.218056</td>\n",
       "      <td>0.692620</td>\n",
       "      <td>0.764270</td>\n",
       "      <td>0.549319</td>\n",
       "    </tr>\n",
       "    <tr>\n",
       "      <th>Data scientist or machine learning specialist</th>\n",
       "      <td>83.992511</td>\n",
       "      <td>61.947110</td>\n",
       "      <td>45.401357</td>\n",
       "      <td>39.995319</td>\n",
       "      <td>86.051954</td>\n",
       "      <td>53.147671</td>\n",
       "      <td>53.592324</td>\n",
       "      <td>41.048444</td>\n",
       "      <td>27.521648</td>\n",
       "      <td>45.494968</td>\n",
       "      <td>...</td>\n",
       "      <td>2.059443</td>\n",
       "      <td>1.708402</td>\n",
       "      <td>1.614791</td>\n",
       "      <td>1.708402</td>\n",
       "      <td>1.404166</td>\n",
       "      <td>1.029722</td>\n",
       "      <td>1.123333</td>\n",
       "      <td>0.842499</td>\n",
       "      <td>1.123333</td>\n",
       "      <td>0.702083</td>\n",
       "    </tr>\n",
       "    <tr>\n",
       "      <th>Developer, embedded applications or devices</th>\n",
       "      <td>85.406699</td>\n",
       "      <td>66.702914</td>\n",
       "      <td>54.219226</td>\n",
       "      <td>44.910831</td>\n",
       "      <td>56.655067</td>\n",
       "      <td>42.235755</td>\n",
       "      <td>46.476729</td>\n",
       "      <td>39.973902</td>\n",
       "      <td>33.318834</td>\n",
       "      <td>31.143976</td>\n",
       "      <td>...</td>\n",
       "      <td>1.870378</td>\n",
       "      <td>1.544150</td>\n",
       "      <td>1.696390</td>\n",
       "      <td>1.739887</td>\n",
       "      <td>1.370161</td>\n",
       "      <td>1.652893</td>\n",
       "      <td>1.304915</td>\n",
       "      <td>1.413658</td>\n",
       "      <td>1.391910</td>\n",
       "      <td>0.652458</td>\n",
       "    </tr>\n",
       "    <tr>\n",
       "      <th>Designer</th>\n",
       "      <td>79.028410</td>\n",
       "      <td>69.551074</td>\n",
       "      <td>77.770549</td>\n",
       "      <td>71.914986</td>\n",
       "      <td>39.947951</td>\n",
       "      <td>57.688137</td>\n",
       "      <td>35.653871</td>\n",
       "      <td>52.201258</td>\n",
       "      <td>32.530904</td>\n",
       "      <td>33.571893</td>\n",
       "      <td>...</td>\n",
       "      <td>1.995229</td>\n",
       "      <td>1.344611</td>\n",
       "      <td>2.016916</td>\n",
       "      <td>1.518109</td>\n",
       "      <td>1.518109</td>\n",
       "      <td>1.214487</td>\n",
       "      <td>1.366298</td>\n",
       "      <td>1.387985</td>\n",
       "      <td>1.561483</td>\n",
       "      <td>0.845804</td>\n",
       "    </tr>\n",
       "    <tr>\n",
       "      <th>Database administrator</th>\n",
       "      <td>82.068966</td>\n",
       "      <td>67.285588</td>\n",
       "      <td>76.622458</td>\n",
       "      <td>69.000884</td>\n",
       "      <td>44.491600</td>\n",
       "      <td>78.832891</td>\n",
       "      <td>48.240495</td>\n",
       "      <td>56.710875</td>\n",
       "      <td>32.254642</td>\n",
       "      <td>42.122016</td>\n",
       "      <td>...</td>\n",
       "      <td>2.175066</td>\n",
       "      <td>2.139699</td>\n",
       "      <td>1.715296</td>\n",
       "      <td>1.821397</td>\n",
       "      <td>1.644562</td>\n",
       "      <td>1.573828</td>\n",
       "      <td>1.061008</td>\n",
       "      <td>1.786030</td>\n",
       "      <td>1.503095</td>\n",
       "      <td>0.972591</td>\n",
       "    </tr>\n",
       "    <tr>\n",
       "      <th>System administrator</th>\n",
       "      <td>84.800132</td>\n",
       "      <td>65.767396</td>\n",
       "      <td>72.594177</td>\n",
       "      <td>65.323244</td>\n",
       "      <td>51.850633</td>\n",
       "      <td>63.974338</td>\n",
       "      <td>55.453200</td>\n",
       "      <td>55.486100</td>\n",
       "      <td>32.406646</td>\n",
       "      <td>42.786643</td>\n",
       "      <td>...</td>\n",
       "      <td>2.270110</td>\n",
       "      <td>3.076164</td>\n",
       "      <td>1.447607</td>\n",
       "      <td>1.546307</td>\n",
       "      <td>1.677908</td>\n",
       "      <td>1.645007</td>\n",
       "      <td>1.118605</td>\n",
       "      <td>1.513407</td>\n",
       "      <td>1.250206</td>\n",
       "      <td>0.937654</td>\n",
       "    </tr>\n",
       "    <tr>\n",
       "      <th>DevOps specialist</th>\n",
       "      <td>92.079909</td>\n",
       "      <td>71.918390</td>\n",
       "      <td>70.147351</td>\n",
       "      <td>57.650893</td>\n",
       "      <td>54.023803</td>\n",
       "      <td>59.407764</td>\n",
       "      <td>76.494758</td>\n",
       "      <td>45.962029</td>\n",
       "      <td>36.341740</td>\n",
       "      <td>56.559932</td>\n",
       "      <td>...</td>\n",
       "      <td>2.224426</td>\n",
       "      <td>5.001417</td>\n",
       "      <td>1.785208</td>\n",
       "      <td>1.884387</td>\n",
       "      <td>1.445169</td>\n",
       "      <td>1.615188</td>\n",
       "      <td>0.765089</td>\n",
       "      <td>1.232644</td>\n",
       "      <td>0.991782</td>\n",
       "      <td>2.068575</td>\n",
       "    </tr>\n",
       "    <tr>\n",
       "      <th>Developer, mobile</th>\n",
       "      <td>85.469388</td>\n",
       "      <td>71.918367</td>\n",
       "      <td>68.397959</td>\n",
       "      <td>57.418367</td>\n",
       "      <td>31.693878</td>\n",
       "      <td>46.846939</td>\n",
       "      <td>37.673469</td>\n",
       "      <td>49.765306</td>\n",
       "      <td>46.285714</td>\n",
       "      <td>38.091837</td>\n",
       "      <td>...</td>\n",
       "      <td>1.306122</td>\n",
       "      <td>1.051020</td>\n",
       "      <td>2.020408</td>\n",
       "      <td>1.040816</td>\n",
       "      <td>1.683673</td>\n",
       "      <td>0.846939</td>\n",
       "      <td>0.765306</td>\n",
       "      <td>0.744898</td>\n",
       "      <td>0.857143</td>\n",
       "      <td>0.520408</td>\n",
       "    </tr>\n",
       "    <tr>\n",
       "      <th>Developer, desktop or enterprise applications</th>\n",
       "      <td>82.992026</td>\n",
       "      <td>69.101124</td>\n",
       "      <td>63.048206</td>\n",
       "      <td>54.340341</td>\n",
       "      <td>39.054005</td>\n",
       "      <td>57.856107</td>\n",
       "      <td>42.216383</td>\n",
       "      <td>40.712215</td>\n",
       "      <td>36.544038</td>\n",
       "      <td>31.524103</td>\n",
       "      <td>...</td>\n",
       "      <td>1.776006</td>\n",
       "      <td>1.350127</td>\n",
       "      <td>1.395433</td>\n",
       "      <td>2.011598</td>\n",
       "      <td>1.060167</td>\n",
       "      <td>0.878942</td>\n",
       "      <td>0.851758</td>\n",
       "      <td>0.996738</td>\n",
       "      <td>1.223269</td>\n",
       "      <td>0.552736</td>\n",
       "    </tr>\n",
       "    <tr>\n",
       "      <th>Developer, front-end</th>\n",
       "      <td>86.248697</td>\n",
       "      <td>78.020953</td>\n",
       "      <td>87.740662</td>\n",
       "      <td>76.616752</td>\n",
       "      <td>32.532500</td>\n",
       "      <td>51.648291</td>\n",
       "      <td>44.857660</td>\n",
       "      <td>48.922166</td>\n",
       "      <td>31.128298</td>\n",
       "      <td>39.334101</td>\n",
       "      <td>...</td>\n",
       "      <td>1.124458</td>\n",
       "      <td>0.970874</td>\n",
       "      <td>1.815589</td>\n",
       "      <td>1.080577</td>\n",
       "      <td>1.064122</td>\n",
       "      <td>0.844715</td>\n",
       "      <td>0.554001</td>\n",
       "      <td>0.636279</td>\n",
       "      <td>0.707586</td>\n",
       "      <td>0.427843</td>\n",
       "    </tr>\n",
       "    <tr>\n",
       "      <th>Developer, back-end</th>\n",
       "      <td>87.850435</td>\n",
       "      <td>68.917478</td>\n",
       "      <td>67.551856</td>\n",
       "      <td>54.009150</td>\n",
       "      <td>43.159850</td>\n",
       "      <td>57.947783</td>\n",
       "      <td>57.249493</td>\n",
       "      <td>47.700458</td>\n",
       "      <td>38.079185</td>\n",
       "      <td>45.381996</td>\n",
       "      <td>...</td>\n",
       "      <td>1.300265</td>\n",
       "      <td>1.596092</td>\n",
       "      <td>1.210829</td>\n",
       "      <td>1.300265</td>\n",
       "      <td>0.997558</td>\n",
       "      <td>1.300265</td>\n",
       "      <td>0.474700</td>\n",
       "      <td>0.736129</td>\n",
       "      <td>0.632933</td>\n",
       "      <td>0.639813</td>\n",
       "    </tr>\n",
       "    <tr>\n",
       "      <th>Developer, full-stack</th>\n",
       "      <td>87.938950</td>\n",
       "      <td>76.154571</td>\n",
       "      <td>85.065823</td>\n",
       "      <td>70.973823</td>\n",
       "      <td>37.864461</td>\n",
       "      <td>59.840078</td>\n",
       "      <td>53.087471</td>\n",
       "      <td>49.211030</td>\n",
       "      <td>34.401508</td>\n",
       "      <td>44.924143</td>\n",
       "      <td>...</td>\n",
       "      <td>1.112766</td>\n",
       "      <td>1.334712</td>\n",
       "      <td>1.456325</td>\n",
       "      <td>1.264784</td>\n",
       "      <td>0.978991</td>\n",
       "      <td>0.902983</td>\n",
       "      <td>0.392205</td>\n",
       "      <td>0.665836</td>\n",
       "      <td>0.608069</td>\n",
       "      <td>0.529020</td>\n",
       "    </tr>\n",
       "  </tbody>\n",
       "</table>\n",
       "<p>25 rows × 125 columns</p>\n",
       "</div>"
      ],
      "text/plain": [
       "                                                     Git  Visual Studio Code  \\\n",
       "Marketing or sales professional                70.062696           61.285266   \n",
       "Scientist                                      81.687345           52.109181   \n",
       "Senior Executive (C-Suite, VP, etc.)           84.688540           66.096053   \n",
       "Developer, game or graphics                    84.375000           72.206439   \n",
       "Educator                                       82.566484           65.512875   \n",
       "Engineer, site reliability                     89.011438           67.606209   \n",
       "Academic researcher                            80.131080           54.294584   \n",
       "Product manager                                83.702017           70.364346   \n",
       "Other (please specify):                        75.994358           61.100141   \n",
       "Developer, QA or test                          86.901135           69.426752   \n",
       "Data or business analyst                       75.158228           61.708861   \n",
       "Engineering manager                            88.162730           68.687664   \n",
       "Engineer, data                                 85.847701           65.158046   \n",
       "Student                                        81.227609           76.570337   \n",
       "Data scientist or machine learning specialist  83.992511           61.947110   \n",
       "Developer, embedded applications or devices    85.406699           66.702914   \n",
       "Designer                                       79.028410           69.551074   \n",
       "Database administrator                         82.068966           67.285588   \n",
       "System administrator                           84.800132           65.767396   \n",
       "DevOps specialist                              92.079909           71.918390   \n",
       "Developer, mobile                              85.469388           71.918367   \n",
       "Developer, desktop or enterprise applications  82.992026           69.101124   \n",
       "Developer, front-end                           86.248697           78.020953   \n",
       "Developer, back-end                            87.850435           68.917478   \n",
       "Developer, full-stack                          87.938950           76.154571   \n",
       "\n",
       "                                               JavaScript   HTML/CSS  \\\n",
       "Marketing or sales professional                 71.943574  71.316614   \n",
       "Scientist                                       42.431762  40.049628   \n",
       "Senior Executive (C-Suite, VP, etc.)            77.223015  63.195435   \n",
       "Developer, game or graphics                     64.914773  55.160985   \n",
       "Educator                                        66.483748  60.869565   \n",
       "Engineer, site reliability                      64.174837  52.205882   \n",
       "Academic researcher                             44.394619  40.669196   \n",
       "Product manager                                 75.829538  66.070267   \n",
       "Other (please specify):                         57.122708  50.126939   \n",
       "Developer, QA or test                           72.445306  62.088064   \n",
       "Data or business analyst                        57.700422  53.349156   \n",
       "Engineering manager                             69.212598  54.671916   \n",
       "Engineer, data                                  55.244253  45.881226   \n",
       "Student                                         67.040841  64.461428   \n",
       "Data scientist or machine learning specialist   45.401357  39.995319   \n",
       "Developer, embedded applications or devices     54.219226  44.910831   \n",
       "Designer                                        77.770549  71.914986   \n",
       "Database administrator                          76.622458  69.000884   \n",
       "System administrator                            72.594177  65.323244   \n",
       "DevOps specialist                               70.147351  57.650893   \n",
       "Developer, mobile                               68.397959  57.418367   \n",
       "Developer, desktop or enterprise applications   63.048206  54.340341   \n",
       "Developer, front-end                            87.740662  76.616752   \n",
       "Developer, back-end                             67.551856  54.009150   \n",
       "Developer, full-stack                           85.065823  70.973823   \n",
       "\n",
       "                                                  Python        SQL  \\\n",
       "Marketing or sales professional                40.909091  57.053292   \n",
       "Scientist                                      76.079404  34.937965   \n",
       "Senior Executive (C-Suite, VP, etc.)           43.747028  59.771755   \n",
       "Developer, game or graphics                    46.543561  41.145833   \n",
       "Educator                                       51.878430  50.189954   \n",
       "Engineer, site reliability                     60.294118  57.843137   \n",
       "Academic researcher                            72.093825  34.356675   \n",
       "Product manager                                41.184125  59.694209   \n",
       "Other (please specify):                        49.957687  43.638928   \n",
       "Developer, QA or test                          47.576849  60.814179   \n",
       "Data or business analyst                       57.937764  70.727848   \n",
       "Engineering manager                            46.850394  55.984252   \n",
       "Engineer, data                                 71.240421  64.056513   \n",
       "Student                                        61.046095  47.790781   \n",
       "Data scientist or machine learning specialist  86.051954  53.147671   \n",
       "Developer, embedded applications or devices    56.655067  42.235755   \n",
       "Designer                                       39.947951  57.688137   \n",
       "Database administrator                         44.491600  78.832891   \n",
       "System administrator                           51.850633  63.974338   \n",
       "DevOps specialist                              54.023803  59.407764   \n",
       "Developer, mobile                              31.693878  46.846939   \n",
       "Developer, desktop or enterprise applications  39.054005  57.856107   \n",
       "Developer, front-end                           32.532500  51.648291   \n",
       "Developer, back-end                            43.159850  57.947783   \n",
       "Developer, full-stack                          37.864461  59.840078   \n",
       "\n",
       "                                                  Docker      MySQL  \\\n",
       "Marketing or sales professional                32.601881  54.075235   \n",
       "Scientist                                      43.672457  31.910670   \n",
       "Senior Executive (C-Suite, VP, etc.)           58.297670  46.742748   \n",
       "Developer, game or graphics                    39.299242  43.844697   \n",
       "Educator                                       45.462220  47.868299   \n",
       "Engineer, site reliability                     73.202614  49.550654   \n",
       "Academic researcher                            43.118317  36.081407   \n",
       "Product manager                                49.414444  50.390371   \n",
       "Other (please specify):                        39.774330  35.430183   \n",
       "Developer, QA or test                          52.783163  49.598449   \n",
       "Data or business analyst                       39.372363  47.626582   \n",
       "Engineering manager                            63.307087  43.018373   \n",
       "Engineer, data                                 58.955939  46.479885   \n",
       "Student                                        34.583234  51.325531   \n",
       "Data scientist or machine learning specialist  53.592324  41.048444   \n",
       "Developer, embedded applications or devices    46.476729  39.973902   \n",
       "Designer                                       35.653871  52.201258   \n",
       "Database administrator                         48.240495  56.710875   \n",
       "System administrator                           55.453200  55.486100   \n",
       "DevOps specialist                              76.494758  45.962029   \n",
       "Developer, mobile                              37.673469  49.765306   \n",
       "Developer, desktop or enterprise applications  42.216383  40.712215   \n",
       "Developer, front-end                           44.857660  48.922166   \n",
       "Developer, back-end                            57.249493  47.700458   \n",
       "Developer, full-stack                          53.087471  49.211030   \n",
       "\n",
       "                                                    Java        AWS  ...  \\\n",
       "Marketing or sales professional                27.586207  43.260188  ...   \n",
       "Scientist                                      25.607940  32.158809  ...   \n",
       "Senior Executive (C-Suite, VP, etc.)           30.147408  59.486448  ...   \n",
       "Developer, game or graphics                    36.789773  34.753788  ...   \n",
       "Educator                                       35.500211  36.513297  ...   \n",
       "Engineer, site reliability                     35.334967  60.825163  ...   \n",
       "Academic researcher                            28.285616  28.941014  ...   \n",
       "Product manager                                31.067014  47.462589  ...   \n",
       "Other (please specify):                        28.716502  32.863188  ...   \n",
       "Developer, QA or test                          40.847411  41.678205  ...   \n",
       "Data or business analyst                       27.874473  37.684599  ...   \n",
       "Engineering manager                            34.094488  58.950131  ...   \n",
       "Engineer, data                                 36.398467  50.670498  ...   \n",
       "Student                                        43.706711  25.650824  ...   \n",
       "Data scientist or machine learning specialist  27.521648  45.494968  ...   \n",
       "Developer, embedded applications or devices    33.318834  31.143976  ...   \n",
       "Designer                                       32.530904  33.571893  ...   \n",
       "Database administrator                         32.254642  42.122016  ...   \n",
       "System administrator                           32.406646  42.786643  ...   \n",
       "DevOps specialist                              36.341740  56.559932  ...   \n",
       "Developer, mobile                              46.285714  38.091837  ...   \n",
       "Developer, desktop or enterprise applications  36.544038  31.524103  ...   \n",
       "Developer, front-end                           31.128298  39.334101  ...   \n",
       "Developer, back-end                            38.079185  45.381996  ...   \n",
       "Developer, full-stack                          34.401508  44.924143  ...   \n",
       "\n",
       "                                               Oracle Cloud Infrastructure  \\\n",
       "Marketing or sales professional                                   7.366771   \n",
       "Scientist                                                         2.382134   \n",
       "Senior Executive (C-Suite, VP, etc.)                              2.567760   \n",
       "Developer, game or graphics                                       2.556818   \n",
       "Educator                                                          2.659350   \n",
       "Engineer, site reliability                                        3.472222   \n",
       "Academic researcher                                               2.311142   \n",
       "Product manager                                                   2.439818   \n",
       "Other (please specify):                                           1.720733   \n",
       "Developer, QA or test                                             2.215453   \n",
       "Data or business analyst                                          2.900844   \n",
       "Engineering manager                                               2.335958   \n",
       "Engineer, data                                                    2.298851   \n",
       "Student                                                           1.576308   \n",
       "Data scientist or machine learning specialist                     2.059443   \n",
       "Developer, embedded applications or devices                       1.870378   \n",
       "Designer                                                          1.995229   \n",
       "Database administrator                                            2.175066   \n",
       "System administrator                                              2.270110   \n",
       "DevOps specialist                                                 2.224426   \n",
       "Developer, mobile                                                 1.306122   \n",
       "Developer, desktop or enterprise applications                     1.776006   \n",
       "Developer, front-end                                              1.124458   \n",
       "Developer, back-end                                               1.300265   \n",
       "Developer, full-stack                                             1.112766   \n",
       "\n",
       "                                                   Chef      Flow        F#  \\\n",
       "Marketing or sales professional                5.642633  4.545455  4.388715   \n",
       "Scientist                                      1.935484  2.034739  2.133995   \n",
       "Senior Executive (C-Suite, VP, etc.)           2.995720  2.092249  2.948169   \n",
       "Developer, game or graphics                    1.846591  2.414773  2.793561   \n",
       "Educator                                       2.279443  2.532714  2.321655   \n",
       "Engineer, site reliability                     6.699346  2.410131  1.919935   \n",
       "Academic researcher                            1.552259  1.759227  1.621249   \n",
       "Product manager                                2.407287  2.179571  2.016916   \n",
       "Other (please specify):                        1.861777  1.100141  1.607898   \n",
       "Developer, QA or test                          2.326225  2.076987  1.855442   \n",
       "Data or business analyst                       1.503165  2.056962  2.030591   \n",
       "Engineering manager                            3.595801  2.099738  2.598425   \n",
       "Engineer, data                                 2.298851  2.250958  1.963602   \n",
       "Student                                        1.003105  1.695725  1.146406   \n",
       "Data scientist or machine learning specialist  1.708402  1.614791  1.708402   \n",
       "Developer, embedded applications or devices    1.544150  1.696390  1.739887   \n",
       "Designer                                       1.344611  2.016916  1.518109   \n",
       "Database administrator                         2.139699  1.715296  1.821397   \n",
       "System administrator                           3.076164  1.447607  1.546307   \n",
       "DevOps specialist                              5.001417  1.785208  1.884387   \n",
       "Developer, mobile                              1.051020  2.020408  1.040816   \n",
       "Developer, desktop or enterprise applications  1.350127  1.395433  2.011598   \n",
       "Developer, front-end                           0.970874  1.815589  1.080577   \n",
       "Developer, back-end                            1.596092  1.210829  1.300265   \n",
       "Developer, full-stack                          1.334712  1.456325  1.264784   \n",
       "\n",
       "                                               TextMate    Erlang       APL  \\\n",
       "Marketing or sales professional                5.172414  3.761755  5.642633   \n",
       "Scientist                                      2.630273  1.935484  2.431762   \n",
       "Senior Executive (C-Suite, VP, etc.)           3.185925  2.900618  1.997147   \n",
       "Developer, game or graphics                    2.367424  2.035985  1.893939   \n",
       "Educator                                       2.448290  1.857324  2.237231   \n",
       "Engineer, site reliability                     2.165033  3.145425  1.511438   \n",
       "Academic researcher                            1.897206  1.552259  2.690583   \n",
       "Product manager                                2.179571  1.821731  1.626545   \n",
       "Other (please specify):                        1.354020  1.071932  1.664316   \n",
       "Developer, QA or test                          1.661590  1.633896  1.301579   \n",
       "Data or business analyst                       1.450422  1.213080  2.083333   \n",
       "Engineering manager                            2.440945  2.572178  1.154856   \n",
       "Engineer, data                                 1.652299  1.532567  1.364943   \n",
       "Student                                        0.931455  0.931455  1.218056   \n",
       "Data scientist or machine learning specialist  1.404166  1.029722  1.123333   \n",
       "Developer, embedded applications or devices    1.370161  1.652893  1.304915   \n",
       "Designer                                       1.518109  1.214487  1.366298   \n",
       "Database administrator                         1.644562  1.573828  1.061008   \n",
       "System administrator                           1.677908  1.645007  1.118605   \n",
       "DevOps specialist                              1.445169  1.615188  0.765089   \n",
       "Developer, mobile                              1.683673  0.846939  0.765306   \n",
       "Developer, desktop or enterprise applications  1.060167  0.878942  0.851758   \n",
       "Developer, front-end                           1.064122  0.844715  0.554001   \n",
       "Developer, back-end                            0.997558  1.300265  0.474700   \n",
       "Developer, full-stack                          0.978991  0.902983  0.392205   \n",
       "\n",
       "                                                Crystal     COBOL    Pulumi  \n",
       "Marketing or sales professional                4.231975  3.761755  3.761755  \n",
       "Scientist                                      1.588089  1.637717  0.942928  \n",
       "Senior Executive (C-Suite, VP, etc.)           1.854494  2.092249  2.234903  \n",
       "Developer, game or graphics                    1.373106  1.609848  1.136364  \n",
       "Educator                                       1.477417  1.772900  1.308569  \n",
       "Engineer, site reliability                     1.633987  1.552288  2.900327  \n",
       "Academic researcher                            1.310797  1.552259  0.758882  \n",
       "Product manager                                1.919323  1.626545  1.073520  \n",
       "Other (please specify):                        1.015515  1.156559  0.818054  \n",
       "Developer, QA or test                          1.384658  1.301579  1.024647  \n",
       "Data or business analyst                       1.503165  1.661392  0.791139  \n",
       "Engineering manager                            1.338583  1.233596  1.522310  \n",
       "Engineer, data                                 1.101533  1.484674  0.981801  \n",
       "Student                                        0.692620  0.764270  0.549319  \n",
       "Data scientist or machine learning specialist  0.842499  1.123333  0.702083  \n",
       "Developer, embedded applications or devices    1.413658  1.391910  0.652458  \n",
       "Designer                                       1.387985  1.561483  0.845804  \n",
       "Database administrator                         1.786030  1.503095  0.972591  \n",
       "System administrator                           1.513407  1.250206  0.937654  \n",
       "DevOps specialist                              1.232644  0.991782  2.068575  \n",
       "Developer, mobile                              0.744898  0.857143  0.520408  \n",
       "Developer, desktop or enterprise applications  0.996738  1.223269  0.552736  \n",
       "Developer, front-end                           0.636279  0.707586  0.427843  \n",
       "Developer, back-end                            0.736129  0.632933  0.639813  \n",
       "Developer, full-stack                          0.665836  0.608069  0.529020  \n",
       "\n",
       "[25 rows x 125 columns]"
      ]
     },
     "execution_count": 15,
     "metadata": {},
     "output_type": "execute_result"
    }
   ],
   "source": [
    "skills"
   ]
  },
  {
   "cell_type": "markdown",
   "metadata": {
    "collapsed": false
   },
   "source": []
  },
  {
   "cell_type": "code",
   "execution_count": 17,
   "metadata": {
    "collapsed": false,
    "pycharm": {
     "name": "#%%\n"
    }
   },
   "outputs": [
    {
     "data": {
      "application/vnd.plotly.v1+json": {
       "config": {
        "plotlyServerURL": "https://plot.ly"
       },
       "data": [
        {
         "colorscale": [
          [
           0,
           "#000004"
          ],
          [
           0.1111111111111111,
           "#180f3d"
          ],
          [
           0.2222222222222222,
           "#440f76"
          ],
          [
           0.3333333333333333,
           "#721f81"
          ],
          [
           0.4444444444444444,
           "#9e2f7f"
          ],
          [
           0.5555555555555556,
           "#cd4071"
          ],
          [
           0.6666666666666666,
           "#f1605d"
          ],
          [
           0.7777777777777778,
           "#fd9668"
          ],
          [
           0.8888888888888888,
           "#feca8d"
          ],
          [
           1,
           "#fcfdbf"
          ]
         ],
         "type": "heatmap",
         "x": [
          "Git",
          "Visual Studio Code",
          "JavaScript",
          "HTML/CSS",
          "Python",
          "SQL",
          "Docker",
          "MySQL",
          "Java",
          "AWS",
          "PostgreSQL",
          "Node.js",
          "Visual Studio",
          "React.js",
          "TypeScript",
          "Notepad++",
          "IntelliJ",
          "C#",
          "SQLite",
          "Bash/Shell",
          "jQuery",
          "C++",
          "Vim",
          "MongoDB",
          "Microsoft SQL Server",
          "Android Studio",
          "PHP",
          "C",
          "Sublime Text",
          "Google Cloud Platform",
          ".NET Framework",
          "Microsoft Azure",
          "NumPy",
          "PyCharm",
          ".NET Core / .NET 5",
          "Express",
          "Redis",
          "Angular",
          "Pandas",
          "Eclipse",
          "Yarn",
          "Heroku",
          "Kubernetes",
          "MariaDB",
          "Vue.js",
          "ASP.NET Core ",
          "Firebase",
          "Atom",
          "IPython/Jupyter",
          "Flask",
          "ASP.NET",
          "DigitalOcean",
          "Django",
          "Elasticsearch",
          "Spring",
          "Xcode",
          "PowerShell",
          "Oracle",
          "TensorFlow",
          "Go",
          "Angular.js",
          "Unity 3D",
          "React Native",
          "Kotlin",
          "Flutter",
          "Webstorm",
          "Laravel",
          "PHPStorm",
          "NetBeans",
          "Rust",
          "Ansible",
          "Ruby",
          "Terraform",
          "DynamoDB",
          "Dart",
          "Keras",
          "Qt",
          "Torch/PyTorch",
          "Assembly",
          "Ruby on Rails",
          "Emacs",
          "Swift",
          "R",
          "Neovim",
          "VBA",
          "Matlab",
          "Cordova",
          "Rider",
          "RStudio",
          "Xamarin",
          "Apache Spark",
          "Gatsby",
          "Groovy",
          "FastAPI",
          "Symfony",
          "Unreal Engine",
          "Objective-C",
          "Hadoop",
          "Scala",
          "Perl",
          "Cassandra",
          "Haskell",
          "Svelte",
          "Delphi",
          "Clojure",
          "Drupal",
          "IBM DB2",
          "Elixir",
          "IBM Cloud or Watson",
          "Puppet",
          "RubyMine",
          "Couchbase",
          "LISP",
          "Julia",
          "Deno",
          "Oracle Cloud Infrastructure",
          "Chef",
          "Flow",
          "F#",
          "TextMate",
          "Erlang",
          "APL",
          "Crystal",
          "COBOL",
          "Pulumi"
         ],
         "y": [
          "Marketing or sales professional",
          "Scientist",
          "Senior Executive (C-Suite, VP, etc.)",
          "Developer, game or graphics",
          "Educator",
          "Engineer, site reliability",
          "Academic researcher",
          "Product manager",
          "Other (please specify):",
          "Developer, QA or test",
          "Data or business analyst",
          "Engineering manager",
          "Engineer, data",
          "Student",
          "Data scientist or machine learning specialist",
          "Developer, embedded applications or devices",
          "Designer",
          "Database administrator",
          "System administrator",
          "DevOps specialist",
          "Developer, mobile",
          "Developer, desktop or enterprise applications",
          "Developer, front-end",
          "Developer, back-end",
          "Developer, full-stack"
         ],
         "ygap": 1,
         "z": [
          [
           70.0626959247649,
           61.28526645768025,
           71.9435736677116,
           71.31661442006269,
           40.909090909090914,
           57.05329153605015,
           32.60188087774294,
           54.075235109717866,
           27.586206896551722,
           43.260188087774296,
           31.504702194357364,
           39.341692789968654,
           33.38557993730408,
           28.683385579937305,
           25.391849529780565,
           36.05015673981191,
           18.96551724137931,
           28.369905956112852,
           35.42319749216301,
           29.310344827586203,
           42.78996865203762,
           22.884012539184955,
           20.06269592476489,
           24.137931034482758,
           27.74294670846395,
           29.46708463949843,
           42.00626959247649,
           21.316614420062695,
           27.11598746081505,
           34.01253918495298,
           23.981191222570533,
           25.07836990595611,
           15.673981191222571,
           16.30094043887147,
           18.495297805642632,
           18.808777429467085,
           16.144200626959247,
           18.495297805642632,
           15.987460815047022,
           17.711598746081506,
           15.517241379310345,
           18.025078369905955,
           13.94984326018809,
           25.862068965517242,
           19.74921630094044,
           15.517241379310345,
           21.630094043887148,
           19.74921630094044,
           11.285266457680251,
           12.225705329153605,
           16.614420062695924,
           21.9435736677116,
           13.94984326018809,
           10.815047021943574,
           7.993730407523511,
           19.59247648902821,
           15.203761755485893,
           13.94984326018809,
           11.128526645768025,
           10.9717868338558,
           14.733542319749215,
           14.263322884012538,
           12.695924764890282,
           10.031347962382444,
           12.539184952978054,
           9.87460815047022,
           13.94984326018809,
           12.695924764890282,
           11.442006269592477,
           5.956112852664576,
           10.658307210031348,
           10.658307210031348,
           7.366771159874608,
           7.6802507836990594,
           8.463949843260188,
           5.799373040752351,
           9.404388714733543,
           7.053291536050156,
           8.463949843260188,
           9.87460815047022,
           8.307210031347962,
           10.18808777429467,
           9.090909090909092,
           5.172413793103448,
           12.539184952978054,
           5.956112852664576,
           11.755485893416928,
           5.329153605015674,
           7.6802507836990594,
           9.404388714733543,
           7.6802507836990594,
           7.836990595611286,
           4.075235109717868,
           5.6426332288401255,
           8.620689655172415,
           8.77742946708464,
           6.896551724137931,
           6.583072100313479,
           3.761755485893417,
           6.269592476489027,
           7.053291536050156,
           3.605015673981191,
           6.739811912225706,
           7.366771159874608,
           4.231974921630094,
           9.404388714733543,
           5.4858934169279,
           4.38871473354232,
           6.896551724137931,
           5.329153605015674,
           3.918495297805643,
           5.4858934169279,
           3.761755485893417,
           2.664576802507837,
           4.38871473354232,
           7.366771159874608,
           5.6426332288401255,
           4.545454545454546,
           4.38871473354232,
           5.172413793103448,
           3.761755485893417,
           5.6426332288401255,
           4.231974921630094,
           3.761755485893417,
           3.761755485893417
          ],
          [
           81.68734491315136,
           52.10918114143921,
           42.4317617866005,
           40.049627791563275,
           76.07940446650124,
           34.93796526054591,
           43.67245657568238,
           31.910669975186106,
           25.607940446650122,
           32.15880893300248,
           33.30024813895782,
           20.794044665012407,
           24.367245657568237,
           16.62531017369727,
           14.590570719602978,
           30.42183622828784,
           19.404466501240694,
           17.866004962779154,
           33.79652605459057,
           40.94292803970223,
           19.950372208436725,
           41.38957816377171,
           34.98759305210918,
           18.16377171215881,
           15.732009925558312,
           15.186104218362285,
           15.930521091811414,
           34.59057071960297,
           20.794044665012407,
           21.042183622828784,
           14.1439205955335,
           16.62531017369727,
           56.67493796526054,
           25.707196029776675,
           11.811414392059554,
           9.67741935483871,
           11.464019851116625,
           9.13151364764268,
           45.95533498759305,
           15.781637717121589,
           8.337468982630273,
           10.272952853598015,
           12.853598014888338,
           15.037220843672456,
           11.166253101736972,
           7.0471464019851116,
           7.890818858560794,
           16.17866004962779,
           35.68238213399504,
           19.55334987593052,
           6.848635235732011,
           10.32258064516129,
           13.796526054590572,
           8.883374689826303,
           6.699751861042183,
           9.67741935483871,
           10.521091811414392,
           9.13151364764268,
           28.4863523573201,
           8.535980148883375,
           7.096774193548387,
           8.784119106699752,
           5.409429280397022,
           6.004962779156328,
           5.0124069478908195,
           5.310173697270471,
           4.665012406947891,
           4.168734491315137,
           7.94044665012407,
           11.513647642679901,
           6.997518610421836,
           5.856079404466501,
           4.267990074441688,
           3.970223325062035,
           3.1265508684863526,
           19.00744416873449,
           15.930521091811414,
           21.09181141439206,
           11.215880893300248,
           4.317617866004963,
           14.888337468982629,
           4.367245657568239,
           26.253101736972706,
           6.9478908188585615,
           7.741935483870968,
           19.851116625310176,
           4.714640198511166,
           2.9280397022332507,
           19.305210918114142,
           3.8213399503722085,
           7.096774193548387,
           2.8287841191067,
           3.325062034739454,
           5.260545905707196,
           2.8287841191067,
           4.714640198511166,
           3.8213399503722085,
           6.451612903225806,
           4.416873449131513,
           6.74937965260546,
           3.672456575682382,
           4.56575682382134,
           2.9280397022332507,
           3.8213399503722085,
           2.977667493796526,
           3.027295285359801,
           2.729528535980149,
           1.935483870967742,
           4.218362282878412,
           3.4739454094292808,
           1.836228287841191,
           2.729528535980149,
           4.764267990074441,
           11.761786600496277,
           1.7369727047146404,
           2.3821339950372207,
           1.935483870967742,
           2.034739454094293,
           2.133995037220844,
           2.630272952853598,
           1.935483870967742,
           2.431761786600496,
           1.5880893300248138,
           1.6377171215880892,
           0.9429280397022334
          ],
          [
           84.68854018069425,
           66.09605325725154,
           77.22301474084641,
           63.195435092724686,
           43.7470280551593,
           59.77175463623395,
           58.29766999524488,
           46.742748454588686,
           30.147408464098906,
           59.486447931526385,
           49.21540656205421,
           46.07703281027104,
           30.052306229196386,
           39.80028530670471,
           39.657631954350926,
           24.251069900142653,
           26.05801236329054,
           30.76557299096529,
           33.04802662862577,
           36.4717070851165,
           32.23965763195435,
           21.017593913456967,
           28.05515929624346,
           28.9586305278174,
           29.101283880171184,
           24.393723252496432,
           30.004755111745123,
           20.256776034236804,
           20.114122681883025,
           33.523537803138375,
           22.91963861150737,
           29.862101759391347,
           17.97432239657632,
           16.072277698525916,
           22.82453637660485,
           23.01474084640989,
           36.37660485021398,
           24.01331431288635,
           15.691868758915833,
           14.788397527341893,
           23.87066096053257,
           17.68901569186876,
           25.154541131716595,
           22.96718972895863,
           20.637184973846885,
           19.258202567760343,
           17.261055634807416,
           12.553495007132668,
           10.936757013789824,
           13.02900618164527,
           15.263908701854492,
           22.77698525915359,
           13.17165953399905,
           22.91963861150737,
           10.841654778887303,
           21.92106514503091,
           13.59961959106039,
           9.605325725154541,
           11.650023775558726,
           15.834522111269614,
           13.40941512125535,
           8.178792201616739,
           14.503090822634332,
           9.46267237280076,
           10.746552543984784,
           12.125534950071327,
           10.936757013789824,
           11.222063718497385,
           6.657156443176415,
           8.7018544935806,
           12.791250594388966,
           13.742272943414171,
           13.837375178316691,
           13.12410841654779,
           8.98716119828816,
           5.563480741797433,
           6.752258678078935,
           6.894912030432715,
           8.036138849262958,
           12.125534950071327,
           8.32144555397052,
           9.795530194959582,
           6.229196386115074,
           5.515929624346172,
           7.608178792201617,
           3.0908226343319067,
           9.985734664764621,
           6.038991916310033,
           4.46980504041845,
           6.9424631478839745,
           5.373276271992392,
           6.466951973371374,
           3.946742748454589,
           4.945316214931051,
           5.468378506894912,
           3.851640513552068,
           6.657156443176415,
           4.232049453162149,
           4.232049453162149,
           4.61245839277223,
           5.658582976699952,
           2.615311459819306,
           4.897765097479791,
           6.134094151212553,
           5.1355206847360915,
           5.087969567284832,
           3.233475986685687,
           4.802662862577271,
           3.851640513552068,
           4.232049453162149,
           3.4236804564907275,
           4.136947218259629,
           2.8530670470756063,
           1.9495958155016642,
           2.615311459819306,
           2.5677603423680457,
           2.9957203994293864,
           2.0922491678554445,
           2.948169281978126,
           3.185924869234427,
           2.9006181645268665,
           1.9971469329529243,
           1.8544935805991443,
           2.0922491678554445,
           2.234902520209225
          ],
          [
           84.375,
           72.20643939393939,
           64.91477272727273,
           55.16098484848485,
           46.54356060606061,
           41.14583333333333,
           39.29924242424242,
           43.84469696969697,
           36.78977272727273,
           34.753787878787875,
           30.113636363636363,
           39.20454545454545,
           56.25,
           31.91287878787879,
           32.95454545454545,
           38.115530303030305,
           27.083333333333332,
           55.44507575757576,
           36.17424242424242,
           29.876893939393938,
           29.450757575757574,
           50.047348484848484,
           23.484848484848484,
           26.08901515151515,
           21.827651515151516,
           33.996212121212125,
           28.125,
           32.14962121212121,
           24.10037878787879,
           24.526515151515152,
           35.79545454545455,
           21.448863636363637,
           17.376893939393938,
           16.382575757575758,
           30.77651515151515,
           21.543560606060606,
           16.950757575757574,
           18.560606060606062,
           11.695075757575758,
           17.1875,
           14.25189393939394,
           16.051136363636363,
           12.973484848484848,
           18.702651515151516,
           19.64962121212121,
           17.329545454545457,
           19.460227272727273,
           13.210227272727273,
           9.753787878787879,
           11.695075757575758,
           15.577651515151514,
           15.104166666666666,
           11.12689393939394,
           9.943181818181818,
           9.375,
           22.443181818181817,
           14.678030303030305,
           9.753787878787879,
           12.736742424242426,
           10.369318181818182,
           11.979166666666668,
           48.86363636363637,
           12.68939393939394,
           11.12689393939394,
           11.458333333333332,
           10.369318181818182,
           9.801136363636363,
           9.280303030303031,
           10.085227272727272,
           12.926136363636365,
           5.587121212121212,
           6.8181818181818175,
           4.829545454545454,
           6.865530303030303,
           8.333333333333332,
           5.918560606060606,
           13.967803030303031,
           8.00189393939394,
           11.221590909090908,
           5.113636363636364,
           7.054924242424243,
           10.085227272727272,
           4.214015151515151,
           4.971590909090909,
           6.34469696969697,
           4.734848484848484,
           8.096590909090908,
           12.452651515151516,
           3.787878787878788,
           8.759469696969697,
           3.2196969696969697,
           3.835227272727273,
           3.835227272727273,
           3.172348484848485,
           4.829545454545454,
           20.123106060606062,
           8.475378787878787,
           2.840909090909091,
           2.462121212121212,
           3.787878787878788,
           3.3143939393939394,
           2.509469696969697,
           4.214015151515151,
           4.119318181818182,
           2.462121212121212,
           3.361742424242424,
           2.509469696969697,
           2.6515151515151514,
           3.172348484848485,
           2.746212121212121,
           2.130681818181818,
           2.509469696969697,
           2.746212121212121,
           1.7992424242424243,
           3.361742424242424,
           2.556818181818182,
           1.8465909090909092,
           2.414772727272727,
           2.793560606060606,
           2.367424242424242,
           2.0359848484848486,
           1.893939393939394,
           1.3731060606060606,
           1.6098484848484849,
           1.1363636363636365
          ],
          [
           82.56648374841706,
           65.51287463064584,
           66.48374841705362,
           60.86956521739131,
           51.87842971718024,
           50.189953566905864,
           45.46222034613761,
           47.8682988602786,
           35.50021105951878,
           36.51329674968341,
           39.890249050232164,
           37.1464753060363,
           31.869987336428874,
           32.29210637399746,
           30.434782608695656,
           33.60067539046011,
           27.60658505698607,
           28.197551709582104,
           39.04601097509497,
           34.06500633178556,
           33.47403967918953,
           27.902068383284085,
           28.197551709582104,
           27.184466019417474,
           24.69396369776277,
           26.171380329252848,
           29.970451667370195,
           26.382439848037148,
           23.17433516251583,
           25.36935415787252,
           21.274799493457156,
           21.696918531025748,
           25.073870831574503,
           19.839594765723934,
           19.628535246939638,
           20.97931616715914,
           18.404390037990716,
           19.37526382439848,
           21.61249472351203,
           18.995356690586746,
           18.65766146053187,
           19.29084001688476,
           16.20937104263402,
           23.17433516251583,
           17.855635289151543,
           14.774166314900802,
           17.18024482904179,
           16.842549598986913,
           18.826509075559308,
           16.20937104263402,
           13.296749683410722,
           16.758125791473198,
           14.689742507387082,
           12.030392570704938,
           12.494723512030392,
           15.576192486281132,
           12.536935415787251,
           13.465597298438158,
           14.394259181089067,
           10.088644997889405,
           11.81933305192064,
           11.017306880540312,
           11.98818066694808,
           9.835373575348248,
           9.66652596032081,
           10.42634022794428,
           11.650485436893204,
           11.059518784297172,
           11.566061629379485,
           7.766990291262135,
           8.14689742507387,
           8.864499788940481,
           6.331785563528915,
           7.176023638666104,
           7.2182355424229625,
           8.737864077669903,
           8.9489235964542,
           8.780075981426762,
           7.682566483748417,
           7.344871253693541,
           8.822287885183622,
           7.3026593499366825,
           11.523849725622625,
           5.614183199662305,
           7.935837906289573,
           8.23132123258759,
           8.14689742507387,
           4.5588856057408185,
           8.90671169269734,
           6.922752216124947,
           5.825242718446602,
           5.19206416209371,
           4.094554664415365,
           4.432249894470241,
           4.981004643309413,
           4.685521317011397,
           4.981004643309413,
           4.3478260869565215,
           3.9257070493879276,
           4.938792739552554,
           3.799071338117349,
           3.9257070493879276,
           3.2503165892781767,
           5.149852258336852,
           3.545799915576193,
           4.5588856057408185,
           3.0392570704938793,
           2.406078514140988,
           3.9257070493879276,
           2.99704516673702,
           2.406078514140988,
           2.617138032925285,
           3.7146475306036306,
           4.221190375685943,
           2.3638666103841284,
           2.6593499366821445,
           2.2794428028704092,
           2.5327142254115658,
           2.321654706627269,
           2.448290417897847,
           1.8573237653018153,
           2.23723089911355,
           1.47741663149008,
           1.7728999577880964,
           1.3085690164626425
          ],
          [
           89.01143790849673,
           67.6062091503268,
           64.17483660130719,
           52.20588235294118,
           60.29411764705882,
           57.84313725490197,
           73.20261437908496,
           49.55065359477124,
           35.33496732026144,
           60.82516339869281,
           53.83986928104575,
           41.42156862745098,
           24.7140522875817,
           30.678104575163403,
           33.251633986928105,
           26.38888888888889,
           31.045751633986928,
           25.245098039215684,
           32.31209150326798,
           56.004901960784316,
           28.63562091503268,
           20.71078431372549,
           45.751633986928105,
           27.941176470588236,
           24.91830065359477,
           17.197712418300654,
           26.38888888888889,
           20.424836601307188,
           20.996732026143793,
           33.66013071895425,
           18.09640522875817,
           29.901960784313726,
           17.647058823529413,
           19.934640522875817,
           19.3218954248366,
           20.465686274509803,
           42.48366013071895,
           17.401960784313726,
           16.503267973856207,
           14.256535947712418,
           19.730392156862745,
           13.153594771241831,
           43.05555555555556,
           27.450980392156865,
           18.790849673202615,
           15.48202614379085,
           11.723856209150327,
           12.459150326797385,
           11.887254901960784,
           19.893790849673202,
           11.683006535947712,
           20.179738562091504,
           16.176470588235293,
           33.088235294117645,
           14.460784313725492,
           10.334967320261438,
           19.11764705882353,
           11.928104575163399,
           9.23202614379085,
           31.658496732026144,
           11.356209150326798,
           6.045751633986928,
           8.251633986928104,
           8.782679738562091,
           6.086601307189542,
           9.068627450980392,
           10.130718954248366,
           10.049019607843137,
           6.781045751633987,
           11.928104575163399,
           31.372549019607842,
           14.991830065359476,
           34.599673202614376,
           18.1781045751634,
           4.901960784313726,
           4.779411764705882,
           5.678104575163399,
           5.473856209150327,
           6.3316993464052285,
           11.070261437908496,
           9.51797385620915,
           4.28921568627451,
           5.065359477124183,
           9.844771241830065,
           5.678104575163399,
           3.758169934640523,
           4.57516339869281,
           4.6568627450980395,
           3.145424836601307,
           3.758169934640523,
           6.90359477124183,
           4.738562091503268,
           8.619281045751634,
           6.3316993464052285,
           5.187908496732026,
           3.349673202614379,
           3.145424836601307,
           5.269607843137255,
           5.433006535947713,
           7.55718954248366,
           7.352941176470589,
           3.022875816993464,
           3.594771241830065,
           2.8594771241830066,
           4.125816993464052,
           4.370915032679738,
           3.2271241830065365,
           4.493464052287582,
           3.431372549019608,
           8.415032679738562,
           3.145424836601307,
           3.6764705882352944,
           2.900326797385621,
           1.715686274509804,
           2.7369281045751634,
           3.4722222222222223,
           6.699346405228758,
           2.4101307189542487,
           1.9199346405228759,
           2.165032679738562,
           3.145424836601307,
           1.511437908496732,
           1.6339869281045754,
           1.5522875816993464,
           2.900326797385621
          ],
          [
           80.13107968264919,
           54.29458433942739,
           44.39461883408072,
           40.66919627457744,
           72.09382545705417,
           34.35667471541911,
           43.11831666091756,
           36.08140738185581,
           28.28561572956192,
           28.941014142807862,
           31.76957571576406,
           21.110727837185237,
           23.11141773025181,
           18.35115557088651,
           16.971369437737152,
           26.664367023111417,
           21.697136943773714,
           17.661262504311832,
           32.66643670231114,
           36.73680579510176,
           20.938254570541567,
           38.427043808209724,
           31.01069334253191,
           20.834770610555363,
           14.384270438082098,
           17.7302518109693,
           17.040358744394617,
           33.01138323559849,
           21.179717143842705,
           21.59365298378751,
           12.694032424974127,
           15.281131424629182,
           52.25939979303208,
           26.077957916522937,
           10.555363918592619,
           11.624698171783374,
           11.969644705070714,
           12.280096585029321,
           42.876854087616415,
           15.00517419799931,
           8.382200758882373,
           11.831666091755778,
           12.038634011728181,
           14.970679544670576,
           11.693687478440843,
           7.278371852362883,
           9.589513625388065,
           15.660572611245257,
           32.493963435667474,
           18.83408071748879,
           6.89893066574681,
           10.72783718523629,
           14.867195584684373,
           8.86512590548465,
           8.761641945498448,
           9.175577785443256,
           9.279061745429457,
           9.003104518799585,
           27.526733356329768,
           8.17523283890997,
           7.416350465677819,
           8.520179372197308,
           6.1745429458433945,
           6.484994825802001,
           6.209037599172128,
           5.898585719213522,
           6.140048292514661,
           5.381165919282512,
           8.86512590548465,
           10.796826491893755,
           6.864436012418075,
           5.277681959296309,
           3.7254225595032766,
           3.7254225595032766,
           4.449810279406692,
           18.972059330803724,
           12.969989651604003,
           21.628147637116246,
           9.486029665401862,
           4.070369092790617,
           12.487064505001724,
           4.104863746119351,
           24.560193170058643,
           6.036564332528458,
           5.691617799241118,
           17.661262504311832,
           4.415315626077958,
           2.6560883063125216,
           17.764746464298035,
           3.7254225595032766,
           6.65746809244567,
           2.5181096929975855,
           2.6215936529837873,
           5.036219385995171,
           2.828561572956192,
           3.966885132804415,
           2.8630562262849257,
           5.588133839254915,
           3.621938599517075,
           4.622283546050363,
           3.552949292859607,
           4.587788892721628,
           2.242152466367713,
           2.966540186271128,
           2.7940669196274577,
           2.759572266298724,
           2.4491203863401174,
           1.7247326664367024,
           3.621938599517075,
           2.1041738530527767,
           1.552259399793032,
           2.89755087961366,
           4.070369092790617,
           9.520524318730597,
           1.6557433597792344,
           2.3111417730251813,
           1.552259399793032,
           1.7592273197654364,
           1.6212487064505003,
           1.8972059330803723,
           1.552259399793032,
           2.690582959641256,
           1.3107968264918937,
           1.552259399793032,
           0.758882373232149
          ],
          [
           83.70201691607026,
           70.36434612882239,
           75.8295380611581,
           66.07026675341574,
           41.18412491867274,
           59.694209499024076,
           49.414443721535456,
           50.390370852309694,
           31.067013662979832,
           47.46258945998699,
           41.41184124918673,
           43.75406636304489,
           33.79960962914769,
           32.36824983734548,
           37.50813272608979,
           33.79960962914769,
           23.292127521145087,
           32.10800260247235,
           34.5152895250488,
           30.2537410540013,
           37.63825634352635,
           21.437865972674043,
           24.46324007807417,
           27.781392322706573,
           31.65256994144437,
           28.13923227065712,
           32.72608978529603,
           18.445022771633052,
           22.348731294729994,
           29.505530253741053,
           25.504229017566686,
           26.80546519193234,
           16.395575797007155,
           14.769030579050096,
           22.576447625243983,
           20.201691607026675,
           25.211450878334418,
           23.975276512687053,
           15.159401431359793,
           16.52569941444372,
           19.908913467794402,
           16.851008458035132,
           17.24137931034483,
           22.869225764476255,
           21.99089134677944,
           18.867924528301888,
           18.607677293428758,
           14.638906961613532,
           10.637605725439167,
           11.483409238776838,
           17.01366297983084,
           20.494469746258943,
           12.882238126219908,
           15.191932335718933,
           10.052049446974626,
           20.2992843201041,
           15.061808718282368,
           12.459336369551073,
           10.377358490566039,
           10.279765777488613,
           14.378659726740404,
           7.774886141834743,
           12.784645413142485,
           8.750813272608978,
           11.25569290826285,
           10.14964216005205,
           12.914769030579052,
           11.613532856213403,
           8.588158750813273,
           5.49772283669486,
           8.26284970722186,
           9.759271307742354,
           7.124268054651919,
           8.555627846454131,
           8.945998698763825,
           4.847104749512036,
           6.636304489264802,
           6.31099544567339,
           6.05074821080026,
           8.425504229017566,
           5.49772283669486,
           8.685751463890696,
           5.725439167208848,
           3.708523096942095,
           8.295380611581002,
           4.294079375406636,
           9.986987638256343,
           4.229017566688354,
           4.489264801561483,
           7.221860767729344,
           4.229017566688354,
           5.367599219258295,
           3.2856213402732592,
           3.9362394274560835,
           5.042290175666884,
           3.090435914118413,
           5.692908262849707,
           3.8061158100195183,
           2.6024723487312946,
           3.8386467143786596,
           3.513337670787248,
           1.9843851659076122,
           3.02537410540013,
           5.920624593363696,
           3.02537410540013,
           4.847104749512036,
           2.8301886792452833,
           2.797657774886142,
           2.7325959661678594,
           2.8952504879635654,
           2.2121014964216004,
           3.090435914118413,
           2.0169160702667535,
           1.594014313597918,
           2.114508783344177,
           2.4398178269355886,
           2.4072869225764477,
           2.179570592062459,
           2.0169160702667535,
           2.179570592062459,
           1.8217306441119063,
           1.626545217957059,
           1.9193233571893298,
           1.626545217957059,
           1.073519843851659
          ],
          [
           75.99435825105783,
           61.10014104372355,
           57.122708039492245,
           50.12693935119887,
           49.95768688293371,
           43.63892806770099,
           39.77433004231312,
           35.43018335684062,
           28.71650211565585,
           32.86318758815233,
           29.647390691114246,
           28.49083215796897,
           29.816643159379407,
           21.32581100141044,
           21.720733427362482,
           32.355430183356845,
           22.36953455571227,
           24.880112834978842,
           27.080394922425953,
           33.11706629055007,
           22.20028208744711,
           22.820874471086036,
           26.939351198871652,
           17.376586741889984,
           23.04654442877292,
           15.712270803949224,
           19.09732016925247,
           21.354019746121295,
           18.081805359661494,
           17.968970380818053,
           19.605077574047954,
           20.930888575458393,
           18.702397743300423,
           16.389280677009875,
           17.235543018335683,
           13.455571227080396,
           14.019746121297603,
           13.145275035260932,
           16.586741889985895,
           14.301833568406206,
           10.521861777150916,
           10.80394922425952,
           15.176304654442877,
           13.822284908321581,
           11.001410437235542,
           11.311706629055006,
           8.744710860366714,
           11.819464033850494,
           12.919605077574047,
           11.847672778561353,
           10.409026798307474,
           10.239774330042312,
           9.421720733427362,
           11.114245416078985,
           8.716502115655853,
           9.22425952045134,
           14.696755994358252,
           11.057827926657264,
           7.8702397743300425,
           9.873060648801129,
           7.1650211565585336,
           6.346967559943582,
           5.049365303244006,
           5.303244005641749,
           4.372355430183357,
           5.811001410437235,
           4.513399153737659,
           5.190409026798307,
           5.923836389280677,
           7.70098730606488,
           8.208744710860366,
           6.600846262341325,
           8.547249647390691,
           7.362482369534555,
           3.244005641748942,
           4.090267983074753,
           6.17771509167842,
           4.344146685472496,
           7.221438645980253,
           4.4005641748942175,
           6.403385049365304,
           4.062059238363893,
           6.064880112834979,
           4.710860366713681,
           9.92947813822285,
           5.105782792665726,
           3.8363892806770097,
           3.07475317348378,
           4.513399153737659,
           3.3568406205923838,
           3.695345557122708,
           2.9055007052186177,
           3.779971791255289,
           2.7080394922425954,
           2.538787023977433,
           2.1438645980253876,
           2.5669957686882934,
           2.764456981664316,
           2.764456981664316,
           4.682651622002821,
           2.6516220028208743,
           1.9464033850493654,
           1.8335684062059237,
           2.3977433004231314,
           2.4259520451339918,
           2.3977433004231314,
           2.6516220028208743,
           1.692524682651622,
           2.623413258110014,
           2.4259520451339918,
           1.382228490832158,
           1.8335684062059237,
           2.1438645980253876,
           1.4950634696755993,
           1.4104372355430184,
           1.7207334273624826,
           1.8617771509167842,
           1.1001410437235544,
           1.607898448519041,
           1.3540197461212977,
           1.0719322990126938,
           1.6643159379407617,
           1.0155148095909732,
           1.156558533145275,
           0.8180535966149507
          ],
          [
           86.90113541955137,
           69.42675159235668,
           72.44530600941567,
           62.08806424813071,
           47.57684851841596,
           60.81417889781224,
           52.78316255884796,
           49.598449183051784,
           40.84741068955967,
           41.67820548324564,
           39.24120742176682,
           40.902797009138744,
           39.57352533924121,
           31.514815840487397,
           35.91802824702299,
           39.878150096926056,
           32.76100803101634,
           36.83190252007754,
           33.56410966491276,
           38.74273054555525,
           36.36111880365549,
           24.00996953752423,
           29.02243145942952,
           26.613126557740234,
           33.730268623649955,
           25.948490722791473,
           27.859318748269178,
           21.48989199667682,
           21.019108280254777,
           23.42841318194406,
           29.29936305732484,
           28.939351980060923,
           14.566602049293826,
           20.326779285516476,
           26.003877042370533,
           18.914428136250347,
           22.01606203267793,
           23.206867903627803,
           12.877319302132372,
           21.46219883688729,
           18.748269177513155,
           13.375796178343949,
           19.1359734145666,
           21.711437274993077,
           19.08058709498754,
           19.9113818886735,
           15.535862641927444,
           12.572694544447522,
           10.02492384381058,
           12.517308224868456,
           17.889781224037662,
           15.314317363611188,
           12.489615065078926,
           16.03433951813902,
           15.231237884242594,
           14.345056770977568,
           19.9113818886735,
           17.086679590141234,
           8.08640265854334,
           11.132650235391859,
           14.483522569925228,
           8.612572694544447,
           11.658820271392965,
           9.775685405704792,
           8.557186374965383,
           10.88341179728607,
           10.357241761284964,
           11.298809194129051,
           10.274162281916368,
           5.898643035170313,
           10.634173359180283,
           8.418720576017725,
           7.726391581279424,
           8.197175297701467,
           6.452506230960953,
           3.960121849903074,
           6.97867626696206,
           4.3755192467460535,
           6.42481307117142,
           6.9232899473829965,
           6.147881473276101,
           6.397119911381889,
           4.3201329271669895,
           4.2647466075879255,
           8.307947936859597,
           3.710883411797286,
           6.97867626696206,
           5.760177236222653,
           2.9354749376903904,
           6.563278870119081,
           3.9047355303240097,
           3.9047355303240097,
           7.39407366380504,
           3.9324286901135417,
           5.6217114372749935,
           3.4616449736914983,
           4.541678205483246,
           3.267792855164774,
           2.7139296593741347,
           5.01246192190529,
           3.710883411797286,
           2.104680144004431,
           3.1570202160066465,
           4.015508169482137,
           2.0492938244253667,
           3.9047355303240097,
           3.738576571586818,
           2.4093049016892825,
           2.6585433397950706,
           3.378565494322902,
           2.547770700636943,
           2.6862364995846026,
           1.772362226530047,
           1.1354195513708114,
           1.827748546109111,
           2.215452783162559,
           2.326225422320687,
           2.076986984214899,
           1.855441705898643,
           1.6615895873719193,
           1.633896427582387,
           1.3015785101080033,
           1.3846579894765993,
           1.3015785101080033,
           1.0246469122126833
          ],
          [
           75.15822784810126,
           61.70886075949367,
           57.70042194092827,
           53.34915611814346,
           57.93776371308017,
           70.72784810126582,
           39.37236286919831,
           47.62658227848101,
           27.874472573839665,
           37.68459915611814,
           39.08227848101266,
           27.90084388185654,
           35.54852320675106,
           21.044303797468356,
           22.811181434599156,
           40.69092827004219,
           20.938818565400844,
           29.79957805907173,
           32.858649789029535,
           28.982067510548525,
           30.72257383966245,
           17.405063291139243,
           22.73206751054852,
           21.202531645569618,
           43.67088607594937,
           18.301687763713083,
           22.73206751054852,
           15.849156118143458,
           20.622362869198312,
           23.99789029535865,
           25.184599156118143,
           28.902953586497894,
           35.83860759493671,
           23.918776371308017,
           20.569620253164558,
           12.790084388185655,
           15.268987341772153,
           16.191983122362867,
           37.9746835443038,
           17.72151898734177,
           11.471518987341772,
           11.445147679324895,
           13.317510548523206,
           17.325949367088608,
           12.869198312236287,
           16.508438818565402,
           11.94620253164557,
           13.897679324894515,
           26.89873417721519,
           17.85337552742616,
           16.61392405063291,
           12.025316455696203,
           14.84704641350211,
           12.5,
           9.203586497890296,
           9.282700421940929,
           17.14135021097046,
           20.411392405063292,
           15.479957805907175,
           7.2521097046413505,
           10.522151898734178,
           6.170886075949367,
           7.410337552742615,
           5.1951476793248945,
           6.302742616033755,
           6.487341772151899,
           7.2521097046413505,
           7.2521097046413505,
           9.177215189873419,
           4.404008438818566,
           6.434599156118144,
           5.643459915611814,
           5.590717299578059,
           6.144514767932489,
           3.9556962025316458,
           11.075949367088606,
           5.669831223628692,
           9.572784810126581,
           4.878691983122363,
           4.799578059071729,
           5.458860759493671,
           3.8765822784810124,
           19.145569620253163,
           3.1118143459915615,
           16.112869198312236,
           6.25,
           5.2215189873417724,
           3.322784810126582,
           16.323839662447256,
           4.641350210970464,
           10.469409282700422,
           2.45253164556962,
           2.689873417721519,
           5.010548523206751,
           3.4282700421940926,
           2.848101265822785,
           2.8744725738396624,
           8.227848101265822,
           4.5358649789029535,
           3.8502109704641354,
           4.008438818565401,
           1.740506329113924,
           2.1360759493670884,
           5.537974683544303,
           2.2943037974683547,
           3.8502109704641354,
           4.667721518987341,
           1.5031645569620253,
           3.507383966244726,
           1.9514767932489452,
           1.6877637130801686,
           2.109704641350211,
           1.9514767932489452,
           2.5843881856540083,
           1.239451476793249,
           2.90084388185654,
           1.5031645569620253,
           2.0569620253164556,
           2.030590717299578,
           1.45042194092827,
           1.2130801687763713,
           2.083333333333333,
           1.5031645569620253,
           1.661392405063291,
           0.7911392405063291
          ],
          [
           88.16272965879264,
           68.68766404199475,
           69.21259842519684,
           54.67191601049869,
           46.8503937007874,
           55.98425196850394,
           63.30708661417322,
           43.01837270341207,
           34.09448818897638,
           58.950131233595805,
           49.10761154855643,
           41.94225721784777,
           29.291338582677167,
           36.45669291338582,
           38.3989501312336,
           27.76902887139108,
           30.734908136482943,
           29.343832020997375,
           30.10498687664042,
           37.9265091863517,
           27.139107611548557,
           20.341207349081365,
           31.023622047244093,
           27.69028871391076,
           28.635170603674542,
           22.493438320209975,
           22.545931758530184,
           18.37270341207349,
           22.493438320209975,
           29.816272965879264,
           22.20472440944882,
           28.687664041994747,
           16.587926509186353,
           17.034120734908136,
           21.758530183727036,
           21.62729658792651,
           35.85301837270341,
           22.178477690288716,
           15.538057742782152,
           14.593175853018373,
           21.62729658792651,
           15.879265091863518,
           30.026246719160106,
           18.241469816272964,
           17.74278215223097,
           17.979002624671917,
           15.275590551181104,
           11.73228346456693,
           11.338582677165354,
           14.409448818897639,
           14.514435695538058,
           17.191601049868765,
           11.67979002624672,
           25.87926509186352,
           14.488188976377952,
           17.401574803149604,
           13.569553805774278,
           11.863517060367453,
           9.580052493438322,
           17.401574803149604,
           13.490813648293965,
           6.272965879265093,
           12.388451443569554,
           10.288713910761155,
           7.9790026246719155,
           10.83989501312336,
           8.68766404199475,
           8.792650918635172,
           6.010498687664042,
           8.398950131233596,
           13.779527559055119,
           13.6745406824147,
           17.926509186351705,
           14.540682414698164,
           5.774278215223097,
           4.566929133858268,
           6.036745406824147,
           5.459317585301838,
           5.616797900262467,
           11.391076115485564,
           8.188976377952756,
           7.769028871391076,
           4.199475065616798,
           5.275590551181102,
           5.275590551181102,
           3.7532808398950133,
           7.611548556430446,
           5.931758530183727,
           3.3070866141732282,
           5.223097112860892,
           5.590551181102362,
           5.459317585301838,
           6.482939632545932,
           4.593175853018373,
           4.566929133858268,
           2.8346456692913384,
           5.748031496062992,
           3.963254593175853,
           5.275590551181102,
           4.094488188976378,
           5.511811023622047,
           2.5196850393700787,
           3.149606299212598,
           3.805774278215223,
           4.4619422572178475,
           3.4120734908136483,
           3.1233595800524934,
           4.383202099737533,
           3.0708661417322833,
           4.304461942257218,
           3.490813648293963,
           3.254593175853018,
           2.493438320209974,
           1.811023622047244,
           2.047244094488189,
           2.335958005249344,
           3.595800524934383,
           2.099737532808399,
           2.5984251968503935,
           2.440944881889764,
           2.5721784776902887,
           1.1548556430446193,
           1.3385826771653544,
           1.2335958005249343,
           1.5223097112860893
          ],
          [
           85.84770114942529,
           65.1580459770115,
           55.24425287356321,
           45.88122605363984,
           71.2404214559387,
           64.0565134099617,
           58.95593869731801,
           46.479885057471265,
           36.39846743295019,
           50.67049808429118,
           50.143678160919535,
           29.214559386973182,
           28.304597701149426,
           24.664750957854405,
           24.281609195402297,
           34.315134099616856,
           32.23180076628353,
           24.49712643678161,
           33.979885057471265,
           40.32567049808429,
           25.047892720306514,
           24.521072796934863,
           33.86015325670498,
           26.74808429118774,
           29.813218390804597,
           17.1455938697318,
           19.300766283524904,
           20.953065134099617,
           21.958812260536398,
           28.71168582375479,
           18.486590038314176,
           27.107279693486593,
           41.83429118773947,
           31.896551724137932,
           16.642720306513407,
           14.343869731800766,
           25.11973180076628,
           15.349616858237546,
           42.81609195402299,
           16.834291187739463,
           14.631226053639848,
           12.619731800766285,
           25.191570881226056,
           17.45689655172414,
           13.673371647509578,
           12.188697318007662,
           11.542145593869732,
           13.817049808429118,
           29.693486590038315,
           24.71264367816092,
           11.446360153256704,
           12.763409961685824,
           16.977969348659002,
           21.479885057471265,
           12.619731800766285,
           9.291187739463602,
           15.086206896551724,
           15.32567049808429,
           18.941570881226053,
           14.00862068965517,
           10.10536398467433,
           6.776819923371648,
           6.968390804597702,
           6.824712643678161,
           6.010536398467433,
           7.159961685823754,
           6.609195402298851,
           6.369731800766283,
           7.806513409961687,
           7.854406130268199,
           12.164750957854405,
           7.040229885057471,
           13.817049808429118,
           11.566091954022989,
           4.406130268199234,
           12.571839080459771,
           8.548850574712644,
           12.476053639846743,
           6.25,
           5.124521072796935,
           8.261494252873563,
           3.7356321839080464,
           11.590038314176246,
           5.818965517241379,
           9.363026819923371,
           8.740421455938698,
           4.166666666666666,
           3.1848659003831417,
           9.003831417624522,
           3.7835249042145596,
           20.689655172413794,
           2.6340996168582373,
           4.334291187739463,
           8.955938697318008,
           3.1609195402298855,
           3.2088122605363987,
           2.9693486590038316,
           13.96072796934866,
           11.733716475095786,
           4.430076628352491,
           6.513409961685824,
           2.490421455938697,
           2.3946360153256707,
           3.6637931034482754,
           3.7835249042145596,
           2.203065134099617,
           3.5680076628352495,
           1.9875478927203067,
           3.0411877394636013,
           3.3524904214559386,
           1.6044061302681993,
           2.9693486590038316,
           2.3946360153256707,
           2.8975095785440614,
           1.532567049808429,
           2.2988505747126435,
           2.2988505747126435,
           2.2509578544061304,
           1.9636015325670497,
           1.6522988505747127,
           1.532567049808429,
           1.3649425287356323,
           1.1015325670498084,
           1.4846743295019158,
           0.9818007662835249
          ],
          [
           81.22760926677812,
           76.57033675662765,
           67.0408406973967,
           64.46142823023645,
           61.046095056126106,
           47.79078098877478,
           34.58323381896346,
           51.32553140673514,
           43.706711249104366,
           25.65082397898257,
           31.358968235013133,
           38.11798423692381,
           36.111774540243616,
           33.74731311201338,
           26.940530212562695,
           31.526152376403154,
           34.08168139479341,
           28.206352997372818,
           32.26653928827323,
           26.080726056842607,
           28.134702651062817,
           37.95080009553379,
           23.453546692142346,
           30.40363028421304,
           19.08287556723191,
           32.36207308335324,
           26.844996417482687,
           33.12634344399331,
           25.149271554812515,
           23.381896345832338,
           18.820157630761884,
           16.933365177931694,
           32.027704800573204,
           29.424408884642943,
           16.88559828039169,
           23.859565321232388,
           11.225220921901123,
           15.165989968951516,
           25.10150465727251,
           19.727728684021972,
           15.380941007881537,
           24.122283257702414,
           8.335323620730833,
           17.052782421781707,
           15.40482445665154,
           11.750656794841174,
           20.372581800812036,
           18.963458323381897,
           21.065201815142107,
           17.100549319321708,
           10.628134702651062,
           11.893957487461188,
           18.58132314306186,
           6.138046333890614,
           10.317649868641032,
           9.863864342010986,
           10.866969190351087,
           10.341533317411034,
           17.41103415333174,
           8.502507762120851,
           7.523286362550752,
           14.282302364461428,
           11.559589204681156,
           10.341533317411034,
           13.446381657511344,
           9.768330546930978,
           9.314545020300931,
           9.29066157153093,
           11.726773346071173,
           8.120372581800812,
           3.988535944590399,
           4.728922856460473,
           2.889897301170289,
           3.486983520420349,
           10.58036780511106,
           11.941724385001194,
           8.908526391210891,
           10.938619536661093,
           9.577262956770957,
           3.869118700740387,
           4.8005732027704795,
           4.8005732027704795,
           7.90542154287079,
           6.018629090040601,
           5.0155242417005015,
           10.222116073561022,
           3.893002149510389,
           4.585622163840459,
           6.567948411750657,
           4.2034869835204205,
           3.486983520420349,
           3.5586338667303563,
           2.1972772868402197,
           3.5347504179603537,
           2.8660138524002865,
           5.158824934320516,
           2.2928110819202296,
           3.0093145450203007,
           2.149510389300215,
           1.7673752089801769,
           2.2211607356102223,
           3.5586338667303563,
           2.7465966085502744,
           1.4091234774301409,
           1.0269882971101028,
           1.9823262479101982,
           1.5046572725101504,
           1.1225220921901122,
           2.8660138524002865,
           1.1941724385001196,
           1.4091234774301409,
           1.2419393360401243,
           2.0062096966802003,
           2.173393838070217,
           2.0062096966802003,
           1.5763076188201577,
           1.0031048483401002,
           1.6957248626701695,
           1.1464055409601148,
           0.9314545020300932,
           0.9314545020300932,
           1.2180558872701217,
           0.6926200143300693,
           0.7642703606400765,
           0.5493193217100549
          ],
          [
           83.99251111631173,
           61.947109758951555,
           45.4013573601685,
           39.995319447694825,
           86.0519541305874,
           53.14767142522818,
           53.59232389421952,
           41.04844371635853,
           27.521647554411423,
           45.49496840627194,
           43.365317107418676,
           22.11560964193775,
           23.05172010297215,
           20.266791481394804,
           16.943599344722678,
           29.955534753100864,
           22.23262344956705,
           17.318043529136435,
           34.05101802012637,
           34.96372571963492,
           18.839223028317342,
           29.347062953428505,
           30.93845073718699,
           24.315469225368595,
           24.385677509946174,
           15.211794991809032,
           12.848116077697169,
           22.93470629534285,
           22.93470629534285,
           29.815118183945703,
           12.052422185817926,
           24.689913409782356,
           72.61876901474375,
           38.942195179031124,
           10.952492394102505,
           10.390826117481863,
           17.27123800608472,
           11.256728293938686,
           67.98502223262345,
           14.55651766908495,
           9.946173648490522,
           12.918324362274749,
           19.260472735782823,
           12.497074654809268,
           10.601450971214604,
           7.722911303533817,
           10.133395740697402,
           15.188392230283174,
           50.17552071144395,
           32.08518605195413,
           7.371869880645916,
           10.695062017318044,
           19.049847882050084,
           15.796864029955534,
           7.184647788439036,
           8.144161010999298,
           11.677978001404165,
           13.199157500585068,
           45.72899602153054,
           8.471799672361339,
           7.208050549964897,
           6.810203604025275,
           6.014509712146033,
           5.101802012637491,
           5.686871050783992,
           4.937982681956471,
           4.5635384975427105,
           4.35291364380997,
           6.505967704189095,
           6.857009127076995,
           7.418675403697636,
           4.77416335127545,
           7.278258834542475,
           7.512286449801077,
           3.908261174818629,
           35.78282237304002,
           10.180201263749122,
           34.05101802012637,
           5.593260004680553,
           3.767844605663468,
           8.401591387783757,
           3.6040252749824484,
           26.679148139480457,
           5.265621343318512,
           6.833606365551136,
           11.724783524455885,
           3.182775567516967,
           1.8020126374912242,
           21.015679850222327,
           2.808331383103206,
           16.358530306576178,
           2.0360402527498245,
           2.5274982447928855,
           11.256728293938686,
           2.223262344956705,
           3.3465948981979876,
           2.340276152586005,
           11.046103440205943,
           6.974022934706295,
           3.650830798034168,
           4.8677743973788905,
           2.621109290896326,
           2.176456821904985,
           1.9190264451205241,
           2.4806927217411654,
           2.153054060379125,
           2.9019424292066462,
           1.4977767376550433,
           4.2358998361806695,
           2.199859583430845,
           1.2871518839223028,
           2.1296512988532648,
           2.5509010063187456,
           5.897495904516733,
           1.2871518839223028,
           2.0594430142756845,
           1.708401591387784,
           1.6147905452843436,
           1.708401591387784,
           1.404165691551603,
           1.0297215071378423,
           1.1233325532412826,
           0.8424994149309618,
           1.1233325532412826,
           0.7020828457758015
          ],
          [
           85.4066985645933,
           66.70291431056981,
           54.21922575032623,
           44.91083079599826,
           56.655067420617655,
           42.23575467594606,
           46.47672901261418,
           39.97390169638974,
           33.318834275772076,
           31.1439756415833,
           31.361461505002175,
           29.839060461070034,
           44.780339277946936,
           22.074815137016092,
           25.402348847324923,
           40.778599391039585,
           23.901696389734667,
           35.406698564593306,
           39.53892996955198,
           40.039147455415396,
           27.250978686385384,
           54.284471509351896,
           33.40582862113963,
           21.291866028708135,
           26.054806437581558,
           30.665506742061766,
           22.357546759460636,
           52.892561983471076,
           19.26924749891257,
           20.35667681600696,
           29.09960852544585,
           23.01000434971727,
           21.378860374075686,
           19.117007394519355,
           24.380165289256198,
           14.5933014354067,
           14.528055676381035,
           17.659852109612874,
           14.48455850369726,
           24.923879947803393,
           11.374510656807308,
           10.026098303610265,
           12.635928664636797,
           19.07351022183558,
           14.245324053936494,
           15.985210961287516,
           14.854284471509352,
           11.483253588516746,
           11.570247933884298,
           13.00565463244889,
           15.37625054371466,
           11.787733797303176,
           10.200086994345368,
           9.569377990430622,
           8.41670291431057,
           15.593736407133537,
           14.96302740321879,
           11.396259243149196,
           11.939973901696389,
           10.852544584602,
           11.396259243149196,
           10.613310134841235,
           9.28664636798608,
           10.56981296215746,
           8.786428882122662,
           7.329273597216181,
           7.568508046976946,
           7.43801652892562,
           9.939103958242715,
           11.722488038277511,
           8.155719878207917,
           5.110917790343628,
           4.480208786428882,
           4.936929099608525,
           6.742061765985211,
           6.089604175728577,
           17.877337973031754,
           6.437581557198782,
           15.85471944323619,
           3.7407568508046976,
           8.199217050891692,
           7.2640278381905174,
           3.32753371030883,
           6.176598521096128,
           7.351022183558069,
           8.133971291866029,
           7.43801652892562,
           4.001739886907351,
           3.001304915180513,
           8.242714223575467,
           3.1317964332318398,
           2.5010874293170944,
           3.8712483688560244,
           3.284036537625054,
           3.6755110917790343,
           4.5672031317964334,
           5.698129621574598,
           2.34884732492388,
           2.34884732492388,
           5.219660722053066,
           2.718573292735972,
           2.327098738581992,
           2.3923444976076556,
           6.7638103523270985,
           1.7616354936929102,
           2.8708133971291865,
           2.479338842975207,
           2.044367116137451,
           2.1966072205306655,
           2.066115702479339,
           1.37016093953893,
           2.3053501522401043,
           2.240104393214441,
           1.544149630274032,
           1.8268812527185732,
           1.8703784254023488,
           1.544149630274032,
           1.6963897346672467,
           1.7398869073510224,
           1.37016093953893,
           1.6528925619834711,
           1.3049151805132666,
           1.4136581122227054,
           1.3919095258808178,
           0.6524575902566333
          ],
          [
           79.02841032314032,
           69.55107351984385,
           77.7705486879202,
           71.91498590327477,
           39.94795055302537,
           57.6881370635437,
           35.65387117761874,
           52.20125786163522,
           32.53090435914118,
           33.571893298633704,
           31.64172630665799,
           42.11667751030145,
           41.79136846671005,
           32.16222077640425,
           35.35024940360009,
           39.25395792669703,
           22.381262199089136,
           35.71893298633702,
           33.05139882888744,
           27.781392322706573,
           41.444372153545864,
           24.918672739102146,
           19.692040772066797,
           24.246367382346563,
           31.381479071784863,
           28.84406853177185,
           35.45868575146389,
           20.819778789850357,
           23.85599653003687,
           23.747560182173064,
           29.039253957926697,
           23.986120147473432,
           13.554543482975493,
           14.009976144003469,
           23.725872912600305,
           20.798091520277598,
           14.964216005204944,
           23.59574929516374,
           11.429191064844936,
           19.32335718932986,
           17.588375623509002,
           15.3762741270874,
           10.540013012361744,
           20.472782476686184,
           21.014964216005204,
           17.805248319236608,
           19.410106267620904,
           16.135328562134028,
           8.349598785512905,
           10.17132942962481,
           18.6944263717198,
           14.790717848622858,
           11.646063760572543,
           9.499024072869226,
           8.956842333550206,
           15.181088700932552,
           15.549772283669485,
           13.771416178703102,
           8.739969637822597,
           6.8531771849924095,
           14.205161570158317,
           11.993060073736716,
           11.168943829971807,
           7.633918889611797,
           10.648449360225548,
           10.084580351333768,
           12.231620039037084,
           10.887009325525916,
           11.364129256126654,
           4.879635653871177,
           4.901322923443939,
           5.682064628063327,
           3.4699631316417263,
           4.814573845152895,
           8.284536976794621,
           3.903708523096942,
           6.939926263283453,
           4.163955757970072,
           6.376057254391672,
           4.489264801561483,
           5.139882888744307,
           6.289308176100629,
           3.9687703318152243,
           2.775970505313381,
           9.520711342441986,
           4.229017566688354,
           8.479722402949468,
           3.708523096942095,
           3.318152244632401,
           6.896551724137931,
           3.2314031663413574,
           4.706137497289091,
           2.47234873129473,
           3.057905009759271,
           4.250704836261114,
           4.68445022771633,
           4.38082845369768,
           2.2554760355671224,
           1.8217306441119063,
           3.903708523096942,
           2.7325959661678594,
           1.344610713511169,
           3.8386467143786596,
           5.22663196703535,
           1.8217306441119063,
           4.272392105833876,
           2.862719583604424,
           1.5614834092387768,
           2.4506614617219693,
           2.081977878985036,
           1.3229234439384083,
           2.342225113858165,
           1.865105183257428,
           0.9976144003469963,
           2.363912383430926,
           1.9952288006939927,
           1.344610713511169,
           2.0169160702667535,
           1.5181088700932552,
           1.5181088700932552,
           1.2144870960746041,
           1.3662979830839297,
           1.3879852526566905,
           1.5614834092387768,
           0.8458035133376708
          ],
          [
           82.06896551724138,
           67.28558797524315,
           76.62245800176835,
           69.00088417329798,
           44.49160035366932,
           78.83289124668435,
           48.240495137046864,
           56.71087533156499,
           32.254641909814325,
           42.12201591511936,
           44.13793103448276,
           40.300618921308576,
           42.84703801945181,
           27.922192749778958,
           33.36870026525199,
           40.95490716180371,
           23.94341290893015,
           40.318302387267906,
           36.53404067197171,
           37.48894783377542,
           44.809902740937225,
           21.237842617152964,
           28.98320070733864,
           24.68611847922193,
           45.03978779840849,
           25.782493368700266,
           39.29266136162688,
           18.76215738284704,
           22.49336870026525,
           23.642793987621573,
           33.51016799292662,
           29.124668435013263,
           16.091954022988507,
           16.657824933687003,
           28.063660477453585,
           19.20424403183024,
           25.110521662245798,
           21.591511936339522,
           15.083996463306809,
           17.29442970822281,
           17.24137931034483,
           12.802829354553493,
           16.145004420866492,
           29.708222811671085,
           19.946949602122015,
           22.652519893899203,
           14.748010610079575,
           13.8815207780725,
           10.716180371352785,
           12.785145888594165,
           23.05923961096375,
           17.259062776304155,
           13.174182139699381,
           15.490716180371352,
           9.86737400530504,
           13.10344827586207,
           21.025641025641026,
           14.995579133510168,
           8.930150309460656,
           11.175950486295314,
           12.961980548187443,
           8.735632183908045,
           9.301503094606543,
           7.303271441202476,
           8.381962864721485,
           9.725906277630415,
           15.119363395225463,
           14.146772767462423,
           11.547303271441201,
           5.658709106984968,
           10.610079575596817,
           7.869142351900972,
           7.851458885941645,
           7.391688770999116,
           6.737400530503979,
           4.261715296198055,
           6.295313881520778,
           4.650751547303272,
           5.747126436781609,
           6.80813439434129,
           5.3227232537577365,
           5.393457117595048,
           5.605658709106985,
           4.420866489832007,
           12.00707338638373,
           3.67816091954023,
           7.568523430592395,
           5.075154730327144,
           4.314765694076039,
           6.984969053934571,
           4.279398762157383,
           2.9000884173297967,
           2.9885057471264367,
           3.8373121131741823,
           6.419098143236074,
           3.4482758620689653,
           3.6074270557029178,
           3.395225464190981,
           2.458001768346596,
           5.605658709106985,
           3.2891246684350133,
           1.8037135278514589,
           2.6878868258178605,
           6.843501326259947,
           1.9805481874447393,
           4.49160035366932,
           3.5897435897435894,
           2.3695844385499556,
           2.2634836427939877,
           3.0061892130857646,
           1.8921308576480989,
           2.3519009725906277,
           1.821396993810787,
           0.9372236958443855,
           1.750663129973475,
           2.1750663129973478,
           2.1396993810786915,
           1.715296198054819,
           1.821396993810787,
           1.6445623342175066,
           1.5738284703801946,
           1.0610079575596816,
           1.786030061892131,
           1.5030946065428823,
           0.9725906277630416
          ],
          [
           84.8001316005922,
           65.76739595328179,
           72.59417667379503,
           65.3232439545978,
           51.85063332784997,
           63.97433788452048,
           55.45319953939792,
           55.4860996874486,
           32.40664582990623,
           42.78664253989143,
           45.254153643691396,
           38.657673959532815,
           33.16334923507156,
           26.43526895871031,
           29.346932061194273,
           35.4170093765422,
           24.41190985359434,
           31.107089981904917,
           38.591873663431485,
           49.79437407468333,
           39.59532817897681,
           24.148708669189013,
           38.72347425563415,
           24.39545977956901,
           32.35729560783023,
           23.046553709491693,
           39.957229807534134,
           23.638756374403684,
           21.237045566705053,
           24.39545977956901,
           25.25086362888633,
           25.77726599769699,
           15.676920546142458,
           17.50287876295443,
           21.171245270603716,
           17.897680539562426,
           26.53396940286231,
           18.243132094094424,
           13.32455996051982,
           16.450074025333112,
           17.733179799309095,
           11.547951965783847,
           19.772988978450403,
           34.578055601250206,
           20.200690903109063,
           15.726270768218455,
           11.663102483961179,
           13.719361737127816,
           9.754893897022535,
           15.33146899161046,
           15.26566869550913,
           19.74008883039974,
           14.476065142293141,
           18.111531501891758,
           9.656193452870538,
           12.502056259253166,
           21.20414541865438,
           13.044908702089158,
           8.14278664253989,
           15.380819213686461,
           11.399901299555848,
           7.747984865931897,
           7.9618358282612265,
           7.682184569830565,
           7.468333607501234,
           8.833689751603883,
           13.702911663102485,
           13.30810988649449,
           9.738443822997203,
           8.537588419147886,
           19.39463727586774,
           10.199045895706531,
           11.893403520315841,
           7.682184569830565,
           5.856226353018588,
           3.8657673959532817,
           7.764434939957229,
           4.359269616713275,
           7.254482645171903,
           7.188682349070572,
           7.599934199703899,
           5.247573614081263,
           4.75407139332127,
           7.188682349070572,
           9.195591380161211,
           3.8822174699786145,
           6.514229314031914,
           4.22766902451061,
           3.3722651751932884,
           5.083072873827932,
           3.5203158414212865,
           3.0103635466359595,
           4.4744201348906065,
           4.244119098535943,
           6.7280802763612435,
           3.5861161375226187,
           3.9644678401052804,
           2.7965125843066296,
           2.4017108076986347,
           8.192136864615891,
           3.470965619345287,
           2.204309919394637,
           2.697812140154631,
           4.425069912814608,
           2.171409771343971,
           4.721171245270604,
           3.1419641388386244,
           2.6484619180786315,
           2.335910511597302,
           5.132423095903932,
           2.1056094752426384,
           2.319460437571969,
           2.5004112518506334,
           1.151505181773318,
           1.8259582168119757,
           2.27011021549597,
           3.076163842737292,
           1.447606514229314,
           1.5463069583813127,
           1.6779075505839778,
           1.6450074025333112,
           1.1186050337226516,
           1.5134068103306464,
           1.2502056259253167,
           0.9376542194439875
          ],
          [
           92.07990932275432,
           71.91839047888921,
           70.14735052422782,
           57.65089260413715,
           54.02380277699065,
           59.40776423916123,
           76.4947577217342,
           45.96202890337206,
           36.341739869651455,
           56.559931992065735,
           52.02606970813262,
           43.92179087560215,
           31.62368943043355,
           32.40294701048455,
           40.25219608954378,
           31.269481439501273,
           32.3321054122981,
           32.53046188722018,
           31.992065741003117,
           53.01785208274299,
           30.277699064890907,
           18.67384528194956,
           39.79880986115047,
           29.753471238311135,
           32.417115330121845,
           18.149617455369793,
           25.233777274015303,
           17.611221309152736,
           20.303202040238027,
           27.40153017852083,
           23.8169453102862,
           35.619155568149615,
           15.44346840464721,
           19.410597903088693,
           25.290450552564465,
           21.47917257013318,
           36.21422499291584,
           23.434400680079342,
           14.76338906205724,
           14.60753754604704,
           20.813261547180502,
           12.028903372060073,
           39.784641541513174,
           24.638707849249077,
           19.835647492207425,
           21.904222159251912,
           12.198923207707566,
           10.83876452252763,
           10.682913006517428,
           17.92292434117314,
           16.19438934542363,
           18.872201756871636,
           13.828279965996032,
           28.591669028053275,
           16.97364692547464,
           11.986398413148201,
           23.03768773023519,
           13.92745820345707,
           8.515160102011901,
           21.86171720034004,
           12.142249929158403,
           5.70983281382828,
           8.92604137149334,
           8.614338339472939,
           7.0133182204590545,
           10.512893170869935,
           9.861150467554548,
           10.102011901388495,
           6.687446868801359,
           8.89770473221876,
           26.593935959195242,
           11.178804193822613,
           26.409747803910456,
           14.692547463870783,
           5.313119863984132,
           4.236327571550015,
           5.539812978180788,
           4.760555398129782,
           4.46302068574667,
           7.934258996882971,
           6.871635024086144,
           4.590535562482289,
           3.6412581467837914,
           7.211674695381127,
           4.803060357041654,
           2.6353074525361295,
           5.681496174553698,
           6.26239727968263,
           2.550297534712383,
           4.788892037404364,
           5.058090110512893,
           4.1513176537262675,
           9.379427599886652,
           5.213941626523094,
           5.525644658543497,
           2.465287616888637,
           3.372060073675262,
           3.952961178804194,
           3.952961178804194,
           5.171436667611221,
           5.029753471238311,
           2.196089543780108,
           2.9470104845565315,
           2.436950977614055,
           2.6919807310852932,
           3.4429016718617174,
           2.8478322470954947,
           3.0320204023802777,
           2.8053272881836215,
           5.695664494190989,
           2.2102578634173984,
           2.7203173703598753,
           1.9410597903088693,
           0.6942476622272599,
           1.9268914706715785,
           2.22442618305469,
           5.00141683196373,
           1.7852082742986681,
           1.8843865117597052,
           1.4451686030036837,
           1.615188438651176,
           0.7650892604137149,
           1.2326438084443185,
           0.9917823746103713,
           2.0685746670444884
          ],
          [
           85.46938775510205,
           71.91836734693877,
           68.39795918367348,
           57.41836734693877,
           31.69387755102041,
           46.8469387755102,
           37.673469387755105,
           49.76530612244898,
           46.285714285714285,
           38.09183673469388,
           31.673469387755105,
           41.3469387755102,
           35.704081632653065,
           34.58163265306122,
           39.255102040816325,
           30.112244897959183,
           33.60204081632653,
           31.887755102040817,
           47.53061224489796,
           20.887755102040817,
           31.377551020408163,
           21.26530612244898,
           18.377551020408163,
           27.938775510204085,
           26.051020408163268,
           62.48979591836735,
           29.020408163265305,
           18.357142857142858,
           24.285714285714285,
           31.387755102040813,
           23.54081632653061,
           23.77551020408163,
           9.96938775510204,
           14.489795918367346,
           20.622448979591837,
           23.6734693877551,
           16.1734693877551,
           25.74489795918367,
           8.438775510204081,
           18.3265306122449,
           19.877551020408163,
           17.89795918367347,
           11.387755102040817,
           18.306122448979593,
           17.489795918367346,
           16.56122448979592,
           35.44897959183673,
           13.857142857142858,
           6.857142857142858,
           8.204081632653061,
           15.785714285714286,
           15.183673469387754,
           9.326530612244897,
           9.448979591836734,
           11.153061224489797,
           42.367346938775505,
           9.438775510204081,
           11.23469387755102,
           8.122448979591837,
           7.336734693877552,
           13.387755102040815,
           11.53061224489796,
           23.33673469387755,
           26.193877551020407,
           24.56122448979592,
           11.418367346938775,
           12.16326530612245,
           10.10204081632653,
           11.204081632653061,
           4.061224489795919,
           4.387755102040816,
           6.142857142857143,
           3.9183673469387754,
           6.051020408163265,
           19.98979591836735,
           3.612244897959184,
           4.704081632653061,
           3.3265306122448983,
           4.63265306122449,
           4.887755102040817,
           3.5816326530612246,
           22.57142857142857,
           2.4591836734693877,
           3.0204081632653064,
           4.979591836734694,
           3.1938775510204085,
           14.275510204081632,
           4.63265306122449,
           2.357142857142857,
           11.183673469387754,
           2.0510204081632653,
           3.8061224489795915,
           3.642857142857143,
           2.2448979591836733,
           3.9795918367346936,
           3.826530612244898,
           13.275510204081634,
           1.6326530612244898,
           1.489795918367347,
           1.9897959183673468,
           2.1632653061224487,
           1.2040816326530612,
           2.6530612244897958,
           4.081632653061225,
           1.183673469387755,
           3.0408163265306123,
           1.8571428571428572,
           1.5918367346938775,
           2.020408163265306,
           1.5,
           1.5918367346938775,
           2.2346938775510203,
           0.9591836734693878,
           0.6224489795918368,
           1.5,
           1.306122448979592,
           1.0510204081632653,
           2.020408163265306,
           1.0408163265306123,
           1.683673469387755,
           0.846938775510204,
           0.7653061224489796,
           0.7448979591836735,
           0.8571428571428572,
           0.5204081632653061
          ],
          [
           82.99202609641173,
           69.10112359550563,
           63.048205871692645,
           54.34034070315331,
           39.05400507430228,
           57.856107285248285,
           42.216382747372236,
           40.712214570496556,
           36.544037694816964,
           31.524102935846322,
           32.702065965929684,
           30.590793765857192,
           56.234142805364264,
           25.17216382747372,
           32.819862268938024,
           44.073939833272924,
           26.830373323667995,
           50.77926785067053,
           34.994563247553465,
           28.32548024646611,
           31.39724537876042,
           30.76295759333092,
           21.665458499456324,
           21.42986589343965,
           44.16455237404857,
           23.30554548749547,
           20.913374411018484,
           22.508155128669806,
           17.406669083001088,
           16.908300108735048,
           43.684305907937656,
           30.880753896339254,
           13.229430953243929,
           14.969191736136281,
           37.01522290685031,
           14.769844146429866,
           15.431315694092063,
           23.006524102935845,
           10.266400869880393,
           19.83508517578833,
           12.513591881116346,
           10.01268575570859,
           14.035882566147153,
           16.437114896701704,
           13.827473722363177,
           28.117071402682132,
           12.214570496556723,
           9.423704240666908,
           8.309169989126495,
           9.67741935483871,
           25.389633925335264,
           10.048930772018847,
           8.372598767669444,
           10.982239942007974,
           14.02682131206959,
           13.120695904313157,
           19.409206234142808,
           17.91409931134469,
           7.548024646611092,
           8.38166002174701,
           12.296121783254803,
           9.1971728887278,
           7.674882203696992,
           7.819862268938022,
           7.520840884378398,
           7.83798477709315,
           6.641899238854658,
           6.687205509242479,
           8.934396520478433,
           6.641899238854658,
           6.424429140993114,
           4.49438202247191,
           5.074302283436028,
           5.672345052555274,
           5.6904675607104025,
           3.687930409568684,
           10.175788329104748,
           3.8510329829648424,
           6.370061616527728,
           3.434215295396883,
           5.164914824211671,
           5.472997462848858,
           3.0536426241391808,
           3.4432765494744473,
           9.441826748822036,
           3.6698079014135554,
           6.043856469735411,
           6.433490395070677,
           2.763682493657122,
           8.67162015222907,
           2.9720913374411015,
           2.274374773468648,
           3.9144617615077926,
           2.2834360275462124,
           2.953968829285973,
           3.461399057629576,
           4.023196810438565,
           2.1022109459949254,
           2.1837622326930046,
           3.2167451975353387,
           2.573396158028271,
           1.7216382747372236,
           1.9844146429865892,
           8.59006886553099,
           1.785067053280174,
           2.192823486770569,
           3.7422979340340703,
           1.132656759695542,
           1.8847408481333816,
           1.6853932584269662,
           1.196085538238492,
           1.8213120695904312,
           1.5222906850308082,
           0.7883291047480971,
           1.3048205871692642,
           1.7760057992026095,
           1.350126857557086,
           1.3954331279449075,
           2.0115984052192823,
           1.0601667270750272,
           0.8789416455237404,
           0.8517578832910475,
           0.9967379485320769,
           1.2232693004711852,
           0.5527364987314244
          ],
          [
           86.24869727387417,
           78.02095332126598,
           87.74066151061379,
           76.61675168668751,
           32.5324995886128,
           51.64829137183917,
           44.85766002961988,
           48.922165542208326,
           31.12829795403434,
           39.334101256102244,
           36.42147989687894,
           49.3993746914596,
           35.22022927979815,
           48.01711370742143,
           51.18753771049312,
           31.479348362678955,
           26.0380670286874,
           31.44643738686852,
           28.457023750754214,
           24.05243815479129,
           39.43831934616861,
           16.258022050353794,
           20.536448905710053,
           29.192035543853873,
           28.232132082716255,
           26.663375569085623,
           30.585266853162196,
           13.888431792002635,
           21.58411496900883,
           22.829246887170203,
           23.734298721957106,
           24.15117108222259,
           9.99396632110142,
           12.325160441007075,
           21.479896878942462,
           27.700071307114253,
           18.80313751302726,
           31.084416652953763,
           8.617190499698316,
           15.034830782732708,
           26.26295869672536,
           18.397235478031924,
           13.987164719433931,
           18.781196862486972,
           22.955405627776866,
           18.172343809993965,
           20.119576545444573,
           12.248368164116066,
           6.417640283034393,
           8.820141517195985,
           16.812023476496076,
           15.160989523339365,
           10.037847622181998,
           11.529811858921617,
           11.321375678788877,
           15.610772859415281,
           11.864406779661017,
           11.463989907300752,
           6.198233777631507,
           7.6572870385606935,
           15.34748505293182,
           7.986396796665021,
           14.875761066315615,
           8.008337447205308,
           9.47836103340464,
           13.252152926334265,
           11.902802918106522,
           10.871592342712962,
           8.633645987603531,
           4.618506938730733,
           5.424825846086336,
           6.33536284350831,
           5.15056771433273,
           6.6480171137074215,
           7.514672810048818,
           2.901651033953157,
           3.927376446711645,
           2.8577697328725797,
           3.3569195326641434,
           5.424825846086336,
           3.81218803137513,
           5.699083977839943,
           2.561570950578685,
           3.444682134825298,
           5.117656738522297,
           2.6219077395644783,
           8.57330919861774,
           4.053535187318304,
           1.9691733859908946,
           4.9201908836597,
           2.1556689155833473,
           6.033678898579343,
           2.5999670890241897,
           2.4573528605123145,
           4.322308156436838,
           2.5506006253085403,
           3.494048598540947,
           1.4261422851187537,
           1.7607372058581539,
           2.26537216828479,
           1.9252920849103177,
           1.3438648455926718,
           3.4556524600954415,
           3.088146563545609,
           1.8814107838297407,
           3.197849816247052,
           2.1556689155833473,
           1.7442817179529373,
           1.6290933026164225,
           1.5742416762657012,
           1.4206571224836817,
           1.6510339531567113,
           1.0750918764741375,
           0.5594865887773572,
           1.8978662717349568,
           1.1244583401897867,
           0.9708737864077669,
           1.815588832208875,
           1.0805770391092095,
           1.0641215512039932,
           0.8447150458011079,
           0.5540014261422852,
           0.636278865668367,
           0.7075859799243048,
           0.42784268553562615
          ],
          [
           87.85043514155,
           68.91747789893708,
           67.55185580131402,
           54.009150012039484,
           43.15985002235905,
           57.94778301400021,
           57.24949262151284,
           47.70045750060197,
           38.07918544253724,
           45.38199580337794,
           45.440473323931066,
           35.06587320697602,
           33.8860032334629,
           30.418630250077396,
           33.115475903821675,
           31.07908224691273,
           33.31498744453235,
           31.73609438959788,
           29.190602318461696,
           30.779814935846723,
           30.817653331498747,
           18.991434763166044,
           27.501633930721336,
           26.493756664717417,
           29.716900003439857,
           20.088748237074746,
           25.413642461559633,
           16.015960923256852,
           20.862715420866156,
           21.825874582917685,
           23.88634721887792,
           24.983660692786625,
           14.942726428399435,
           17.526056895187644,
           23.201816242991296,
           18.482336348938805,
           27.86281861649066,
           20.453372776994254,
           13.52206666437343,
           16.232671734718448,
           17.065116439062983,
           14.984004678201646,
           22.517285267104675,
           19.14278834577414,
           16.452822400330223,
           19.242544116129476,
           12.33531698255994,
           10.632589178218844,
           9.597193079013449,
           13.184960957655395,
           16.022840631557223,
           14.275394723263734,
           12.603625606274294,
           17.708369165147396,
           17.213030167520895,
           10.133810326442159,
           12.324997420109387,
           13.721578205084104,
           7.622716796807816,
           13.580544184926561,
           10.64634859481958,
           6.32933163633862,
           8.183413023287812,
           8.616834646211,
           7.289050944239964,
           8.716590416566337,
           10.429637783357986,
           10.095971930790135,
           7.715592858862784,
           7.237453131987204,
           9.593753224863267,
           8.757868666368546,
           10.016855285335902,
           9.22912868494376,
           5.52784561934574,
           4.244780021327096,
           4.688521206700836,
           4.175982938323415,
           3.7219221904991233,
           7.306250214990885,
           5.837432492862303,
           3.9764713976127415,
           2.999552818960476,
           4.908671872312613,
           4.6541226651989955,
           2.583330466788208,
           4.918991434763166,
           5.070345017371263,
           2.256544322520725,
           4.28261841697912,
           4.3307763750816965,
           2.851639090502563,
           4.286058271129304,
           4.117505417770286,
           4.482129957689794,
           2.129269718963916,
           2.469815279832135,
           3.099308589315813,
           3.8973547521585084,
           3.1474665474183894,
           3.601527295242682,
           1.7199270750920161,
           2.022634240308211,
           2.700285507894465,
           2.662447112242441,
           2.459495717381583,
           2.4319768841801106,
           2.6039695916893124,
           1.5857727632348388,
           2.0914313233118915,
           2.0707921984107873,
           1.8850400743008495,
           1.3346634102714046,
           0.7223693715386468,
           1.2280279316156995,
           1.3002648687695642,
           1.5960923256853907,
           1.2108286608647794,
           1.3002648687695642,
           0.9975577035533694,
           1.3002648687695642,
           0.47469987272539643,
           0.7361287881393829,
           0.632933163633862,
           0.63981287193423
          ],
          [
           87.93894986470463,
           76.15457115928369,
           85.06582347754706,
           70.97382262625034,
           37.86446140281536,
           59.84007783284181,
           53.08747073667569,
           49.21103037305038,
           34.401508011310085,
           44.92414338268828,
           43.61679486789699,
           47.00982031558785,
           36.517588398042015,
           43.92082940622055,
           46.945973062539906,
           31.513179897236327,
           28.564044875497856,
           35.2497643732328,
           29.2177191328935,
           27.265817396856285,
           38.63062843939071,
           16.278009181843057,
           23.523152230093338,
           29.275485695174975,
           32.704995287464655,
           23.07926180414095,
           29.509592289684107,
           13.45656866620048,
           20.78380103979812,
           22.477273418260317,
           26.36283481803533,
           26.460125870298867,
           12.553586087379525,
           14.283542610440547,
           25.648353652974976,
           26.125687878142955,
           24.970356632513454,
           28.685658690827275,
           11.015171323462345,
           15.302058313824451,
           23.608281900823933,
           18.324161624760574,
           18.020127086437018,
           19.336596637378005,
           21.847921923930556,
           22.334377185248243,
           16.20200054726217,
           11.161107901857651,
           7.485330333525889,
           11.057736158827643,
           19.379161472743302,
           15.964853607369797,
           11.5502721109118,
           15.280775896141801,
           14.678787510261165,
           12.948830987200147,
           13.331914505487823,
           12.921467878751026,
           6.962390927609377,
           9.920646985497553,
           14.231856738925542,
           6.913745401477608,
           12.246511203672737,
           7.947462831777689,
           8.588975707640389,
           11.17630962877383,
           12.365084673618924,
           10.981727524246754,
           7.816727980298562,
           5.451339272141316,
           7.500532060442067,
           9.266972728101912,
           7.9018576510291565,
           8.461281201544496,
           6.545863610106108,
           3.554163753002341,
           3.9311665805235476,
           3.4264692469064486,
           3.356541303092031,
           8.096439755556231,
           4.581800492535952,
           4.770301906296556,
           2.8305615517922837,
           4.134869721200329,
           5.046973336170988,
           2.639019792648445,
           6.919826092244079,
           4.961843665440394,
           2.122161077498404,
           4.85543157702715,
           2.6542215195646226,
           4.496670821805357,
           3.4416709738226263,
           2.9795384755708247,
           4.557477729470068,
           2.2103310936122345,
           2.8092791341096346,
           2.0400717521510443,
           2.368429053540482,
           2.4778814873369615,
           2.310662491259007,
           1.5232130370010033,
           2.754552917211395,
           2.4444376881213707,
           2.538688395001672,
           2.781916025660515,
           2.3015414551093003,
           2.423155270438722,
           1.5870602900489497,
           1.9488613906539782,
           2.1525645313307593,
           1.7208354869113132,
           1.0458788118330242,
           0.556383205132103,
           1.5536164908333587,
           1.112766410264206,
           1.3347116232404002,
           1.4563254385698217,
           1.2647836794259828,
           0.9789912134018425,
           0.9029825788209541,
           0.3922045544373841,
           0.6658356389285823,
           0.6080690766471071,
           0.5290200966829831
          ]
         ]
        }
       ],
       "layout": {
        "height": 700,
        "template": {
         "data": {
          "bar": [
           {
            "error_x": {
             "color": "#2a3f5f"
            },
            "error_y": {
             "color": "#2a3f5f"
            },
            "marker": {
             "line": {
              "color": "#E5ECF6",
              "width": 0.5
             },
             "pattern": {
              "fillmode": "overlay",
              "size": 10,
              "solidity": 0.2
             }
            },
            "type": "bar"
           }
          ],
          "barpolar": [
           {
            "marker": {
             "line": {
              "color": "#E5ECF6",
              "width": 0.5
             },
             "pattern": {
              "fillmode": "overlay",
              "size": 10,
              "solidity": 0.2
             }
            },
            "type": "barpolar"
           }
          ],
          "carpet": [
           {
            "aaxis": {
             "endlinecolor": "#2a3f5f",
             "gridcolor": "white",
             "linecolor": "white",
             "minorgridcolor": "white",
             "startlinecolor": "#2a3f5f"
            },
            "baxis": {
             "endlinecolor": "#2a3f5f",
             "gridcolor": "white",
             "linecolor": "white",
             "minorgridcolor": "white",
             "startlinecolor": "#2a3f5f"
            },
            "type": "carpet"
           }
          ],
          "choropleth": [
           {
            "colorbar": {
             "outlinewidth": 0,
             "ticks": ""
            },
            "type": "choropleth"
           }
          ],
          "contour": [
           {
            "colorbar": {
             "outlinewidth": 0,
             "ticks": ""
            },
            "colorscale": [
             [
              0,
              "#0d0887"
             ],
             [
              0.1111111111111111,
              "#46039f"
             ],
             [
              0.2222222222222222,
              "#7201a8"
             ],
             [
              0.3333333333333333,
              "#9c179e"
             ],
             [
              0.4444444444444444,
              "#bd3786"
             ],
             [
              0.5555555555555556,
              "#d8576b"
             ],
             [
              0.6666666666666666,
              "#ed7953"
             ],
             [
              0.7777777777777778,
              "#fb9f3a"
             ],
             [
              0.8888888888888888,
              "#fdca26"
             ],
             [
              1,
              "#f0f921"
             ]
            ],
            "type": "contour"
           }
          ],
          "contourcarpet": [
           {
            "colorbar": {
             "outlinewidth": 0,
             "ticks": ""
            },
            "type": "contourcarpet"
           }
          ],
          "heatmap": [
           {
            "colorbar": {
             "outlinewidth": 0,
             "ticks": ""
            },
            "colorscale": [
             [
              0,
              "#0d0887"
             ],
             [
              0.1111111111111111,
              "#46039f"
             ],
             [
              0.2222222222222222,
              "#7201a8"
             ],
             [
              0.3333333333333333,
              "#9c179e"
             ],
             [
              0.4444444444444444,
              "#bd3786"
             ],
             [
              0.5555555555555556,
              "#d8576b"
             ],
             [
              0.6666666666666666,
              "#ed7953"
             ],
             [
              0.7777777777777778,
              "#fb9f3a"
             ],
             [
              0.8888888888888888,
              "#fdca26"
             ],
             [
              1,
              "#f0f921"
             ]
            ],
            "type": "heatmap"
           }
          ],
          "heatmapgl": [
           {
            "colorbar": {
             "outlinewidth": 0,
             "ticks": ""
            },
            "colorscale": [
             [
              0,
              "#0d0887"
             ],
             [
              0.1111111111111111,
              "#46039f"
             ],
             [
              0.2222222222222222,
              "#7201a8"
             ],
             [
              0.3333333333333333,
              "#9c179e"
             ],
             [
              0.4444444444444444,
              "#bd3786"
             ],
             [
              0.5555555555555556,
              "#d8576b"
             ],
             [
              0.6666666666666666,
              "#ed7953"
             ],
             [
              0.7777777777777778,
              "#fb9f3a"
             ],
             [
              0.8888888888888888,
              "#fdca26"
             ],
             [
              1,
              "#f0f921"
             ]
            ],
            "type": "heatmapgl"
           }
          ],
          "histogram": [
           {
            "marker": {
             "pattern": {
              "fillmode": "overlay",
              "size": 10,
              "solidity": 0.2
             }
            },
            "type": "histogram"
           }
          ],
          "histogram2d": [
           {
            "colorbar": {
             "outlinewidth": 0,
             "ticks": ""
            },
            "colorscale": [
             [
              0,
              "#0d0887"
             ],
             [
              0.1111111111111111,
              "#46039f"
             ],
             [
              0.2222222222222222,
              "#7201a8"
             ],
             [
              0.3333333333333333,
              "#9c179e"
             ],
             [
              0.4444444444444444,
              "#bd3786"
             ],
             [
              0.5555555555555556,
              "#d8576b"
             ],
             [
              0.6666666666666666,
              "#ed7953"
             ],
             [
              0.7777777777777778,
              "#fb9f3a"
             ],
             [
              0.8888888888888888,
              "#fdca26"
             ],
             [
              1,
              "#f0f921"
             ]
            ],
            "type": "histogram2d"
           }
          ],
          "histogram2dcontour": [
           {
            "colorbar": {
             "outlinewidth": 0,
             "ticks": ""
            },
            "colorscale": [
             [
              0,
              "#0d0887"
             ],
             [
              0.1111111111111111,
              "#46039f"
             ],
             [
              0.2222222222222222,
              "#7201a8"
             ],
             [
              0.3333333333333333,
              "#9c179e"
             ],
             [
              0.4444444444444444,
              "#bd3786"
             ],
             [
              0.5555555555555556,
              "#d8576b"
             ],
             [
              0.6666666666666666,
              "#ed7953"
             ],
             [
              0.7777777777777778,
              "#fb9f3a"
             ],
             [
              0.8888888888888888,
              "#fdca26"
             ],
             [
              1,
              "#f0f921"
             ]
            ],
            "type": "histogram2dcontour"
           }
          ],
          "mesh3d": [
           {
            "colorbar": {
             "outlinewidth": 0,
             "ticks": ""
            },
            "type": "mesh3d"
           }
          ],
          "parcoords": [
           {
            "line": {
             "colorbar": {
              "outlinewidth": 0,
              "ticks": ""
             }
            },
            "type": "parcoords"
           }
          ],
          "pie": [
           {
            "automargin": true,
            "type": "pie"
           }
          ],
          "scatter": [
           {
            "fillpattern": {
             "fillmode": "overlay",
             "size": 10,
             "solidity": 0.2
            },
            "type": "scatter"
           }
          ],
          "scatter3d": [
           {
            "line": {
             "colorbar": {
              "outlinewidth": 0,
              "ticks": ""
             }
            },
            "marker": {
             "colorbar": {
              "outlinewidth": 0,
              "ticks": ""
             }
            },
            "type": "scatter3d"
           }
          ],
          "scattercarpet": [
           {
            "marker": {
             "colorbar": {
              "outlinewidth": 0,
              "ticks": ""
             }
            },
            "type": "scattercarpet"
           }
          ],
          "scattergeo": [
           {
            "marker": {
             "colorbar": {
              "outlinewidth": 0,
              "ticks": ""
             }
            },
            "type": "scattergeo"
           }
          ],
          "scattergl": [
           {
            "marker": {
             "colorbar": {
              "outlinewidth": 0,
              "ticks": ""
             }
            },
            "type": "scattergl"
           }
          ],
          "scattermapbox": [
           {
            "marker": {
             "colorbar": {
              "outlinewidth": 0,
              "ticks": ""
             }
            },
            "type": "scattermapbox"
           }
          ],
          "scatterpolar": [
           {
            "marker": {
             "colorbar": {
              "outlinewidth": 0,
              "ticks": ""
             }
            },
            "type": "scatterpolar"
           }
          ],
          "scatterpolargl": [
           {
            "marker": {
             "colorbar": {
              "outlinewidth": 0,
              "ticks": ""
             }
            },
            "type": "scatterpolargl"
           }
          ],
          "scatterternary": [
           {
            "marker": {
             "colorbar": {
              "outlinewidth": 0,
              "ticks": ""
             }
            },
            "type": "scatterternary"
           }
          ],
          "surface": [
           {
            "colorbar": {
             "outlinewidth": 0,
             "ticks": ""
            },
            "colorscale": [
             [
              0,
              "#0d0887"
             ],
             [
              0.1111111111111111,
              "#46039f"
             ],
             [
              0.2222222222222222,
              "#7201a8"
             ],
             [
              0.3333333333333333,
              "#9c179e"
             ],
             [
              0.4444444444444444,
              "#bd3786"
             ],
             [
              0.5555555555555556,
              "#d8576b"
             ],
             [
              0.6666666666666666,
              "#ed7953"
             ],
             [
              0.7777777777777778,
              "#fb9f3a"
             ],
             [
              0.8888888888888888,
              "#fdca26"
             ],
             [
              1,
              "#f0f921"
             ]
            ],
            "type": "surface"
           }
          ],
          "table": [
           {
            "cells": {
             "fill": {
              "color": "#EBF0F8"
             },
             "line": {
              "color": "white"
             }
            },
            "header": {
             "fill": {
              "color": "#C8D4E3"
             },
             "line": {
              "color": "white"
             }
            },
            "type": "table"
           }
          ]
         },
         "layout": {
          "annotationdefaults": {
           "arrowcolor": "#2a3f5f",
           "arrowhead": 0,
           "arrowwidth": 1
          },
          "autotypenumbers": "strict",
          "coloraxis": {
           "colorbar": {
            "outlinewidth": 0,
            "ticks": ""
           }
          },
          "colorscale": {
           "diverging": [
            [
             0,
             "#8e0152"
            ],
            [
             0.1,
             "#c51b7d"
            ],
            [
             0.2,
             "#de77ae"
            ],
            [
             0.3,
             "#f1b6da"
            ],
            [
             0.4,
             "#fde0ef"
            ],
            [
             0.5,
             "#f7f7f7"
            ],
            [
             0.6,
             "#e6f5d0"
            ],
            [
             0.7,
             "#b8e186"
            ],
            [
             0.8,
             "#7fbc41"
            ],
            [
             0.9,
             "#4d9221"
            ],
            [
             1,
             "#276419"
            ]
           ],
           "sequential": [
            [
             0,
             "#0d0887"
            ],
            [
             0.1111111111111111,
             "#46039f"
            ],
            [
             0.2222222222222222,
             "#7201a8"
            ],
            [
             0.3333333333333333,
             "#9c179e"
            ],
            [
             0.4444444444444444,
             "#bd3786"
            ],
            [
             0.5555555555555556,
             "#d8576b"
            ],
            [
             0.6666666666666666,
             "#ed7953"
            ],
            [
             0.7777777777777778,
             "#fb9f3a"
            ],
            [
             0.8888888888888888,
             "#fdca26"
            ],
            [
             1,
             "#f0f921"
            ]
           ],
           "sequentialminus": [
            [
             0,
             "#0d0887"
            ],
            [
             0.1111111111111111,
             "#46039f"
            ],
            [
             0.2222222222222222,
             "#7201a8"
            ],
            [
             0.3333333333333333,
             "#9c179e"
            ],
            [
             0.4444444444444444,
             "#bd3786"
            ],
            [
             0.5555555555555556,
             "#d8576b"
            ],
            [
             0.6666666666666666,
             "#ed7953"
            ],
            [
             0.7777777777777778,
             "#fb9f3a"
            ],
            [
             0.8888888888888888,
             "#fdca26"
            ],
            [
             1,
             "#f0f921"
            ]
           ]
          },
          "colorway": [
           "#636efa",
           "#EF553B",
           "#00cc96",
           "#ab63fa",
           "#FFA15A",
           "#19d3f3",
           "#FF6692",
           "#B6E880",
           "#FF97FF",
           "#FECB52"
          ],
          "font": {
           "color": "#2a3f5f"
          },
          "geo": {
           "bgcolor": "white",
           "lakecolor": "white",
           "landcolor": "#E5ECF6",
           "showlakes": true,
           "showland": true,
           "subunitcolor": "white"
          },
          "hoverlabel": {
           "align": "left"
          },
          "hovermode": "closest",
          "mapbox": {
           "style": "light"
          },
          "paper_bgcolor": "white",
          "plot_bgcolor": "#E5ECF6",
          "polar": {
           "angularaxis": {
            "gridcolor": "white",
            "linecolor": "white",
            "ticks": ""
           },
           "bgcolor": "#E5ECF6",
           "radialaxis": {
            "gridcolor": "white",
            "linecolor": "white",
            "ticks": ""
           }
          },
          "scene": {
           "xaxis": {
            "backgroundcolor": "#E5ECF6",
            "gridcolor": "white",
            "gridwidth": 2,
            "linecolor": "white",
            "showbackground": true,
            "ticks": "",
            "zerolinecolor": "white"
           },
           "yaxis": {
            "backgroundcolor": "#E5ECF6",
            "gridcolor": "white",
            "gridwidth": 2,
            "linecolor": "white",
            "showbackground": true,
            "ticks": "",
            "zerolinecolor": "white"
           },
           "zaxis": {
            "backgroundcolor": "#E5ECF6",
            "gridcolor": "white",
            "gridwidth": 2,
            "linecolor": "white",
            "showbackground": true,
            "ticks": "",
            "zerolinecolor": "white"
           }
          },
          "shapedefaults": {
           "line": {
            "color": "#2a3f5f"
           }
          },
          "ternary": {
           "aaxis": {
            "gridcolor": "white",
            "linecolor": "white",
            "ticks": ""
           },
           "baxis": {
            "gridcolor": "white",
            "linecolor": "white",
            "ticks": ""
           },
           "bgcolor": "#E5ECF6",
           "caxis": {
            "gridcolor": "white",
            "linecolor": "white",
            "ticks": ""
           }
          },
          "title": {
           "x": 0.05
          },
          "xaxis": {
           "automargin": true,
           "gridcolor": "white",
           "linecolor": "white",
           "ticks": "",
           "title": {
            "standoff": 15
           },
           "zerolinecolor": "white",
           "zerolinewidth": 2
          },
          "yaxis": {
           "automargin": true,
           "gridcolor": "white",
           "linecolor": "white",
           "ticks": "",
           "title": {
            "standoff": 15
           },
           "zerolinecolor": "white",
           "zerolinewidth": 2
          }
         }
        },
        "width": 2500
       }
      }
     },
     "metadata": {},
     "output_type": "display_data"
    }
   ],
   "source": [
    "fig = go.Figure(data=go.Heatmap(z=skills, x=skills.columns,y=skills.index, colorscale='magma', ygap=1))\n",
    "fig.update_layout(width=2500, height=700)\n",
    "fig.show()\n"
   ]
  },
  {
   "cell_type": "markdown",
   "id": "abb1ba30-1a9b-4339-852f-a1645b968e46",
   "metadata": {},
   "source": [
    "## Create Jobs dendrogram"
   ]
  },
  {
   "cell_type": "code",
   "execution_count": 18,
   "id": "940bd17a-65da-4b56-8597-169bd227d9ef",
   "metadata": {},
   "outputs": [],
   "source": [
    "roles_short_dict = roles_names.set_index('Original name')[\"Short name \"].to_dict()\n",
    "short_labels = [roles_short_dict[role] \n",
    "                for role in sorted_roles]"
   ]
  },
  {
   "cell_type": "code",
   "execution_count": 19,
   "id": "b8f70a91-a39e-433d-9e74-f593abda085c",
   "metadata": {},
   "outputs": [
    {
     "data": {
      "application/vnd.plotly.v1+json": {
       "config": {
        "plotlyServerURL": "https://plot.ly"
       },
       "data": [
        {
         "hoverinfo": "text",
         "marker": {
          "color": "rgb(0,116,217)"
         },
         "mode": "lines",
         "type": "scatter",
         "x": [
          0,
          57.91083611083223,
          57.91083611083223,
          0
         ],
         "xaxis": "x",
         "y": [
          -5,
          -5,
          -15,
          -15
         ],
         "yaxis": "y"
        },
        {
         "hoverinfo": "text",
         "marker": {
          "color": "rgb(0,116,217)"
         },
         "mode": "lines",
         "type": "scatter",
         "x": [
          0,
          17.21210611029613,
          17.21210611029613,
          0
         ],
         "xaxis": "x",
         "y": [
          -35,
          -35,
          -45,
          -45
         ],
         "yaxis": "y"
        },
        {
         "hoverinfo": "text",
         "marker": {
          "color": "rgb(0,116,217)"
         },
         "mode": "lines",
         "type": "scatter",
         "x": [
          0,
          68.4343614059436,
          68.4343614059436,
          17.21210611029613
         ],
         "xaxis": "x",
         "y": [
          -25,
          -25,
          -40,
          -40
         ],
         "yaxis": "y"
        },
        {
         "hoverinfo": "text",
         "marker": {
          "color": "rgb(0,116,217)"
         },
         "mode": "lines",
         "type": "scatter",
         "x": [
          57.91083611083223,
          98.70404575262306,
          98.70404575262306,
          68.4343614059436
         ],
         "xaxis": "x",
         "y": [
          -10,
          -10,
          -32.5,
          -32.5
         ],
         "yaxis": "y"
        },
        {
         "hoverinfo": "text",
         "marker": {
          "color": "rgb(0,116,217)"
         },
         "mode": "lines",
         "type": "scatter",
         "x": [
          0,
          34.264197500573566,
          34.264197500573566,
          0
         ],
         "xaxis": "x",
         "y": [
          -55,
          -55,
          -65,
          -65
         ],
         "yaxis": "y"
        },
        {
         "hoverinfo": "text",
         "marker": {
          "color": "rgb(0,116,217)"
         },
         "mode": "lines",
         "type": "scatter",
         "x": [
          0,
          44.845252137723065,
          44.845252137723065,
          0
         ],
         "xaxis": "x",
         "y": [
          -75,
          -75,
          -85,
          -85
         ],
         "yaxis": "y"
        },
        {
         "hoverinfo": "text",
         "marker": {
          "color": "rgb(0,116,217)"
         },
         "mode": "lines",
         "type": "scatter",
         "x": [
          0,
          65.2909115713754,
          65.2909115713754,
          0
         ],
         "xaxis": "x",
         "y": [
          -95,
          -95,
          -105,
          -105
         ],
         "yaxis": "y"
        },
        {
         "hoverinfo": "text",
         "marker": {
          "color": "rgb(0,116,217)"
         },
         "mode": "lines",
         "type": "scatter",
         "x": [
          44.845252137723065,
          69.54649055530824,
          69.54649055530824,
          65.2909115713754
         ],
         "xaxis": "x",
         "y": [
          -80,
          -80,
          -100,
          -100
         ],
         "yaxis": "y"
        },
        {
         "hoverinfo": "text",
         "marker": {
          "color": "rgb(0,116,217)"
         },
         "mode": "lines",
         "type": "scatter",
         "x": [
          0,
          70.32591907182986,
          70.32591907182986,
          0
         ],
         "xaxis": "x",
         "y": [
          -115,
          -115,
          -125,
          -125
         ],
         "yaxis": "y"
        },
        {
         "hoverinfo": "text",
         "marker": {
          "color": "rgb(0,116,217)"
         },
         "mode": "lines",
         "type": "scatter",
         "x": [
          69.54649055530824,
          89.52880571871789,
          89.52880571871789,
          70.32591907182986
         ],
         "xaxis": "x",
         "y": [
          -90,
          -90,
          -120,
          -120
         ],
         "yaxis": "y"
        },
        {
         "hoverinfo": "text",
         "marker": {
          "color": "rgb(0,116,217)"
         },
         "mode": "lines",
         "type": "scatter",
         "x": [
          0,
          40.077167753294745,
          40.077167753294745,
          0
         ],
         "xaxis": "x",
         "y": [
          -145,
          -145,
          -155,
          -155
         ],
         "yaxis": "y"
        },
        {
         "hoverinfo": "text",
         "marker": {
          "color": "rgb(0,116,217)"
         },
         "mode": "lines",
         "type": "scatter",
         "x": [
          0,
          41.459878108848045,
          41.459878108848045,
          0
         ],
         "xaxis": "x",
         "y": [
          -165,
          -165,
          -175,
          -175
         ],
         "yaxis": "y"
        },
        {
         "hoverinfo": "text",
         "marker": {
          "color": "rgb(0,116,217)"
         },
         "mode": "lines",
         "type": "scatter",
         "x": [
          40.077167753294745,
          59.501616797780855,
          59.501616797780855,
          41.459878108848045
         ],
         "xaxis": "x",
         "y": [
          -150,
          -150,
          -170,
          -170
         ],
         "yaxis": "y"
        },
        {
         "hoverinfo": "text",
         "marker": {
          "color": "rgb(0,116,217)"
         },
         "mode": "lines",
         "type": "scatter",
         "x": [
          0,
          26.31139153120182,
          26.31139153120182,
          0
         ],
         "xaxis": "x",
         "y": [
          -185,
          -185,
          -195,
          -195
         ],
         "yaxis": "y"
        },
        {
         "hoverinfo": "text",
         "marker": {
          "color": "rgb(0,116,217)"
         },
         "mode": "lines",
         "type": "scatter",
         "x": [
          0,
          26.92163948062963,
          26.92163948062963,
          0
         ],
         "xaxis": "x",
         "y": [
          -205,
          -205,
          -215,
          -215
         ],
         "yaxis": "y"
        },
        {
         "hoverinfo": "text",
         "marker": {
          "color": "rgb(0,116,217)"
         },
         "mode": "lines",
         "type": "scatter",
         "x": [
          0,
          31.478550214034726,
          31.478550214034726,
          0
         ],
         "xaxis": "x",
         "y": [
          -235,
          -235,
          -245,
          -245
         ],
         "yaxis": "y"
        },
        {
         "hoverinfo": "text",
         "marker": {
          "color": "rgb(0,116,217)"
         },
         "mode": "lines",
         "type": "scatter",
         "x": [
          0,
          39.065446860384014,
          39.065446860384014,
          31.478550214034726
         ],
         "xaxis": "x",
         "y": [
          -225,
          -225,
          -240,
          -240
         ],
         "yaxis": "y"
        },
        {
         "hoverinfo": "text",
         "marker": {
          "color": "rgb(0,116,217)"
         },
         "mode": "lines",
         "type": "scatter",
         "x": [
          26.92163948062963,
          48.70012866565837,
          48.70012866565837,
          39.065446860384014
         ],
         "xaxis": "x",
         "y": [
          -210,
          -210,
          -232.5,
          -232.5
         ],
         "yaxis": "y"
        },
        {
         "hoverinfo": "text",
         "marker": {
          "color": "rgb(0,116,217)"
         },
         "mode": "lines",
         "type": "scatter",
         "x": [
          26.31139153120182,
          70.94392687719375,
          70.94392687719375,
          48.70012866565837
         ],
         "xaxis": "x",
         "y": [
          -190,
          -190,
          -221.25,
          -221.25
         ],
         "yaxis": "y"
        },
        {
         "hoverinfo": "text",
         "marker": {
          "color": "rgb(0,116,217)"
         },
         "mode": "lines",
         "type": "scatter",
         "x": [
          59.501616797780855,
          76.56174622579005,
          76.56174622579005,
          70.94392687719375
         ],
         "xaxis": "x",
         "y": [
          -160,
          -160,
          -205.625,
          -205.625
         ],
         "yaxis": "y"
        },
        {
         "hoverinfo": "text",
         "marker": {
          "color": "rgb(0,116,217)"
         },
         "mode": "lines",
         "type": "scatter",
         "x": [
          0,
          98.37975073854565,
          98.37975073854565,
          76.56174622579005
         ],
         "xaxis": "x",
         "y": [
          -135,
          -135,
          -182.8125,
          -182.8125
         ],
         "yaxis": "y"
        },
        {
         "hoverinfo": "text",
         "marker": {
          "color": "rgb(0,116,217)"
         },
         "mode": "lines",
         "type": "scatter",
         "x": [
          89.52880571871789,
          103.9062697783131,
          103.9062697783131,
          98.37975073854565
         ],
         "xaxis": "x",
         "y": [
          -105,
          -105,
          -158.90625,
          -158.90625
         ],
         "yaxis": "y"
        },
        {
         "hoverinfo": "text",
         "marker": {
          "color": "rgb(0,116,217)"
         },
         "mode": "lines",
         "type": "scatter",
         "x": [
          34.264197500573566,
          131.53418782179176,
          131.53418782179176,
          103.9062697783131
         ],
         "xaxis": "x",
         "y": [
          -60,
          -60,
          -131.953125,
          -131.953125
         ],
         "yaxis": "y"
        },
        {
         "hoverinfo": "text",
         "marker": {
          "color": "rgb(0,116,217)"
         },
         "mode": "lines",
         "type": "scatter",
         "x": [
          98.70404575262306,
          174.50167189388387,
          174.50167189388387,
          131.53418782179176
         ],
         "xaxis": "x",
         "y": [
          -21.25,
          -21.25,
          -95.9765625,
          -95.9765625
         ],
         "yaxis": "y"
        }
       ],
       "layout": {
        "autosize": false,
        "height": 700,
        "hovermode": "closest",
        "showlegend": false,
        "template": {
         "data": {
          "bar": [
           {
            "error_x": {
             "color": "#2a3f5f"
            },
            "error_y": {
             "color": "#2a3f5f"
            },
            "marker": {
             "line": {
              "color": "#E5ECF6",
              "width": 0.5
             },
             "pattern": {
              "fillmode": "overlay",
              "size": 10,
              "solidity": 0.2
             }
            },
            "type": "bar"
           }
          ],
          "barpolar": [
           {
            "marker": {
             "line": {
              "color": "#E5ECF6",
              "width": 0.5
             },
             "pattern": {
              "fillmode": "overlay",
              "size": 10,
              "solidity": 0.2
             }
            },
            "type": "barpolar"
           }
          ],
          "carpet": [
           {
            "aaxis": {
             "endlinecolor": "#2a3f5f",
             "gridcolor": "white",
             "linecolor": "white",
             "minorgridcolor": "white",
             "startlinecolor": "#2a3f5f"
            },
            "baxis": {
             "endlinecolor": "#2a3f5f",
             "gridcolor": "white",
             "linecolor": "white",
             "minorgridcolor": "white",
             "startlinecolor": "#2a3f5f"
            },
            "type": "carpet"
           }
          ],
          "choropleth": [
           {
            "colorbar": {
             "outlinewidth": 0,
             "ticks": ""
            },
            "type": "choropleth"
           }
          ],
          "contour": [
           {
            "colorbar": {
             "outlinewidth": 0,
             "ticks": ""
            },
            "colorscale": [
             [
              0,
              "#0d0887"
             ],
             [
              0.1111111111111111,
              "#46039f"
             ],
             [
              0.2222222222222222,
              "#7201a8"
             ],
             [
              0.3333333333333333,
              "#9c179e"
             ],
             [
              0.4444444444444444,
              "#bd3786"
             ],
             [
              0.5555555555555556,
              "#d8576b"
             ],
             [
              0.6666666666666666,
              "#ed7953"
             ],
             [
              0.7777777777777778,
              "#fb9f3a"
             ],
             [
              0.8888888888888888,
              "#fdca26"
             ],
             [
              1,
              "#f0f921"
             ]
            ],
            "type": "contour"
           }
          ],
          "contourcarpet": [
           {
            "colorbar": {
             "outlinewidth": 0,
             "ticks": ""
            },
            "type": "contourcarpet"
           }
          ],
          "heatmap": [
           {
            "colorbar": {
             "outlinewidth": 0,
             "ticks": ""
            },
            "colorscale": [
             [
              0,
              "#0d0887"
             ],
             [
              0.1111111111111111,
              "#46039f"
             ],
             [
              0.2222222222222222,
              "#7201a8"
             ],
             [
              0.3333333333333333,
              "#9c179e"
             ],
             [
              0.4444444444444444,
              "#bd3786"
             ],
             [
              0.5555555555555556,
              "#d8576b"
             ],
             [
              0.6666666666666666,
              "#ed7953"
             ],
             [
              0.7777777777777778,
              "#fb9f3a"
             ],
             [
              0.8888888888888888,
              "#fdca26"
             ],
             [
              1,
              "#f0f921"
             ]
            ],
            "type": "heatmap"
           }
          ],
          "heatmapgl": [
           {
            "colorbar": {
             "outlinewidth": 0,
             "ticks": ""
            },
            "colorscale": [
             [
              0,
              "#0d0887"
             ],
             [
              0.1111111111111111,
              "#46039f"
             ],
             [
              0.2222222222222222,
              "#7201a8"
             ],
             [
              0.3333333333333333,
              "#9c179e"
             ],
             [
              0.4444444444444444,
              "#bd3786"
             ],
             [
              0.5555555555555556,
              "#d8576b"
             ],
             [
              0.6666666666666666,
              "#ed7953"
             ],
             [
              0.7777777777777778,
              "#fb9f3a"
             ],
             [
              0.8888888888888888,
              "#fdca26"
             ],
             [
              1,
              "#f0f921"
             ]
            ],
            "type": "heatmapgl"
           }
          ],
          "histogram": [
           {
            "marker": {
             "pattern": {
              "fillmode": "overlay",
              "size": 10,
              "solidity": 0.2
             }
            },
            "type": "histogram"
           }
          ],
          "histogram2d": [
           {
            "colorbar": {
             "outlinewidth": 0,
             "ticks": ""
            },
            "colorscale": [
             [
              0,
              "#0d0887"
             ],
             [
              0.1111111111111111,
              "#46039f"
             ],
             [
              0.2222222222222222,
              "#7201a8"
             ],
             [
              0.3333333333333333,
              "#9c179e"
             ],
             [
              0.4444444444444444,
              "#bd3786"
             ],
             [
              0.5555555555555556,
              "#d8576b"
             ],
             [
              0.6666666666666666,
              "#ed7953"
             ],
             [
              0.7777777777777778,
              "#fb9f3a"
             ],
             [
              0.8888888888888888,
              "#fdca26"
             ],
             [
              1,
              "#f0f921"
             ]
            ],
            "type": "histogram2d"
           }
          ],
          "histogram2dcontour": [
           {
            "colorbar": {
             "outlinewidth": 0,
             "ticks": ""
            },
            "colorscale": [
             [
              0,
              "#0d0887"
             ],
             [
              0.1111111111111111,
              "#46039f"
             ],
             [
              0.2222222222222222,
              "#7201a8"
             ],
             [
              0.3333333333333333,
              "#9c179e"
             ],
             [
              0.4444444444444444,
              "#bd3786"
             ],
             [
              0.5555555555555556,
              "#d8576b"
             ],
             [
              0.6666666666666666,
              "#ed7953"
             ],
             [
              0.7777777777777778,
              "#fb9f3a"
             ],
             [
              0.8888888888888888,
              "#fdca26"
             ],
             [
              1,
              "#f0f921"
             ]
            ],
            "type": "histogram2dcontour"
           }
          ],
          "mesh3d": [
           {
            "colorbar": {
             "outlinewidth": 0,
             "ticks": ""
            },
            "type": "mesh3d"
           }
          ],
          "parcoords": [
           {
            "line": {
             "colorbar": {
              "outlinewidth": 0,
              "ticks": ""
             }
            },
            "type": "parcoords"
           }
          ],
          "pie": [
           {
            "automargin": true,
            "type": "pie"
           }
          ],
          "scatter": [
           {
            "fillpattern": {
             "fillmode": "overlay",
             "size": 10,
             "solidity": 0.2
            },
            "type": "scatter"
           }
          ],
          "scatter3d": [
           {
            "line": {
             "colorbar": {
              "outlinewidth": 0,
              "ticks": ""
             }
            },
            "marker": {
             "colorbar": {
              "outlinewidth": 0,
              "ticks": ""
             }
            },
            "type": "scatter3d"
           }
          ],
          "scattercarpet": [
           {
            "marker": {
             "colorbar": {
              "outlinewidth": 0,
              "ticks": ""
             }
            },
            "type": "scattercarpet"
           }
          ],
          "scattergeo": [
           {
            "marker": {
             "colorbar": {
              "outlinewidth": 0,
              "ticks": ""
             }
            },
            "type": "scattergeo"
           }
          ],
          "scattergl": [
           {
            "marker": {
             "colorbar": {
              "outlinewidth": 0,
              "ticks": ""
             }
            },
            "type": "scattergl"
           }
          ],
          "scattermapbox": [
           {
            "marker": {
             "colorbar": {
              "outlinewidth": 0,
              "ticks": ""
             }
            },
            "type": "scattermapbox"
           }
          ],
          "scatterpolar": [
           {
            "marker": {
             "colorbar": {
              "outlinewidth": 0,
              "ticks": ""
             }
            },
            "type": "scatterpolar"
           }
          ],
          "scatterpolargl": [
           {
            "marker": {
             "colorbar": {
              "outlinewidth": 0,
              "ticks": ""
             }
            },
            "type": "scatterpolargl"
           }
          ],
          "scatterternary": [
           {
            "marker": {
             "colorbar": {
              "outlinewidth": 0,
              "ticks": ""
             }
            },
            "type": "scatterternary"
           }
          ],
          "surface": [
           {
            "colorbar": {
             "outlinewidth": 0,
             "ticks": ""
            },
            "colorscale": [
             [
              0,
              "#0d0887"
             ],
             [
              0.1111111111111111,
              "#46039f"
             ],
             [
              0.2222222222222222,
              "#7201a8"
             ],
             [
              0.3333333333333333,
              "#9c179e"
             ],
             [
              0.4444444444444444,
              "#bd3786"
             ],
             [
              0.5555555555555556,
              "#d8576b"
             ],
             [
              0.6666666666666666,
              "#ed7953"
             ],
             [
              0.7777777777777778,
              "#fb9f3a"
             ],
             [
              0.8888888888888888,
              "#fdca26"
             ],
             [
              1,
              "#f0f921"
             ]
            ],
            "type": "surface"
           }
          ],
          "table": [
           {
            "cells": {
             "fill": {
              "color": "#EBF0F8"
             },
             "line": {
              "color": "white"
             }
            },
            "header": {
             "fill": {
              "color": "#C8D4E3"
             },
             "line": {
              "color": "white"
             }
            },
            "type": "table"
           }
          ]
         },
         "layout": {
          "annotationdefaults": {
           "arrowcolor": "#2a3f5f",
           "arrowhead": 0,
           "arrowwidth": 1
          },
          "autotypenumbers": "strict",
          "coloraxis": {
           "colorbar": {
            "outlinewidth": 0,
            "ticks": ""
           }
          },
          "colorscale": {
           "diverging": [
            [
             0,
             "#8e0152"
            ],
            [
             0.1,
             "#c51b7d"
            ],
            [
             0.2,
             "#de77ae"
            ],
            [
             0.3,
             "#f1b6da"
            ],
            [
             0.4,
             "#fde0ef"
            ],
            [
             0.5,
             "#f7f7f7"
            ],
            [
             0.6,
             "#e6f5d0"
            ],
            [
             0.7,
             "#b8e186"
            ],
            [
             0.8,
             "#7fbc41"
            ],
            [
             0.9,
             "#4d9221"
            ],
            [
             1,
             "#276419"
            ]
           ],
           "sequential": [
            [
             0,
             "#0d0887"
            ],
            [
             0.1111111111111111,
             "#46039f"
            ],
            [
             0.2222222222222222,
             "#7201a8"
            ],
            [
             0.3333333333333333,
             "#9c179e"
            ],
            [
             0.4444444444444444,
             "#bd3786"
            ],
            [
             0.5555555555555556,
             "#d8576b"
            ],
            [
             0.6666666666666666,
             "#ed7953"
            ],
            [
             0.7777777777777778,
             "#fb9f3a"
            ],
            [
             0.8888888888888888,
             "#fdca26"
            ],
            [
             1,
             "#f0f921"
            ]
           ],
           "sequentialminus": [
            [
             0,
             "#0d0887"
            ],
            [
             0.1111111111111111,
             "#46039f"
            ],
            [
             0.2222222222222222,
             "#7201a8"
            ],
            [
             0.3333333333333333,
             "#9c179e"
            ],
            [
             0.4444444444444444,
             "#bd3786"
            ],
            [
             0.5555555555555556,
             "#d8576b"
            ],
            [
             0.6666666666666666,
             "#ed7953"
            ],
            [
             0.7777777777777778,
             "#fb9f3a"
            ],
            [
             0.8888888888888888,
             "#fdca26"
            ],
            [
             1,
             "#f0f921"
            ]
           ]
          },
          "colorway": [
           "#636efa",
           "#EF553B",
           "#00cc96",
           "#ab63fa",
           "#FFA15A",
           "#19d3f3",
           "#FF6692",
           "#B6E880",
           "#FF97FF",
           "#FECB52"
          ],
          "font": {
           "color": "#2a3f5f"
          },
          "geo": {
           "bgcolor": "white",
           "lakecolor": "white",
           "landcolor": "#E5ECF6",
           "showlakes": true,
           "showland": true,
           "subunitcolor": "white"
          },
          "hoverlabel": {
           "align": "left"
          },
          "hovermode": "closest",
          "mapbox": {
           "style": "light"
          },
          "paper_bgcolor": "white",
          "plot_bgcolor": "#E5ECF6",
          "polar": {
           "angularaxis": {
            "gridcolor": "white",
            "linecolor": "white",
            "ticks": ""
           },
           "bgcolor": "#E5ECF6",
           "radialaxis": {
            "gridcolor": "white",
            "linecolor": "white",
            "ticks": ""
           }
          },
          "scene": {
           "xaxis": {
            "backgroundcolor": "#E5ECF6",
            "gridcolor": "white",
            "gridwidth": 2,
            "linecolor": "white",
            "showbackground": true,
            "ticks": "",
            "zerolinecolor": "white"
           },
           "yaxis": {
            "backgroundcolor": "#E5ECF6",
            "gridcolor": "white",
            "gridwidth": 2,
            "linecolor": "white",
            "showbackground": true,
            "ticks": "",
            "zerolinecolor": "white"
           },
           "zaxis": {
            "backgroundcolor": "#E5ECF6",
            "gridcolor": "white",
            "gridwidth": 2,
            "linecolor": "white",
            "showbackground": true,
            "ticks": "",
            "zerolinecolor": "white"
           }
          },
          "shapedefaults": {
           "line": {
            "color": "#2a3f5f"
           }
          },
          "ternary": {
           "aaxis": {
            "gridcolor": "white",
            "linecolor": "white",
            "ticks": ""
           },
           "baxis": {
            "gridcolor": "white",
            "linecolor": "white",
            "ticks": ""
           },
           "bgcolor": "#E5ECF6",
           "caxis": {
            "gridcolor": "white",
            "linecolor": "white",
            "ticks": ""
           }
          },
          "title": {
           "x": 0.05
          },
          "xaxis": {
           "automargin": true,
           "gridcolor": "white",
           "linecolor": "white",
           "ticks": "",
           "title": {
            "standoff": 15
           },
           "zerolinecolor": "white",
           "zerolinewidth": 2
          },
          "yaxis": {
           "automargin": true,
           "gridcolor": "white",
           "linecolor": "white",
           "ticks": "",
           "title": {
            "standoff": 15
           },
           "zerolinecolor": "white",
           "zerolinewidth": 2
          }
         }
        },
        "width": 1000,
        "xaxis": {
         "mirror": "allticks",
         "rangemode": "tozero",
         "showgrid": false,
         "showline": true,
         "showticklabels": true,
         "ticks": "outside",
         "type": "linear",
         "zeroline": false
        },
        "yaxis": {
         "mirror": "allticks",
         "rangemode": "tozero",
         "showgrid": false,
         "showline": true,
         "showticklabels": true,
         "tickmode": "array",
         "ticks": "outside",
         "ticktext": [
          "Analyst",
          "Data Engineer",
          "Data Scientist ",
          "Scientist",
          "Researcher",
          "Site Engineer",
          "DevOps",
          "Educator",
          "Student",
          "Other",
          "Embedded dev",
          "Game dev",
          "Desktop dev",
          "Mobile dev",
          "Database admin",
          "System admin",
          "Marketing/Sales",
          "Designer",
          "Front-end dev",
          "Full-stack dev",
          "Senior Executive",
          "Engineering manager",
          "Back-end dev",
          "Product manager",
          "Quality Assurance"
         ],
         "tickvals": [
          -5,
          -15,
          -25,
          -35,
          -45,
          -55,
          -65,
          -75,
          -85,
          -95,
          -105,
          -115,
          -125,
          -135,
          -145,
          -155,
          -165,
          -175,
          -185,
          -195,
          -205,
          -215,
          -225,
          -235,
          -245
         ],
         "type": "linear",
         "zeroline": false
        }
       }
      }
     },
     "metadata": {},
     "output_type": "display_data"
    }
   ],
   "source": [
    "fig = ff.create_dendrogram(skills, labels=short_labels, orientation='left', color_threshold=0)\n",
    "fig.update_layout(height=700, width=1000, showlegend=False)\n",
    "fig.show()\n"
   ]
  },
  {
   "cell_type": "markdown",
   "id": "9f25aca1-8116-4591-be8e-b3e4dcf76332",
   "metadata": {},
   "source": [
    "## Normalizing features "
   ]
  },
  {
   "cell_type": "code",
   "execution_count": 20,
   "id": "0a617e29-e1bb-4c27-9917-a4330f815b2a",
   "metadata": {},
   "outputs": [],
   "source": [
    "std_skills = StandardScaler().fit_transform(skills)\n",
    "std_skills = pd.DataFrame(std_skills, columns=skills.columns, index=skills.index)"
   ]
  },
  {
   "cell_type": "code",
   "execution_count": 22,
   "id": "331ebfde-d6fa-49a8-89c6-3d00e0c26adb",
   "metadata": {},
   "outputs": [
    {
     "data": {
      "application/vnd.plotly.v1+json": {
       "config": {
        "plotlyServerURL": "https://plot.ly"
       },
       "data": [
        {
         "colorscale": [
          [
           0,
           "#000004"
          ],
          [
           0.1111111111111111,
           "#180f3d"
          ],
          [
           0.2222222222222222,
           "#440f76"
          ],
          [
           0.3333333333333333,
           "#721f81"
          ],
          [
           0.4444444444444444,
           "#9e2f7f"
          ],
          [
           0.5555555555555556,
           "#cd4071"
          ],
          [
           0.6666666666666666,
           "#f1605d"
          ],
          [
           0.7777777777777778,
           "#fd9668"
          ],
          [
           0.8888888888888888,
           "#feca8d"
          ],
          [
           1,
           "#fcfdbf"
          ]
         ],
         "type": "heatmap",
         "x": [
          "Git",
          "Visual Studio Code",
          "JavaScript",
          "HTML/CSS",
          "Python",
          "SQL",
          "Docker",
          "MySQL",
          "Java",
          "AWS",
          "PostgreSQL",
          "Node.js",
          "Visual Studio",
          "React.js",
          "TypeScript",
          "Notepad++",
          "IntelliJ",
          "C#",
          "SQLite",
          "Bash/Shell",
          "jQuery",
          "C++",
          "Vim",
          "MongoDB",
          "Microsoft SQL Server",
          "Android Studio",
          "PHP",
          "C",
          "Sublime Text",
          "Google Cloud Platform",
          ".NET Framework",
          "Microsoft Azure",
          "NumPy",
          "PyCharm",
          ".NET Core / .NET 5",
          "Express",
          "Redis",
          "Angular",
          "Pandas",
          "Eclipse",
          "Yarn",
          "Heroku",
          "Kubernetes",
          "MariaDB",
          "Vue.js",
          "ASP.NET Core ",
          "Firebase",
          "Atom",
          "IPython/Jupyter",
          "Flask",
          "ASP.NET",
          "DigitalOcean",
          "Django",
          "Elasticsearch",
          "Spring",
          "Xcode",
          "PowerShell",
          "Oracle",
          "TensorFlow",
          "Go",
          "Angular.js",
          "Unity 3D",
          "React Native",
          "Kotlin",
          "Flutter",
          "Webstorm",
          "Laravel",
          "PHPStorm",
          "NetBeans",
          "Rust",
          "Ansible",
          "Ruby",
          "Terraform",
          "DynamoDB",
          "Dart",
          "Keras",
          "Qt",
          "Torch/PyTorch",
          "Assembly",
          "Ruby on Rails",
          "Emacs",
          "Swift",
          "R",
          "Neovim",
          "VBA",
          "Matlab",
          "Cordova",
          "Rider",
          "RStudio",
          "Xamarin",
          "Apache Spark",
          "Gatsby",
          "Groovy",
          "FastAPI",
          "Symfony",
          "Unreal Engine",
          "Objective-C",
          "Hadoop",
          "Scala",
          "Perl",
          "Cassandra",
          "Haskell",
          "Svelte",
          "Delphi",
          "Clojure",
          "Drupal",
          "IBM DB2",
          "Elixir",
          "IBM Cloud or Watson",
          "Puppet",
          "RubyMine",
          "Couchbase",
          "LISP",
          "Julia",
          "Deno",
          "Oracle Cloud Infrastructure",
          "Chef",
          "Flow",
          "F#",
          "TextMate",
          "Erlang",
          "APL",
          "Crystal",
          "COBOL",
          "Pulumi"
         ],
         "y": [
          "Marketing or sales professional",
          "Scientist",
          "Senior Executive (C-Suite, VP, etc.)",
          "Developer, game or graphics",
          "Educator",
          "Engineer, site reliability",
          "Academic researcher",
          "Product manager",
          "Other (please specify):",
          "Developer, QA or test",
          "Data or business analyst",
          "Engineering manager",
          "Engineer, data",
          "Student",
          "Data scientist or machine learning specialist",
          "Developer, embedded applications or devices",
          "Designer",
          "Database administrator",
          "System administrator",
          "DevOps specialist",
          "Developer, mobile",
          "Developer, desktop or enterprise applications",
          "Developer, front-end",
          "Developer, back-end",
          "Developer, full-stack"
         ],
         "ygap": 1,
         "z": [
          [
           -2.8636261005408836,
           -0.971737971712385,
           0.4987326830863162,
           1.3239581845536825,
           -0.7773074959944863,
           0.23088476874130967,
           -1.4732971844479237,
           1.2477196334013383,
           -1.2221748213535013,
           0.1641307812386048,
           -1.049746999051455,
           0.33831111270630515,
           -0.17186114973551278,
           -0.13692939887100566,
           -0.672029734433617,
           0.46682932492322143,
           -1.6403529623485575,
           -0.34167798182335357,
           0.3434886966440931,
           -0.661793710665864,
           1.5933760696125876,
           -0.3808188619011023,
           -1.2162213769640942,
           -0.3478727682825887,
           -0.14282483131237395,
           0.48978405359884897,
           2.072638726864142,
           -0.2189773620299686,
           2.543995256492417,
           1.8388461637473423,
           -0.014202045661817096,
           -0.03177470773157507,
           -0.5130552375500563,
           -0.5504377953037712,
           -0.5100433631960779,
           0.03208043370912296,
           -0.6386451075535251,
           -0.23424172929748072,
           -0.34679224005270376,
           0.2524556987383464,
           -0.2251201798225976,
           0.9724782302224302,
           -0.5428592369640648,
           1.0865782607105343,
           0.6835900176360264,
           -0.1916797508056172,
           1.1041243837970585,
           2.4313242758352205,
           -0.41405908561464483,
           -0.520041817525875,
           0.37419713537371424,
           1.771493817990376,
           0.29451215064935476,
           -0.6424585615654226,
           -1.0998332882810775,
           0.69285748489757,
           0.053663553752466855,
           0.3812677055389865,
           -0.24276064135552597,
           -0.15840125839497995,
           1.2114746397622929,
           0.49069910981650217,
           0.6101658238919562,
           0.27702202302986556,
           0.899970172497827,
           0.3452598797395722,
           1.398603644636513,
           1.250042969946666,
           1.3509973363417287,
           -0.6966464666302437,
           0.06267457645144615,
           0.8760505385792754,
           -0.26181848547919945,
           -0.1295938881711104,
           0.4945126149420694,
           -0.29371279568379244,
           0.34023312435223774,
           -0.18087914222049964,
           0.5243123558286488,
           1.3461901451472875,
           0.4573385146655864,
           0.9426758428058676,
           0.10510428965243772,
           0.007789409015863389,
           1.7116164443244748,
           -0.0489369039459326,
           1.8452715135546405,
           0.2923519962931688,
           0.21666501368255195,
           1.652067401424634,
           0.4452838525246962,
           2.6656128702607718,
           -0.05250791666544515,
           0.5740814630850583,
           2.8535033784292243,
           1.273230118456974,
           0.998981138833456,
           0.7442511607429869,
           0.05243332285101616,
           1.1536181729461092,
           2.1087574932815514,
           1.24095561557254,
           3.5681026549830577,
           1.679532427719251,
           1.5294629971811842,
           3.863134709132612,
           3.008847844807834,
           1.882566144971121,
           3.5112082763706836,
           1.3667867295399017,
           2.5350616302828417,
           3.3320559464367165,
           1.5223177882312684,
           0.07120279339078561,
           3.4353684710224495,
           4.328959491332251,
           2.286916317922905,
           4.027853472696921,
           3.536187984200997,
           3.7588788734789924,
           2.8484636388818516,
           4.004301884088224,
           4.124423842322503,
           3.8696968275617123,
           3.3269286058827463
          ],
          [
           -0.38550209287899406,
           -2.4853085496653096,
           -2.058912719498515,
           -1.7141201260454957,
           1.8319196600641003,
           -1.9363422665833254,
           -0.47826941571422643,
           -2.3864503599163482,
           -1.616940962489379,
           -0.984131039809289,
           -0.813725400543458,
           -1.9768451663455957,
           -1.2370370106942634,
           -1.739624666245721,
           -1.8816386951226736,
           -0.6364119405313515,
           -1.5464448987511914,
           -1.5629319331809097,
           -0.0489566011488472,
           0.7082646887264398,
           -1.6426512182539013,
           1.4750675022952242,
           1.001510463149573,
           -2.040488288867551,
           -1.7333311944829264,
           -1.0293920229364788,
           -1.4924341075009324,
           1.371378987282935,
           -0.46252543953259756,
           -0.9346300629273785,
           -1.4350135825630073,
           -1.8462394134873892,
           2.0873205056909323,
           0.958441304598115,
           -1.657800050245803,
           -1.8961552975527372,
           -1.185012416821329,
           -2.0119730049241067,
           1.7214750685787314,
           -0.5083485670457016,
           -1.7144847840488182,
           -1.2474441227059376,
           -0.673364531908057,
           -1.0608088169987913,
           -1.608065049937716,
           -1.9190457640689265,
           -1.3479519806833085,
           0.9946656677819129,
           1.8564632793514546,
           0.8815994707120054,
           -1.8372956855297837,
           -1.3089408077043585,
           0.2375649365381675,
           -0.933734207996583,
           -1.5398329929422698,
           -0.7301432635457081,
           -1.203706128539483,
           -1.4007597068941364,
           1.7396814534187859,
           -0.612058134116357,
           -1.7677416573394302,
           -0.1741129568946387,
           -1.2772536125344696,
           -0.7525798312950462,
           -1.0154312136681731,
           -1.74296445783419,
           -1.6852241608043859,
           -1.8939342084617294,
           -0.5226821643268176,
           1.5477547428242389,
           -0.5018465494119762,
           -0.752768013552539,
           -0.6856483584175315,
           -1.1605544034549842,
           -1.1288010008958789,
           1.5365796514706411,
           2.1616048485620123,
           1.794899810517917,
           1.5149043440691887,
           -0.8556870967999848,
           3.0511769302954646,
           -0.5754074868059721,
           2.4171968727846602,
           1.1356610805353973,
           -0.017914123892572048,
           3.0709181211374528,
           -0.8411631281830828,
           -0.9357430347140938,
           2.2634596446397977,
           -0.9663553502857153,
           0.3083701326224468,
           -0.7589189828293691,
           -0.46293505755199427,
           0.3823219826796155,
           -1.1030403021628499,
           0.10758696106764831,
           -0.2928373884186518,
           0.6990964408449475,
           0.3638522843148068,
           1.4564985219219284,
           -0.14408975701373317,
           2.270909340489315,
           -0.10480674628572127,
           -0.2669006056069705,
           0.283729433201049,
           -0.4044837391876454,
           -0.33114145224258895,
           -0.48487179301525707,
           1.1074265346042869,
           0.22349329866855713,
           -0.29714009449917256,
           0.16182890689012835,
           2.5940998321312003,
           3.43105855770251,
           -0.34681477497647695,
           0.0526718220310359,
           -0.297793961843457,
           0.09059854931686977,
           0.2927005473129002,
           0.8782184364428133,
           0.3747386998605204,
           0.8674650402838993,
           0.3072827771079282,
           0.38604745594145196,
           -0.25847523719911525
          ],
          [
           0.25428789575717786,
           -0.17821163605945436,
           0.9562761996727461,
           0.5348581966327766,
           -0.5667656520435714,
           0.49728494081457547,
           0.836250612257765,
           0.0454626607636576,
           -0.7110830725438027,
           1.8424803283734141,
           1.2782963284594602,
           1.1790303583216797,
           -0.5655616471569477,
           1.3406698016406375,
           0.925560565313219,
           -1.8459813029633958,
           -0.12299652989261199,
           -0.06314167095109892,
           -0.22953706339571087,
           0.1816547593009072,
           0.09855568428859447,
           -0.5679982730923218,
           -0.02859908726699722,
           1.0179412889361263,
           0.03704822555078944,
           -0.04990783165466759,
           0.4317932782511071,
           -0.34595689007031033,
           -0.7858753305373176,
           1.7342820520868771,
           -0.16752365833360464,
           0.9950620691024419,
           -0.36716226474588753,
           -0.5871181115570634,
           0.23337363141480813,
           0.9202384578110747,
           1.7232987542170737,
           0.8133636361006914,
           -0.36719286583173766,
           -0.8998908634928928,
           1.50770458970289,
           0.876242294750239,
           0.7910324325795619,
           0.5123044977770743,
           0.9206780561006019,
           0.5712407632104225,
           0.3243732197871035,
           -0.46396548023595774,
           -0.4464931854997931,
           -0.36638539566460276,
           0.06836957189892487,
           1.992410388437628,
           0.005468301327811844,
           1.1827851308629136,
           -0.13143556197799874,
           1.0270545909215316,
           -0.37707355728147196,
           -1.2255234365755572,
           -0.18320030934268505,
           0.7472589924868128,
           0.6949130178827139,
           -0.24755950992674056,
           1.07827567855324,
           0.1316038837068219,
           0.44378419242094924,
           1.3750567085074734,
           0.39784883351446954,
           0.7066300349305451,
           -1.209368902658451,
           0.4122167420703292,
           0.3915904829501003,
           1.9220693456945495,
           0.6231860383519613,
           1.38317180773445,
           0.6536418313623049,
           -0.32640128508815286,
           -0.39994718131496626,
           -0.20316944749882332,
           0.3703164397141411,
           2.238087420401895,
           0.4629492015569847,
           0.840296306451681,
           -0.28042597773604167,
           0.22600781970601191,
           -0.0661368165908494,
           -0.6922825433034248,
           1.1700229405956657,
           0.6554122001048258,
           -0.34859482672522984,
           0.49743626898570187,
           -0.09605142544398985,
           1.7288022727274908,
           -0.12280736384377347,
           0.22411657241906155,
           0.7001090118751447,
           -0.1400137908056885,
           0.8984172485931056,
           -0.06329803671077171,
           0.27599376095227685,
           0.10750153089966619,
           1.1793819456051262,
           0.17995230358630385,
           1.7931615801408989,
           1.0027957750235352,
           2.426832540497431,
           0.9745413102204804,
           0.2795103171463739,
           2.2820379272588074,
           0.7782791338138608,
           0.6906836523866923,
           1.8620377383835187,
           1.7805684262353592,
           0.5508426712999279,
           -0.19285981964218557,
           0.9059609806414536,
           0.21191945308988097,
           0.4414274693835257,
           0.18078417190202584,
           1.463916614044586,
           1.507862737395184,
           1.6820342587301167,
           0.4428713091703935,
           0.6919070619271364,
           1.1315284717132212,
           1.3848499950113855
          ],
          [
           0.18744790343385623,
           0.829680112729428,
           -0.11041935689749864,
           -0.24581470013958434,
           -0.35929554624816634,
           -1.3279922313421304,
           -0.8713356516563978,
           -0.42971073792733083,
           0.6144110277693356,
           -0.7157215738928241,
           -1.232600343452889,
           0.32119209510250263,
           2.5287072224448575,
           0.2923176663536891,
           0.17489820052002336,
           0.8716757331645437,
           0.09635890743720048,
           2.8062627808226845,
           0.5246832791626397,
           -0.5950668835160722,
           -0.2965895060947378,
           2.343338065280993,
           -0.7077142409035634,
           0.20491383821373482,
           -0.926137142004562,
           0.9715816553667777,
           0.1747934117287521,
           1.0789281565000832,
           1.1098649299233512,
           -0.18956871018508123,
           1.692149468446935,
           -0.8108548555226484,
           -0.405052562695292,
           -0.5373424860155751,
           1.5988876970301495,
           0.6095746678924704,
           -0.5444871313999539,
           -0.22184283954884243,
           -0.6430361324059009,
           0.04585227217808822,
           -0.48760255181689394,
           0.4072141650465189,
           -0.6590922998089925,
           -0.3336763556860551,
           0.6569980837431696,
           0.1779161597054484,
           0.716863851355363,
           -0.19972092108471035,
           -0.5565864405272347,
           -0.6215413255240666,
           0.1394176229783115,
           -0.041461934100265746,
           -0.7540270447382399,
           -0.7739265629464784,
           -0.6301514574657235,
           1.1019883413390164,
           -0.0875035148729606,
           -1.1706156887131807,
           -0.05908587069539271,
           -0.2706080472545604,
           0.1369519230321171,
           4.688883161391142,
           0.6084741454981468,
           0.5571681387389068,
           0.6249169307112342,
           0.5715892395091042,
           0.02066818340559058,
           -0.009297614594517197,
           0.6249868525476783,
           2.118185970596501,
           -0.7193404323661677,
           -0.426442332231392,
           -0.6088426923070566,
           -0.35599238681488116,
           0.4547869807858777,
           -0.2771965232875706,
           1.6138318379526484,
           -0.04737299774901483,
           1.5169597356440874,
           -0.5402762494923212,
           -0.036228433769796176,
           0.9158496878314396,
           -0.5519114273096652,
           -0.11978331571385495,
           -0.5216541809640451,
           -0.3231482562585678,
           0.4492201495138632,
           3.9357994715215763,
           -0.46866087222287345,
           1.3496035146853755,
           -0.6013922709192407,
           -0.07072917794263946,
           -0.18381858831178396,
           -0.6656888466891996,
           0.26371189515982196,
           4.528385484128708,
           1.6622063741381325,
           -0.5411387263545734,
           -0.5653649646824193,
           -0.41303959841943183,
           -0.3826877468748379,
           0.06648561391984108,
           1.1343206352210775,
           -0.1033112877987227,
           -0.2282928131930087,
           -0.18066817247364575,
           -0.597794888475433,
           0.20611886922266037,
           0.1685874701960659,
           -0.22498072695534294,
           0.10336175877329205,
           -0.09127128552064159,
           0.43660450432933223,
           -0.24838956112598365,
           1.9705964758159338,
           0.20253224501684913,
           -0.35977219098440405,
           0.6865593897240417,
           1.2415070175033756,
           0.580367951893969,
           0.5108694771492024,
           0.34204347574265687,
           -0.0031018585351584556,
           0.34033992047629674,
           -0.012435085789439804
          ],
          [
           -0.19808868745777622,
           -0.2744053810499349,
           0.025556145924944845,
           0.3088634467874038,
           0.0364895335757403,
           -0.4416990952270475,
           -0.31740473264196767,
           0.2300113530342785,
           0.35707699505534357,
           -0.5337282528759489,
           0.05251951729083933,
           0.06429946942026497,
           -0.35087122004610743,
           0.34272258065832245,
           -0.10728391612706653,
           -0.01330838188169733,
           0.20830249781420626,
           -0.36171704204893235,
           1.217516532455403,
           -0.10180081731516902,
           0.2734490541591774,
           0.12243197650969224,
           -0.007440603817675909,
           0.515280040554731,
           -0.5465757599344447,
           0.13919501868571707,
           0.42710331594137363,
           0.3879605735852746,
           0.6694671890699738,
           -0.009342814614992995,
           -0.40509020335159246,
           -0.7576094194663123,
           0.08310755798234014,
           0.017205886495356485,
           -0.3154437912435664,
           0.4904252183403146,
           -0.37478914427216764,
           -0.06717859684643844,
           0.04142594572303654,
           0.7585221455515747,
           0.426325333065154,
           1.334945603550762,
           -0.27386802268370525,
           0.553397123024127,
           0.17800302852600028,
           -0.3432202724881528,
           0.30995075105133374,
           1.2617900508616569,
           0.28776814063213724,
           0.2419588918300063,
           -0.3770998014229582,
           0.3969612667097872,
           0.5693358450073066,
           -0.4591973767014833,
           0.4306678487357786,
           0.11644374723361237,
           -0.662420780083615,
           0.20217253198514817,
           0.13021957839548676,
           -0.32288203127203247,
           0.0745984638191379,
           0.09684797823764156,
           0.42683901482235603,
           0.22690868734325723,
           0.1689409043569312,
           0.5976767703345932,
           0.6349038312295419,
           0.6466996771930129,
           1.4173791803887723,
           0.03467338415399027,
           -0.32460369453635085,
           0.26762733903036034,
           -0.4033766664860115,
           -0.2697109851626967,
           0.11564174627540656,
           0.11348503803372352,
           0.21311782238386093,
           0.06214821341652079,
           0.24304364611095045,
           0.34381839065664677,
           0.6603476095326674,
           0.19015229003349735,
           0.4328703340460937,
           0.2884233973885486,
           0.051992636008895664,
           0.4619172428653658,
           0.46841460045028166,
           -0.10161611215731726,
           0.43260670936071377,
           0.48819193773344727,
           0.010003227818221121,
           0.8570542848362546,
           -0.041937996386817174,
           -0.03337778834220528,
           0.3671760992011576,
           0.09923254671650629,
           0.19430835826335704,
           -0.023530096653780228,
           0.1303698602365264,
           0.31351008168184535,
           -0.05971896614632682,
           1.5847498589062494,
           0.20572959823558157,
           0.4624493912205704,
           0.8479783652341284,
           0.6204727208227969,
           0.044168071332269535,
           -0.030734504650845575,
           0.8447568010674498,
           -0.07040197192595064,
           0.4779434015512493,
           0.03256321560390739,
           1.4719548646828184,
           0.6461040216558277,
           0.5473248514524888,
           0.2904935678849462,
           -0.05797783864940293,
           0.8715129696088777,
           0.5626550703178428,
           0.6720025256724792,
           0.2688691232640435,
           0.6774195445036713,
           0.1474977607984497,
           0.607761719815409,
           0.2066013197346437
          ],
          [
           1.1758362928431285,
           0.07088451432565179,
           -0.1745460272085642,
           -0.5329492713081907,
           0.6608354452978452,
           0.30828697272900757,
           2.175912971109862,
           0.5058553886424357,
           0.32410235036239604,
           1.9809492373947544,
           1.8861744428899405,
           0.5979255701488386,
           -1.196074895158043,
           0.12819804358443873,
           0.20816842316712383,
           -1.4269344271452742,
           0.9440719891146842,
           -0.7049891000608525,
           -0.407086304598553,
           2.4822286918820713,
           -0.4120821105266861,
           -0.5987675975267861,
           2.600969146566475,
           0.7296733610432513,
           -0.5168687219078245,
           -0.8154020192679814,
           -0.06256746631099902,
           -0.3258215073797127,
           -0.36613359200294304,
           1.7634899795745234,
           -0.8641503849118385,
           1.0036178815796089,
           -0.38791807934035116,
           0.03245239506774641,
           -0.3680999919216431,
           0.3819638587532356,
           2.4362403094625535,
           -0.4418137306187934,
           -0.31119321564474506,
           -1.1095544538539963,
           0.6488514858051662,
           -0.4225347000827653,
           2.922104085748711,
           1.4017797145124686,
           0.427705693297695,
           -0.19886144134725586,
           -0.6638620148902706,
           -0.5019262593380633,
           -0.3580349127442,
           0.9467194587190022,
           -0.7425370344390947,
           1.303945242509373,
           1.1215571173375445,
           2.716101378540704,
           1.0991999310057177,
           -0.6357725267692746,
           1.1046026075747988,
           -0.36645900624718036,
           -0.4593604903434084,
           3.694395533426242,
           -0.10607302605783872,
           -0.506369213996582,
           -0.54103790817759,
           -0.042279549019911655,
           -0.7420720999249714,
           -0.023475508958916595,
           0.13013447021078797,
           0.2741283790695143,
           -1.1430759124382261,
           1.715132487756033,
           3.2569664044462754,
           2.3458938506075464,
           3.462909752593136,
           2.787600896742667,
           -0.588828796517359,
           -0.43505269322438467,
           -0.6997317700195983,
           -0.40316860743075805,
           -0.24321786956551095,
           1.819950513278491,
           0.9345402936830512,
           -0.5957578066146321,
           -0.4372182210552871,
           2.9759041912337696,
           -0.7619777101678321,
           -0.5424425819467787,
           -0.8943805004970152,
           -0.051503854734845214,
           -0.5817770707222655,
           -0.9959817808255295,
           0.26304027061422414,
           0.5469567891628688,
           2.433584751532686,
           0.9199054479946794,
           0.5085154440250474,
           -0.2840317849836348,
           -0.5767721971585869,
           0.293091318428383,
           0.8468845447052743,
           1.966453255045208,
           2.3084315017400145,
           0.6168779290627164,
           0.5376357725741331,
           -0.7949609367185544,
           1.4240307153781155,
           0.49468082295882365,
           0.2718136016454737,
           1.983652233100433,
           0.40107188916228176,
           3.2684952725419296,
           1.483567521639049,
           1.2509522372928807,
           0.6013678782875921,
           -0.27924920024136535,
           1.0794229657175662,
           0.9878513928220659,
           3.0236811865884112,
           0.6792798819180014,
           -0.01523227846490257,
           0.351025282051465,
           2.0136302628513363,
           -0.03163849001973338,
           0.37354797669948736,
           0.24593390246118804,
           2.231235524530742
          ],
          [
           -0.7172642160923349,
           -2.124832173580987,
           -1.8888014324096922,
           -1.653919327275189,
           1.5362361721392312,
           -1.9933067702530172,
           -0.5280757327477077,
           -1.702603479035648,
           -1.0826067029650424,
           -1.3169609390528525,
           -1.0149298048087527,
           -1.9373161096378881,
           -1.3853656878315785,
           -1.510234472777182,
           -1.6150188333764355,
           -1.3729362859977599,
           -1.0559548548832929,
           -1.586736664068279,
           -0.32159816978042477,
           0.21287746432356067,
           -1.5026831461880334,
           1.1779608250129179,
           0.41057191023254686,
           -1.2837334139184366,
           -1.9118008900172467,
           -0.758751769684452,
           -1.3406972526344667,
           1.1821761011751222,
           -0.2791115228074394,
           -0.8167083024148979,
           -1.6444230740824848,
           -2.134769836276594,
           1.8072768369615229,
           1.0179160718468954,
           -1.873489080258494,
           -1.4849554997926613,
           -1.1259854466709966,
           -1.4142088673436288,
           1.5090101680319667,
           -0.814435969179557,
           -1.7052056703731744,
           -0.8010862364833012,
           -0.770383988144851,
           -1.0740089953294485,
           -1.4672398321040667,
           -1.8718903324647587,
           -1.0447824734117575,
           0.7862066138731778,
           1.5597324665998076,
           0.7440167395366118,
           -1.8259061265365448,
           -1.2015174338228112,
           0.6352479410969414,
           -0.9364859306191624,
           -0.8387154738986966,
           -0.802167147945448,
           -1.5372105113204446,
           -1.4482509758619664,
           1.6300831008300503,
           -0.6792455257008738,
           -1.64307022272712,
           -0.20613774142780616,
           -1.0790663761171568,
           -0.6298290603502358,
           -0.7109147251197139,
           -1.473766528202163,
           -1.1953114472791277,
           -1.4469104388940364,
           -0.02788762882049254,
           1.2582677097106696,
           -0.5223688866116512,
           -0.9489487295333879,
           -0.7598569954838337,
           -1.2285808335060067,
           -0.7263456047028839,
           1.5316762404440865,
           1.335353105222072,
           1.8703836812986616,
           0.8922227666440358,
           -0.953655856681025,
           2.1047564089773587,
           -0.6438370366502573,
           2.1891280343672816,
           0.5567409860892261,
           -0.7571058488506154,
           2.579228626454039,
           -0.9553704173855292,
           -1.0748377097391795,
           1.992231671658027,
           -1.0113401406997098,
           0.20528624975030835,
           -0.9713532091621674,
           -0.8478095968526399,
           0.26973845986492756,
           -1.1031923270120034,
           -0.10694928930753335,
           -0.6953880939345211,
           0.4025013289379154,
           -0.014030477554036113,
           0.11370395981348017,
           -0.22372442024150044,
           2.2945286175810162,
           -0.7657071196650048,
           -0.7361835783710423,
           0.10138386740664712,
           -0.5836468183927201,
           -0.6709223807680572,
           -0.6882527322879228,
           0.5721125129991511,
           -0.6206442088766153,
           -0.6833812300815669,
           0.3550794379489162,
           1.8522553411257554,
           2.6032972810097426,
           -0.4626722996369669,
           -0.008231941586487495,
           -0.5649869272414805,
           -0.34145425949049474,
           -0.44490168540692104,
           0.04753387006402724,
           -0.14434724761872256,
           1.1203184497572514,
           -0.09306155158482811,
           0.24588768113022108,
           -0.4925718793174663
          ],
          [
           0.04398245009390965,
           0.5258317861460302,
           0.8355103436903454,
           0.814193196795805,
           -0.7569031795681016,
           0.4896857801363383,
           0.037822684075958284,
           0.6435380023862463,
           -0.5275744275133155,
           0.5988026346323283,
           0.2525303408258883,
           0.8890728219218891,
           -0.12295916631015229,
           0.3528431649338392,
           0.684843371248294,
           0.025685925706605807,
           -0.7147252635079933,
           0.09293819580629518,
           0.12444986415899703,
           -0.5506827131869221,
           0.863455921910023,
           -0.5258500243018392,
           -0.5623323216928258,
           0.6844028695722039,
           0.3748933735244748,
           0.34853033764746216,
           0.8038537894822477,
           -0.5630235459753049,
           0.27683549413207675,
           0.8751037232062799,
           0.20577255423580318,
           0.3389494488625138,
           -0.46729003456523405,
           -0.796174980316374,
           0.19077182259546382,
           0.32621706331018435,
           0.4198715095550824,
           0.8061420912712373,
           -0.4039417109502681,
           -0.2150341918667018,
           0.6858837630016715,
           0.6362679823646287,
           -0.15100998162063053,
           0.49287082544812016,
           1.2821182717391422,
           0.4916486189796548,
           0.5647075239234178,
           0.3751264776741785,
           -0.47433375893971,
           -0.6620291699046514,
           0.46460695503333194,
           1.3873726084508182,
           -0.10203263317543798,
           0.017529200296651306,
           -0.3999300542439059,
           0.7942979565977644,
           0.015546956294013177,
           -0.16998643253822476,
           -0.3285517649600979,
           -0.2872867369930071,
           1.0730296867170122,
           -0.2965669265650237,
           0.6331471152795546,
           -0.05042824094655405,
           0.5733493475021992,
           0.47108767250514816,
           1.0548180937290634,
           0.8509648035405997,
           -0.17609235370392554,
           -0.8817665144781952,
           -0.3067229808366855,
           0.5711157424865199,
           -0.29498638519203896,
           0.11366015718229025,
           0.641122691186428,
           -0.42567221990503995,
           -0.432308719299016,
           -0.2853497705186483,
           -0.3443497434957504,
           0.7720036192534082,
           -0.6499726387453243,
           0.5508645442755009,
           -0.34829220867475263,
           -0.922147065774168,
           0.18161693497134318,
           -0.4221144561599193,
           1.1705010126255324,
           -0.27033334759500255,
           -0.3451685668355846,
           0.6284723955634932,
           -0.3645535702057048,
           0.9770823622356648,
           -0.48451345326395184,
           -0.28231226921009056,
           0.4090412305039346,
           -0.35840880813196724,
           0.4933610261756675,
           -0.2096013367258339,
           -0.49864720138474383,
           -0.3809907899883197,
           -0.25011995120103087,
           -0.496426434506058,
           -0.011018234075747207,
           0.8856015116309947,
           0.3311099445331236,
           0.8133520237120303,
           -0.20916783275955794,
           0.34715068004956334,
           -0.22610793820758596,
           -0.13313411585255924,
           0.21410497856134664,
           0.5769257385376064,
           -0.3430829397977813,
           -0.32418608180205055,
           0.19166544513152423,
           0.10215840468646212,
           0.031158038681831965,
           0.31771994313258745,
           0.12427865475615675,
           0.3674991092310933,
           0.22065746031889624,
           0.08081473515657146,
           0.7855058179613683,
           0.3677243428950597,
           -0.09236916458193098
          ],
          [
           -1.5991238492629796,
           -1.0022739105293745,
           -0.7857197588393072,
           -0.7349512012545938,
           -0.10600718755073485,
           -1.083677395438861,
           -0.8286345866476577,
           -1.8093801649878833,
           -0.9966226557125877,
           -0.9112742257149816,
           -1.2938875799377192,
           -1.016116033854111,
           -0.5933963453952388,
           -1.1148590898944344,
           -1.0831491038392649,
           -0.2573964531407811,
           -0.9121032449624034,
           -0.7474247268955091,
           -1.6692678830092966,
           -0.21344697465898776,
           -1.3238728290780324,
           -0.3871508531530098,
           -0.1944001057855368,
           -2.2635157353016244,
           -0.764729504100956,
           -0.9734196971210246,
           -1.0594697627731278,
           -0.21449581964328207,
           -1.7523826665742628,
           -1.5917811969416868,
           -0.6462506081485421,
           -0.922039148103429,
           -0.32098603814446436,
           -0.5362669344634307,
           -0.7263684981073324,
           -1.0983366840835898,
           -0.8866552908164218,
           -1.2499531813920395,
           -0.3054321673014282,
           -1.0916978119132656,
           -1.261356588593737,
           -1.095386379306974,
           -0.3968520303824072,
           -1.3018226121533178,
           -1.6520781161351943,
           -1.0493440172201272,
           -1.1955561397670913,
           -0.7593121551289512,
           -0.2619590407720811,
           -0.5923523707774023,
           -1.0310337701022547,
           -1.3308906909736893,
           -1.387386251086903,
           -0.5973426253820667,
           -0.8540646555781047,
           -0.7951803858507397,
           -0.08247537561972794,
           -0.6883250819926869,
           -0.6148904897667979,
           -0.3630335436499211,
           -1.7411175067737017,
           -0.46982157123674934,
           -1.3705209109609733,
           -0.9320189354908157,
           -1.1783104115674499,
           -1.51383626456304,
           -1.735580400278571,
           -1.5172425526798585,
           -1.6017674055353477,
           0.008018188028098281,
           -0.31506637806647514,
           -0.5001581574116669,
           -0.10036079176784206,
           -0.21789692410829772,
           -1.0930783701569244,
           -0.5305499574578186,
           -0.5602959732382666,
           -0.5621637378956393,
           0.07705491552804694,
           -0.8228208183835285,
           -0.29302142315645496,
           -0.6550005089370381,
           -0.30256268512383416,
           -0.2854123767388098,
           0.7707506963016645,
           -0.2398621137605217,
           -1.1762597617472426,
           -0.8607036603571294,
           -0.34091925656831007,
           -1.1842032797205273,
           -0.48978056520557817,
           -0.7064614026490974,
           -0.2140494110849268,
           -0.8987131994461323,
           -1.3011419747435022,
           -0.6299868557849917,
           -0.8197555887434178,
           -0.5673991452148818,
           -0.4216456703753413,
           0.15181315660252087,
           -0.8243312912610109,
           -0.5371444537981771,
           -1.1594064681839906,
           -1.048451672841562,
           -0.26421474452925603,
           -0.825786593669458,
           -0.4255436805980783,
           -0.7193343576995759,
           -0.324103769310046,
           -0.4223446896747667,
           -0.9146492813549059,
           -0.8686576768706088,
           -0.20736278470366837,
           -0.36073141501063777,
           -0.8125527567632279,
           -0.514739405403524,
           -0.34918399192115274,
           -1.3750206303654202,
           -0.46410646458658983,
           -0.567984725107024,
           -0.794960835639961,
           0.1177145575858535,
           -0.5193784527815737,
           -0.40310392778447374,
           -0.41730911997289755
          ],
          [
           0.7259653963963852,
           0.3711780906390615,
           0.5422153883250574,
           0.42725974511828524,
           -0.2826376319948941,
           0.5994389861054709,
           0.3406044796790667,
           0.513692099702988,
           1.4241189822150775,
           0.0004997403547028922,
           -0.032795950747886056,
           0.5331714104064254,
           0.5590110786187446,
           0.23940925598073165,
           0.5067714354976247,
           1.2171775374685525,
           1.3110310469085007,
           0.6421704709252559,
           -0.10502860017231679,
           0.44913058220758,
           0.6825047418142514,
           -0.2678988743535208,
           0.11513056500800316,
           0.35340654703340846,
           0.6500253665179158,
           0.11548456269045862,
           0.13846950665958396,
           -0.19821692799333007,
           -0.35549213679571545,
           -0.42437797909700725,
           0.7539093730963935,
           0.796992144143848,
           -0.5832877902954087,
           0.09535627615959928,
           0.7793301186458567,
           0.054390309872953756,
           0.046839763713734106,
           0.6602583338355943,
           -0.5614422342211883,
           1.7309687389072728,
           0.4451209047192184,
           -0.3589044261094598,
           0.07453677758378698,
           0.263193696212512,
           0.5050657163443733,
           0.7044482139571077,
           0.016474520259917236,
           -0.45624030280908323,
           -0.5313531186584384,
           -0.4642636399963116,
           0.6630066987975332,
           0.01424376008831228,
           -0.24786616464796418,
           0.1445552453136729,
           1.3611821287821149,
           -0.06024782605760201,
           1.3177327497271525,
           1.5414059230943418,
           -0.5902024667324919,
           -0.12844125023464936,
           1.1139382341828978,
           -0.1949273177829979,
           0.34152485886318956,
           0.2116456046153097,
           -0.11336190543531446,
           0.8067865702230463,
           0.2053708791392506,
           0.7349261109170018,
           0.7260857033877439,
           -0.7198555571289643,
           0.05895295519876949,
           0.1164280453771306,
           -0.21263208821269525,
           0.014051615604910993,
           -0.11724674926659441,
           -0.548584800112915,
           -0.3367565240576998,
           -0.5577483688400012,
           -0.2097004201558386,
           0.1767728792418438,
           -0.393723771997337,
           -0.04601359428517954,
           -0.5376152282701224,
           -0.5688061148126856,
           0.18614777568955598,
           -0.553059858366784,
           0.02267982307357969,
           0.5128071688356285,
           -0.6187427308959038,
           0.31960068454154006,
           -0.44064687136908776,
           -0.023200538037410942,
           1.7632616227268372,
           -0.28422477708074084,
           0.8048531989038007,
           -0.25190628692091205,
           0.009758456127495058,
           -0.3945090706817895,
           -0.4456644992216444,
           0.36001600924824867,
           -0.11848371794532758,
           -0.3674653081920502,
           0.11583201054789477,
           -0.1603027298155143,
           -0.6382983043278283,
           0.18270856372889435,
           0.8915593818999549,
           -0.02762094840100156,
           -0.29257312116381634,
           0.16471432677870865,
           0.670666454388181,
           0.11203666591113103,
           -0.6045344602432389,
           -0.49355804194884306,
           -0.21734106949110318,
           -0.09032290104968661,
           -0.02535991427288719,
           0.15685031023566232,
           -0.10800745737650763,
           -0.21945790106643137,
           -0.0337681037829226,
           -0.23665905989505792,
           0.01357637527880859,
           -0.16525570427377478,
           -0.15453302535951477
          ],
          [
           -1.7773687861357177,
           -0.9018672316181833,
           -0.735652100846308,
           -0.4218622877620311,
           0.486021460094488,
           1.5709449747278323,
           -0.8647635568369011,
           0.19037876186344888,
           -1.1646509579474664,
           -0.4125755730638733,
           -0.053686901914456055,
           -1.0897596059558932,
           0.08360897232627473,
           -1.152275530602409,
           -0.9610324819188907,
           1.3764951204680484,
           -1.2181882085191527,
           -0.17545471810520805,
           -0.27522548485182363,
           -0.7004574440203772,
           -0.11639227076654171,
           -0.9302917829590784,
           -0.8195720527928088,
           -1.1795383293639503,
           1.9663769215630353,
           -0.6979637983351107,
           -0.562527594232703,
           -0.8740350425620305,
           -0.5441719980222627,
           -0.30260558603301574,
           0.1596079409094131,
           0.7891791625066441,
           0.7658321225843671,
           0.6715567926435192,
           -0.15384064197531075,
           -1.23886512366004,
           -0.7408180685065161,
           -0.6715301674956412,
           1.170681228925637,
           0.2563663278936322,
           -1.064360673283038,
           -0.9117708302464782,
           -0.6181368880119336,
           -0.6067806403216107,
           -1.1533779062478349,
           0.010462111072712176,
           -0.6241794148429258,
           0.07688413394191021,
           1.0390113560809116,
           0.5564261874559191,
           0.3740848118753091,
           -0.8575881273435673,
           0.6277638550088378,
           -0.38838557013237085,
           -0.6884382741276401,
           -0.7867929963043272,
           0.5739361780850056,
           2.771029018872737,
           0.25421751983382973,
           -0.8511726164597894,
           -0.4314511068896281,
           -0.4911861891705562,
           -0.7589587516142157,
           -0.9596606470898954,
           -0.6870688352759908,
           -1.2044112047232785,
           -0.8259556713602405,
           -0.7570929990883913,
           0.13911089700393064,
           -1.3234612604654832,
           -0.5886529616008255,
           -0.8248842441882416,
           -0.5047348649161667,
           -0.5563516984047756,
           -0.8766251908008014,
           0.43748237303896914,
           -0.7020407713819811,
           0.1737139221214197,
           -0.7662460366053667,
           -0.6647173224592068,
           -0.6652894594133413,
           -0.7033731456069424,
           1.4596693219439745,
           -1.3012062631516608,
           3.0000205982597024,
           0.017049785113257793,
           -0.6477635286915295,
           -0.7338431977440714,
           1.7385327108326147,
           -0.5817745211350991,
           1.0997643782929003,
           -1.0161944339267786,
           -0.8104530593329217,
           0.25685493557130884,
           -0.6935218412995373,
           -0.427936343505056,
           -0.6905923756654345,
           1.3092127706065315,
           0.42041647687831,
           -0.3736904991652805,
           0.07979478065228558,
           -0.7578745013717502,
           -0.8679192706230527,
           0.675527650184872,
           -0.3949631058297317,
           0.1462201509242865,
           2.0174386880748227,
           -0.902072294164694,
           0.46929516496072476,
           -0.7147455317375296,
           -0.499074631566239,
           -0.5510601899399195,
           -0.41304380490517134,
           0.041586879000409076,
           -1.0564299759713476,
           0.4976696462653392,
           -0.5992169872414491,
           0.12544755638091712,
           0.14395007818285033,
           -0.45874530602094143,
           -0.6037729517181306,
           0.5270704684987914,
           0.18467163245731075,
           0.4248774449790049,
           -0.45154279963864485
          ],
          [
           0.9949100307948209,
           0.24926758826184797,
           0.26205232263506584,
           -0.2933354109368757,
           -0.3365321085030981,
           0.12612251365379873,
           1.2864989802733084,
           -0.5651973958001822,
           0.07656281399642863,
           1.7870068615511003,
           1.2641268489908632,
           0.6629190103611216,
           -0.6554412571714265,
           0.8962572793877807,
           0.7846038472564126,
           -1.1564048121948522,
           0.8775706560411303,
           -0.22844280797459018,
           -0.9395649677449668,
           0.3529979426597731,
           -0.6241155367165199,
           -0.63583173612803,
           0.41249302230769186,
           0.6585911404385544,
           -0.024675197494889015,
           -0.2520555359857734,
           -0.5879760492600924,
           -0.5716881483032313,
           0.34565368515630385,
           0.9415504386104804,
           -0.27077977323478053,
           0.7429668686873481,
           -0.4550907064153447,
           -0.43282665722038227,
           0.05031901172687553,
           0.6272568911616199,
           1.6621749325982489,
           0.4650166009044365,
           -0.3778083100419282,
           -0.9768486260436114,
           1.0423433907202315,
           0.357996582432289,
           1.370996977279379,
           -0.42516360885585386,
           0.1478711897759952,
           0.3103645260755836,
           -0.029976768723260064,
           -0.7943903632569355,
           -0.4090972011704976,
           -0.10233254975138618,
           -0.10135095771518514,
           0.5118647171079219,
           -0.548662671466929,
           1.6290653316646828,
           1.108518511677871,
           0.378421098240707,
           -0.3851466880689447,
           -0.39034627240008735,
           -0.419612304303459,
           1.0391147594797085,
           0.7266677882654256,
           -0.47880046895098854,
           0.5305210722993201,
           0.3428340220394817,
           -0.2604971014012713,
           0.7868776836537995,
           -0.34915620654212,
           -0.1890950696645107,
           -1.5553945346983278,
           0.28988931761190684,
           0.5439902213064021,
           1.8990959325703467,
           1.1824695434696413,
           1.7768162956400395,
           -0.32352264840652495,
           -0.4644972162454617,
           -0.5996390608633604,
           -0.40521477093307584,
           -0.5005555833575357,
           1.9470687015924688,
           0.41073874964006996,
           0.3117820786038717,
           -0.5538702693677282,
           0.07333243824515864,
           -0.9070942635379466,
           -0.5435403338480711,
           0.26415224214020605,
           0.6005656605436687,
           -0.5533134498118045,
           -0.3089380498919258,
           -0.04506751872035028,
           1.0397979206901775,
           1.2647711438131921,
           0.04738667655002997,
           0.08431446929278508,
           -0.43179684991792716,
           0.5165168993920869,
           -0.15562597482087043,
           0.772054780838761,
           -0.21948302369937597,
           1.0815792445599215,
           0.0774368779084026,
           0.10868818263978937,
           -0.2754461214221075,
           1.7578583827172094,
           -0.14698608978161185,
           0.1460781935089338,
           1.877246295703457,
           0.07750302346638442,
           0.73530868330904,
           1.9533491507554084,
           0.7657308541034499,
           0.16636506097819362,
           -0.24403843300714304,
           0.09572572834432201,
           0.013057741965066174,
           0.8598172129158518,
           0.19252728121799087,
           0.9607984002424649,
           0.6636788346195357,
           1.237155502661259,
           -0.3799988676427013,
           -0.052945401334472786,
           -0.27675459596048685,
           0.4784685139037887
          ],
          [
           0.5013959700075754,
           -0.3329334125412108,
           -0.9485163447776707,
           -1.1474888607225362,
           1.4729235465305706,
           0.9171767813682808,
           0.8954160663156753,
           0.0023627729766706415,
           0.5363254488254933,
           0.9306099666173329,
           1.400316122646637,
           -0.9257788855934939,
           -0.7719874546644845,
           -0.6710649448128909,
           -0.7963628509639445,
           0.1267370062214206,
           1.1978133381272837,
           -0.7919532932263808,
           -0.004720022804595426,
           0.6355655415068372,
           -0.92040923304179,
           -0.216641345182068,
           0.8339810583741015,
           0.39164314936214567,
           0.13132366715786992,
           -0.8209462641163506,
           -1.031654637342259,
           -0.2625343018128409,
           0.09140204686085769,
           0.7053544327030625,
           -0.8077954161446788,
           0.40373448269654527,
           1.1460922776045688,
           1.951290091113143,
           -0.8281680343389516,
           -0.9107579140003667,
           0.40916416554006296,
           -0.8314549188568685,
           1.5048165994861835,
           -0.09338513575296807,
           -0.4089142880405391,
           -0.5754133317646526,
           0.7954407330051778,
           -0.5808038978321435,
           -0.9386632609423835,
           -0.8704931408013156,
           -0.6962922776875834,
           0.04444182502978965,
           1.2991055386083266,
           1.8684758353054152,
           -0.7961263552859936,
           -0.6619379975793654,
           1.4192609617418104,
           0.9656856051406764,
           0.4731752073574216,
           -0.785574903556743,
           0.022098246482185037,
           0.8901083307879453,
           0.6495693104539055,
           0.40719393748257865,
           -0.5940462420937471,
           -0.4176659935788156,
           -0.873436127478832,
           -0.5429585600588919,
           -0.7614289657055808,
           -0.8966882462564972,
           -1.039490740918082,
           -1.0824259520907331,
           -0.5943496479118814,
           0.06997612578381762,
           0.2949795286307931,
           -0.35112811861308796,
           0.6204060746503076,
           0.9502225983462731,
           -0.7396304195102734,
           0.6447734769124791,
           0.10146184495094421,
           0.5823194943336448,
           -0.27262657077273406,
           -0.5359633404968033,
           0.43932042528332993,
           -0.740133116859825,
           0.4417872683702121,
           0.41851135204812695,
           0.5665305746017725,
           0.5762258761037297,
           -1.0502424266780823,
           -0.8043844276047549,
           0.44970647824099647,
           -0.9840904232530552,
           3.497961506844349,
           -0.8920411458992463,
           0.0892242368575878,
           2.23694148641744,
           -0.8761532624204224,
           -0.3244457918204363,
           -0.6507373368502899,
           3.278390967243065,
           3.8420100882571133,
           -0.0076325435485240555,
           1.7490029549649377,
           0.0460651220878268,
           -0.6187785442799557,
           -0.35339343793925315,
           1.0840783761023607,
           -0.9560672839696125,
           0.6848747250253819,
           -0.43462852313733996,
           0.05086547483027833,
           0.14864526262234404,
           -0.6124536980759415,
           0.4376574968900312,
           0.06073591836971274,
           0.1572314271852368,
           -0.6383588373208424,
           -0.0187764803456202,
           -0.0444462912135119,
           0.4296680694239563,
           0.04758396250034811,
           -0.2299858220607689,
           -0.1710209673801895,
           -0.17475605574861652,
           -0.3951892989935579,
           0.13504096027658882,
           -0.2090311240222138
          ],
          [
           -0.48350779985506637,
           1.5494932384510036,
           0.073836628173036,
           0.6578692925896906,
           0.7166234004799376,
           -0.676809878082393,
           -1.2952123901274666,
           0.7968697914468159,
           1.9946968476463287,
           -1.6572789929123106,
           -1.068903491339921,
           0.18556524858246926,
           0.15013586138129814,
           0.5361409225989419,
           -0.4985967489454375,
           -0.4199482295159404,
           1.5935736767242772,
           -0.3606937453234333,
           -0.418076079279432,
           -1.0421706435455407,
           -0.4830546942673827,
           1.130199290438952,
           -0.7123654610590348,
           1.4273426595653447,
           -1.2896045125810902,
           0.7977459060807229,
           -0.00020850623368176682,
           1.1959495153112965,
           1.6086859274481815,
           -0.4343247641699411,
           -0.7596177557290473,
           -1.780114844358684,
           0.5241358314239839,
           1.554727970677808,
           -0.7864610204060966,
           1.0986369748425706,
           -1.2128899571686922,
           -0.8663168142852152,
           0.2822239797757154,
           1.047228356913037,
           -0.2533941887372564,
           2.7184924546218627,
           -1.2112539640179123,
           -0.6609703307271146,
           -0.4763645754833565,
           -0.9598258241036244,
           0.8796936181492176,
           2.115164584501123,
           0.49611252039194026,
           0.4124246205934966,
           -0.9814160930752975,
           -0.8924081047208424,
           2.0148009826416082,
           -1.3477005304651997,
           -0.3096162639504799,
           -0.703384834148989,
           -1.110832674877389,
           -0.9532419166009636,
           0.47476628573195073,
           -0.6182921996090364,
           -1.601352946329006,
           0.4930019604012122,
           0.31582105592969734,
           0.3563406679653649,
           1.130832013276689,
           0.2966379791459328,
           -0.14094638321206412,
           -0.005478417862970587,
           1.503375788131291,
           0.17738623621021896,
           -0.9658542996546081,
           -1.1350767191956956,
           -0.8741343691714183,
           -1.2948394359927482,
           1.1381988206228237,
           0.5574560967466862,
           0.20184340698498004,
           0.3659412743631185,
           0.9250633305417848,
           -1.0333984215415664,
           -0.9247422005037705,
           -0.46239508938277984,
           -0.05460473026953821,
           0.5453476244008179,
           -1.0008547892113828,
           0.9089118166090815,
           -1.1546591219104425,
           -0.08794119481567993,
           0.020823092800166868,
           -0.7871302479578921,
           -0.5386730520900344,
           -0.25985934532587857,
           -1.0799572955589494,
           -0.4838089407513553,
           -1.0776080734989606,
           0.2350267231832824,
           -0.9349336266520305,
           -0.4832933927593715,
           -0.7139686410402816,
           -1.6885443629219177,
           -1.1111727057524916,
           1.1912324251436535,
           -0.2796398705832549,
           -1.5912015295352282,
           -1.6536158251836617,
           -1.103788083954213,
           -1.8153632758959766,
           -1.2694031579888794,
           -0.1063600689904816,
           -1.1814430679032355,
           -0.8780679845921547,
           -1.5491185580063875,
           -0.354529080287297,
           -0.11020490754652484,
           0.03719831119294763,
           -0.6386413633143462,
           -0.9478701826211632,
           -0.4410375864499912,
           -1.1279789851142672,
           -1.0468201072569885,
           -0.9852410912900919,
           -0.3182558616736719,
           -0.9855616290309264,
           -1.046498354461293,
           -0.7591253256132059
          ],
          [
           0.10590953730524098,
           -0.8625687003405881,
           -1.8015522938875848,
           -1.7193970337165698,
           2.5717665583921945,
           -0.15185276759141983,
           0.4133322239309034,
           -0.8881929867474228,
           -1.2350577382994286,
           0.39528340492474173,
           0.5093115700075681,
           -1.811884658474682,
           -1.3924167096236724,
           -1.2556183334390683,
           -1.6181287385959753,
           -0.7278145229740688,
           -0.9413937758705343,
           -1.626641603183743,
           0.012441277300198542,
           0.0040482467806937875,
           -1.8000843443879768,
           0.2673476074864486,
           0.3998371812277715,
           -0.29757215171432355,
           -0.5873994818690853,
           -1.0266591007380685,
           -1.9138601072205228,
           -0.025113330120164933,
           0.5555071024651201,
           0.9413035093551962,
           -1.7370917892728115,
           -0.11515760390809289,
           3.0985152381431598,
           3.081497967319257,
           -1.8052941649405463,
           -1.7455077816619138,
           -0.5070740401589847,
           -1.6084971792973062,
           3.2418792749609255,
           -0.9912995410071505,
           -1.3807767421206771,
           -0.48990745336828856,
           0.08935811496729129,
           -1.5647121549541518,
           -1.7588674749915891,
           -1.7812322770872164,
           -0.9477147269677565,
           0.5962188469492764,
           3.2052700692703744,
           3.278705237731488,
           -1.7188075474663493,
           -1.210205311177389,
           2.188826973550894,
           0.10874646699132486,
           -1.3749507656238986,
           -0.9501952250535161,
           -0.8930642002103197,
           0.10363153090852821,
           3.708968574580223,
           -0.6240114285386629,
           -1.7243311034192748,
           -0.41361542808941765,
           -1.120519751940607,
           -0.9835304129322033,
           -0.8437947608954681,
           -1.9132414865381824,
           -1.7189273125684574,
           -1.8260273090488262,
           -1.290269778770187,
           -0.3328210000732104,
           -0.436901005402567,
           -1.1197320582912573,
           -0.27392458996503893,
           -0.17626863604168094,
           -0.8910520542820822,
           3.861207352819967,
           0.5567538687102901,
           3.6187763927849836,
           -0.5090283431612915,
           -1.0735268208608988,
           0.49453730626510123,
           -0.7744563729274632,
           2.47459389352806,
           0.0669994995629906,
           -0.3453898964686012,
           1.2463068022033148,
           -1.4256460709257543,
           -1.5116708328026813,
           2.564620129164277,
           -1.4414514478062048,
           2.481656094163045,
           -1.300984617386772,
           -0.8992901293357016,
           3.3916466830008263,
           -1.5166819498133133,
           -0.28491497243002384,
           -0.914994753431506,
           2.277251015554315,
           1.579427007940484,
           -0.49955533926636886,
           0.6524201286817793,
           0.18616781513716066,
           -0.8290094727114483,
           -1.3112660516042007,
           -0.20984824979971456,
           -0.9895352240576152,
           -0.12222115942515502,
           -0.9072716938726281,
           1.1231671875147082,
           -0.5616767748012209,
           -1.0439680136730587,
           -0.5281185854368854,
           0.22779818516246683,
           1.2652108597805363,
           -0.9883948207000054,
           -0.22416266288583958,
           -0.4561209796466879,
           -0.5679572201010973,
           -0.3195294327744462,
           -0.5111611853598484,
           -0.8521362786043466,
           -0.41079511448860023,
           -0.7691714733146777,
           -0.45759807721188595,
           -0.5648179631642779
          ],
          [
           0.4073837470144406,
           -0.07811153851760573,
           -1.0373504671905271,
           -1.241777984902543,
           0.3908603523094909,
           -1.2211836330577814,
           -0.22622028819134465,
           -1.0643781878477845,
           -0.07822012850751764,
           -1.089099468237763,
           -1.0685757550488526,
           -0.8478273537750417,
           1.1739996505632468,
           -1.0153054428208683,
           -0.6708539413811492,
           1.393680069028626,
           -0.5843151288683731,
           0.4764667039885557,
           1.3364365166017784,
           0.6018195287708961,
           -0.6082650880543083,
           2.7682707046892405,
           0.7664717012613257,
           -1.15422786218958,
           -0.3663709119631591,
           0.6172692915948929,
           -0.6137320210423638,
           3.564145586384214,
           -1.1876718676469349,
           -1.0812133098428283,
           0.7250585308046377,
           -0.4757531509542267,
           -0.15123857246664038,
           -0.09870601614503428,
           0.5005062811906843,
           -0.8580863267652933,
           -0.8273149069322014,
           -0.39285259834991154,
           -0.4505167718874973,
           3.09558787704,
           -1.0844839816319094,
           -1.3181341460146512,
           -0.6992775316466118,
           -0.26010699143952626,
           -0.7859517089785023,
           -0.0962434241395764,
           -0.1051681209772942,
           -0.8945906933759238,
           -0.3875372285268203,
           -0.3708521100759018,
           0.0938097368383439,
           -0.9205653484776243,
           -1.0982746021713574,
           -0.8302922051707632,
           -0.9560072731031702,
           0.11896163615404205,
           -0.01097736257136427,
           -0.5631584927987502,
           -0.15008502491752373,
           -0.1806095340287587,
           -0.09044889196536068,
           0.04782955834151178,
           -0.2729388626064837,
           0.41471490064303185,
           -0.055024670607816406,
           -0.8192282109255165,
           -0.7208683497802879,
           -0.6885491066562751,
           0.5467964777794706,
           1.6320945902876023,
           -0.3232432059310705,
           -1.00551176302926,
           -0.6566225488308233,
           -0.8919214904736646,
           -0.029181486623185444,
           -0.25349436794148206,
           2.7049400147507003,
           -0.2675340622368428,
           3.1847122784798327,
           -1.0842599529892218,
           0.4147749350995725,
           0.18007714063010846,
           -0.6713383098512506,
           0.6456976957726572,
           -0.15884832103358748,
           0.44005919181901454,
           0.19794109786285843,
           -0.38657880720208976,
           -0.6071521152787434,
           1.1072477077213485,
           -0.6220182731136672,
           -0.9829927620558065,
           -0.16411108881755268,
           -0.6096355790949762,
           -0.524627510025148,
           0.06528621726807524,
           0.49555438664462254,
           -0.7101562748246025,
           -0.6192112004620038,
           0.4908165975509675,
           -0.7797177472231965,
           -0.12902349687374895,
           -0.6209865820392972,
           1.3485084240759129,
           -0.9239903361217019,
           -0.5092030757375792,
           -0.6343055589415226,
           -0.3797963476675182,
           -0.7071791950448326,
           -0.6440979827685372,
           -0.9310629974744151,
           -0.3260389334741274,
           -0.10447321079606048,
           -0.3426025135895622,
           -0.21857809122828473,
           -0.38635993890902326,
           -0.5706412461314875,
           -0.4399949470231132,
           -0.2742367842293404,
           -0.5496941188005093,
           -0.008037423292181312,
           -0.2333993246950834,
           0.05544564518288672,
           -0.017103207773221857,
           -0.6279387413065373
          ],
          [
           -0.9523294997875258,
           0.39168465799910274,
           1.0037283075993597,
           1.3820993622254278,
           -0.8486129028608871,
           0.293097479207304,
           -1.1989830763887066,
           0.9404565834923792,
           -0.2354527665524906,
           -0.8379698462897829,
           -1.0317354020123553,
           0.6846905165136928,
           0.8209655470931895,
           0.3254588776585007,
           0.44318726284883847,
           1.0948258415478398,
           -0.9095942527375852,
           0.5127691711906323,
           -0.2287234976655075,
           -0.8418701548558724,
           1.4027252847649017,
           -0.1767668379098816,
           -1.27129805366257,
           -0.31715027906071963,
           0.3389951117165748,
           0.4235091104056224,
           1.1774539431281588,
           -0.2785033753181422,
           0.9936442775582468,
           -0.35613415850858116,
           0.7163414314091805,
           -0.2662281127008945,
           -0.6474748911256963,
           -0.9179366485658619,
           0.3881511720237097,
           0.45215666763335693,
           -0.7763972700539602,
           0.7340881659395307,
           -0.6613864703269157,
           0.8878222582888461,
           0.20451377839823107,
           0.21395855264567826,
           -0.9487911250242445,
           0.01747465445901218,
           1.0215452851243292,
           0.2749295890801184,
           0.7079186537137445,
           0.9772306940338357,
           -0.6872675744457621,
           -0.9130054859951581,
           0.8452211340941892,
           -0.12454937685249759,
           -0.561189751288355,
           -0.8409008278009786,
           -0.7723402520481673,
           0.05973878077153453,
           0.146572760057448,
           0.31527762684059013,
           -0.5155584005338438,
           -0.9254718133558864,
           1.0053454874504302,
           0.21523972334025576,
           0.2146322643431771,
           -0.3360334365472343,
           0.418819064708569,
           0.44132195808748537,
           0.8279196301301457,
           0.5830953967634857,
           1.3093254587895329,
           -1.131379998350594,
           -0.8250956846854628,
           -0.8117903064604493,
           -0.7947969715151942,
           -0.9259221650205877,
           0.43994608349733855,
           -0.556402208496897,
           -0.3475712236278672,
           -0.5875237790622977,
           -0.2272506859887851,
           -0.7876744745522096,
           -0.7910091119692403,
           -0.07413103756657358,
           -0.5849508378543229,
           -1.514551042307077,
           0.623379859506986,
           -0.43672283009000423,
           0.5954039691915269,
           -0.5365500694345676,
           -0.5513651357745856,
           0.4759040342562766,
           -0.5986453930572232,
           0.5247853678704563,
           -0.9294629759777695,
           -0.7231249875665192,
           -0.13170342646135735,
           0.09892524357444937,
           -0.05781044798282295,
           -0.7422282371583703,
           -0.8697830646455617,
           -0.3399185306397095,
           -0.7703736231671143,
           -1.182290759628327,
           0.7726268650414271,
           0.5046012628742574,
           -0.8643059682800154,
           0.42874823707993054,
           -0.16974893247755243,
           -0.8457929339601232,
           -0.4791553902363228,
           -0.6343227336932964,
           -0.9953132189272653,
           -0.2836272770160668,
           -0.5053833421234727,
           -0.5444533649435476,
           0.5473901376111101,
           -0.2792516173377975,
           -0.7097643942925363,
           0.06264826297504011,
           -0.5932716863490343,
           -0.38204496909905794,
           -0.6018672378491833,
           -0.17343185475947057,
           0.01838015081275327,
           0.2610160400381814,
           -0.3820126500888399
          ],
          [
           -0.304148825201088,
           0.01799891436110026,
           0.9042288638845477,
           1.0989486587082424,
           -0.5115270697161765,
           2.365211738346863,
           -0.0676922839350717,
           1.6798672775928851,
           -0.2905813671850971,
           0.04640489930824796,
           0.6108704160196002,
           0.45800628047970204,
           0.9456530658577503,
           -0.23810310241436056,
           0.22127839113884765,
           1.4282392253042906,
           -0.5753903671797278,
           1.047522693544347,
           0.6114869982260417,
           0.3014629916162084,
           1.8795703483736836,
           -0.5459099687295392,
           0.10930115879627458,
           -0.192558768924033,
           2.1476489521697646,
           0.0978261665813025,
           1.7016345738418546,
           -0.5250275611197188,
           0.3456205760612943,
           -0.37853651660555165,
           1.3620821538370484,
           0.8367706595639625,
           -0.4865464314495581,
           -0.49318913242171386,
           1.1330362001562566,
           0.11558968030368205,
           0.40808896805465933,
           0.3535800960779387,
           -0.40914587156020754,
           0.08800471822970632,
           0.13253321995285666,
           -0.522980956725876,
           -0.2815307103845973,
           1.8495618125486033,
           0.7363848987468874,
           1.2634677574884259,
           -0.12413503300569086,
           0.07038253762146437,
           -0.46702119407617737,
           -0.41303130665554477,
           1.8336468791014633,
           0.5297471336636729,
           0.006405282708179569,
           0.06258262682625872,
           -0.46272641204578224,
           -0.23844244399182463,
           1.6169286515894101,
           0.7680262177778735,
           -0.49383781321300096,
           -0.12037679394425395,
           0.5203621673210367,
           -0.17999605463287013,
           -0.26909052774580733,
           -0.4205845190984735,
           -0.157952479806339,
           0.27722891706703395,
           1.7870435385299626,
           1.7849709899723958,
           1.4073416101187277,
           -0.81675247616865,
           0.05523751262000426,
           -0.06997777365788109,
           -0.1955262461469517,
           -0.20978090689839982,
           -0.0305991522425393,
           -0.5067918538517819,
           -0.527475445206614,
           -0.5190122206372497,
           -0.45364219716891846,
           0.13114415244071626,
           -0.718945720522428,
           -0.30777017954304026,
           -0.36442904587806996,
           -0.46963096920967407,
           1.5197766773802637,
           -0.5604070626980564,
           0.24773600557929246,
           0.1624394771390595,
           -0.3758924430621081,
           0.5173713324577252,
           -0.3527315416938053,
           -0.7101622389385583,
           -0.6470683455620665,
           -0.3319612610401688,
           1.34956086252386,
           -0.2557419801978738,
           -0.38269677400936614,
           -0.3507374373998885,
           -0.567323196594972,
           0.7344896485257252,
           -0.3995261339194959,
           -0.6901138045471055,
           -0.33621085674529455,
           1.392258573198847,
           -0.7065740280169373,
           0.5754447176705197,
           0.7112129517736359,
           -0.06595233122558612,
           -0.6471549412281825,
           -0.06476684798300243,
           -0.2211040463510659,
           -0.2724986092563983,
           -0.5521115898260343,
           -0.5667573527749383,
           -0.32728810289387766,
           -0.12497019004243065,
           -0.15541018462913928,
           -0.41034619622993046,
           -0.1569818802857441,
           -0.23875255765536185,
           -0.11513146865851197,
           -0.4716826621609817,
           0.5930620477724382,
           0.16525217849995688,
           -0.22074594753554255
          ],
          [
           0.2780767754880374,
           -0.23242277385669097,
           0.55511728577085,
           0.7416082115659448,
           0.03442736561233766,
           0.9091238583338389,
           0.5805884707272997,
           1.4790493112859562,
           -0.26024874896008837,
           0.11514999555601031,
           0.7575960652899187,
           0.252930449907204,
           -0.19810932065482456,
           -0.4357371063997187,
           -0.22910965484499277,
           0.3427222672596276,
           -0.4751609217796149,
           -0.023434615933590457,
           1.1079528870884965,
           1.7507672666888798,
           1.1407435648625333,
           -0.2539850028264052,
           1.5566354080820235,
           -0.274909004276343,
           0.4682142091042259,
           -0.1932164617639028,
           1.7924942825485768,
           0.05923910318620577,
           -0.2518478958855765,
           -0.21759253395226197,
           0.16917861665528008,
           0.11824461445717713,
           -0.5128688168458623,
           -0.35763210349018637,
           -0.0505295735238595,
           -0.16031258859903075,
           0.5742631713970414,
           -0.2821158434906087,
           -0.5305754057131796,
           -0.24484625427292403,
           0.23455180774865086,
           -0.8823314806117255,
           0.15037191064822963,
           2.815618415397752,
           0.8041339412120454,
           -0.1490509180546661,
           -0.674704855693805,
           0.00513579015425831,
           -0.5564835087228704,
           0.0740326566137277,
           0.06876812802124696,
           1.187405093655252,
           0.48996881889111926,
           0.4577737077668958,
           -0.5345354702052402,
           -0.32475372572830014,
           1.664859856353282,
           0.046583630628128994,
           -0.5837628362624468,
           0.6627590852104523,
           -0.0890280718458605,
           -0.29983095790187403,
           -0.6161042659997402,
           -0.3236912408575314,
           -0.3904512654140329,
           -0.1309592786749421,
           1.3165887391233158,
           1.4757557768074705,
           0.4394235289024865,
           0.34587816029635776,
           1.409882357093709,
           0.72027838879041,
           0.3573030223882464,
           -0.1290565182543609,
           -0.2985989864309609,
           -0.5616598542026691,
           -0.11745992595730874,
           -0.5600353390681149,
           0.08894951617881486,
           0.2819307901878466,
           0.17857788589035897,
           -0.3458167903784833,
           -0.4791549877972241,
           1.2886238853075185,
           0.5061658357787525,
           -0.5145901010978248,
           -0.15452990962995372,
           -0.2710230849480168,
           -0.5418375284144972,
           -0.37460873785282034,
           -0.5308515693806154,
           -0.6347578612068802,
           0.16589017576287432,
           -0.12779563864097662,
           1.5606315194294045,
           -0.21619462411469054,
           -0.23271298940945215,
           -0.556388414961363,
           -0.5940818469274101,
           2.3672831981573235,
           -0.2783549170303027,
           -0.2606581226219958,
           -0.3266471214721042,
           0.06454566218611199,
           -0.5170170853873732,
           0.7290759891965484,
           0.16862202565958032,
           0.2031724116424065,
           -0.5821489404723731,
           1.2455492860796344,
           0.06925953625482524,
           -0.30981001965941696,
           0.17381979385646906,
           -0.48761716565483915,
           -0.21989461859159382,
           -0.04343264681577467,
           0.4975144987383608,
           -0.83013198921252,
           -0.5527078214678294,
           -0.2009669857348604,
           -0.018718044630543444,
           -0.4154136293287652,
           0.1994590067891773,
           -0.2495127114488159,
           -0.2651832659034573
          ],
          [
           1.8299681024223027,
           0.7821672193979373,
           0.3430627471482855,
           -0.003881096568559219,
           0.1956511980970503,
           0.4616151153140444,
           2.471812130644762,
           -0.08254650833154545,
           0.5250053755054422,
           1.5397786122063435,
           1.647753434583556,
           0.910008546806349,
           -0.3799620228410766,
           0.35745492869445517,
           0.9921443576837995,
           -0.470259857763345,
           1.2192723447560276,
           0.14205614456775154,
           -0.4842946471516591,
           2.130420954925437,
           -0.1794243350326122,
           -0.8030481610319415,
           1.716422506834763,
           1.2431377810931394,
           0.47613562694761336,
           -0.7141406690802425,
           -0.22049417122381723,
           -0.6629215281592512,
           -0.6959550287492546,
           0.4252013160135633,
           -0.037924325541061316,
           2.2308241808103135,
           -0.5276748929405621,
           -0.05161048721446135,
           0.6568204975580219,
           0.5959780801202745,
           1.7043424253997743,
           0.703455840965496,
           -0.43127296015821165,
           -0.9711871452384893,
           0.8734807988019192,
           -0.7446047661488484,
           2.532709832985209,
           0.843893114196108,
           0.7066671849110538,
           1.1108621399490768,
           -0.5790758421851081,
           -1.1539090458340615,
           -0.4701172279223215,
           0.5697295741408821,
           0.27907985271130187,
           0.9573499350899707,
           0.249359417037776,
           2.0380670017513105,
           1.953664489193609,
           -0.3987605106632814,
           2.1571944734236173,
           0.372988740019549,
           -0.5412339600482587,
           1.8697940895205372,
           0.20057311793693133,
           -0.547127487306571,
           -0.36634630116200384,
           -0.08532675110676376,
           -0.5062427903505183,
           0.6372746578186127,
           0.04060103574365251,
           0.29366665090266686,
           -1.1931605396066178,
           0.49131053618587145,
           2.5200683423135626,
           1.0525925890304089,
           2.342748326081085,
           1.8190172957927804,
           -0.46377909806706624,
           -0.5103099270226101,
           -0.7383274327929487,
           -0.5035584449349161,
           -0.9158721171410393,
           0.577354782116498,
           -0.1084687330500371,
           -0.5171731840155595,
           -0.6290733173948546,
           1.3032297718885704,
           -1.0774534288122568,
           -0.7945596892603807,
           -0.4722592350767362,
           0.7696770903877584,
           -0.6865605153240402,
           -0.5125781211986541,
           -0.1700103649427034,
           0.14540839211656184,
           2.849468481933667,
           0.3589325326247535,
           0.7392284396707407,
           -0.5377683039975595,
           -0.48156847796177915,
           -0.15916164408588762,
           0.14332546999642656,
           0.4603736862655888,
           0.7603562200400739,
           -0.2694707007923055,
           -0.08652706929926794,
           -1.0269267542816232,
           -0.000004507296219458559,
           -0.12635554459265474,
           -0.18778846887750666,
           0.573317317702859,
           -0.1608286785620095,
           1.5926532888478218,
           0.21159735559590617,
           0.15123470489714239,
           -0.42418058041257195,
           -0.6564952444215191,
           -0.0759333819547423,
           -0.08262467988704741,
           1.8398454144963532,
           -0.3007114282938817,
           -0.06636941503949931,
           -0.46469819520872147,
           -0.05910848491782598,
           -0.7607782203844449,
           -0.20589589491158455,
           -0.6733543953770651,
           1.1732895020999812
          ],
          [
           0.42074772799793725,
           0.7821634038449652,
           0.19145149611715886,
           -0.026474573482544228,
           -1.460968871475321,
           -0.7693032166922474,
           -1.0174607820111348,
           0.5410504745979413,
           2.5093409072424713,
           -0.37045329644804287,
           -1.0275628255518976,
           0.5886101157493708,
           0.10198232987766645,
           0.6470342397218086,
           0.8804822186735548,
           -0.6970968163031234,
           1.4909601811216902,
           0.06733074478887437,
           3.264482991122265,
           -1.6537865971727717,
           -0.023591855704180494,
           -0.5431557084153238,
           -1.4666217299923365,
           0.7289931142350791,
           -0.3668722636886557,
           4.002660024140924,
           0.2972134956026416,
           -0.5735524626624419,
           1.1980047673037957,
           1.277583504505419,
           -0.07780604280463453,
           -0.3114359215972759,
           -0.8748537799131608,
           -0.840967654659582,
           -0.1447688912769057,
           1.0593397722314422,
           -0.6352282536225452,
           1.1421079079084093,
           -0.8677734397620972,
           0.49486618264111243,
           0.6793779691605504,
           0.9360759915835033,
           -0.8478695183633624,
           -0.41233809606792554,
           0.0803237505753037,
           0.02122706408858484,
           3.5704089714859264,
           0.06057377184802525,
           -0.8261632787187146,
           -1.289303178770588,
           0.18653409457273154,
           -0.0203866690514815,
           -1.4227430930742155,
           -0.8484470033715908,
           -0.025546059816406327,
           3.961487938264929,
           -1.4943248823799367,
           -0.622912377142007,
           -0.586085606395501,
           -0.8354116332661313,
           0.6864631237425365,
           0.15912921726465318,
           3.3664526454553383,
           4.41000227150908,
           3.9593179010743538,
           1.0515282156029715,
           0.8052165535391408,
           0.2936773118475245,
           1.223684206369928,
           -1.4618939898746124,
           -0.904291704028574,
           -0.6554988044392618,
           -0.73346734016829,
           -0.5823323668495385,
           3.9999771597893354,
           -0.5967914270694494,
           -0.971570853831484,
           -0.705382854787959,
           -0.8548108227121354,
           -0.6297784411157199,
           -1.405166695268034,
           4.172267515634721,
           -0.7883225274943011,
           -1.359272035112205,
           -1.0138093360153633,
           -0.6691435499680558,
           2.806786777422598,
           -0.06388635455416229,
           -0.7205690583575063,
           2.486543308763571,
           -0.8756241049004985,
           -0.09063059304405377,
           -0.28906619720103066,
           -1.13115163526061,
           -0.3169050700867916,
           -0.1472180002063157,
           3.678619926399765,
           -0.9561607544378524,
           -1.027572613041092,
           -1.5481344782227755,
           -1.1497518025304092,
           -1.3329436699497186,
           -0.36976776190016497,
           -0.12400055060385311,
           -1.4980016800761828,
           -0.39543531526535114,
           -1.3882434529090437,
           -0.8165011068749873,
           -0.865324869972046,
           -0.9929733086201281,
           -0.6295499992009683,
           -0.4073040932798009,
           -1.4739003464741864,
           -0.683012519836664,
           -0.6848092645562199,
           -0.8704314559549121,
           -0.9144623460114254,
           0.0681244957816875,
           -1.2798724958826873,
           -0.194433258760248,
           -1.0997194956649334,
           -0.7605663586408411,
           -0.9100847283891879,
           -0.8941775586038556,
           -0.7958988353701846
          ],
          [
           -0.10737225293179944,
           0.31746662889848976,
           -0.2721856407171385,
           -0.3255531542565365,
           -0.9149332333666873,
           0.30955799175288934,
           -0.6091419134077879,
           -0.9433221474304223,
           0.5653742205640746,
           -1.0497813210908973,
           -0.8923554757591072,
           -0.7539944284884815,
           2.5268342933179717,
           -0.6036223242166507,
           0.15981535792073906,
           2.039619750706186,
           0.0422410700298784,
           2.2637846723371164,
           0.24007783573841326,
           -0.7777887538151936,
           -0.02080146134663121,
           0.4093448643464231,
           -0.9780624426875243,
           -1.1151293547208632,
           2.0317489572836065,
           -0.16566554428064909,
           -0.8111790706425319,
           -0.0762185425313882,
           -2.073456623422535,
           -1.8185863735517445,
           2.8315479310559355,
           1.2137176102293004,
           -0.6680942815657018,
           -0.7640666686060754,
           2.6701988049084244,
           -0.8208064434547747,
           -0.7218677524134508,
           0.6222227026892145,
           -0.741637773211975,
           1.089549044051197,
           -0.8481941435850914,
           -1.3219750042197993,
           -0.5326164696187946,
           -0.7831038214367072,
           -0.897517937053001,
           2.377892162323045,
           -0.5762832387444118,
           -1.7232765033841746,
           -0.691030088326578,
           -1.0074812413456766,
           2.3613720325246064,
           -1.381478545478506,
           -1.777065758875514,
           -0.617247647136114,
           0.9516367483844076,
           -0.23596707871025321,
           1.182890779070771,
           1.8474216470774494,
           -0.65169076898253,
           -0.6407994899758027,
           0.26060080606543123,
           -0.12399561327074515,
           -0.6904338047345349,
           -0.28848516696008936,
           -0.3770893048452016,
           -0.5864933392766842,
           -1.0286286151443853,
           -0.9653733166772912,
           0.009178977325787936,
           -0.4196927717370095,
           -0.5902212543968209,
           -1.2146282267668997,
           -0.575366543837863,
           -0.6875605205749404,
           -0.3490127752015734,
           -0.5863033990360138,
           0.555522267216842,
           -0.631564478370041,
           -0.22940889080003118,
           -1.2057226225300481,
           -0.7811432042736199,
           -0.28702595220617394,
           -0.708236948736074,
           -1.090644918755333,
           0.5949399551606154,
           -0.5622825717661735,
           -0.3340006661564168,
           0.8571858939493582,
           -0.6489900477056495,
           1.3084025049172707,
           -0.6594933305901096,
           -1.138015266637833,
           -0.14046861245357045,
           -1.111810402203111,
           -1.0175246163695701,
           -0.2519768419893448,
           -0.20804243741358955,
           -0.794873029938939,
           -0.6976865756777626,
           -0.773585168968523,
           -0.8764577278983886,
           -0.7781018257561051,
           -1.014055557716332,
           2.3511198660821973,
           -0.9007189438086779,
           -0.9629211028083505,
           0.896068694447862,
           -1.259622914022744,
           -0.9870916912597963,
           -0.8787225765504652,
           -1.1678321771453923,
           -0.8827542756238402,
           -0.8718849289420949,
           -0.621748318277385,
           -0.9631939253366176,
           -0.46732159858293926,
           -0.7059184110736848,
           -0.9119492860952166,
           0.1166290210552622,
           -0.9009681510713519,
           -1.0563709066457885,
           -0.6761079573938564,
           -0.5464877678182442,
           -0.2936911570075116,
           -0.7547788518191239
          ],
          [
           0.5868796800076721,
           1.7887685368444954,
           1.8677895630363905,
           1.838949675874893,
           -1.3987528951922719,
           -0.29878693204597834,
           -0.37174285553846215,
           0.40280656237765344,
           -0.5153450520957422,
           -0.24196070992446506,
           -0.40344455474622376,
           1.5937320291519232,
           0.04483343402366955,
           2.4328069418548934,
           2.2167666867021567,
           -0.42912256833046103,
           -0.12726360110483792,
           0.01602018847267269,
           -1.3371470268824601,
           -1.281057641035216,
           1.1184977748084914,
           -1.0453262672396466,
           -1.1458251081505613,
           1.084070250587593,
           -0.07804616628554535,
           0.19153227957972438,
           0.5111607656044685,
           -1.1089499624972663,
           -0.0867924098289587,
           -0.5524988672577565,
           -0.04986109445140985,
           -0.23079962819469024,
           -0.8732949502697291,
           -1.1882018116660193,
           0.002472091155019024,
           1.9096226800991078,
           -0.32823910797066963,
           2.15582514215269,
           -0.8554599240280115,
           -0.8027451340615468,
           2.0039603725050843,
           1.0790502769974786,
           -0.5384162092132015,
           -0.3180948655825611,
           1.5396440222864738,
           0.34979395318158435,
           0.8345392560444065,
           -0.5867371367269527,
           -0.8670656721496817,
           -1.171462450458755,
           0.41894505259164033,
           -0.026399615855532937,
           -1.1585358117847528,
           -0.5346796249023679,
           0.03168696802875348,
           0.12140669360753308,
           -0.8430051748067315,
           -0.5381087535974064,
           -0.8058507589648155,
           -0.7757103539768998,
           1.4509827884920516,
           -0.2709035562499107,
           1.1748083756225969,
           -0.24028948169712808,
           0.12105702076165871,
           1.890483340503718,
           0.7187075834640697,
           0.5774111513592228,
           -0.15175219892201103,
           -1.2368363969569431,
           -0.7443675980337502,
           -0.5902047639840374,
           -0.5649354849810478,
           -0.41643601216415,
           0.20580001532240808,
           -0.695261110468498,
           -1.1883407233317744,
           -0.7713561829847467,
           -1.314027056528501,
           -0.4169719059062896,
           -1.314297250348787,
           -0.2280622898055478,
           -0.7745289016509386,
           -1.0897520207475693,
           -0.9640334238854509,
           -0.7975683362915948,
           0.6311120106380791,
           -0.36008712307560614,
           -0.78887843932289,
           -0.4509996000682517,
           -0.8510681643966957,
           1.4325370423156674,
           -0.8596417048143834,
           -1.0245261624385342,
           -0.08279004861246547,
           -0.5132913946805584,
           -0.43032419037222097,
           -1.0270948271962785,
           -0.898777099709421,
           -1.3741685306123137,
           -1.3083272205370133,
           -1.183090360479274,
           0.4035850861279014,
           -0.6694219756763445,
           -0.8050337743188113,
           -0.29034684116033876,
           -1.0265083840240232,
           -0.669387338526076,
           -1.21654555018923,
           -0.9472210200234166,
           -0.8623804626473972,
           -1.078599278835327,
           -1.349983357705369,
           -0.7062663038441135,
           -0.11733206249623108,
           -1.0262799084465954,
           -0.970342424514352,
           -0.2530692240395595,
           -1.2226754208135335,
           -0.8964866899251517,
           -1.1027315863058196,
           -0.9669989015088264,
           -1.0669048281847764,
           -1.1394667822353195,
           -0.9136373723768211
          ],
          [
           0.9283355870061654,
           0.28717476548241494,
           0.11812382532822217,
           -0.3577335260749113,
           -0.6103274151800464,
           0.3185419025195292,
           0.7420400109413526,
           0.202491569574862,
           0.8717153367828278,
           0.3835981787092384,
           0.7820874846801651,
           -0.19540564151327194,
           -0.11275502228495639,
           0.09371009598001541,
           0.1929204103817678,
           -0.5075811591609503,
           1.4295484673787424,
           0.04969765357312646,
           -1.1601663208782331,
           -0.48872296380189034,
           -0.10292093685490668,
           -0.7711977437272817,
           -0.11084895585603453,
           0.3195863352312246,
           0.11856904103978257,
           -0.507860637460043,
           -0.1959030269294966,
           -0.8540501130563356,
           -0.4298677494277374,
           -0.767051908538642,
           -0.027900505301831455,
           -0.05210421326554472,
           -0.5594331100922598,
           -0.35391404597373194,
           0.2981601428991749,
           -0.03685294405155336,
           0.7293938819499989,
           0.13750232821793654,
           -0.5169442533510211,
           -0.3305477723911405,
           0.09596943115533806,
           0.10162707450842642,
           0.4770736209636065,
           -0.246363893482023,
           -0.19654864913043904,
           0.5680474250908508,
           -0.5547333679958615,
           -1.2368663114031666,
           -0.5711599663424363,
           -0.3365541652114512,
           0.24023210459142716,
           -0.26114864988339254,
           -0.20551877985783792,
           0.3969811145825244,
           2.035063486176679,
           -0.6646424111164244,
           -0.7193294269611197,
           0.29684538116401066,
           -0.6431601577665961,
           0.32746681837127406,
           -0.38300013719809534,
           -0.4719614030985833,
           -0.5587091704490688,
           -0.08468841127351101,
           -0.43607480599063425,
           -0.18453211093846325,
           0.22941621387942915,
           0.2914397122381986,
           -0.6430011036335933,
           -0.1791793195417197,
           -0.1014876519584602,
           0.23146021874536582,
           0.10064171651768826,
           0.3008158532612829,
           -0.3984725238354936,
           -0.5091386390399032,
           -0.9759135974671461,
           -0.5858310756997741,
           -1.1826397862941793,
           0.32851536117007885,
           -0.5160819088243994,
           -0.6773219311052219,
           -0.7155239335611415,
           -0.15975262996130588,
           -1.1311492585706193,
           -0.8062301186339643,
           -0.7631929149533707,
           0.1599794586556199,
           -0.7382813376398392,
           -0.750017990034167,
           -0.3406757022241375,
           -0.7432911172623682,
           0.06283552907639095,
           -0.19133968254372632,
           0.026386790310525054,
           -0.6341742304643836,
           -0.8605786491462056,
           -0.4523814752010626,
           0.11689222192745524,
           -0.8173194385958196,
           -0.1913540678355248,
           -0.7799363016177364,
           -0.9772282997948596,
           -0.8823567433956491,
           -0.029336248017776477,
           -0.7844612223605837,
           -0.691695796553523,
           0.16023604431951885,
           -1.2554274604845488,
           -0.6284969396806812,
           0.02190271264695134,
           -0.8094576503817376,
           -1.0724764858496942,
           -0.6461091052392552,
           -1.0727233939248055,
           -0.8754566357615353,
           -0.5344255974408276,
           -1.2014424465857607,
           -0.9066473501388996,
           -0.9719143922098173,
           -0.48567936426288705,
           -1.044471961082804,
           -0.9227453227081458,
           -1.2619053600549526,
           -0.644022174057659
          ],
          [
           0.9472050135755334,
           1.4809138220901896,
           1.6359743418804533,
           1.290650583594035,
           -1.0031835028985423,
           0.5039803825631495,
           0.3679558203367798,
           0.4501697248849764,
           0.13782909616025393,
           0.33624059844622073,
           0.5423679132305264,
           1.2954628480587291,
           0.19806745406362924,
           1.888350613446251,
           1.7417641711970717,
           -0.42249104389596537,
           0.4131398349522641,
           0.4582204827585807,
           -1.1536242091345326,
           -0.9025933617994106,
           1.0040601217199576,
           -1.0433217975820945,
           -0.7020225812090065,
           1.1077135807534708,
           0.5142571250671163,
           -0.18973705394770973,
           0.3640946836940899,
           -1.160691602190427,
           -0.467396991238115,
           -0.6277620351613764,
           0.32978225908251924,
           0.2648217329276181,
           -0.7109579299696479,
           -0.8740532223021711,
           0.7182796301301413,
           1.5771658475405428,
           0.39172601247320216,
           1.7004166256836937,
           -0.6899605190331841,
           -0.6974021543128298,
           1.4532769473167746,
           1.0581246250649317,
           -0.058301977967579646,
           -0.2079170334190908,
           1.2439453709849901,
           1.1985866783786447,
           0.13536150600864477,
           -1.0242100975278363,
           -0.7677008877769863,
           -0.7434524649811861,
           1.0002815605693938,
           0.18668464931824405,
           -0.5967700213698136,
           0.030925864452964164,
           1.1733289359662153,
           -0.2606329885858142,
           -0.4489565348166442,
           0.0009298566668954206,
           -0.7185761586598537,
           -0.3541708252060024,
           1.0157596679690628,
           -0.401052318712049,
           0.4937543209629041,
           -0.25585595486683443,
           -0.10527221130193579,
           0.9407870441933864,
           0.872248057612791,
           0.6180180202308063,
           -0.5888838460612063,
           -0.9004984401100088,
           -0.42427809348962253,
           0.40413802044316144,
           -0.18863305117306264,
           0.0874426515881199,
           -0.08885308684384163,
           -0.6048399513321162,
           -1.1872829386965413,
           -0.6913175079678621,
           -1.3141632049919028,
           0.6416165683216467,
           -1.0109677090469895,
           -0.4702898835760031,
           -0.7382904566675763,
           -0.6513103989103247,
           -0.9895165899829036,
           -0.7937261549092043,
           0.00022553918704468543,
           0.10448439404853921,
           -0.7619420557173158,
           -0.4813714003208424,
           -0.734081994376742,
           0.3815553900889512,
           -0.3991371486879666,
           -0.7624550698993573,
           0.07785806318049668,
           -0.6109171451367554,
           -0.7179784874178018,
           -0.8162171272320264,
           -0.6099027675817535,
           -1.2400155146102443,
           -1.0515324729479802,
           -0.9908217792606678,
           -0.2719734101362692,
           -1.0228165685859218,
           -0.15224900806435865,
           -0.5686941380355544,
           -0.8497492313741302,
           -0.01425494647564164,
           -1.254271853864601,
           -0.7163573037278773,
           0.1331255967569712,
           -0.9983171974460968,
           -1.3812149263881068,
           -0.7074124708184845,
           -0.6083359910874446,
           -1.0363103387703492,
           -0.7166662689981932,
           -0.8164591404275774,
           -0.957688192186587,
           -0.9929532555124773,
           -1.02380693545518,
           -1.125065145363861,
           -1.0242318875231111,
           -1.3026851135956325,
           -0.7849448980464134
          ]
         ]
        }
       ],
       "layout": {
        "height": 700,
        "template": {
         "data": {
          "bar": [
           {
            "error_x": {
             "color": "#2a3f5f"
            },
            "error_y": {
             "color": "#2a3f5f"
            },
            "marker": {
             "line": {
              "color": "#E5ECF6",
              "width": 0.5
             },
             "pattern": {
              "fillmode": "overlay",
              "size": 10,
              "solidity": 0.2
             }
            },
            "type": "bar"
           }
          ],
          "barpolar": [
           {
            "marker": {
             "line": {
              "color": "#E5ECF6",
              "width": 0.5
             },
             "pattern": {
              "fillmode": "overlay",
              "size": 10,
              "solidity": 0.2
             }
            },
            "type": "barpolar"
           }
          ],
          "carpet": [
           {
            "aaxis": {
             "endlinecolor": "#2a3f5f",
             "gridcolor": "white",
             "linecolor": "white",
             "minorgridcolor": "white",
             "startlinecolor": "#2a3f5f"
            },
            "baxis": {
             "endlinecolor": "#2a3f5f",
             "gridcolor": "white",
             "linecolor": "white",
             "minorgridcolor": "white",
             "startlinecolor": "#2a3f5f"
            },
            "type": "carpet"
           }
          ],
          "choropleth": [
           {
            "colorbar": {
             "outlinewidth": 0,
             "ticks": ""
            },
            "type": "choropleth"
           }
          ],
          "contour": [
           {
            "colorbar": {
             "outlinewidth": 0,
             "ticks": ""
            },
            "colorscale": [
             [
              0,
              "#0d0887"
             ],
             [
              0.1111111111111111,
              "#46039f"
             ],
             [
              0.2222222222222222,
              "#7201a8"
             ],
             [
              0.3333333333333333,
              "#9c179e"
             ],
             [
              0.4444444444444444,
              "#bd3786"
             ],
             [
              0.5555555555555556,
              "#d8576b"
             ],
             [
              0.6666666666666666,
              "#ed7953"
             ],
             [
              0.7777777777777778,
              "#fb9f3a"
             ],
             [
              0.8888888888888888,
              "#fdca26"
             ],
             [
              1,
              "#f0f921"
             ]
            ],
            "type": "contour"
           }
          ],
          "contourcarpet": [
           {
            "colorbar": {
             "outlinewidth": 0,
             "ticks": ""
            },
            "type": "contourcarpet"
           }
          ],
          "heatmap": [
           {
            "colorbar": {
             "outlinewidth": 0,
             "ticks": ""
            },
            "colorscale": [
             [
              0,
              "#0d0887"
             ],
             [
              0.1111111111111111,
              "#46039f"
             ],
             [
              0.2222222222222222,
              "#7201a8"
             ],
             [
              0.3333333333333333,
              "#9c179e"
             ],
             [
              0.4444444444444444,
              "#bd3786"
             ],
             [
              0.5555555555555556,
              "#d8576b"
             ],
             [
              0.6666666666666666,
              "#ed7953"
             ],
             [
              0.7777777777777778,
              "#fb9f3a"
             ],
             [
              0.8888888888888888,
              "#fdca26"
             ],
             [
              1,
              "#f0f921"
             ]
            ],
            "type": "heatmap"
           }
          ],
          "heatmapgl": [
           {
            "colorbar": {
             "outlinewidth": 0,
             "ticks": ""
            },
            "colorscale": [
             [
              0,
              "#0d0887"
             ],
             [
              0.1111111111111111,
              "#46039f"
             ],
             [
              0.2222222222222222,
              "#7201a8"
             ],
             [
              0.3333333333333333,
              "#9c179e"
             ],
             [
              0.4444444444444444,
              "#bd3786"
             ],
             [
              0.5555555555555556,
              "#d8576b"
             ],
             [
              0.6666666666666666,
              "#ed7953"
             ],
             [
              0.7777777777777778,
              "#fb9f3a"
             ],
             [
              0.8888888888888888,
              "#fdca26"
             ],
             [
              1,
              "#f0f921"
             ]
            ],
            "type": "heatmapgl"
           }
          ],
          "histogram": [
           {
            "marker": {
             "pattern": {
              "fillmode": "overlay",
              "size": 10,
              "solidity": 0.2
             }
            },
            "type": "histogram"
           }
          ],
          "histogram2d": [
           {
            "colorbar": {
             "outlinewidth": 0,
             "ticks": ""
            },
            "colorscale": [
             [
              0,
              "#0d0887"
             ],
             [
              0.1111111111111111,
              "#46039f"
             ],
             [
              0.2222222222222222,
              "#7201a8"
             ],
             [
              0.3333333333333333,
              "#9c179e"
             ],
             [
              0.4444444444444444,
              "#bd3786"
             ],
             [
              0.5555555555555556,
              "#d8576b"
             ],
             [
              0.6666666666666666,
              "#ed7953"
             ],
             [
              0.7777777777777778,
              "#fb9f3a"
             ],
             [
              0.8888888888888888,
              "#fdca26"
             ],
             [
              1,
              "#f0f921"
             ]
            ],
            "type": "histogram2d"
           }
          ],
          "histogram2dcontour": [
           {
            "colorbar": {
             "outlinewidth": 0,
             "ticks": ""
            },
            "colorscale": [
             [
              0,
              "#0d0887"
             ],
             [
              0.1111111111111111,
              "#46039f"
             ],
             [
              0.2222222222222222,
              "#7201a8"
             ],
             [
              0.3333333333333333,
              "#9c179e"
             ],
             [
              0.4444444444444444,
              "#bd3786"
             ],
             [
              0.5555555555555556,
              "#d8576b"
             ],
             [
              0.6666666666666666,
              "#ed7953"
             ],
             [
              0.7777777777777778,
              "#fb9f3a"
             ],
             [
              0.8888888888888888,
              "#fdca26"
             ],
             [
              1,
              "#f0f921"
             ]
            ],
            "type": "histogram2dcontour"
           }
          ],
          "mesh3d": [
           {
            "colorbar": {
             "outlinewidth": 0,
             "ticks": ""
            },
            "type": "mesh3d"
           }
          ],
          "parcoords": [
           {
            "line": {
             "colorbar": {
              "outlinewidth": 0,
              "ticks": ""
             }
            },
            "type": "parcoords"
           }
          ],
          "pie": [
           {
            "automargin": true,
            "type": "pie"
           }
          ],
          "scatter": [
           {
            "fillpattern": {
             "fillmode": "overlay",
             "size": 10,
             "solidity": 0.2
            },
            "type": "scatter"
           }
          ],
          "scatter3d": [
           {
            "line": {
             "colorbar": {
              "outlinewidth": 0,
              "ticks": ""
             }
            },
            "marker": {
             "colorbar": {
              "outlinewidth": 0,
              "ticks": ""
             }
            },
            "type": "scatter3d"
           }
          ],
          "scattercarpet": [
           {
            "marker": {
             "colorbar": {
              "outlinewidth": 0,
              "ticks": ""
             }
            },
            "type": "scattercarpet"
           }
          ],
          "scattergeo": [
           {
            "marker": {
             "colorbar": {
              "outlinewidth": 0,
              "ticks": ""
             }
            },
            "type": "scattergeo"
           }
          ],
          "scattergl": [
           {
            "marker": {
             "colorbar": {
              "outlinewidth": 0,
              "ticks": ""
             }
            },
            "type": "scattergl"
           }
          ],
          "scattermapbox": [
           {
            "marker": {
             "colorbar": {
              "outlinewidth": 0,
              "ticks": ""
             }
            },
            "type": "scattermapbox"
           }
          ],
          "scatterpolar": [
           {
            "marker": {
             "colorbar": {
              "outlinewidth": 0,
              "ticks": ""
             }
            },
            "type": "scatterpolar"
           }
          ],
          "scatterpolargl": [
           {
            "marker": {
             "colorbar": {
              "outlinewidth": 0,
              "ticks": ""
             }
            },
            "type": "scatterpolargl"
           }
          ],
          "scatterternary": [
           {
            "marker": {
             "colorbar": {
              "outlinewidth": 0,
              "ticks": ""
             }
            },
            "type": "scatterternary"
           }
          ],
          "surface": [
           {
            "colorbar": {
             "outlinewidth": 0,
             "ticks": ""
            },
            "colorscale": [
             [
              0,
              "#0d0887"
             ],
             [
              0.1111111111111111,
              "#46039f"
             ],
             [
              0.2222222222222222,
              "#7201a8"
             ],
             [
              0.3333333333333333,
              "#9c179e"
             ],
             [
              0.4444444444444444,
              "#bd3786"
             ],
             [
              0.5555555555555556,
              "#d8576b"
             ],
             [
              0.6666666666666666,
              "#ed7953"
             ],
             [
              0.7777777777777778,
              "#fb9f3a"
             ],
             [
              0.8888888888888888,
              "#fdca26"
             ],
             [
              1,
              "#f0f921"
             ]
            ],
            "type": "surface"
           }
          ],
          "table": [
           {
            "cells": {
             "fill": {
              "color": "#EBF0F8"
             },
             "line": {
              "color": "white"
             }
            },
            "header": {
             "fill": {
              "color": "#C8D4E3"
             },
             "line": {
              "color": "white"
             }
            },
            "type": "table"
           }
          ]
         },
         "layout": {
          "annotationdefaults": {
           "arrowcolor": "#2a3f5f",
           "arrowhead": 0,
           "arrowwidth": 1
          },
          "autotypenumbers": "strict",
          "coloraxis": {
           "colorbar": {
            "outlinewidth": 0,
            "ticks": ""
           }
          },
          "colorscale": {
           "diverging": [
            [
             0,
             "#8e0152"
            ],
            [
             0.1,
             "#c51b7d"
            ],
            [
             0.2,
             "#de77ae"
            ],
            [
             0.3,
             "#f1b6da"
            ],
            [
             0.4,
             "#fde0ef"
            ],
            [
             0.5,
             "#f7f7f7"
            ],
            [
             0.6,
             "#e6f5d0"
            ],
            [
             0.7,
             "#b8e186"
            ],
            [
             0.8,
             "#7fbc41"
            ],
            [
             0.9,
             "#4d9221"
            ],
            [
             1,
             "#276419"
            ]
           ],
           "sequential": [
            [
             0,
             "#0d0887"
            ],
            [
             0.1111111111111111,
             "#46039f"
            ],
            [
             0.2222222222222222,
             "#7201a8"
            ],
            [
             0.3333333333333333,
             "#9c179e"
            ],
            [
             0.4444444444444444,
             "#bd3786"
            ],
            [
             0.5555555555555556,
             "#d8576b"
            ],
            [
             0.6666666666666666,
             "#ed7953"
            ],
            [
             0.7777777777777778,
             "#fb9f3a"
            ],
            [
             0.8888888888888888,
             "#fdca26"
            ],
            [
             1,
             "#f0f921"
            ]
           ],
           "sequentialminus": [
            [
             0,
             "#0d0887"
            ],
            [
             0.1111111111111111,
             "#46039f"
            ],
            [
             0.2222222222222222,
             "#7201a8"
            ],
            [
             0.3333333333333333,
             "#9c179e"
            ],
            [
             0.4444444444444444,
             "#bd3786"
            ],
            [
             0.5555555555555556,
             "#d8576b"
            ],
            [
             0.6666666666666666,
             "#ed7953"
            ],
            [
             0.7777777777777778,
             "#fb9f3a"
            ],
            [
             0.8888888888888888,
             "#fdca26"
            ],
            [
             1,
             "#f0f921"
            ]
           ]
          },
          "colorway": [
           "#636efa",
           "#EF553B",
           "#00cc96",
           "#ab63fa",
           "#FFA15A",
           "#19d3f3",
           "#FF6692",
           "#B6E880",
           "#FF97FF",
           "#FECB52"
          ],
          "font": {
           "color": "#2a3f5f"
          },
          "geo": {
           "bgcolor": "white",
           "lakecolor": "white",
           "landcolor": "#E5ECF6",
           "showlakes": true,
           "showland": true,
           "subunitcolor": "white"
          },
          "hoverlabel": {
           "align": "left"
          },
          "hovermode": "closest",
          "mapbox": {
           "style": "light"
          },
          "paper_bgcolor": "white",
          "plot_bgcolor": "#E5ECF6",
          "polar": {
           "angularaxis": {
            "gridcolor": "white",
            "linecolor": "white",
            "ticks": ""
           },
           "bgcolor": "#E5ECF6",
           "radialaxis": {
            "gridcolor": "white",
            "linecolor": "white",
            "ticks": ""
           }
          },
          "scene": {
           "xaxis": {
            "backgroundcolor": "#E5ECF6",
            "gridcolor": "white",
            "gridwidth": 2,
            "linecolor": "white",
            "showbackground": true,
            "ticks": "",
            "zerolinecolor": "white"
           },
           "yaxis": {
            "backgroundcolor": "#E5ECF6",
            "gridcolor": "white",
            "gridwidth": 2,
            "linecolor": "white",
            "showbackground": true,
            "ticks": "",
            "zerolinecolor": "white"
           },
           "zaxis": {
            "backgroundcolor": "#E5ECF6",
            "gridcolor": "white",
            "gridwidth": 2,
            "linecolor": "white",
            "showbackground": true,
            "ticks": "",
            "zerolinecolor": "white"
           }
          },
          "shapedefaults": {
           "line": {
            "color": "#2a3f5f"
           }
          },
          "ternary": {
           "aaxis": {
            "gridcolor": "white",
            "linecolor": "white",
            "ticks": ""
           },
           "baxis": {
            "gridcolor": "white",
            "linecolor": "white",
            "ticks": ""
           },
           "bgcolor": "#E5ECF6",
           "caxis": {
            "gridcolor": "white",
            "linecolor": "white",
            "ticks": ""
           }
          },
          "title": {
           "x": 0.05
          },
          "xaxis": {
           "automargin": true,
           "gridcolor": "white",
           "linecolor": "white",
           "ticks": "",
           "title": {
            "standoff": 15
           },
           "zerolinecolor": "white",
           "zerolinewidth": 2
          },
          "yaxis": {
           "automargin": true,
           "gridcolor": "white",
           "linecolor": "white",
           "ticks": "",
           "title": {
            "standoff": 15
           },
           "zerolinecolor": "white",
           "zerolinewidth": 2
          }
         }
        },
        "width": 2500
       }
      }
     },
     "metadata": {},
     "output_type": "display_data"
    }
   ],
   "source": [
    "fig = go.Figure(data=go.Heatmap(z=std_skills, x=skills.columns,y=skills.index, colorscale='magma', ygap=1))\n",
    "fig.update_layout(width=2500, height=700)\n",
    "fig.show()\n"
   ]
  },
  {
   "cell_type": "markdown",
   "metadata": {
    "collapsed": false,
    "pycharm": {
     "name": "#%% md\n"
    }
   },
   "source": [
    "## Job profiles"
   ]
  },
  {
   "cell_type": "code",
   "execution_count": 23,
   "metadata": {
    "collapsed": false,
    "pycharm": {
     "name": "#%%\n"
    }
   },
   "outputs": [
    {
     "data": {
      "text/plain": [
       "['Marketing or sales professional',\n",
       " 'Scientist',\n",
       " 'Senior Executive (C-Suite, VP, etc.)',\n",
       " 'Developer, game or graphics',\n",
       " 'Educator',\n",
       " 'Engineer, site reliability',\n",
       " 'Academic researcher',\n",
       " 'Product manager',\n",
       " 'Other (please specify):',\n",
       " 'Developer, QA or test',\n",
       " 'Data or business analyst',\n",
       " 'Engineering manager',\n",
       " 'Engineer, data',\n",
       " 'Student',\n",
       " 'Data scientist or machine learning specialist',\n",
       " 'Developer, embedded applications or devices',\n",
       " 'Designer',\n",
       " 'Database administrator',\n",
       " 'System administrator',\n",
       " 'DevOps specialist',\n",
       " 'Developer, mobile',\n",
       " 'Developer, desktop or enterprise applications',\n",
       " 'Developer, front-end',\n",
       " 'Developer, back-end',\n",
       " 'Developer, full-stack']"
      ]
     },
     "execution_count": 23,
     "metadata": {},
     "output_type": "execute_result"
    }
   ],
   "source": [
    "sorted_roles"
   ]
  },
  {
   "cell_type": "code",
   "execution_count": 24,
   "id": "81014012-b29d-483d-aa39-06fc4730e7f6",
   "metadata": {},
   "outputs": [],
   "source": [
    "#role = np.random.choice(sorted_roles)\n",
    "# role = 'Developer, embedded applications or devices'\n",
    "# role = 'Data scientist or machine learning specialist'\n",
    "# role = 'Developer, back-end'\n",
    "role = 'Product manager'"
   ]
  },
  {
   "cell_type": "code",
   "execution_count": 25,
   "id": "c8871ce4-82d2-45fc-8ae7-d9f6b853f5fc",
   "metadata": {
    "tags": []
   },
   "outputs": [],
   "source": [
    "single_role_skills = pd.concat([skills.loc[role], std_skills.loc[role]], axis=1)\n",
    "single_role_skills.columns = ['percentage', 'specificity']\n",
    "single_role_skills = single_role_skills.sort_values('percentage')"
   ]
  },
  {
   "cell_type": "code",
   "execution_count": 26,
   "metadata": {
    "collapsed": false,
    "pycharm": {
     "name": "#%%\n"
    }
   },
   "outputs": [],
   "source": [
    "#single_role_skills"
   ]
  },
  {
   "cell_type": "code",
   "execution_count": 27,
   "id": "d43d0189-be3d-4f62-b09a-69c022393ad0",
   "metadata": {},
   "outputs": [
    {
     "data": {
      "application/vnd.plotly.v1+json": {
       "config": {
        "plotlyServerURL": "https://plot.ly"
       },
       "data": [
        {
         "alignmentgroup": "True",
         "hovertemplate": "x=%{x}<br>y=%{y}<br>color=%{marker.color}<extra></extra>",
         "legendgroup": "",
         "marker": {
          "color": [
           0.4198715095550824,
           0.20577255423580318,
           0.3389494488625138,
           0.6844028695722039,
           0.34853033764746216,
           0.8751037232062799,
           -0.5506827131869221,
           -0.5275744275133155,
           0.3748933735244748,
           0.09293819580629518,
           0.3528431649338392,
           0.8038537894822477,
           -0.12295916631015229,
           0.025685925706605807,
           0.12444986415899703,
           0.684843371248294,
           0.863455921910023,
           -0.7569031795681016,
           0.2525303408258883,
           0.8890728219218891,
           0.5988026346323283,
           0.037822684075958284,
           0.6435380023862463,
           0.4896857801363383,
           0.814193196795805,
           0.5258317861460302,
           0.8355103436903454,
           0.04398245009390965
          ],
          "coloraxis": "coloraxis",
          "pattern": {
           "shape": ""
          }
         },
         "name": "",
         "offsetgroup": "",
         "orientation": "h",
         "showlegend": false,
         "textposition": "auto",
         "type": "bar",
         "x": [
          25.211450878334418,
          25.504229017566686,
          26.80546519193234,
          27.781392322706573,
          28.13923227065712,
          29.505530253741053,
          30.2537410540013,
          31.067013662979832,
          31.65256994144437,
          32.10800260247235,
          32.36824983734548,
          32.72608978529603,
          33.79960962914769,
          33.79960962914769,
          34.5152895250488,
          37.50813272608979,
          37.63825634352635,
          41.18412491867274,
          41.41184124918673,
          43.75406636304489,
          47.46258945998699,
          49.414443721535456,
          50.390370852309694,
          59.694209499024076,
          66.07026675341574,
          70.36434612882239,
          75.8295380611581,
          83.70201691607026
         ],
         "xaxis": "x",
         "y": [
          "Redis",
          ".NET Framework",
          "Microsoft Azure",
          "MongoDB",
          "Android Studio",
          "Google Cloud Platform",
          "Bash/Shell",
          "Java",
          "Microsoft SQL Server",
          "C#",
          "React.js",
          "PHP",
          "Visual Studio",
          "Notepad++",
          "SQLite",
          "TypeScript",
          "jQuery",
          "Python",
          "PostgreSQL",
          "Node.js",
          "AWS",
          "Docker",
          "MySQL",
          "SQL",
          "HTML/CSS",
          "Visual Studio Code",
          "JavaScript",
          "Git"
         ],
         "yaxis": "y"
        }
       ],
       "layout": {
        "barmode": "relative",
        "coloraxis": {
         "cmax": 4.688883161391142,
         "cmin": -2.8636261005408836,
         "colorbar": {
          "title": {
           "text": "color"
          }
         },
         "colorscale": [
          [
           0,
           "rgb(255,247,236)"
          ],
          [
           0.125,
           "rgb(254,232,200)"
          ],
          [
           0.25,
           "rgb(253,212,158)"
          ],
          [
           0.375,
           "rgb(253,187,132)"
          ],
          [
           0.5,
           "rgb(252,141,89)"
          ],
          [
           0.625,
           "rgb(239,101,72)"
          ],
          [
           0.75,
           "rgb(215,48,31)"
          ],
          [
           0.875,
           "rgb(179,0,0)"
          ],
          [
           1,
           "rgb(127,0,0)"
          ]
         ]
        },
        "height": 800,
        "legend": {
         "tracegroupgap": 0
        },
        "margin": {
         "t": 60
        },
        "template": {
         "data": {
          "bar": [
           {
            "error_x": {
             "color": "#2a3f5f"
            },
            "error_y": {
             "color": "#2a3f5f"
            },
            "marker": {
             "line": {
              "color": "#E5ECF6",
              "width": 0.5
             },
             "pattern": {
              "fillmode": "overlay",
              "size": 10,
              "solidity": 0.2
             }
            },
            "type": "bar"
           }
          ],
          "barpolar": [
           {
            "marker": {
             "line": {
              "color": "#E5ECF6",
              "width": 0.5
             },
             "pattern": {
              "fillmode": "overlay",
              "size": 10,
              "solidity": 0.2
             }
            },
            "type": "barpolar"
           }
          ],
          "carpet": [
           {
            "aaxis": {
             "endlinecolor": "#2a3f5f",
             "gridcolor": "white",
             "linecolor": "white",
             "minorgridcolor": "white",
             "startlinecolor": "#2a3f5f"
            },
            "baxis": {
             "endlinecolor": "#2a3f5f",
             "gridcolor": "white",
             "linecolor": "white",
             "minorgridcolor": "white",
             "startlinecolor": "#2a3f5f"
            },
            "type": "carpet"
           }
          ],
          "choropleth": [
           {
            "colorbar": {
             "outlinewidth": 0,
             "ticks": ""
            },
            "type": "choropleth"
           }
          ],
          "contour": [
           {
            "colorbar": {
             "outlinewidth": 0,
             "ticks": ""
            },
            "colorscale": [
             [
              0,
              "#0d0887"
             ],
             [
              0.1111111111111111,
              "#46039f"
             ],
             [
              0.2222222222222222,
              "#7201a8"
             ],
             [
              0.3333333333333333,
              "#9c179e"
             ],
             [
              0.4444444444444444,
              "#bd3786"
             ],
             [
              0.5555555555555556,
              "#d8576b"
             ],
             [
              0.6666666666666666,
              "#ed7953"
             ],
             [
              0.7777777777777778,
              "#fb9f3a"
             ],
             [
              0.8888888888888888,
              "#fdca26"
             ],
             [
              1,
              "#f0f921"
             ]
            ],
            "type": "contour"
           }
          ],
          "contourcarpet": [
           {
            "colorbar": {
             "outlinewidth": 0,
             "ticks": ""
            },
            "type": "contourcarpet"
           }
          ],
          "heatmap": [
           {
            "colorbar": {
             "outlinewidth": 0,
             "ticks": ""
            },
            "colorscale": [
             [
              0,
              "#0d0887"
             ],
             [
              0.1111111111111111,
              "#46039f"
             ],
             [
              0.2222222222222222,
              "#7201a8"
             ],
             [
              0.3333333333333333,
              "#9c179e"
             ],
             [
              0.4444444444444444,
              "#bd3786"
             ],
             [
              0.5555555555555556,
              "#d8576b"
             ],
             [
              0.6666666666666666,
              "#ed7953"
             ],
             [
              0.7777777777777778,
              "#fb9f3a"
             ],
             [
              0.8888888888888888,
              "#fdca26"
             ],
             [
              1,
              "#f0f921"
             ]
            ],
            "type": "heatmap"
           }
          ],
          "heatmapgl": [
           {
            "colorbar": {
             "outlinewidth": 0,
             "ticks": ""
            },
            "colorscale": [
             [
              0,
              "#0d0887"
             ],
             [
              0.1111111111111111,
              "#46039f"
             ],
             [
              0.2222222222222222,
              "#7201a8"
             ],
             [
              0.3333333333333333,
              "#9c179e"
             ],
             [
              0.4444444444444444,
              "#bd3786"
             ],
             [
              0.5555555555555556,
              "#d8576b"
             ],
             [
              0.6666666666666666,
              "#ed7953"
             ],
             [
              0.7777777777777778,
              "#fb9f3a"
             ],
             [
              0.8888888888888888,
              "#fdca26"
             ],
             [
              1,
              "#f0f921"
             ]
            ],
            "type": "heatmapgl"
           }
          ],
          "histogram": [
           {
            "marker": {
             "pattern": {
              "fillmode": "overlay",
              "size": 10,
              "solidity": 0.2
             }
            },
            "type": "histogram"
           }
          ],
          "histogram2d": [
           {
            "colorbar": {
             "outlinewidth": 0,
             "ticks": ""
            },
            "colorscale": [
             [
              0,
              "#0d0887"
             ],
             [
              0.1111111111111111,
              "#46039f"
             ],
             [
              0.2222222222222222,
              "#7201a8"
             ],
             [
              0.3333333333333333,
              "#9c179e"
             ],
             [
              0.4444444444444444,
              "#bd3786"
             ],
             [
              0.5555555555555556,
              "#d8576b"
             ],
             [
              0.6666666666666666,
              "#ed7953"
             ],
             [
              0.7777777777777778,
              "#fb9f3a"
             ],
             [
              0.8888888888888888,
              "#fdca26"
             ],
             [
              1,
              "#f0f921"
             ]
            ],
            "type": "histogram2d"
           }
          ],
          "histogram2dcontour": [
           {
            "colorbar": {
             "outlinewidth": 0,
             "ticks": ""
            },
            "colorscale": [
             [
              0,
              "#0d0887"
             ],
             [
              0.1111111111111111,
              "#46039f"
             ],
             [
              0.2222222222222222,
              "#7201a8"
             ],
             [
              0.3333333333333333,
              "#9c179e"
             ],
             [
              0.4444444444444444,
              "#bd3786"
             ],
             [
              0.5555555555555556,
              "#d8576b"
             ],
             [
              0.6666666666666666,
              "#ed7953"
             ],
             [
              0.7777777777777778,
              "#fb9f3a"
             ],
             [
              0.8888888888888888,
              "#fdca26"
             ],
             [
              1,
              "#f0f921"
             ]
            ],
            "type": "histogram2dcontour"
           }
          ],
          "mesh3d": [
           {
            "colorbar": {
             "outlinewidth": 0,
             "ticks": ""
            },
            "type": "mesh3d"
           }
          ],
          "parcoords": [
           {
            "line": {
             "colorbar": {
              "outlinewidth": 0,
              "ticks": ""
             }
            },
            "type": "parcoords"
           }
          ],
          "pie": [
           {
            "automargin": true,
            "type": "pie"
           }
          ],
          "scatter": [
           {
            "fillpattern": {
             "fillmode": "overlay",
             "size": 10,
             "solidity": 0.2
            },
            "type": "scatter"
           }
          ],
          "scatter3d": [
           {
            "line": {
             "colorbar": {
              "outlinewidth": 0,
              "ticks": ""
             }
            },
            "marker": {
             "colorbar": {
              "outlinewidth": 0,
              "ticks": ""
             }
            },
            "type": "scatter3d"
           }
          ],
          "scattercarpet": [
           {
            "marker": {
             "colorbar": {
              "outlinewidth": 0,
              "ticks": ""
             }
            },
            "type": "scattercarpet"
           }
          ],
          "scattergeo": [
           {
            "marker": {
             "colorbar": {
              "outlinewidth": 0,
              "ticks": ""
             }
            },
            "type": "scattergeo"
           }
          ],
          "scattergl": [
           {
            "marker": {
             "colorbar": {
              "outlinewidth": 0,
              "ticks": ""
             }
            },
            "type": "scattergl"
           }
          ],
          "scattermapbox": [
           {
            "marker": {
             "colorbar": {
              "outlinewidth": 0,
              "ticks": ""
             }
            },
            "type": "scattermapbox"
           }
          ],
          "scatterpolar": [
           {
            "marker": {
             "colorbar": {
              "outlinewidth": 0,
              "ticks": ""
             }
            },
            "type": "scatterpolar"
           }
          ],
          "scatterpolargl": [
           {
            "marker": {
             "colorbar": {
              "outlinewidth": 0,
              "ticks": ""
             }
            },
            "type": "scatterpolargl"
           }
          ],
          "scatterternary": [
           {
            "marker": {
             "colorbar": {
              "outlinewidth": 0,
              "ticks": ""
             }
            },
            "type": "scatterternary"
           }
          ],
          "surface": [
           {
            "colorbar": {
             "outlinewidth": 0,
             "ticks": ""
            },
            "colorscale": [
             [
              0,
              "#0d0887"
             ],
             [
              0.1111111111111111,
              "#46039f"
             ],
             [
              0.2222222222222222,
              "#7201a8"
             ],
             [
              0.3333333333333333,
              "#9c179e"
             ],
             [
              0.4444444444444444,
              "#bd3786"
             ],
             [
              0.5555555555555556,
              "#d8576b"
             ],
             [
              0.6666666666666666,
              "#ed7953"
             ],
             [
              0.7777777777777778,
              "#fb9f3a"
             ],
             [
              0.8888888888888888,
              "#fdca26"
             ],
             [
              1,
              "#f0f921"
             ]
            ],
            "type": "surface"
           }
          ],
          "table": [
           {
            "cells": {
             "fill": {
              "color": "#EBF0F8"
             },
             "line": {
              "color": "white"
             }
            },
            "header": {
             "fill": {
              "color": "#C8D4E3"
             },
             "line": {
              "color": "white"
             }
            },
            "type": "table"
           }
          ]
         },
         "layout": {
          "annotationdefaults": {
           "arrowcolor": "#2a3f5f",
           "arrowhead": 0,
           "arrowwidth": 1
          },
          "autotypenumbers": "strict",
          "coloraxis": {
           "colorbar": {
            "outlinewidth": 0,
            "ticks": ""
           }
          },
          "colorscale": {
           "diverging": [
            [
             0,
             "#8e0152"
            ],
            [
             0.1,
             "#c51b7d"
            ],
            [
             0.2,
             "#de77ae"
            ],
            [
             0.3,
             "#f1b6da"
            ],
            [
             0.4,
             "#fde0ef"
            ],
            [
             0.5,
             "#f7f7f7"
            ],
            [
             0.6,
             "#e6f5d0"
            ],
            [
             0.7,
             "#b8e186"
            ],
            [
             0.8,
             "#7fbc41"
            ],
            [
             0.9,
             "#4d9221"
            ],
            [
             1,
             "#276419"
            ]
           ],
           "sequential": [
            [
             0,
             "#0d0887"
            ],
            [
             0.1111111111111111,
             "#46039f"
            ],
            [
             0.2222222222222222,
             "#7201a8"
            ],
            [
             0.3333333333333333,
             "#9c179e"
            ],
            [
             0.4444444444444444,
             "#bd3786"
            ],
            [
             0.5555555555555556,
             "#d8576b"
            ],
            [
             0.6666666666666666,
             "#ed7953"
            ],
            [
             0.7777777777777778,
             "#fb9f3a"
            ],
            [
             0.8888888888888888,
             "#fdca26"
            ],
            [
             1,
             "#f0f921"
            ]
           ],
           "sequentialminus": [
            [
             0,
             "#0d0887"
            ],
            [
             0.1111111111111111,
             "#46039f"
            ],
            [
             0.2222222222222222,
             "#7201a8"
            ],
            [
             0.3333333333333333,
             "#9c179e"
            ],
            [
             0.4444444444444444,
             "#bd3786"
            ],
            [
             0.5555555555555556,
             "#d8576b"
            ],
            [
             0.6666666666666666,
             "#ed7953"
            ],
            [
             0.7777777777777778,
             "#fb9f3a"
            ],
            [
             0.8888888888888888,
             "#fdca26"
            ],
            [
             1,
             "#f0f921"
            ]
           ]
          },
          "colorway": [
           "#636efa",
           "#EF553B",
           "#00cc96",
           "#ab63fa",
           "#FFA15A",
           "#19d3f3",
           "#FF6692",
           "#B6E880",
           "#FF97FF",
           "#FECB52"
          ],
          "font": {
           "color": "#2a3f5f"
          },
          "geo": {
           "bgcolor": "white",
           "lakecolor": "white",
           "landcolor": "#E5ECF6",
           "showlakes": true,
           "showland": true,
           "subunitcolor": "white"
          },
          "hoverlabel": {
           "align": "left"
          },
          "hovermode": "closest",
          "mapbox": {
           "style": "light"
          },
          "paper_bgcolor": "white",
          "plot_bgcolor": "#E5ECF6",
          "polar": {
           "angularaxis": {
            "gridcolor": "white",
            "linecolor": "white",
            "ticks": ""
           },
           "bgcolor": "#E5ECF6",
           "radialaxis": {
            "gridcolor": "white",
            "linecolor": "white",
            "ticks": ""
           }
          },
          "scene": {
           "xaxis": {
            "backgroundcolor": "#E5ECF6",
            "gridcolor": "white",
            "gridwidth": 2,
            "linecolor": "white",
            "showbackground": true,
            "ticks": "",
            "zerolinecolor": "white"
           },
           "yaxis": {
            "backgroundcolor": "#E5ECF6",
            "gridcolor": "white",
            "gridwidth": 2,
            "linecolor": "white",
            "showbackground": true,
            "ticks": "",
            "zerolinecolor": "white"
           },
           "zaxis": {
            "backgroundcolor": "#E5ECF6",
            "gridcolor": "white",
            "gridwidth": 2,
            "linecolor": "white",
            "showbackground": true,
            "ticks": "",
            "zerolinecolor": "white"
           }
          },
          "shapedefaults": {
           "line": {
            "color": "#2a3f5f"
           }
          },
          "ternary": {
           "aaxis": {
            "gridcolor": "white",
            "linecolor": "white",
            "ticks": ""
           },
           "baxis": {
            "gridcolor": "white",
            "linecolor": "white",
            "ticks": ""
           },
           "bgcolor": "#E5ECF6",
           "caxis": {
            "gridcolor": "white",
            "linecolor": "white",
            "ticks": ""
           }
          },
          "title": {
           "x": 0.05
          },
          "xaxis": {
           "automargin": true,
           "gridcolor": "white",
           "linecolor": "white",
           "ticks": "",
           "title": {
            "standoff": 15
           },
           "zerolinecolor": "white",
           "zerolinewidth": 2
          },
          "yaxis": {
           "automargin": true,
           "gridcolor": "white",
           "linecolor": "white",
           "ticks": "",
           "title": {
            "standoff": 15
           },
           "zerolinecolor": "white",
           "zerolinewidth": 2
          }
         }
        },
        "title": {
         "text": "Product manager"
        },
        "width": 800,
        "xaxis": {
         "anchor": "y",
         "domain": [
          0,
          1
         ],
         "title": {
          "text": "x"
         }
        },
        "yaxis": {
         "anchor": "x",
         "domain": [
          0,
          1
         ],
         "title": {
          "text": "y"
         }
        }
       }
      }
     },
     "metadata": {},
     "output_type": "display_data"
    }
   ],
   "source": [
    "threshold = 25\n",
    "\n",
    "single_role_skills = single_role_skills[single_role_skills['percentage'] > threshold]\n",
    "\n",
    "fig = px.bar(df, \n",
    "             y=single_role_skills.index, \n",
    "             x=single_role_skills['percentage'], \n",
    "             color=single_role_skills['specificity'], \n",
    "             color_continuous_scale='orrd', \n",
    "             range_color=[std_skills.values.min(),std_skills.values.max()],\n",
    "             orientation='h')\n",
    "\n",
    "fig.update_layout(width=800, height=800, title=role)\n",
    "fig.show()"
   ]
  },
  {
   "cell_type": "code",
   "execution_count": null,
   "id": "9b0b385c-ec6f-4985-b3e5-0b90b9db2432",
   "metadata": {},
   "outputs": [],
   "source": []
  },
  {
   "cell_type": "code",
   "execution_count": null,
   "id": "ea5350a9",
   "metadata": {},
   "outputs": [],
   "source": []
  }
 ],
 "metadata": {
  "kernelspec": {
   "display_name": "Python 3 (ipykernel)",
   "language": "python",
   "name": "python3"
  },
  "language_info": {
   "codemirror_mode": {
    "name": "ipython",
    "version": 3
   },
   "file_extension": ".py",
   "mimetype": "text/x-python",
   "name": "python",
   "nbconvert_exporter": "python",
   "pygments_lexer": "ipython3",
   "version": "3.11.3"
  }
 },
 "nbformat": 4,
 "nbformat_minor": 5
}
