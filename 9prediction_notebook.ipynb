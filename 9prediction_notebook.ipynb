{
 "cells": [
  {
   "cell_type": "code",
   "execution_count": 4,
   "id": "ed3bef66-ff21-4577-8b95-aee89c6a5b22",
   "metadata": {},
   "outputs": [],
   "source": [
    "MLFLOW_TRACKING_URI = '../models/mlruns'\n",
    "MLFLOW_RUN_ID = \"22a5af9a6b784757b2151eb7ef1eed47\"\n",
    "\n",
    "LOG_DATA_PKL    =  \"data.pkl\"\n",
    "LOG_MODEL_PKL   =  \"model.pkl\"\n",
    "LOG_METRICS_PKL =  \"metrics.pkl\"\n",
    "\n",
    "CLUSTERS_YAML_PATH = \"../data/processed/features_skills_clusters_description.yaml\""
   ]
  },
  {
   "cell_type": "code",
   "execution_count": 5,
   "id": "00b8e7fc-c8c4-4a99-8866-243419a39b7a",
   "metadata": {},
   "outputs": [],
   "source": [
    "import os \n",
    "import sklearn\n",
    "import pickle\n",
    "import yaml\n",
    "\n",
    "import pandas as pd\n",
    "\n",
    "import mlflow\n",
    "from mlflow.tracking import MlflowClient"
   ]
  },
  {
   "cell_type": "markdown",
   "metadata": {
    "collapsed": false,
    "pycharm": {
     "name": "#%% md\n"
    }
   },
   "source": [
    "# Initialize"
   ]
  },
  {
   "cell_type": "markdown",
   "metadata": {
    "collapsed": false,
    "pycharm": {
     "name": "#%% md\n"
    }
   },
   "source": [
    "# 1. Mlflow"
   ]
  },
  {
   "cell_type": "code",
   "execution_count": 6,
   "metadata": {
    "collapsed": false,
    "pycharm": {
     "name": "#%%\n"
    }
   },
   "outputs": [],
   "source": [
    "# Initialize client and experiment\n",
    "mlflow.set_tracking_uri(MLFLOW_TRACKING_URI)\n",
    "client = MlflowClient()\n",
    "\n",
    "run = mlflow.get_run(MLFLOW_RUN_ID)\n",
    "artificats_path = run.info.artifact_uri"
   ]
  },
  {
   "cell_type": "markdown",
   "id": "a3b1dcf3-5871-4356-bd13-89ed7d8fa5e4",
   "metadata": {},
   "source": [
    "## Load model"
   ]
  },
  {
   "cell_type": "code",
   "execution_count": 7,
   "metadata": {
    "collapsed": false,
    "pycharm": {
     "name": "#%%\n"
    }
   },
   "outputs": [
    {
     "data": {
      "text/plain": [
       "{'model_description': 'Random Forest: with PCA + Hyperparamter tuning',\n",
       " 'model_details': \"GridSearchCV(estimator=Pipeline(steps=[('robustscaler', RobustScaler()),\\n                                       ('pca', PCA()),\\n                                       ('randomforestclassifier',\\n                                        RandomForestClassifier(n_jobs=8,\\n                                                               random_state=0,\\n                                                               verbose=1))]),\\n             param_grid=[{'pca__n_components': [0.7, 0.85, 0.95],\\n                          'randomforestclassifier__max_depth': [3, 10, None],\\n                          'randomforestclassifier__n_estimators': [250, 500]}])\",\n",
       " 'model_object': GridSearchCV(estimator=Pipeline(steps=[('robustscaler', RobustScaler()),\n",
       "                                        ('pca', PCA()),\n",
       "                                        ('randomforestclassifier',\n",
       "                                         RandomForestClassifier(n_jobs=8,\n",
       "                                                                random_state=0,\n",
       "                                                                verbose=1))]),\n",
       "              param_grid=[{'pca__n_components': [0.7, 0.85, 0.95],\n",
       "                           'randomforestclassifier__max_depth': [3, 10, None],\n",
       "                           'randomforestclassifier__n_estimators': [250, 500]}])}"
      ]
     },
     "execution_count": 7,
     "metadata": {},
     "output_type": "execute_result"
    }
   ],
   "source": [
    "# Load model\n",
    "model_path = os.path.join(artificats_path, LOG_MODEL_PKL)\n",
    "with open(model_path, \"rb\") as f:\n",
    "    model = pickle.load(f)\n",
    "\n",
    "model"
   ]
  },
  {
   "cell_type": "code",
   "execution_count": 8,
   "id": "a44f70b7-d158-4f21-aae2-b05ddbb68946",
   "metadata": {},
   "outputs": [
    {
     "data": {
      "text/plain": [
       "dict_keys(['data_path', 'training_indices', 'test_indices', 'features_names', 'targets_names'])"
      ]
     },
     "execution_count": 8,
     "metadata": {},
     "output_type": "execute_result"
    }
   ],
   "source": [
    "# Load data pkl\n",
    "data_path  = os.path.join(artificats_path, LOG_DATA_PKL)\n",
    "with open(data_path, 'rb') as handle:\n",
    "    data = pickle.load(handle)\n",
    "\n",
    "data.keys()"
   ]
  },
  {
   "cell_type": "code",
   "execution_count": 9,
   "metadata": {
    "collapsed": false,
    "pycharm": {
     "name": "#%%\n"
    }
   },
   "outputs": [],
   "source": [
    "# Unpack vars\n",
    "features_names = pd.Series(data[\"features_names\"])\n",
    "targets_names  = pd.Series(data['targets_names'])\n",
    "classifier = model['model_object']"
   ]
  },
  {
   "cell_type": "code",
   "execution_count": 10,
   "metadata": {
    "collapsed": false,
    "pycharm": {
     "name": "#%%\n"
    }
   },
   "outputs": [
    {
     "data": {
      "text/html": [
       "<style>#sk-container-id-1 {color: black;}#sk-container-id-1 pre{padding: 0;}#sk-container-id-1 div.sk-toggleable {background-color: white;}#sk-container-id-1 label.sk-toggleable__label {cursor: pointer;display: block;width: 100%;margin-bottom: 0;padding: 0.3em;box-sizing: border-box;text-align: center;}#sk-container-id-1 label.sk-toggleable__label-arrow:before {content: \"▸\";float: left;margin-right: 0.25em;color: #696969;}#sk-container-id-1 label.sk-toggleable__label-arrow:hover:before {color: black;}#sk-container-id-1 div.sk-estimator:hover label.sk-toggleable__label-arrow:before {color: black;}#sk-container-id-1 div.sk-toggleable__content {max-height: 0;max-width: 0;overflow: hidden;text-align: left;background-color: #f0f8ff;}#sk-container-id-1 div.sk-toggleable__content pre {margin: 0.2em;color: black;border-radius: 0.25em;background-color: #f0f8ff;}#sk-container-id-1 input.sk-toggleable__control:checked~div.sk-toggleable__content {max-height: 200px;max-width: 100%;overflow: auto;}#sk-container-id-1 input.sk-toggleable__control:checked~label.sk-toggleable__label-arrow:before {content: \"▾\";}#sk-container-id-1 div.sk-estimator input.sk-toggleable__control:checked~label.sk-toggleable__label {background-color: #d4ebff;}#sk-container-id-1 div.sk-label input.sk-toggleable__control:checked~label.sk-toggleable__label {background-color: #d4ebff;}#sk-container-id-1 input.sk-hidden--visually {border: 0;clip: rect(1px 1px 1px 1px);clip: rect(1px, 1px, 1px, 1px);height: 1px;margin: -1px;overflow: hidden;padding: 0;position: absolute;width: 1px;}#sk-container-id-1 div.sk-estimator {font-family: monospace;background-color: #f0f8ff;border: 1px dotted black;border-radius: 0.25em;box-sizing: border-box;margin-bottom: 0.5em;}#sk-container-id-1 div.sk-estimator:hover {background-color: #d4ebff;}#sk-container-id-1 div.sk-parallel-item::after {content: \"\";width: 100%;border-bottom: 1px solid gray;flex-grow: 1;}#sk-container-id-1 div.sk-label:hover label.sk-toggleable__label {background-color: #d4ebff;}#sk-container-id-1 div.sk-serial::before {content: \"\";position: absolute;border-left: 1px solid gray;box-sizing: border-box;top: 0;bottom: 0;left: 50%;z-index: 0;}#sk-container-id-1 div.sk-serial {display: flex;flex-direction: column;align-items: center;background-color: white;padding-right: 0.2em;padding-left: 0.2em;position: relative;}#sk-container-id-1 div.sk-item {position: relative;z-index: 1;}#sk-container-id-1 div.sk-parallel {display: flex;align-items: stretch;justify-content: center;background-color: white;position: relative;}#sk-container-id-1 div.sk-item::before, #sk-container-id-1 div.sk-parallel-item::before {content: \"\";position: absolute;border-left: 1px solid gray;box-sizing: border-box;top: 0;bottom: 0;left: 50%;z-index: -1;}#sk-container-id-1 div.sk-parallel-item {display: flex;flex-direction: column;z-index: 1;position: relative;background-color: white;}#sk-container-id-1 div.sk-parallel-item:first-child::after {align-self: flex-end;width: 50%;}#sk-container-id-1 div.sk-parallel-item:last-child::after {align-self: flex-start;width: 50%;}#sk-container-id-1 div.sk-parallel-item:only-child::after {width: 0;}#sk-container-id-1 div.sk-dashed-wrapped {border: 1px dashed gray;margin: 0 0.4em 0.5em 0.4em;box-sizing: border-box;padding-bottom: 0.4em;background-color: white;}#sk-container-id-1 div.sk-label label {font-family: monospace;font-weight: bold;display: inline-block;line-height: 1.2em;}#sk-container-id-1 div.sk-label-container {text-align: center;}#sk-container-id-1 div.sk-container {/* jupyter's `normalize.less` sets `[hidden] { display: none; }` but bootstrap.min.css set `[hidden] { display: none !important; }` so we also need the `!important` here to be able to override the default hidden behavior on the sphinx rendered scikit-learn.org. See: https://github.com/scikit-learn/scikit-learn/issues/21755 */display: inline-block !important;position: relative;}#sk-container-id-1 div.sk-text-repr-fallback {display: none;}</style><div id=\"sk-container-id-1\" class=\"sk-top-container\"><div class=\"sk-text-repr-fallback\"><pre>GridSearchCV(estimator=Pipeline(steps=[(&#x27;robustscaler&#x27;, RobustScaler()),\n",
       "                                       (&#x27;pca&#x27;, PCA()),\n",
       "                                       (&#x27;randomforestclassifier&#x27;,\n",
       "                                        RandomForestClassifier(n_jobs=8,\n",
       "                                                               random_state=0,\n",
       "                                                               verbose=1))]),\n",
       "             param_grid=[{&#x27;pca__n_components&#x27;: [0.7, 0.85, 0.95],\n",
       "                          &#x27;randomforestclassifier__max_depth&#x27;: [3, 10, None],\n",
       "                          &#x27;randomforestclassifier__n_estimators&#x27;: [250, 500]}])</pre><b>In a Jupyter environment, please rerun this cell to show the HTML representation or trust the notebook. <br />On GitHub, the HTML representation is unable to render, please try loading this page with nbviewer.org.</b></div><div class=\"sk-container\" hidden><div class=\"sk-item sk-dashed-wrapped\"><div class=\"sk-label-container\"><div class=\"sk-label sk-toggleable\"><input class=\"sk-toggleable__control sk-hidden--visually\" id=\"sk-estimator-id-1\" type=\"checkbox\" ><label for=\"sk-estimator-id-1\" class=\"sk-toggleable__label sk-toggleable__label-arrow\">GridSearchCV</label><div class=\"sk-toggleable__content\"><pre>GridSearchCV(estimator=Pipeline(steps=[(&#x27;robustscaler&#x27;, RobustScaler()),\n",
       "                                       (&#x27;pca&#x27;, PCA()),\n",
       "                                       (&#x27;randomforestclassifier&#x27;,\n",
       "                                        RandomForestClassifier(n_jobs=8,\n",
       "                                                               random_state=0,\n",
       "                                                               verbose=1))]),\n",
       "             param_grid=[{&#x27;pca__n_components&#x27;: [0.7, 0.85, 0.95],\n",
       "                          &#x27;randomforestclassifier__max_depth&#x27;: [3, 10, None],\n",
       "                          &#x27;randomforestclassifier__n_estimators&#x27;: [250, 500]}])</pre></div></div></div><div class=\"sk-parallel\"><div class=\"sk-parallel-item\"><div class=\"sk-item\"><div class=\"sk-label-container\"><div class=\"sk-label sk-toggleable\"><input class=\"sk-toggleable__control sk-hidden--visually\" id=\"sk-estimator-id-2\" type=\"checkbox\" ><label for=\"sk-estimator-id-2\" class=\"sk-toggleable__label sk-toggleable__label-arrow\">estimator: Pipeline</label><div class=\"sk-toggleable__content\"><pre>Pipeline(steps=[(&#x27;robustscaler&#x27;, RobustScaler()), (&#x27;pca&#x27;, PCA()),\n",
       "                (&#x27;randomforestclassifier&#x27;,\n",
       "                 RandomForestClassifier(n_jobs=8, random_state=0, verbose=1))])</pre></div></div></div><div class=\"sk-serial\"><div class=\"sk-item\"><div class=\"sk-serial\"><div class=\"sk-item\"><div class=\"sk-estimator sk-toggleable\"><input class=\"sk-toggleable__control sk-hidden--visually\" id=\"sk-estimator-id-3\" type=\"checkbox\" ><label for=\"sk-estimator-id-3\" class=\"sk-toggleable__label sk-toggleable__label-arrow\">RobustScaler</label><div class=\"sk-toggleable__content\"><pre>RobustScaler()</pre></div></div></div><div class=\"sk-item\"><div class=\"sk-estimator sk-toggleable\"><input class=\"sk-toggleable__control sk-hidden--visually\" id=\"sk-estimator-id-4\" type=\"checkbox\" ><label for=\"sk-estimator-id-4\" class=\"sk-toggleable__label sk-toggleable__label-arrow\">PCA</label><div class=\"sk-toggleable__content\"><pre>PCA()</pre></div></div></div><div class=\"sk-item\"><div class=\"sk-estimator sk-toggleable\"><input class=\"sk-toggleable__control sk-hidden--visually\" id=\"sk-estimator-id-5\" type=\"checkbox\" ><label for=\"sk-estimator-id-5\" class=\"sk-toggleable__label sk-toggleable__label-arrow\">RandomForestClassifier</label><div class=\"sk-toggleable__content\"><pre>RandomForestClassifier(n_jobs=8, random_state=0, verbose=1)</pre></div></div></div></div></div></div></div></div></div></div></div></div>"
      ],
      "text/plain": [
       "GridSearchCV(estimator=Pipeline(steps=[('robustscaler', RobustScaler()),\n",
       "                                       ('pca', PCA()),\n",
       "                                       ('randomforestclassifier',\n",
       "                                        RandomForestClassifier(n_jobs=8,\n",
       "                                                               random_state=0,\n",
       "                                                               verbose=1))]),\n",
       "             param_grid=[{'pca__n_components': [0.7, 0.85, 0.95],\n",
       "                          'randomforestclassifier__max_depth': [3, 10, None],\n",
       "                          'randomforestclassifier__n_estimators': [250, 500]}])"
      ]
     },
     "execution_count": 10,
     "metadata": {},
     "output_type": "execute_result"
    }
   ],
   "source": [
    "classifier"
   ]
  },
  {
   "cell_type": "markdown",
   "metadata": {
    "collapsed": false,
    "pycharm": {
     "name": "#%% md\n"
    }
   },
   "source": [
    "______"
   ]
  },
  {
   "cell_type": "markdown",
   "metadata": {
    "collapsed": false
   },
   "source": [
    "## Load skills Clusters"
   ]
  },
  {
   "cell_type": "code",
   "execution_count": 11,
   "id": "1a7ac45f-ecca-433e-a54f-5c0b00cac31c",
   "metadata": {},
   "outputs": [
    {
     "data": {
      "text/plain": [
       "{'skills_group_0': ['Go',\n",
       "  'Rust',\n",
       "  'DynamoDB',\n",
       "  'PostgreSQL',\n",
       "  'Ansible',\n",
       "  'Docker',\n",
       "  'Git',\n",
       "  'Kubernetes',\n",
       "  'Terraform'],\n",
       " 'skills_group_1': ['PHP',\n",
       "  'MariaDB',\n",
       "  'MySQL',\n",
       "  'SQLite',\n",
       "  'Drupal',\n",
       "  'Laravel',\n",
       "  'Symfony',\n",
       "  'Vue.js'],\n",
       " 'skills_group_10': ['SQL', 'VBA', 'Microsoft SQL Server'],\n",
       " 'skills_group_11': ['Cassandra', 'Couchbase', 'Elasticsearch', 'Redis'],\n",
       " 'skills_group_12': ['Svelte', 'Deno'],\n",
       " 'skills_group_13': ['Groovy', 'Java', 'Kotlin', 'Oracle', 'Spring'],\n",
       " 'skills_group_14': ['TypeScript', 'Angular', 'Angular.js', 'Cordova'],\n",
       " 'skills_group_15': ['Ruby', 'Ruby on Rails'],\n",
       " 'skills_group_16': ['Clojure', 'Haskell', 'LISP'],\n",
       " 'skills_group_17': ['Scala', 'Apache Spark', 'Hadoop'],\n",
       " 'skills_group_18': ['Bash/Shell', 'Perl'],\n",
       " 'skills_group_19': ['Dart', 'Firebase', 'Flutter'],\n",
       " 'skills_group_2': ['C#',\n",
       "  'F#',\n",
       "  'PowerShell',\n",
       "  'ASP.NET',\n",
       "  'ASP.NET Core ',\n",
       "  '.NET Core / .NET 5',\n",
       "  '.NET Framework',\n",
       "  'Xamarin'],\n",
       " 'skills_group_20': ['Objective-C', 'Swift'],\n",
       " 'skills_group_21': ['Unity 3D', 'Unreal Engine'],\n",
       " 'skills_group_22': ['Keras', 'TensorFlow', 'Torch/PyTorch'],\n",
       " 'skills_group_23': ['Elixir', 'Erlang'],\n",
       " 'skills_group_3': ['Node.js',\n",
       "  'MongoDB',\n",
       "  'Express',\n",
       "  'Gatsby',\n",
       "  'React.js',\n",
       "  'React Native',\n",
       "  'Yarn'],\n",
       " 'skills_group_4': ['Python', 'Django', 'FastAPI', 'Flask'],\n",
       " 'skills_group_5': ['Chef', 'Flow', 'Pulumi', 'Puppet'],\n",
       " 'skills_group_6': ['Julia', 'Matlab', 'R', 'NumPy', 'Pandas'],\n",
       " 'skills_group_7': ['HTML/CSS', 'JavaScript', 'jQuery'],\n",
       " 'skills_group_8': ['APL', 'COBOL', 'Crystal', 'Delphi', 'IBM DB2'],\n",
       " 'skills_group_9': ['Assembly', 'C', 'C++', 'Qt']}"
      ]
     },
     "execution_count": 11,
     "metadata": {},
     "output_type": "execute_result"
    }
   ],
   "source": [
    "# Load skills clusters\n",
    "with open(CLUSTERS_YAML_PATH, \"r\") as stream:\n",
    "    clusters_config = yaml.safe_load(stream)\n",
    "\n",
    "clusters_config"
   ]
  },
  {
   "cell_type": "code",
   "execution_count": 12,
   "id": "11372afe-1fa0-4626-b4d6-3b7aee3a930d",
   "metadata": {},
   "outputs": [
    {
     "data": {
      "text/html": [
       "<div>\n",
       "<style scoped>\n",
       "    .dataframe tbody tr th:only-of-type {\n",
       "        vertical-align: middle;\n",
       "    }\n",
       "\n",
       "    .dataframe tbody tr th {\n",
       "        vertical-align: top;\n",
       "    }\n",
       "\n",
       "    .dataframe thead th {\n",
       "        text-align: right;\n",
       "    }\n",
       "</style>\n",
       "<table border=\"1\" class=\"dataframe\">\n",
       "  <thead>\n",
       "    <tr style=\"text-align: right;\">\n",
       "      <th></th>\n",
       "      <th>cluster_name</th>\n",
       "      <th>skill</th>\n",
       "    </tr>\n",
       "  </thead>\n",
       "  <tbody>\n",
       "    <tr>\n",
       "      <th>0</th>\n",
       "      <td>skills_group_0</td>\n",
       "      <td>Go</td>\n",
       "    </tr>\n",
       "    <tr>\n",
       "      <th>1</th>\n",
       "      <td>skills_group_0</td>\n",
       "      <td>Rust</td>\n",
       "    </tr>\n",
       "    <tr>\n",
       "      <th>2</th>\n",
       "      <td>skills_group_0</td>\n",
       "      <td>DynamoDB</td>\n",
       "    </tr>\n",
       "    <tr>\n",
       "      <th>3</th>\n",
       "      <td>skills_group_0</td>\n",
       "      <td>PostgreSQL</td>\n",
       "    </tr>\n",
       "    <tr>\n",
       "      <th>4</th>\n",
       "      <td>skills_group_0</td>\n",
       "      <td>Ansible</td>\n",
       "    </tr>\n",
       "    <tr>\n",
       "      <th>...</th>\n",
       "      <td>...</td>\n",
       "      <td>...</td>\n",
       "    </tr>\n",
       "    <tr>\n",
       "      <th>92</th>\n",
       "      <td>skills_group_8</td>\n",
       "      <td>IBM DB2</td>\n",
       "    </tr>\n",
       "    <tr>\n",
       "      <th>93</th>\n",
       "      <td>skills_group_9</td>\n",
       "      <td>Assembly</td>\n",
       "    </tr>\n",
       "    <tr>\n",
       "      <th>94</th>\n",
       "      <td>skills_group_9</td>\n",
       "      <td>C</td>\n",
       "    </tr>\n",
       "    <tr>\n",
       "      <th>95</th>\n",
       "      <td>skills_group_9</td>\n",
       "      <td>C++</td>\n",
       "    </tr>\n",
       "    <tr>\n",
       "      <th>96</th>\n",
       "      <td>skills_group_9</td>\n",
       "      <td>Qt</td>\n",
       "    </tr>\n",
       "  </tbody>\n",
       "</table>\n",
       "<p>97 rows × 2 columns</p>\n",
       "</div>"
      ],
      "text/plain": [
       "      cluster_name       skill\n",
       "0   skills_group_0          Go\n",
       "1   skills_group_0        Rust\n",
       "2   skills_group_0    DynamoDB\n",
       "3   skills_group_0  PostgreSQL\n",
       "4   skills_group_0     Ansible\n",
       "..             ...         ...\n",
       "92  skills_group_8     IBM DB2\n",
       "93  skills_group_9    Assembly\n",
       "94  skills_group_9           C\n",
       "95  skills_group_9         C++\n",
       "96  skills_group_9          Qt\n",
       "\n",
       "[97 rows x 2 columns]"
      ]
     },
     "execution_count": 12,
     "metadata": {},
     "output_type": "execute_result"
    }
   ],
   "source": [
    "# Reformat into data frame\n",
    "molten_clusters = [(cluster_name, cluster_skill)\n",
    "                   for cluster_name, cluster_skills in clusters_config.items()\n",
    "                   for cluster_skill in cluster_skills]\n",
    "\n",
    "clusters_df = pd.DataFrame(molten_clusters, columns=[\"cluster_name\", \"skill\"])\n",
    "clusters_df"
   ]
  },
  {
   "cell_type": "markdown",
   "metadata": {
    "collapsed": false,
    "pycharm": {
     "name": "#%% md\n"
    }
   },
   "source": [
    "________"
   ]
  },
  {
   "cell_type": "markdown",
   "metadata": {
    "collapsed": false
   },
   "source": [
    "## Predict sample entry"
   ]
  },
  {
   "cell_type": "code",
   "execution_count": 13,
   "id": "e66c168d-1213-4d04-9a3b-b8068d9b0732",
   "metadata": {},
   "outputs": [],
   "source": [
    "sample_skills = ['Scala', 'Hadoop', 'Python']"
   ]
  },
  {
   "cell_type": "code",
   "execution_count": 14,
   "metadata": {
    "collapsed": false,
    "pycharm": {
     "name": "#%%\n"
    }
   },
   "outputs": [
    {
     "data": {
      "text/plain": [
       "0    True\n",
       "1    True\n",
       "2    True\n",
       "dtype: bool"
      ]
     },
     "execution_count": 14,
     "metadata": {},
     "output_type": "execute_result"
    }
   ],
   "source": [
    "# Verify\n",
    "pd.Series(sample_skills).isin(features_names)"
   ]
  },
  {
   "cell_type": "markdown",
   "metadata": {
    "collapsed": false
   },
   "source": [
    "### 1. Recreate cluster features"
   ]
  },
  {
   "cell_type": "code",
   "execution_count": 15,
   "id": "ccb1f39a-71dd-479b-a7c1-f6c15b16687d",
   "metadata": {},
   "outputs": [
    {
     "data": {
      "text/html": [
       "<div>\n",
       "<style scoped>\n",
       "    .dataframe tbody tr th:only-of-type {\n",
       "        vertical-align: middle;\n",
       "    }\n",
       "\n",
       "    .dataframe tbody tr th {\n",
       "        vertical-align: top;\n",
       "    }\n",
       "\n",
       "    .dataframe thead th {\n",
       "        text-align: right;\n",
       "    }\n",
       "</style>\n",
       "<table border=\"1\" class=\"dataframe\">\n",
       "  <thead>\n",
       "    <tr style=\"text-align: right;\">\n",
       "      <th></th>\n",
       "      <th>cluster_name</th>\n",
       "      <th>skill</th>\n",
       "      <th>sample_skills</th>\n",
       "    </tr>\n",
       "  </thead>\n",
       "  <tbody>\n",
       "    <tr>\n",
       "      <th>0</th>\n",
       "      <td>skills_group_0</td>\n",
       "      <td>Go</td>\n",
       "      <td>False</td>\n",
       "    </tr>\n",
       "    <tr>\n",
       "      <th>1</th>\n",
       "      <td>skills_group_0</td>\n",
       "      <td>Rust</td>\n",
       "      <td>False</td>\n",
       "    </tr>\n",
       "    <tr>\n",
       "      <th>2</th>\n",
       "      <td>skills_group_0</td>\n",
       "      <td>DynamoDB</td>\n",
       "      <td>False</td>\n",
       "    </tr>\n",
       "    <tr>\n",
       "      <th>3</th>\n",
       "      <td>skills_group_0</td>\n",
       "      <td>PostgreSQL</td>\n",
       "      <td>False</td>\n",
       "    </tr>\n",
       "    <tr>\n",
       "      <th>4</th>\n",
       "      <td>skills_group_0</td>\n",
       "      <td>Ansible</td>\n",
       "      <td>False</td>\n",
       "    </tr>\n",
       "    <tr>\n",
       "      <th>...</th>\n",
       "      <td>...</td>\n",
       "      <td>...</td>\n",
       "      <td>...</td>\n",
       "    </tr>\n",
       "    <tr>\n",
       "      <th>92</th>\n",
       "      <td>skills_group_8</td>\n",
       "      <td>IBM DB2</td>\n",
       "      <td>False</td>\n",
       "    </tr>\n",
       "    <tr>\n",
       "      <th>93</th>\n",
       "      <td>skills_group_9</td>\n",
       "      <td>Assembly</td>\n",
       "      <td>False</td>\n",
       "    </tr>\n",
       "    <tr>\n",
       "      <th>94</th>\n",
       "      <td>skills_group_9</td>\n",
       "      <td>C</td>\n",
       "      <td>False</td>\n",
       "    </tr>\n",
       "    <tr>\n",
       "      <th>95</th>\n",
       "      <td>skills_group_9</td>\n",
       "      <td>C++</td>\n",
       "      <td>False</td>\n",
       "    </tr>\n",
       "    <tr>\n",
       "      <th>96</th>\n",
       "      <td>skills_group_9</td>\n",
       "      <td>Qt</td>\n",
       "      <td>False</td>\n",
       "    </tr>\n",
       "  </tbody>\n",
       "</table>\n",
       "<p>97 rows × 3 columns</p>\n",
       "</div>"
      ],
      "text/plain": [
       "      cluster_name       skill  sample_skills\n",
       "0   skills_group_0          Go          False\n",
       "1   skills_group_0        Rust          False\n",
       "2   skills_group_0    DynamoDB          False\n",
       "3   skills_group_0  PostgreSQL          False\n",
       "4   skills_group_0     Ansible          False\n",
       "..             ...         ...            ...\n",
       "92  skills_group_8     IBM DB2          False\n",
       "93  skills_group_9    Assembly          False\n",
       "94  skills_group_9           C          False\n",
       "95  skills_group_9         C++          False\n",
       "96  skills_group_9          Qt          False\n",
       "\n",
       "[97 rows x 3 columns]"
      ]
     },
     "execution_count": 15,
     "metadata": {},
     "output_type": "execute_result"
    }
   ],
   "source": [
    "sample_clusters = clusters_df.copy()\n",
    "sample_clusters[\"sample_skills\"] = sample_clusters[\"skill\"].isin(sample_skills)\n",
    "sample_clusters"
   ]
  },
  {
   "cell_type": "code",
   "execution_count": 16,
   "id": "262b7f9f-9318-466f-bba8-861db1739d76",
   "metadata": {},
   "outputs": [
    {
     "data": {
      "text/plain": [
       "cluster_name\n",
       "skills_group_0     0\n",
       "skills_group_1     0\n",
       "skills_group_10    0\n",
       "skills_group_11    0\n",
       "skills_group_12    0\n",
       "skills_group_13    0\n",
       "skills_group_14    0\n",
       "skills_group_15    0\n",
       "skills_group_16    0\n",
       "skills_group_17    2\n",
       "skills_group_18    0\n",
       "skills_group_19    0\n",
       "skills_group_2     0\n",
       "skills_group_20    0\n",
       "skills_group_21    0\n",
       "skills_group_22    0\n",
       "skills_group_23    0\n",
       "skills_group_3     0\n",
       "skills_group_4     1\n",
       "skills_group_5     0\n",
       "skills_group_6     0\n",
       "skills_group_7     0\n",
       "skills_group_8     0\n",
       "skills_group_9     0\n",
       "Name: sample_skills, dtype: int64"
      ]
     },
     "execution_count": 16,
     "metadata": {},
     "output_type": "execute_result"
    }
   ],
   "source": [
    "cluster_features = sample_clusters.groupby(\"cluster_name\")[\"sample_skills\"].sum()\n",
    "cluster_features"
   ]
  },
  {
   "cell_type": "markdown",
   "id": "ec197a4b-4526-4e26-98c7-920f8e98fb7c",
   "metadata": {
    "tags": []
   },
   "source": [
    "### 2. Create OneHotEncoded skills"
   ]
  },
  {
   "cell_type": "code",
   "execution_count": 17,
   "id": "8c742f25-500d-48cb-8f9b-167da9902aa9",
   "metadata": {},
   "outputs": [
    {
     "data": {
      "text/plain": [
       "0                     APL\n",
       "1                Assembly\n",
       "2              Bash/Shell\n",
       "3                       C\n",
       "4                      C#\n",
       "              ...        \n",
       "120                   Vim\n",
       "121         Visual Studio\n",
       "122    Visual Studio Code\n",
       "123              Webstorm\n",
       "124                 Xcode\n",
       "Length: 125, dtype: object"
      ]
     },
     "execution_count": 17,
     "metadata": {},
     "output_type": "execute_result"
    }
   ],
   "source": [
    "skills_names = features_names[~features_names.isin(cluster_features.index)]\n",
    "skills_names"
   ]
  },
  {
   "cell_type": "code",
   "execution_count": 18,
   "id": "3da1b14e-1772-4493-855f-db2f63b27c5f",
   "metadata": {},
   "outputs": [
    {
     "data": {
      "text/plain": [
       "APL                   0\n",
       "Assembly              0\n",
       "Bash/Shell            0\n",
       "C                     0\n",
       "C#                    0\n",
       "                     ..\n",
       "Vim                   0\n",
       "Visual Studio         0\n",
       "Visual Studio Code    0\n",
       "Webstorm              0\n",
       "Xcode                 0\n",
       "Length: 125, dtype: int64"
      ]
     },
     "execution_count": 18,
     "metadata": {},
     "output_type": "execute_result"
    }
   ],
   "source": [
    "ohe_skills = pd.Series(skills_names.isin(sample_skills).astype(int).tolist(), \n",
    "                       index=skills_names)\n",
    "ohe_skills"
   ]
  },
  {
   "cell_type": "markdown",
   "id": "10679807-6733-49f6-a6a5-b0d472f09b09",
   "metadata": {
    "tags": []
   },
   "source": [
    "### 3. Combine features"
   ]
  },
  {
   "cell_type": "code",
   "execution_count": 19,
   "id": "0f5dcb97-beb4-48df-99b5-f78794cfb36f",
   "metadata": {},
   "outputs": [],
   "source": [
    "# Concat\n",
    "features = pd.concat([ohe_skills,\n",
    "                      cluster_features])"
   ]
  },
  {
   "cell_type": "code",
   "execution_count": 20,
   "id": "6eb9d705-509e-44a5-b48f-8d5709179502",
   "metadata": {},
   "outputs": [
    {
     "data": {
      "text/plain": [
       "APL               0\n",
       "Assembly          0\n",
       "Bash/Shell        0\n",
       "C                 0\n",
       "C#                0\n",
       "                 ..\n",
       "skills_group_5    0\n",
       "skills_group_6    0\n",
       "skills_group_7    0\n",
       "skills_group_8    0\n",
       "skills_group_9    0\n",
       "Length: 149, dtype: int64"
      ]
     },
     "execution_count": 20,
     "metadata": {},
     "output_type": "execute_result"
    }
   ],
   "source": [
    "# Sort columns\n",
    "features = features.loc[features_names]\n",
    "features"
   ]
  },
  {
   "cell_type": "markdown",
   "id": "7151e391-62d6-4178-9d8a-b20d97f8e927",
   "metadata": {
    "tags": []
   },
   "source": [
    "### 4. Predict"
   ]
  },
  {
   "cell_type": "code",
   "execution_count": 21,
   "metadata": {
    "collapsed": false,
    "pycharm": {
     "name": "#%%\n"
    }
   },
   "outputs": [
    {
     "name": "stderr",
     "output_type": "stream",
     "text": [
      "[Parallel(n_jobs=8)]: Using backend ThreadingBackend with 8 concurrent workers.\n",
      "[Parallel(n_jobs=8)]: Done  34 tasks      | elapsed:    0.1s\n",
      "[Parallel(n_jobs=8)]: Done 184 tasks      | elapsed:    0.1s\n",
      "[Parallel(n_jobs=8)]: Done 434 tasks      | elapsed:    0.2s\n",
      "[Parallel(n_jobs=8)]: Done 500 out of 500 | elapsed:    0.2s finished\n"
     ]
    },
    {
     "data": {
      "text/plain": [
       "[array([[0.83, 0.17]]),\n",
       " array([[0.846, 0.154]]),\n",
       " array([[0.876, 0.124]]),\n",
       " array([[0.978, 0.022]]),\n",
       " array([[0.972, 0.028]]),\n",
       " array([[0.858, 0.142]]),\n",
       " array([[0.68466667, 0.31533333]]),\n",
       " array([[0.876, 0.124]]),\n",
       " array([[0.95066667, 0.04933333]]),\n",
       " array([[0.968, 0.032]]),\n",
       " array([[0.946, 0.054]]),\n",
       " array([[0.94, 0.06]]),\n",
       " array([[0.97, 0.03]]),\n",
       " array([[0.66466667, 0.33533333]]),\n",
       " array([[0.87133333, 0.12866667]]),\n",
       " array([[0.972, 0.028]])]"
      ]
     },
     "execution_count": 21,
     "metadata": {},
     "output_type": "execute_result"
    }
   ],
   "source": [
    "predictions = classifier.predict_proba([features.values])\n",
    "predictions"
   ]
  },
  {
   "cell_type": "code",
   "execution_count": 22,
   "id": "2176c307-de94-405b-bc6a-edb1f6fa2ce0",
   "metadata": {},
   "outputs": [
    {
     "data": {
      "text/plain": [
       "Engineer, data                                   0.335333\n",
       "Developer, back-end                              0.315333\n",
       "Academic researcher                              0.170000\n",
       "Data or business analyst                         0.154000\n",
       "Developer, QA or test                            0.142000\n",
       "Scientist                                        0.128667\n",
       "Data scientist or machine learning specialist    0.124000\n",
       "Developer, desktop or enterprise applications    0.124000\n",
       "Developer, game or graphics                      0.060000\n",
       "Developer, full-stack                            0.054000\n",
       "Developer, embedded applications or devices      0.049333\n",
       "Developer, front-end                             0.032000\n",
       "Developer, mobile                                0.030000\n",
       "DevOps specialist                                0.028000\n",
       "System administrator                             0.028000\n",
       "Database administrator                           0.022000\n",
       "dtype: float64"
      ]
     },
     "execution_count": 22,
     "metadata": {},
     "output_type": "execute_result"
    }
   ],
   "source": [
    "positive_probs = [prob[0][1] for prob in predictions]\n",
    "pd.Series(positive_probs, \n",
    "          index=targets_names).sort_values(ascending=False)"
   ]
  },
  {
   "cell_type": "code",
   "execution_count": null,
   "id": "3cdb7e2a-6600-4386-8bbb-eda1b4070634",
   "metadata": {},
   "outputs": [],
   "source": []
  },
  {
   "cell_type": "code",
   "execution_count": null,
   "id": "8e320080",
   "metadata": {},
   "outputs": [],
   "source": []
  }
 ],
 "metadata": {
  "kernelspec": {
   "display_name": "Python 3 (ipykernel)",
   "language": "python",
   "name": "python3"
  },
  "language_info": {
   "codemirror_mode": {
    "name": "ipython",
    "version": 3
   },
   "file_extension": ".py",
   "mimetype": "text/x-python",
   "name": "python",
   "nbconvert_exporter": "python",
   "pygments_lexer": "ipython3",
   "version": "3.11.3"
  }
 },
 "nbformat": 4,
 "nbformat_minor": 5
}
